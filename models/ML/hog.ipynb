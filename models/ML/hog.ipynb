{
 "cells": [
  {
   "cell_type": "markdown",
   "source": [
    "# Histogram oriented gradients\n",
    "\n",
    "HOG, или Histogram of Oriented Gradients, это дескриптор признаков, который часто используется для извлечения признаков из изображения. Это широко используется в задачах компьютерного зрения. Этот метод подсчитывает появления градиентной ориентации в отдельных участках изображения\n",
    "\n",
    "HOG дескриптор фокусируется на структуре или форме объекта. Для признаков границ мы только отмечаем, является ли данный пиксель границей или нет. HOG способен также предоставить направление границы. Это делается путем извлечения градиента и ориентации (или можно сказать мощность и направление) границ.\n"
   ],
   "metadata": {
    "collapsed": false
   }
  },
  {
   "cell_type": "code",
   "execution_count": 39,
   "metadata": {
    "cellId": "ygue7qv232svon1fsmnor",
    "collapsed": false,
    "jupyter": {
     "outputs_hidden": false
    }
   },
   "outputs": [
    {
     "name": "stdout",
     "output_type": "stream",
     "text": [
      "Defaulting to user installation because normal site-packages is not writeable\n",
      "Collecting python-dotenv\n",
      "  Downloading python_dotenv-1.0.0-py3-none-any.whl (19 kB)\n",
      "Requirement already satisfied: boto3 in /usr/local/lib/python3.10/dist-packages (1.20.24)\n",
      "Requirement already satisfied: pillow in /kernel/lib/python3.10/site-packages (10.1.0)\n",
      "Requirement already satisfied: pandas in /usr/local/lib/python3.10/dist-packages (1.5.3)\n",
      "Requirement already satisfied: matplotlib in /usr/local/lib/python3.10/dist-packages (3.7.1)\n",
      "Collecting catboost\n",
      "  Obtaining dependency information for catboost from https://files.pythonhosted.org/packages/15/95/951b51229a9c8af767e48b1f9ef7baa87279b1f5847d2f85de0855578e5d/catboost-1.2.2-cp310-cp310-manylinux2014_x86_64.whl.metadata\n",
      "  Downloading catboost-1.2.2-cp310-cp310-manylinux2014_x86_64.whl.metadata (1.2 kB)\n",
      "Requirement already satisfied: botocore<1.24.0,>=1.23.24 in /usr/local/lib/python3.10/dist-packages (from boto3) (1.23.24)\n",
      "Requirement already satisfied: jmespath<1.0.0,>=0.7.1 in /usr/local/lib/python3.10/dist-packages (from boto3) (0.10.0)\n",
      "Requirement already satisfied: s3transfer<0.6.0,>=0.5.0 in /usr/local/lib/python3.10/dist-packages (from boto3) (0.5.2)\n",
      "Requirement already satisfied: python-dateutil>=2.8.1 in /kernel/lib/python3.10/site-packages (from pandas) (2.8.2)\n",
      "Requirement already satisfied: pytz>=2020.1 in /usr/local/lib/python3.10/dist-packages (from pandas) (2022.7.1)\n",
      "Requirement already satisfied: numpy>=1.21.0 in /usr/local/lib/python3.10/dist-packages (from pandas) (1.22.4)\n",
      "Requirement already satisfied: contourpy>=1.0.1 in /kernel/lib/python3.10/site-packages (from matplotlib) (1.2.0)\n",
      "Requirement already satisfied: cycler>=0.10 in /kernel/lib/python3.10/site-packages (from matplotlib) (0.12.1)\n",
      "Requirement already satisfied: fonttools>=4.22.0 in /kernel/lib/python3.10/site-packages (from matplotlib) (4.46.0)\n",
      "Requirement already satisfied: kiwisolver>=1.0.1 in /kernel/lib/python3.10/site-packages (from matplotlib) (1.4.5)\n",
      "Requirement already satisfied: packaging>=20.0 in /kernel/lib/python3.10/site-packages (from matplotlib) (23.2)\n",
      "Requirement already satisfied: pyparsing>=2.3.1 in /kernel/lib/python3.10/site-packages (from matplotlib) (2.4.7)\n",
      "Requirement already satisfied: graphviz in /usr/local/lib/python3.10/dist-packages (from catboost) (0.20.1)\n",
      "Requirement already satisfied: scipy in /usr/local/lib/python3.10/dist-packages (from catboost) (1.10.1)\n",
      "Requirement already satisfied: plotly in /usr/local/lib/python3.10/dist-packages (from catboost) (5.13.1)\n",
      "Requirement already satisfied: six in /kernel/lib/python3.10/site-packages (from catboost) (1.16.0)\n",
      "Requirement already satisfied: urllib3<1.27,>=1.25.4 in /kernel/lib/python3.10/site-packages (from botocore<1.24.0,>=1.23.24->boto3) (1.25.11)\n",
      "Requirement already satisfied: tenacity>=6.2.0 in /usr/local/lib/python3.10/dist-packages (from plotly->catboost) (8.2.2)\n",
      "Downloading catboost-1.2.2-cp310-cp310-manylinux2014_x86_64.whl (98.7 MB)\n",
      "\u001B[2K   \u001B[90m━━━━━━━━━━━━━━━━━━━━━━━━━━━━━━━━━━━━━━━━\u001B[0m \u001B[32m98.7/98.7 MB\u001B[0m \u001B[31m11.3 MB/s\u001B[0m eta \u001B[36m0:00:00\u001B[0m\n",
      "\u001B[?25hInstalling collected packages: python-dotenv, catboost\n",
      "\u001B[33m  WARNING: The script dotenv is installed in '/home/jupyter/.local/bin' which is not on PATH.\n",
      "  Consider adding this directory to PATH or, if you prefer to suppress this warning, use --no-warn-script-location.\u001B[0m\u001B[33m\n",
      "\u001B[0mSuccessfully installed catboost-1.2.2 python-dotenv-1.0.0\n",
      "\n",
      "\u001B[1m[\u001B[0m\u001B[34;49mnotice\u001B[0m\u001B[1;39;49m]\u001B[0m\u001B[39;49m A new release of pip is available: \u001B[0m\u001B[31;49m23.2.1\u001B[0m\u001B[39;49m -> \u001B[0m\u001B[32;49m23.3.2\u001B[0m\n",
      "\u001B[1m[\u001B[0m\u001B[34;49mnotice\u001B[0m\u001B[1;39;49m]\u001B[0m\u001B[39;49m To update, run: \u001B[0m\u001B[32;49mpython3 -m pip install --upgrade pip\u001B[0m\n"
     ]
    }
   ],
   "source": [
    "%pip install python-dotenv boto3 pillow pandas matplotlib catboost"
   ]
  },
  {
   "cell_type": "code",
   "execution_count": 1,
   "metadata": {
    "cellId": "33tduhdjyixhfil626greq",
    "editable": true,
    "execution": {
     "iopub.execute_input": "2024-01-08T06:36:35.624967Z",
     "iopub.status.busy": "2024-01-08T06:36:35.624681Z",
     "iopub.status.idle": "2024-01-08T06:36:36.849272Z",
     "shell.execute_reply": "2024-01-08T06:36:36.848630Z",
     "shell.execute_reply.started": "2024-01-08T06:36:35.624946Z"
    },
    "slideshow": {
     "slide_type": ""
    },
    "tags": []
   },
   "outputs": [
    {
     "name": "stdout",
     "output_type": "stream",
     "text": [
      "cannot find .env file\n"
     ]
    }
   ],
   "source": [
    "%load_ext dotenv\n",
    "%dotenv\n",
    "import os\n",
    "\n",
    "import pandas as pd\n",
    "import numpy as np\n",
    "import matplotlib.pyplot as plt\n",
    "import boto3\n",
    "import catboost as cb\n",
    "from warnings import filterwarnings\n",
    "filterwarnings(\"ignore\")\n",
    "import os\n",
    "os.environ[\"PYTHONWARNINGS\"] = \"ignore\"\n",
    "\n",
    "s3_client = boto3.client(\n",
    "    's3',\n",
    "    endpoint_url='https://storage.yandexcloud.net',\n",
    "    aws_access_key_id=os.getenv('AWS_ACCESS_KEY_ID'),\n",
    "    aws_secret_access_key=os.getenv('AWS_SECRET_ACCESS_KEY'),\n",
    ")\n",
    "BUCKET_NAME = 'tnn-hse-medtech'\n",
    "DATASET_DIR = 'datasets/'\n"
   ]
  },
  {
   "cell_type": "markdown",
   "metadata": {
    "cellId": "9p7wankp3levfw4yl7u0c"
   },
   "source": [
    "Считываем таблицу с обработанными данными на этапе [EDA](../../EDA.md)"
   ]
  },
  {
   "cell_type": "code",
   "execution_count": null,
   "metadata": {
    "cellId": "vhho1mt5nh8c9sw669oui",
    "collapsed": false,
    "editable": true,
    "jupyter": {
     "outputs_hidden": false
    },
    "slideshow": {
     "slide_type": ""
    },
    "tags": []
   },
   "outputs": [],
   "source": [
    "data = pd.read_csv('normalized_data.csv')\n"
   ]
  },
  {
   "cell_type": "markdown",
   "metadata": {
    "cellId": "qsykjvq1irhpuh9viw72k"
   },
   "source": [
    "Перед извлечением HOG-дескриптора приводим изображение к оттенкам серого и уменьшаем до размера 128x128."
   ]
  },
  {
   "cell_type": "code",
   "execution_count": null,
   "metadata": {
    "cellId": "s075wzq32bbky81t58gmi",
    "collapsed": false,
    "jupyter": {
     "outputs_hidden": false
    }
   },
   "outputs": [],
   "source": [
    "import io\n",
    "from skimage.feature import hog\n",
    "from PIL import Image\n",
    "\n",
    "def hog_picture(image: io.IOBase):\n",
    "    image = Image.open(image).convert('L').resize((128, 128))\n",
    "    array = np.asarray(image)\n",
    "    vector, hog_image = hog(\n",
    "        array,\n",
    "        orientations=9,\n",
    "        pixels_per_cell=(8, 8),\n",
    "        cells_per_block=(2, 2),\n",
    "        feature_vector=True,\n",
    "        visualize=True,\n",
    "    )\n",
    "    return vector, hog_image\n"
   ]
  },
  {
   "cell_type": "markdown",
   "metadata": {
    "cellId": "lzs2rvi28klh6hnapmu6o"
   },
   "source": [
    "Запускаем сбор дескрипторов"
   ]
  },
  {
   "cell_type": "code",
   "execution_count": null,
   "metadata": {
    "cellId": "nl5k5sfd4u8w1hbnct9tb",
    "collapsed": false,
    "jupyter": {
     "outputs_hidden": false
    }
   },
   "outputs": [],
   "source": [
    "import io\n",
    "from dataclasses import dataclass\n",
    "from concurrent.futures import ThreadPoolExecutor\n",
    "from ipywidgets import IntProgress\n",
    "from IPython.display import display\n",
    "\n",
    "@dataclass()\n",
    "class Metadata:\n",
    "    severity: int\n",
    "    relative_path: str\n",
    "    hog: np.ndarray\n",
    "    hog_image: np.ndarray\n",
    "\n",
    "def handle_file(item) -> Metadata:\n",
    "    buffer = io.BytesIO()\n",
    "    s3_client.download_fileobj(BUCKET_NAME, f'{DATASET_DIR}{item.relative_path}', buffer)\n",
    "    buffer.seek(0)\n",
    "    hog_fd, hog_image = hog_picture(buffer)\n",
    "    return Metadata(item.severity, item.relative_path, hog_fd, hog_image)\n",
    "\n",
    "raw_data = []\n",
    "progress = IntProgress(min=0, max=len(data))\n",
    "display(progress)\n",
    "with ThreadPoolExecutor(max_workers=100) as pool:\n",
    "    for item in pool.map(handle_file, data.itertuples(), chunksize=1):\n",
    "        raw_data.append(item)\n",
    "        progress.value += 1\n"
   ]
  },
  {
   "cell_type": "markdown",
   "metadata": {
    "cellId": "8hgq002ga6pf3b1iaksi5"
   },
   "source": [
    "Создаем датасеты"
   ]
  },
  {
   "cell_type": "code",
   "execution_count": null,
   "metadata": {
    "cellId": "moocr26w82err17au0i6q",
    "collapsed": false,
    "jupyter": {
     "outputs_hidden": false
    }
   },
   "outputs": [],
   "source": [
    "X_data = pd.DataFrame(data=(item.hog for item in raw_data))\n",
    "y_target = pd.DataFrame(data=(item.severity for item in raw_data))\n"
   ]
  },
  {
   "cell_type": "code",
   "execution_count": null,
   "metadata": {
    "cellId": "wu7p3o51ge0vbavlgdv95i",
    "collapsed": false,
    "jupyter": {
     "outputs_hidden": false
    }
   },
   "outputs": [],
   "source": [
    "X_data.info()\n"
   ]
  },
  {
   "cell_type": "markdown",
   "metadata": {
    "cellId": "7yxxllrgs6cjav6ndgh2dk"
   },
   "source": [
    "Посмотрим на пример полученного дескриптора"
   ]
  },
  {
   "cell_type": "code",
   "execution_count": null,
   "metadata": {
    "cellId": "7rd2np7q9ns4qrk4ygnql7",
    "collapsed": false,
    "jupyter": {
     "outputs_hidden": false
    }
   },
   "outputs": [],
   "source": [
    "from skimage.exposure import rescale_intensity\n",
    "\n",
    "hog_rescaled = rescale_intensity(raw_data[0].hog_image)\n",
    "plt.imshow(hog_rescaled, cmap=plt.cm.gray)\n"
   ]
  },
  {
   "cell_type": "markdown",
   "metadata": {
    "cellId": "2nh7rlgzbkuotl4qt5fob"
   },
   "source": [
    "Сохраняем датасет дескрипторов в S3"
   ]
  },
  {
   "cell_type": "code",
   "execution_count": null,
   "metadata": {
    "cellId": "ubuutmlz0a02p3r3wd3k42",
    "collapsed": false,
    "jupyter": {
     "outputs_hidden": false
    }
   },
   "outputs": [],
   "source": [
    "hog_data = X_data.copy()\n",
    "hog_data['severity'] = y_target\n",
    "buffer = io.BytesIO()\n",
    "hog_data.to_csv(buffer, index=False, compression='gzip')\n",
    "buffer.seek(0)\n",
    "s3_client.upload_fileobj(buffer, BUCKET_NAME, 'csv/train_data.csv.gz')\n"
   ]
  },
  {
   "cell_type": "markdown",
   "metadata": {
    "cellId": "wecmbqsmaqg37l4skob51w"
   },
   "source": [
    "Если нужно быстро получить hog_data, то нужно выполнить только этот блок"
   ]
  },
  {
   "cell_type": "code",
   "execution_count": 2,
   "metadata": {
    "cellId": "dtyf90a85lp6t2gvl94x3k",
    "editable": true,
    "execution": {
     "iopub.execute_input": "2024-01-08T06:36:54.416303Z",
     "iopub.status.busy": "2024-01-08T06:36:54.415958Z",
     "iopub.status.idle": "2024-01-08T06:37:03.665084Z",
     "shell.execute_reply": "2024-01-08T06:37:03.664429Z",
     "shell.execute_reply.started": "2024-01-08T06:36:54.416284Z"
    },
    "slideshow": {
     "slide_type": ""
    },
    "tags": []
   },
   "outputs": [],
   "source": [
    "hog_data = pd.read_csv(f'https://storage.yandexcloud.net/{BUCKET_NAME}/csv/train_data.csv.gz', compression='gzip')\n",
    "X_data = hog_data.drop(columns=['severity'])\n",
    "y_target = hog_data['severity']\n"
   ]
  },
  {
   "cell_type": "code",
   "execution_count": 3,
   "metadata": {
    "cellId": "af5s024mv6e874a8f9qt0b",
    "collapsed": false,
    "editable": true,
    "execution": {
     "iopub.execute_input": "2024-01-08T06:37:03.666283Z",
     "iopub.status.busy": "2024-01-08T06:37:03.665983Z",
     "iopub.status.idle": "2024-01-08T06:37:03.784711Z",
     "shell.execute_reply": "2024-01-08T06:37:03.784113Z",
     "shell.execute_reply.started": "2024-01-08T06:37:03.666265Z"
    },
    "jupyter": {
     "outputs_hidden": false
    },
    "slideshow": {
     "slide_type": ""
    },
    "tags": []
   },
   "outputs": [],
   "source": [
    "from sklearn.model_selection import train_test_split\n",
    "\n",
    "X_train, X_test, y_train, y_test = train_test_split(X_data, y_target, test_size=0.3, stratify=y_target)\n"
   ]
  },
  {
   "cell_type": "markdown",
   "metadata": {
    "cellId": "ohq9f80jpgokp88kk7cp"
   },
   "source": [
    "Подбираем гиперпараметры для модели SVC"
   ]
  },
  {
   "cell_type": "code",
   "execution_count": null,
   "metadata": {
    "cellId": "ge0qjgnef6bw7emr6ailv",
    "collapsed": false,
    "jupyter": {
     "outputs_hidden": false
    }
   },
   "outputs": [],
   "source": [
    "%pip install scikit-learn-intelex"
   ]
  },
  {
   "cell_type": "code",
   "execution_count": null,
   "metadata": {
    "cellId": "uk9b9van8cqh45mugtxbl",
    "collapsed": false,
    "editable": true,
    "jupyter": {
     "outputs_hidden": false
    },
    "slideshow": {
     "slide_type": ""
    },
    "tags": []
   },
   "outputs": [],
   "source": [
    "from sklearnex import patch_sklearn\n",
    "import numpy as np\n",
    "from sklearn.svm import SVC\n",
    "from sklearn.model_selection import GridSearchCV\n",
    "\n",
    "patch_sklearn()\n",
    "\n",
    "params = {\n",
    "    'C': np.linspace(1, 100, 3),\n",
    "    'kernel': ['linear', 'poly', 'rbf', 'sigmoid'],\n",
    "    'coef0': np.linspace(0, 10, 3),\n",
    "    'class_weight': [None, 'balanced'],\n",
    "    'decision_function_shape': ['ovo', 'ovr'],\n",
    "}\n",
    "gs_svc_model = GridSearchCV(SVC(probability=True), params, n_jobs=4, verbose=2, scoring='f1', cv=3)\n",
    "gs_svc_model.fit(X_train, y_train)\n",
    "gs_svc_model.best_params_, gs_svc_model.best_score_\n"
   ]
  },
  {
   "cell_type": "code",
   "execution_count": null,
   "metadata": {
    "cellId": "rsqtqr7bq54prrff69gg5"
   },
   "outputs": [],
   "source": [
    "gs_svc_model.best_estimator_\n"
   ]
  },
  {
   "cell_type": "code",
   "execution_count": null,
   "metadata": {
    "cellId": "dk8gyy60isq7o3ovorl0gv"
   },
   "outputs": [],
   "source": [
    "from sklearn.metrics import f1_score, roc_auc_score\n",
    "y_pred_proba = gs_svc_model.best_estimator_.predict_proba(X_test)\n",
    "y_pred = gs_svc_model.best_estimator_.predict(X_test)\n",
    "print('roc_auc:', roc_auc_score(y_test, y_pred_proba, multi_class='ovo'))\n",
    "print('f1:', f1_score(y_test, y_pred, average='macro'))\n"
   ]
  },
  {
   "cell_type": "markdown",
   "metadata": {
    "cellId": "jideg6mw4deafjebt5bc3w"
   },
   "source": [
    "Модель показывает неплохие метрики качества. Попробуем использовать градиентный бустинг"
   ]
  },
  {
   "cell_type": "code",
   "execution_count": 41,
   "metadata": {
    "cellId": "qctk7rikh2bp0y3zohv2u"
   },
   "outputs": [
    {
     "name": "stdout",
     "output_type": "stream",
     "text": [
      "Defaulting to user installation because normal site-packages is not writeable\n",
      "Requirement already satisfied: catboost in /home/jupyter/.local/lib/python3.10/site-packages (1.2.2)\n",
      "Requirement already satisfied: ipywidgets in /usr/local/lib/python3.10/dist-packages (7.7.1)\n",
      "Requirement already satisfied: graphviz in /usr/local/lib/python3.10/dist-packages (from catboost) (0.20.1)\n",
      "Requirement already satisfied: matplotlib in /usr/local/lib/python3.10/dist-packages (from catboost) (3.7.1)\n",
      "Requirement already satisfied: numpy>=1.16.0 in /usr/local/lib/python3.10/dist-packages (from catboost) (1.22.4)\n",
      "Requirement already satisfied: pandas>=0.24 in /usr/local/lib/python3.10/dist-packages (from catboost) (1.5.3)\n",
      "Requirement already satisfied: scipy in /usr/local/lib/python3.10/dist-packages (from catboost) (1.10.1)\n",
      "Requirement already satisfied: plotly in /usr/local/lib/python3.10/dist-packages (from catboost) (5.13.1)\n",
      "Requirement already satisfied: six in /kernel/lib/python3.10/site-packages (from catboost) (1.16.0)\n",
      "Collecting ipykernel>=4.5.1 (from ipywidgets)\n",
      "  Downloading ipykernel-5.1.4-py3-none-any.whl (116 kB)\n",
      "\u001B[2K     \u001B[90m━━━━━━━━━━━━━━━━━━━━━━━━━━━━━━━━━━━━━━━\u001B[0m \u001B[32m116.8/116.8 kB\u001B[0m \u001B[31m1.1 MB/s\u001B[0m eta \u001B[36m0:00:00\u001B[0m\n",
      "\u001B[?25hRequirement already satisfied: ipython-genutils~=0.2.0 in /kernel/lib/python3.10/site-packages (from ipywidgets) (0.2.0)\n",
      "Requirement already satisfied: traitlets>=4.3.1 in /kernel/lib/python3.10/site-packages (from ipywidgets) (5.14.0)\n",
      "Requirement already satisfied: widgetsnbextension~=3.6.0 in /usr/local/lib/python3.10/dist-packages (from ipywidgets) (3.6.4)\n",
      "Collecting ipython>=4.0.0 (from ipywidgets)\n",
      "  Downloading ipython-7.13.0-py3-none-any.whl (780 kB)\n",
      "\u001B[2K     \u001B[90m━━━━━━━━━━━━━━━━━━━━━━━━━━━━━━━━━━━━━━━\u001B[0m \u001B[32m780.3/780.3 kB\u001B[0m \u001B[31m6.9 MB/s\u001B[0m eta \u001B[36m0:00:00\u001B[0m\n",
      "\u001B[?25hRequirement already satisfied: jupyterlab-widgets>=1.0.0 in /usr/local/lib/python3.10/dist-packages (from ipywidgets) (3.0.8)\n",
      "Requirement already satisfied: jupyter-client in /kernel/lib/python3.10/site-packages (from ipykernel>=4.5.1->ipywidgets) (8.6.0)\n",
      "Requirement already satisfied: tornado>=4.2 in /kernel/lib/python3.10/site-packages (from ipykernel>=4.5.1->ipywidgets) (6.4)\n",
      "Requirement already satisfied: setuptools>=18.5 in /kernel/lib/python3.10/site-packages (from ipython>=4.0.0->ipywidgets) (51.0.0)\n",
      "Requirement already satisfied: jedi>=0.10 in /kernel/lib/python3.10/site-packages (from ipython>=4.0.0->ipywidgets) (0.17.2)\n",
      "Requirement already satisfied: decorator in /kernel/lib/python3.10/site-packages (from ipython>=4.0.0->ipywidgets) (5.1.1)\n",
      "Requirement already satisfied: pickleshare in /kernel/lib/python3.10/site-packages (from ipython>=4.0.0->ipywidgets) (0.7.5)\n",
      "Requirement already satisfied: prompt-toolkit!=3.0.0,!=3.0.1,<3.1.0,>=2.0.0 in /kernel/lib/python3.10/site-packages (from ipython>=4.0.0->ipywidgets) (3.0.41)\n",
      "Requirement already satisfied: pygments in /kernel/lib/python3.10/site-packages (from ipython>=4.0.0->ipywidgets) (2.17.2)\n",
      "Requirement already satisfied: backcall in /kernel/lib/python3.10/site-packages (from ipython>=4.0.0->ipywidgets) (0.2.0)\n",
      "Requirement already satisfied: pexpect in /kernel/lib/python3.10/site-packages (from ipython>=4.0.0->ipywidgets) (4.9.0)\n",
      "Requirement already satisfied: python-dateutil>=2.8.1 in /kernel/lib/python3.10/site-packages (from pandas>=0.24->catboost) (2.8.2)\n",
      "Requirement already satisfied: pytz>=2020.1 in /usr/local/lib/python3.10/dist-packages (from pandas>=0.24->catboost) (2022.7.1)\n",
      "Collecting notebook>=4.4.1 (from widgetsnbextension~=3.6.0->ipywidgets)\n",
      "  Downloading notebook-6.1.1-py3-none-any.whl (9.4 MB)\n",
      "\u001B[2K     \u001B[90m━━━━━━━━━━━━━━━━━━━━━━━━━━━━━━━━━━━━━━━━\u001B[0m \u001B[32m9.4/9.4 MB\u001B[0m \u001B[31m45.3 MB/s\u001B[0m eta \u001B[36m0:00:00\u001B[0m\n",
      "\u001B[?25hRequirement already satisfied: contourpy>=1.0.1 in /kernel/lib/python3.10/site-packages (from matplotlib->catboost) (1.2.0)\n",
      "Requirement already satisfied: cycler>=0.10 in /kernel/lib/python3.10/site-packages (from matplotlib->catboost) (0.12.1)\n",
      "Requirement already satisfied: fonttools>=4.22.0 in /kernel/lib/python3.10/site-packages (from matplotlib->catboost) (4.46.0)\n",
      "Requirement already satisfied: kiwisolver>=1.0.1 in /kernel/lib/python3.10/site-packages (from matplotlib->catboost) (1.4.5)\n",
      "Requirement already satisfied: packaging>=20.0 in /kernel/lib/python3.10/site-packages (from matplotlib->catboost) (23.2)\n",
      "Requirement already satisfied: pillow>=6.2.0 in /kernel/lib/python3.10/site-packages (from matplotlib->catboost) (10.1.0)\n",
      "Requirement already satisfied: pyparsing>=2.3.1 in /kernel/lib/python3.10/site-packages (from matplotlib->catboost) (2.4.7)\n",
      "Requirement already satisfied: tenacity>=6.2.0 in /usr/local/lib/python3.10/dist-packages (from plotly->catboost) (8.2.2)\n",
      "Requirement already satisfied: parso<0.8.0,>=0.7.0 in /kernel/lib/python3.10/site-packages (from jedi>=0.10->ipython>=4.0.0->ipywidgets) (0.7.1)\n",
      "Requirement already satisfied: jinja2 in /kernel/lib/python3.10/site-packages (from notebook>=4.4.1->widgetsnbextension~=3.6.0->ipywidgets) (3.1.2)\n",
      "Requirement already satisfied: pyzmq>=17 in /kernel/lib/python3.10/site-packages (from notebook>=4.4.1->widgetsnbextension~=3.6.0->ipywidgets) (25.1.1)\n",
      "Requirement already satisfied: argon2-cffi in /kernel/lib/python3.10/site-packages (from notebook>=4.4.1->widgetsnbextension~=3.6.0->ipywidgets) (23.1.0)\n",
      "Requirement already satisfied: jupyter-core>=4.6.1 in /kernel/lib/python3.10/site-packages (from notebook>=4.4.1->widgetsnbextension~=3.6.0->ipywidgets) (5.5.0)\n",
      "Requirement already satisfied: nbformat in /kernel/lib/python3.10/site-packages (from notebook>=4.4.1->widgetsnbextension~=3.6.0->ipywidgets) (5.9.2)\n",
      "Requirement already satisfied: nbconvert in /kernel/lib/python3.10/site-packages (from notebook>=4.4.1->widgetsnbextension~=3.6.0->ipywidgets) (7.11.0)\n",
      "Requirement already satisfied: Send2Trash in /kernel/lib/python3.10/site-packages (from notebook>=4.4.1->widgetsnbextension~=3.6.0->ipywidgets) (1.8.2)\n",
      "Requirement already satisfied: terminado>=0.8.3 in /kernel/lib/python3.10/site-packages (from notebook>=4.4.1->widgetsnbextension~=3.6.0->ipywidgets) (0.18.0)\n",
      "Requirement already satisfied: prometheus-client in /kernel/lib/python3.10/site-packages (from notebook>=4.4.1->widgetsnbextension~=3.6.0->ipywidgets) (0.19.0)\n",
      "Requirement already satisfied: wcwidth in /kernel/lib/python3.10/site-packages (from prompt-toolkit!=3.0.0,!=3.0.1,<3.1.0,>=2.0.0->ipython>=4.0.0->ipywidgets) (0.2.12)\n",
      "Requirement already satisfied: ptyprocess>=0.5 in /kernel/lib/python3.10/site-packages (from pexpect->ipython>=4.0.0->ipywidgets) (0.7.0)\n",
      "Requirement already satisfied: platformdirs>=2.5 in /kernel/lib/python3.10/site-packages (from jupyter-core>=4.6.1->notebook>=4.4.1->widgetsnbextension~=3.6.0->ipywidgets) (4.0.0)\n",
      "Requirement already satisfied: argon2-cffi-bindings in /kernel/lib/python3.10/site-packages (from argon2-cffi->notebook>=4.4.1->widgetsnbextension~=3.6.0->ipywidgets) (21.2.0)\n",
      "Requirement already satisfied: MarkupSafe>=2.0 in /kernel/lib/python3.10/site-packages (from jinja2->notebook>=4.4.1->widgetsnbextension~=3.6.0->ipywidgets) (2.1.3)\n",
      "Requirement already satisfied: beautifulsoup4 in /kernel/lib/python3.10/site-packages (from nbconvert->notebook>=4.4.1->widgetsnbextension~=3.6.0->ipywidgets) (4.12.2)\n",
      "Requirement already satisfied: bleach!=5.0.0 in /kernel/lib/python3.10/site-packages (from nbconvert->notebook>=4.4.1->widgetsnbextension~=3.6.0->ipywidgets) (6.1.0)\n",
      "Requirement already satisfied: defusedxml in /kernel/lib/python3.10/site-packages (from nbconvert->notebook>=4.4.1->widgetsnbextension~=3.6.0->ipywidgets) (0.7.1)\n",
      "Requirement already satisfied: jupyterlab-pygments in /kernel/lib/python3.10/site-packages (from nbconvert->notebook>=4.4.1->widgetsnbextension~=3.6.0->ipywidgets) (0.3.0)\n",
      "Requirement already satisfied: mistune<4,>=2.0.3 in /kernel/lib/python3.10/site-packages (from nbconvert->notebook>=4.4.1->widgetsnbextension~=3.6.0->ipywidgets) (3.0.2)\n",
      "Requirement already satisfied: nbclient>=0.5.0 in /kernel/lib/python3.10/site-packages (from nbconvert->notebook>=4.4.1->widgetsnbextension~=3.6.0->ipywidgets) (0.9.0)\n",
      "Requirement already satisfied: pandocfilters>=1.4.1 in /kernel/lib/python3.10/site-packages (from nbconvert->notebook>=4.4.1->widgetsnbextension~=3.6.0->ipywidgets) (1.5.0)\n",
      "Requirement already satisfied: tinycss2 in /kernel/lib/python3.10/site-packages (from nbconvert->notebook>=4.4.1->widgetsnbextension~=3.6.0->ipywidgets) (1.2.1)\n",
      "Requirement already satisfied: fastjsonschema in /kernel/lib/python3.10/site-packages (from nbformat->notebook>=4.4.1->widgetsnbextension~=3.6.0->ipywidgets) (2.19.0)\n",
      "Requirement already satisfied: jsonschema>=2.6 in /kernel/lib/python3.10/site-packages (from nbformat->notebook>=4.4.1->widgetsnbextension~=3.6.0->ipywidgets) (4.20.0)\n",
      "Requirement already satisfied: webencodings in /kernel/lib/python3.10/site-packages (from bleach!=5.0.0->nbconvert->notebook>=4.4.1->widgetsnbextension~=3.6.0->ipywidgets) (0.5.1)\n",
      "Requirement already satisfied: attrs>=22.2.0 in /kernel/lib/python3.10/site-packages (from jsonschema>=2.6->nbformat->notebook>=4.4.1->widgetsnbextension~=3.6.0->ipywidgets) (23.1.0)\n",
      "Requirement already satisfied: jsonschema-specifications>=2023.03.6 in /kernel/lib/python3.10/site-packages (from jsonschema>=2.6->nbformat->notebook>=4.4.1->widgetsnbextension~=3.6.0->ipywidgets) (2023.11.2)\n",
      "Requirement already satisfied: referencing>=0.28.4 in /kernel/lib/python3.10/site-packages (from jsonschema>=2.6->nbformat->notebook>=4.4.1->widgetsnbextension~=3.6.0->ipywidgets) (0.31.1)\n",
      "Requirement already satisfied: rpds-py>=0.7.1 in /kernel/lib/python3.10/site-packages (from jsonschema>=2.6->nbformat->notebook>=4.4.1->widgetsnbextension~=3.6.0->ipywidgets) (0.13.2)\n",
      "Requirement already satisfied: cffi>=1.0.1 in /kernel/lib/python3.10/site-packages (from argon2-cffi-bindings->argon2-cffi->notebook>=4.4.1->widgetsnbextension~=3.6.0->ipywidgets) (1.16.0)\n",
      "Requirement already satisfied: soupsieve>1.2 in /kernel/lib/python3.10/site-packages (from beautifulsoup4->nbconvert->notebook>=4.4.1->widgetsnbextension~=3.6.0->ipywidgets) (2.5)\n",
      "Requirement already satisfied: pycparser in /kernel/lib/python3.10/site-packages (from cffi>=1.0.1->argon2-cffi-bindings->argon2-cffi->notebook>=4.4.1->widgetsnbextension~=3.6.0->ipywidgets) (2.21)\n",
      "Installing collected packages: ipython, ipykernel, notebook\n",
      "\u001B[33m  WARNING: The scripts iptest, iptest3, ipython and ipython3 are installed in '/home/jupyter/.local/bin' which is not on PATH.\n",
      "  Consider adding this directory to PATH or, if you prefer to suppress this warning, use --no-warn-script-location.\u001B[0m\u001B[33m\n",
      "\u001B[0m\u001B[33m  WARNING: The scripts jupyter-bundlerextension, jupyter-nbextension, jupyter-notebook and jupyter-serverextension are installed in '/home/jupyter/.local/bin' which is not on PATH.\n",
      "  Consider adding this directory to PATH or, if you prefer to suppress this warning, use --no-warn-script-location.\u001B[0m\u001B[33m\n",
      "\u001B[0m\u001B[31mERROR: pip's dependency resolver does not currently take into account all the packages that are installed. This behaviour is the source of the following dependency conflicts.\n",
      "ml-kernel 0.0.1 requires requests==2.31.0, but you have requests 2.27.1 which is incompatible.\u001B[0m\u001B[31m\n",
      "\u001B[0mSuccessfully installed ipykernel-5.1.4 ipython-7.13.0 notebook-6.1.1\n",
      "\n",
      "\u001B[1m[\u001B[0m\u001B[34;49mnotice\u001B[0m\u001B[1;39;49m]\u001B[0m\u001B[39;49m A new release of pip is available: \u001B[0m\u001B[31;49m23.2.1\u001B[0m\u001B[39;49m -> \u001B[0m\u001B[32;49m23.3.2\u001B[0m\n",
      "\u001B[1m[\u001B[0m\u001B[34;49mnotice\u001B[0m\u001B[1;39;49m]\u001B[0m\u001B[39;49m To update, run: \u001B[0m\u001B[32;49mpython3 -m pip install --upgrade pip\u001B[0m\n"
     ]
    }
   ],
   "source": [
    "%pip install catboost ipywidgets\n"
   ]
  },
  {
   "cell_type": "code",
   "execution_count": null,
   "metadata": {
    "cellId": "ns53e2zg17qbccz5j00irj",
    "execution_id": "a7b49053-764b-4bda-adaa-01d93135e44f"
   },
   "outputs": [],
   "source": [
    "!jupyter labextension install @jupyter-widgets/jupyterlab-manager jupyter-leaflet"
   ]
  },
  {
   "cell_type": "code",
   "execution_count": 4,
   "metadata": {
    "cellId": "jtdbnp9orn11md1cptyxo",
    "editable": true,
    "execution": {
     "iopub.execute_input": "2024-01-08T06:37:22.342010Z",
     "iopub.status.busy": "2024-01-08T06:37:22.341630Z",
     "iopub.status.idle": "2024-01-08T06:38:45.426645Z",
     "shell.execute_reply": "2024-01-08T06:38:45.426162Z",
     "shell.execute_reply.started": "2024-01-08T06:37:22.341988Z"
    },
    "slideshow": {
     "slide_type": ""
    },
    "tags": []
   },
   "outputs": [
    {
     "data": {
      "application/vnd.jupyter.widget-view+json": {
       "model_id": "94502ddea20c403cac6ba1b7350ed70b",
       "version_major": 2,
       "version_minor": 0
      },
      "text/plain": [
       "MetricVisualizer(layout=Layout(align_self='stretch', height='500px'))"
      ]
     },
     "metadata": {},
     "output_type": "display_data"
    },
    {
     "data": {
      "text/plain": [
       "<catboost.core.CatBoostClassifier at 0x7fdfccf4f1c0>"
      ]
     },
     "execution_count": 4,
     "metadata": {},
     "output_type": "execute_result"
    }
   ],
   "source": [
    "#!g1.1\n",
    "import catboost as cb\n",
    "\n",
    "cb_model = cb.CatBoostClassifier(\n",
    "    one_hot_max_size=50,\n",
    "    iterations=1500,\n",
    "    learning_rate=0.1,\n",
    "    bootstrap_type='Bernoulli',\n",
    "    subsample=0.5,\n",
    "    task_type=\"GPU\",\n",
    "    devices='0',\n",
    "    )\n",
    "cb_model.fit(\n",
    "    X_train, \n",
    "    y_train,\n",
    "    verbose=False,\n",
    "    plot=True,\n",
    "    eval_set=(X_test, y_test)\n",
    "    )\n"
   ]
  },
  {
   "cell_type": "code",
   "execution_count": null,
   "metadata": {
    "cellId": "yktda4mnqehhnq362ioz0n",
    "editable": true,
    "slideshow": {
     "slide_type": ""
    },
    "tags": []
   },
   "outputs": [],
   "source": [
    "from sklearn.metrics import roc_auc_score, f1_score\n",
    "\n",
    "y_pred_proba = cb_model.predict_proba(X_test)\n",
    "y_pred = cb_model.predict(X_test)\n",
    "print('roc_auc:', roc_auc_score(y_test, y_pred_proba, multi_class='ovo'))\n",
    "print('f1:', f1_score(y_test, y_pred, average='macro'))\n"
   ]
  },
  {
   "cell_type": "code",
   "execution_count": null,
   "metadata": {
    "cellId": "pqvxb0yq8ll4b70th4zvzn"
   },
   "outputs": [],
   "source": [
    "cb_model.get_params()\n"
   ]
  },
  {
   "cell_type": "code",
   "execution_count": null,
   "metadata": {
    "cellId": "6dwdyd7r31k9nnkgx3xiha"
   },
   "outputs": [],
   "source": [
    "cb_model.save_model('hog_cat_boost.cbm', format=\"cbm\")\n",
    "s3_client.upload_file('hog_cat_boost.cbm', BUCKET_NAME, 'models/hog_cat_boost.cbm')\n"
   ]
  },
  {
   "cell_type": "code",
   "execution_count": 42,
   "metadata": {
    "cellId": "209d3srj6vblwly3h3e7j"
   },
   "outputs": [
    {
     "name": "stdout",
     "output_type": "stream",
     "text": [
      "Defaulting to user installation because normal site-packages is not writeable\n",
      "Requirement already satisfied: hyperopt in /usr/local/lib/python3.10/dist-packages (0.2.7)\n",
      "Requirement already satisfied: numpy in /usr/local/lib/python3.10/dist-packages (from hyperopt) (1.22.4)\n",
      "Requirement already satisfied: scipy in /usr/local/lib/python3.10/dist-packages (from hyperopt) (1.10.1)\n",
      "Requirement already satisfied: six in /kernel/lib/python3.10/site-packages (from hyperopt) (1.16.0)\n",
      "Requirement already satisfied: networkx>=2.2 in /usr/local/lib/python3.10/dist-packages (from hyperopt) (3.1)\n",
      "Requirement already satisfied: future in /usr/local/lib/python3.10/dist-packages (from hyperopt) (0.18.3)\n",
      "Requirement already satisfied: tqdm in /usr/local/lib/python3.10/dist-packages (from hyperopt) (4.65.0)\n",
      "Requirement already satisfied: cloudpickle in /kernel/lib/python3.10/site-packages (from hyperopt) (3.0.0)\n",
      "Requirement already satisfied: py4j in /usr/local/lib/python3.10/dist-packages (from hyperopt) (0.10.9.7)\n",
      "\n",
      "\u001B[1m[\u001B[0m\u001B[34;49mnotice\u001B[0m\u001B[1;39;49m]\u001B[0m\u001B[39;49m A new release of pip is available: \u001B[0m\u001B[31;49m23.2.1\u001B[0m\u001B[39;49m -> \u001B[0m\u001B[32;49m23.3.2\u001B[0m\n",
      "\u001B[1m[\u001B[0m\u001B[34;49mnotice\u001B[0m\u001B[1;39;49m]\u001B[0m\u001B[39;49m To update, run: \u001B[0m\u001B[32;49mpython3 -m pip install --upgrade pip\u001B[0m\n"
     ]
    }
   ],
   "source": [
    "%pip install hyperopt\n"
   ]
  },
  {
   "cell_type": "code",
   "execution_count": 59,
   "metadata": {
    "cellId": "wussffv9omcw6md3v1y9zo",
    "editable": true,
    "execution_id": "a261df03-7341-4f6c-b980-985fca9fd49c",
    "slideshow": {
     "slide_type": ""
    },
    "tags": []
   },
   "outputs": [
    {
     "name": "stdout",
     "output_type": "stream",
     "text": [
      "{'depth': 5, 'l2_leaf_reg': 73.77222926204922, 'learning_rate': 0.059359155096410834}\n",
      "{'depth': 3, 'l2_leaf_reg': 74.09293730714172, 'learning_rate': 0.030494912907392334}\n",
      "{'depth': 8, 'l2_leaf_reg': 82.15404635401315, 'learning_rate': 0.06187703516500753}\n",
      "{'depth': 9, 'l2_leaf_reg': 82.28373152367715, 'learning_rate': 0.044050836926450426}\n",
      "{'depth': 3, 'l2_leaf_reg': 56.42794221209653, 'learning_rate': 0.04186862187068092}\n",
      "{'depth': 3, 'l2_leaf_reg': 85.90737981856576, 'learning_rate': 0.021467178171600067}\n",
      "{'depth': 6, 'l2_leaf_reg': 71.32840088761914, 'learning_rate': 0.09613430159570349}\n",
      "{'depth': 4, 'l2_leaf_reg': 4.635688466880607, 'learning_rate': 0.06409904106006564}\n",
      "{'depth': 7, 'l2_leaf_reg': 40.78211566858993, 'learning_rate': 0.05001806271867163}\n",
      "{'depth': 5, 'l2_leaf_reg': 4.983856895446685, 'learning_rate': 0.07685080620059809}\n",
      "{'depth': 4, 'l2_leaf_reg': 64.60251798517407, 'learning_rate': 0.0919239686832635}\n",
      "{'depth': 6, 'l2_leaf_reg': 58.82857189476912, 'learning_rate': 0.032893965861718534}\n",
      "{'depth': 9, 'l2_leaf_reg': 29.29724332063673, 'learning_rate': 0.060577515628741266}\n",
      "{'depth': 7, 'l2_leaf_reg': 38.20845769237509, 'learning_rate': 0.01977905936644587}\n",
      "{'depth': 6, 'l2_leaf_reg': 50.945918459309105, 'learning_rate': 0.08300827605918652}\n",
      "{'depth': 4, 'l2_leaf_reg': 67.16928639530211, 'learning_rate': 0.037229907127115346}\n",
      "{'depth': 4, 'l2_leaf_reg': 79.72447840086704, 'learning_rate': 0.09075761210923806}\n",
      "{'depth': 5, 'l2_leaf_reg': 5.467382960131641, 'learning_rate': 0.050161934910523426}\n",
      "{'depth': 3, 'l2_leaf_reg': 52.796224583201955, 'learning_rate': 0.03386027469248191}\n",
      "{'depth': 4, 'l2_leaf_reg': 70.8974259782421, 'learning_rate': 0.08465942764757534}\n",
      "{'depth': 9, 'l2_leaf_reg': 16.591041810214747, 'learning_rate': 0.07323869255253687}\n",
      "{'depth': 9, 'l2_leaf_reg': 22.33354157709101, 'learning_rate': 0.07084493773626244}\n",
      "{'depth': 9, 'l2_leaf_reg': 18.072517753741437, 'learning_rate': 0.07247524070351934}\n",
      "{'depth': 9, 'l2_leaf_reg': 16.215800787538583, 'learning_rate': 0.07230308284454617}\n",
      "{'depth': 9, 'l2_leaf_reg': 98.67593997183184, 'learning_rate': 0.06972286579171531}\n",
      "{'depth': 9, 'l2_leaf_reg': 15.349761868735904, 'learning_rate': 0.08151989330872217}\n",
      "{'depth': 8, 'l2_leaf_reg': 39.67636774516707, 'learning_rate': 0.08223593283778205}\n",
      "{'depth': 9, 'l2_leaf_reg': 29.938250828828544, 'learning_rate': 0.09889737668793483}\n",
      "{'depth': 9, 'l2_leaf_reg': 11.478549835105742, 'learning_rate': 0.05656367594858808}\n",
      "{'depth': 9, 'l2_leaf_reg': 12.60784938549146, 'learning_rate': 0.052949134070812746}\n",
      "{'depth': 8, 'l2_leaf_reg': 27.476255680403224, 'learning_rate': 0.026111824084049412}\n",
      "{'depth': 7, 'l2_leaf_reg': 11.37865331904785, 'learning_rate': 0.014098383237582515}\n",
      "{'depth': 5, 'l2_leaf_reg': 43.21256812137163, 'learning_rate': 0.05567694799435085}\n",
      "{'depth': 9, 'l2_leaf_reg': 34.82852941927903, 'learning_rate': 0.0653836616669396}\n",
      "{'depth': 8, 'l2_leaf_reg': 8.514369906296977, 'learning_rate': 0.04465601421245032}\n",
      "{'depth': 3, 'l2_leaf_reg': 1.295832863953068, 'learning_rate': 0.08856746437242932}\n",
      "{'depth': 9, 'l2_leaf_reg': 24.131973541512604, 'learning_rate': 0.07824393308718569}\n",
      "{'depth': 6, 'l2_leaf_reg': 45.69292790306445, 'learning_rate': 0.05764997353870672}\n",
      "{'depth': 9, 'l2_leaf_reg': 1.215634137075476, 'learning_rate': 0.04045107285483357}\n",
      "{'depth': 7, 'l2_leaf_reg': 92.43757869737695, 'learning_rate': 0.040818420526926164}\n",
      "{'depth': 5, 'l2_leaf_reg': 1.5136695550141974, 'learning_rate': 0.027452976852584923}\n",
      "{'depth': 3, 'l2_leaf_reg': 21.89002402170717, 'learning_rate': 0.04736963348432943}\n",
      "{'depth': 9, 'l2_leaf_reg': 33.357579231467426, 'learning_rate': 0.03836835117208615}\n",
      "{'depth': 6, 'l2_leaf_reg': 59.53576411964352, 'learning_rate': 0.010609767674127947}\n",
      "{'depth': 8, 'l2_leaf_reg': 1.0251979423927722, 'learning_rate': 0.01960556406361672}\n",
      "{'depth': 8, 'l2_leaf_reg': 6.282001458619072, 'learning_rate': 0.021824407047345458}\n",
      "{'depth': 8, 'l2_leaf_reg': 1.0240887580272615, 'learning_rate': 0.016977936619566814}\n",
      "{'depth': 8, 'l2_leaf_reg': 46.85334439227917, 'learning_rate': 0.029840710392339487}\n",
      "{'depth': 8, 'l2_leaf_reg': 35.220552820379595, 'learning_rate': 0.010291417967283365}\n",
      "{'depth': 7, 'l2_leaf_reg': 76.97335896250604, 'learning_rate': 0.023551581533228526}\n",
      "{'depth': 8, 'l2_leaf_reg': 86.39930675925831, 'learning_rate': 0.01736752202368488}\n",
      "{'depth': 4, 'l2_leaf_reg': 63.092507411433694, 'learning_rate': 0.035098575348793945}\n",
      "{'depth': 5, 'l2_leaf_reg': 25.51456605962317, 'learning_rate': 0.030352291638046314}\n",
      "{'depth': 3, 'l2_leaf_reg': 19.2370112770648, 'learning_rate': 0.013917149342681779}\n",
      "{'depth': 6, 'l2_leaf_reg': 7.968556486088004, 'learning_rate': 0.043482683674285615}\n",
      "{'depth': 8, 'l2_leaf_reg': 54.72894967658229, 'learning_rate': 0.0516169841624194}\n",
      "{'depth': 4, 'l2_leaf_reg': 99.93713229343842, 'learning_rate': 0.04007794726648882}\n",
      "{'depth': 5, 'l2_leaf_reg': 20.64497488937561, 'learning_rate': 0.048070887798213946}\n",
      "{'depth': 7, 'l2_leaf_reg': 3.9001058752975233, 'learning_rate': 0.0610267796011977}\n",
      "{'depth': 8, 'l2_leaf_reg': 13.697633813059252, 'learning_rate': 0.035429755347992684}\n",
      "{'depth': 3, 'l2_leaf_reg': 29.338486423261987, 'learning_rate': 0.06708187674247498}\n",
      "{'depth': 6, 'l2_leaf_reg': 48.25846182635362, 'learning_rate': 0.027090812289939887}\n",
      "{'depth': 4, 'l2_leaf_reg': 8.507983737481716, 'learning_rate': 0.023791162542117772}\n",
      "{'depth': 8, 'l2_leaf_reg': 71.90415933329031, 'learning_rate': 0.03204377126792747}\n",
      "{'depth': 9, 'l2_leaf_reg': 32.4450688718998, 'learning_rate': 0.019477558670131657}\n",
      "{'depth': 8, 'l2_leaf_reg': 4.612080458736402, 'learning_rate': 0.014152936133763356}\n",
      "{'depth': 8, 'l2_leaf_reg': 2.1952929039511364, 'learning_rate': 0.017486995541818876}\n",
      "{'depth': 8, 'l2_leaf_reg': 10.609588436774555, 'learning_rate': 0.016217845972100513}\n",
      "{'depth': 8, 'l2_leaf_reg': 15.201528565656563, 'learning_rate': 0.010218831828673662}\n",
      "{'depth': 8, 'l2_leaf_reg': 18.042582474602728, 'learning_rate': 0.02473871893805285}\n",
      "{'depth': 8, 'l2_leaf_reg': 1.6287691812242326, 'learning_rate': 0.020224586799052757}\n",
      "{'depth': 9, 'l2_leaf_reg': 25.99186500460046, 'learning_rate': 0.028703914609412108}\n",
      "{'depth': 7, 'l2_leaf_reg': 38.27823538017293, 'learning_rate': 0.03277505751310731}\n",
      "{'depth': 5, 'l2_leaf_reg': 9.746567090023403, 'learning_rate': 0.03751736851440042}\n",
      "{'depth': 8, 'l2_leaf_reg': 6.206975515498485, 'learning_rate': 0.045594606843326384}\n",
      "{'depth': 9, 'l2_leaf_reg': 13.471401048504678, 'learning_rate': 0.042324284301534815}\n",
      "{'depth': 3, 'l2_leaf_reg': 22.89757024439884, 'learning_rate': 0.05359470227096614}\n",
      "{'depth': 6, 'l2_leaf_reg': 42.539615302210066, 'learning_rate': 0.022126943533282182}\n",
      "{'depth': 4, 'l2_leaf_reg': 3.492369717316987, 'learning_rate': 0.039335061102169014}\n",
      "{'depth': 8, 'l2_leaf_reg': 1.2480781060399655, 'learning_rate': 0.013647421897889589}\n",
      "{'depth': 9, 'l2_leaf_reg': 16.655011615502914, 'learning_rate': 0.05849364159379083}\n",
      "{'depth': 7, 'l2_leaf_reg': 85.01735759161278, 'learning_rate': 0.011493858771056329}\n",
      "{'depth': 8, 'l2_leaf_reg': 96.19093310175504, 'learning_rate': 0.026287031387074066}\n",
      "{'depth': 9, 'l2_leaf_reg': 6.865976524916415, 'learning_rate': 0.035789897877526705}\n",
      "{'depth': 5, 'l2_leaf_reg': 26.853861145956163, 'learning_rate': 0.049462317970900505}\n",
      "{'depth': 3, 'l2_leaf_reg': 30.513081119133993, 'learning_rate': 0.0639623864460217}\n",
      "{'depth': 6, 'l2_leaf_reg': 20.40656970235477, 'learning_rate': 0.0315960090856891}\n",
      "{'depth': 8, 'l2_leaf_reg': 10.800152167206809, 'learning_rate': 0.07595648679868477}\n",
      "{'depth': 4, 'l2_leaf_reg': 13.65687430970462, 'learning_rate': 0.018920034140529556}\n",
      "{'depth': 9, 'l2_leaf_reg': 67.92457881695907, 'learning_rate': 0.04561816421440462}\n",
      "{'depth': 8, 'l2_leaf_reg': 58.76550885755998, 'learning_rate': 0.028259616326726245}\n",
      "{'depth': 7, 'l2_leaf_reg': 37.10347131065438, 'learning_rate': 0.015385275133884324}\n",
      "{'depth': 5, 'l2_leaf_reg': 75.83914967928895, 'learning_rate': 0.01268528561906715}\n",
      "{'depth': 9, 'l2_leaf_reg': 51.144813873142105, 'learning_rate': 0.03385713031181657}\n",
      "{'depth': 8, 'l2_leaf_reg': 17.811931743992215, 'learning_rate': 0.09457691635795187}\n",
      "{'depth': 3, 'l2_leaf_reg': 23.533189085033385, 'learning_rate': 0.02242582259458632}\n",
      "{'depth': 6, 'l2_leaf_reg': 3.4925456319353323, 'learning_rate': 0.024495205557850345}\n",
      "{'depth': 4, 'l2_leaf_reg': 8.316589271454788, 'learning_rate': 0.04214424281365061}\n",
      "{'depth': 8, 'l2_leaf_reg': 91.03719137718167, 'learning_rate': 0.05470882638693143}\n",
      "{'depth': 9, 'l2_leaf_reg': 32.206785447398474, 'learning_rate': 0.029546304858913262}\n",
      "{'depth': 8, 'l2_leaf_reg': 28.5260816660781, 'learning_rate': 0.016894106763891435}\n",
      "{'depth': 7, 'l2_leaf_reg': 12.420558601965489, 'learning_rate': 0.0472201163543749}\n",
      "{'depth': 5, 'l2_leaf_reg': 21.031546146165553, 'learning_rate': 0.02056456933568341}\n",
      "{'depth': 8, 'l2_leaf_reg': 43.879997738047045, 'learning_rate': 0.03565854813899674}\n",
      "{'depth': 9, 'l2_leaf_reg': 5.44514209826521, 'learning_rate': 0.05163228358824466}\n",
      "{'depth': 9, 'l2_leaf_reg': 24.21398691377597, 'learning_rate': 0.06678913252852473}\n",
      "{'depth': 9, 'l2_leaf_reg': 5.607248496562791, 'learning_rate': 0.062379049969451386}\n",
      "{'depth': 9, 'l2_leaf_reg': 15.207041938649974, 'learning_rate': 0.07968971688794552}\n",
      "{'depth': 9, 'l2_leaf_reg': 34.70771883927213, 'learning_rate': 0.06293651547595241}\n",
      "{'depth': 9, 'l2_leaf_reg': 4.888148372035532, 'learning_rate': 0.08654431275052943}\n",
      "{'depth': 9, 'l2_leaf_reg': 19.4208051638149, 'learning_rate': 0.0888090631873392}\n",
      "{'depth': 9, 'l2_leaf_reg': 9.666318645055565, 'learning_rate': 0.08465664762886047}\n",
      "{'depth': 9, 'l2_leaf_reg': 54.72969791745652, 'learning_rate': 0.07489190078944982}\n",
      "{'depth': 9, 'l2_leaf_reg': 48.53518033482408, 'learning_rate': 0.09675698540102301}\n",
      "{'depth': 9, 'l2_leaf_reg': 40.765041354772734, 'learning_rate': 0.07064576096681281}\n",
      "{'depth': 9, 'l2_leaf_reg': 3.136824659986565, 'learning_rate': 0.09097241942502379}\n",
      "{'depth': 9, 'l2_leaf_reg': 3.076209236763995, 'learning_rate': 0.08943831950262035}\n",
      "{'depth': 9, 'l2_leaf_reg': 16.90456791767669, 'learning_rate': 0.09282796862366122}\n",
      "{'depth': 9, 'l2_leaf_reg': 79.19469932082028, 'learning_rate': 0.09844387584570119}\n",
      "{'depth': 3, 'l2_leaf_reg': 62.697538435202226, 'learning_rate': 0.07958733986422256}\n",
      "{'depth': 9, 'l2_leaf_reg': 2.733182024331687, 'learning_rate': 0.09032027155284156}\n",
      "{'depth': 6, 'l2_leaf_reg': 31.036495407504887, 'learning_rate': 0.08251999859632637}\n",
      "{'depth': 4, 'l2_leaf_reg': 10.597417457146605, 'learning_rate': 0.06804844653788279}\n",
      "{'depth': 9, 'l2_leaf_reg': 25.7473820255612, 'learning_rate': 0.08632468914142044}\n",
      "{'depth': 9, 'l2_leaf_reg': 8.148406705491494, 'learning_rate': 0.06005637515048111}\n",
      "{'depth': 7, 'l2_leaf_reg': 13.814967493250052, 'learning_rate': 0.09355182533941371}\n",
      "{'depth': 5, 'l2_leaf_reg': 1.0155106526926398, 'learning_rate': 0.09906896668564512}\n",
      "{'depth': 9, 'l2_leaf_reg': 36.02663382099045, 'learning_rate': 0.07728145627346665}\n",
      "{'depth': 3, 'l2_leaf_reg': 27.763219020675454, 'learning_rate': 0.09682206770404791}\n",
      "{'depth': 6, 'l2_leaf_reg': 22.759983243903395, 'learning_rate': 0.0733544826736263}\n",
      "{'depth': 4, 'l2_leaf_reg': 38.844068874665744, 'learning_rate': 0.05656576970930943}\n",
      "{'depth': 9, 'l2_leaf_reg': 19.523202914895126, 'learning_rate': 0.08010291995800416}\n",
      "{'depth': 9, 'l2_leaf_reg': 11.908629381469016, 'learning_rate': 0.09077750963528039}\n",
      "{'depth': 5, 'l2_leaf_reg': 67.27546931066144, 'learning_rate': 0.09535688469697459}\n",
      "{'depth': 7, 'l2_leaf_reg': 14.817926479278661, 'learning_rate': 0.06851114489927863}\n",
      "{'depth': 9, 'l2_leaf_reg': 83.2045771122972, 'learning_rate': 0.0842249098861419}\n",
      "{'depth': 3, 'l2_leaf_reg': 7.444212440352443, 'learning_rate': 0.08713409534888894}\n",
      "{'depth': 6, 'l2_leaf_reg': 90.43053748073584, 'learning_rate': 0.07336030024858341}\n",
      "{'depth': 9, 'l2_leaf_reg': 44.8950345341437, 'learning_rate': 0.0496669462641423}\n",
      "{'depth': 4, 'l2_leaf_reg': 42.29680004102788, 'learning_rate': 0.043807800826348164}\n",
      "{'depth': 9, 'l2_leaf_reg': 3.3460105706428718, 'learning_rate': 0.038719180146476385}\n",
      "{'depth': 7, 'l2_leaf_reg': 1.0400330687554742, 'learning_rate': 0.05838702865295797}\n",
      "{'depth': 9, 'l2_leaf_reg': 33.48555355834645, 'learning_rate': 0.08851286914695189}\n",
      "{'depth': 5, 'l2_leaf_reg': 69.46439639220475, 'learning_rate': 0.06605085131382757}\n",
      "{'depth': 9, 'l2_leaf_reg': 17.979985816435526, 'learning_rate': 0.06471380977885241}\n",
      "{'depth': 9, 'l2_leaf_reg': 2.7673982577412817, 'learning_rate': 0.0998244269037478}\n",
      "{'depth': 9, 'l2_leaf_reg': 6.240066375984956, 'learning_rate': 0.09949298033793802}\n",
      "{'depth': 9, 'l2_leaf_reg': 8.981184799156805, 'learning_rate': 0.09071850582461399}\n",
      "{'depth': 9, 'l2_leaf_reg': 16.031460821896648, 'learning_rate': 0.09685242978007395}\n",
      "{'depth': 9, 'l2_leaf_reg': 12.682349426634673, 'learning_rate': 0.08077134583629232}\n",
      "{'depth': 9, 'l2_leaf_reg': 3.941219751333629, 'learning_rate': 0.09272467086238016}\n",
      "{'depth': 9, 'l2_leaf_reg': 4.163526228774623, 'learning_rate': 0.09214255194267237}\n",
      "{'depth': 9, 'l2_leaf_reg': 11.41082892261662, 'learning_rate': 0.09483947165309943}\n",
      "{'depth': 9, 'l2_leaf_reg': 21.10491594079155, 'learning_rate': 0.08407292729606694}\n",
      "{'depth': 9, 'l2_leaf_reg': 24.30571063556761, 'learning_rate': 0.09986035288772749}\n",
      "{'depth': 3, 'l2_leaf_reg': 7.381827870173666, 'learning_rate': 0.07818082194998299}\n",
      "{'depth': 6, 'l2_leaf_reg': 2.4484268545201, 'learning_rate': 0.08187687055793452}\n",
      "{'depth': 9, 'l2_leaf_reg': 9.213952973769189, 'learning_rate': 0.08851921345192043}\n",
      "{'depth': 4, 'l2_leaf_reg': 4.84425106186319, 'learning_rate': 0.09798959401219792}\n",
      "{'depth': 9, 'l2_leaf_reg': 14.761838297153103, 'learning_rate': 0.07555151415683091}\n",
      "{'depth': 7, 'l2_leaf_reg': 1.0664873722676926, 'learning_rate': 0.085993850457408}\n",
      "{'depth': 9, 'l2_leaf_reg': 17.8367348900229, 'learning_rate': 0.09161921190596342}\n",
      "{'depth': 5, 'l2_leaf_reg': 29.621682719672478, 'learning_rate': 0.09411451512744673}\n",
      "{'depth': 9, 'l2_leaf_reg': 10.596018781810194, 'learning_rate': 0.08965932496160253}\n",
      "{'depth': 3, 'l2_leaf_reg': 22.10007454502035, 'learning_rate': 0.07206420024991166}\n",
      "{'depth': 9, 'l2_leaf_reg': 6.543354365691767, 'learning_rate': 0.09578573305085644}\n",
      "{'depth': 6, 'l2_leaf_reg': 72.97968775402043, 'learning_rate': 0.083134329151725}\n",
      "{'depth': 4, 'l2_leaf_reg': 12.895811001547052, 'learning_rate': 0.08742374094632811}\n",
      "{'depth': 9, 'l2_leaf_reg': 26.70848554094326, 'learning_rate': 0.09995355750937632}\n",
      "{'depth': 9, 'l2_leaf_reg': 19.67692366605296, 'learning_rate': 0.09214323194337581}\n",
      "{'depth': 7, 'l2_leaf_reg': 56.9110669408145, 'learning_rate': 0.08543443267908848}\n",
      "{'depth': 9, 'l2_leaf_reg': 3.459816435245044, 'learning_rate': 0.07745482359769615}\n",
      "{'depth': 5, 'l2_leaf_reg': 16.146445817297746, 'learning_rate': 0.07445787863934847}\n",
      "{'depth': 9, 'l2_leaf_reg': 24.669858867256483, 'learning_rate': 0.09793683237109746}\n",
      "{'depth': 3, 'l2_leaf_reg': 10.317015369341117, 'learning_rate': 0.07929319502426986}\n",
      "{'depth': 9, 'l2_leaf_reg': 5.628223102027022, 'learning_rate': 0.07092175927339085}\n",
      "{'depth': 6, 'l2_leaf_reg': 1.5786304094558834, 'learning_rate': 0.0935289881119882}\n",
      "{'depth': 4, 'l2_leaf_reg': 61.89880324576968, 'learning_rate': 0.08174778039864501}\n",
      "{'depth': 9, 'l2_leaf_reg': 7.772180704513099, 'learning_rate': 0.08971787927766234}\n",
      "{'depth': 9, 'l2_leaf_reg': 47.436548342661744, 'learning_rate': 0.09505740921290416}\n",
      "{'depth': 7, 'l2_leaf_reg': 31.34389296457423, 'learning_rate': 0.0690624647205983}\n",
      "{'depth': 9, 'l2_leaf_reg': 52.61378020162716, 'learning_rate': 0.08342310070424465}\n",
      "{'depth': 5, 'l2_leaf_reg': 95.36744498542649, 'learning_rate': 0.09976273430215028}\n",
      "{'depth': 9, 'l2_leaf_reg': 13.865310180786068, 'learning_rate': 0.08799112983212738}\n",
      "{'depth': 9, 'l2_leaf_reg': 64.56983101546736, 'learning_rate': 0.0975031300200126}\n",
      "{'depth': 3, 'l2_leaf_reg': 27.917321134615296, 'learning_rate': 0.08569947506735413}\n",
      "{'depth': 6, 'l2_leaf_reg': 3.886924069882979, 'learning_rate': 0.09175598718440997}\n",
      "{'depth': 4, 'l2_leaf_reg': 18.302648834080433, 'learning_rate': 0.07608624487674756}\n",
      "{'depth': 9, 'l2_leaf_reg': 36.93048113578904, 'learning_rate': 0.07866877076108467}\n",
      "{'depth': 9, 'l2_leaf_reg': 88.26306722371619, 'learning_rate': 0.09676703462493343}\n",
      "{'depth': 7, 'l2_leaf_reg': 11.680988379172055, 'learning_rate': 0.08113730293819749}\n",
      "{'depth': 9, 'l2_leaf_reg': 16.094632151780157, 'learning_rate': 0.09059552458297858}\n",
      "{'depth': 5, 'l2_leaf_reg': 8.868030564561607, 'learning_rate': 0.09381309886360192}\n",
      "{'depth': 9, 'l2_leaf_reg': 1.005690897955283, 'learning_rate': 0.0846224935929438}\n",
      "{'depth': 3, 'l2_leaf_reg': 20.591513529325606, 'learning_rate': 0.07173853944788022}\n",
      "{'depth': 9, 'l2_leaf_reg': 1.3732692209764406, 'learning_rate': 0.07413263494146347}\n",
      "{'depth': 6, 'l2_leaf_reg': 49.92974072818641, 'learning_rate': 0.08467594630764003}\n",
      "{'depth': 9, 'l2_leaf_reg': 6.6361324282708, 'learning_rate': 0.08652069476555473}\n",
      "{'depth': 4, 'l2_leaf_reg': 1.0084817124821428, 'learning_rate': 0.07696342444001826}\n",
      "{'depth': 9, 'l2_leaf_reg': 79.53732079956634, 'learning_rate': 0.09967134086743908}\n",
      "{'depth': 7, 'l2_leaf_reg': 40.28815165508331, 'learning_rate': 0.06144901798787072}\n",
      "{'depth': 9, 'l2_leaf_reg': 22.2301362776455, 'learning_rate': 0.09581833378348122}\n",
      "{'depth': 5, 'l2_leaf_reg': 12.659139806002928, 'learning_rate': 0.0889071661116658}\n",
      "{'depth': 9, 'l2_leaf_reg': 8.709783348100807, 'learning_rate': 0.06954191466803934}\n",
      "{'depth': 9, 'l2_leaf_reg': 14.287410540413921, 'learning_rate': 0.0827794234557584}\n",
      "{'depth': 3, 'l2_leaf_reg': 32.906444306496184, 'learning_rate': 0.06503027563592022}\n",
      "{'depth': 6, 'l2_leaf_reg': 2.559579346167533, 'learning_rate': 0.06706409830743888}\n",
      "{'depth': 9, 'l2_leaf_reg': 4.993071192376274, 'learning_rate': 0.08064934959234824}\n",
      "{'depth': 4, 'l2_leaf_reg': 18.533992954393987, 'learning_rate': 0.09315642613847556}\n",
      "{'depth': 9, 'l2_leaf_reg': 75.94798214520536, 'learning_rate': 0.09975361392197793}\n",
      "{'depth': 8, 'l2_leaf_reg': 9.933967884300976, 'learning_rate': 0.05480297140004306}\n",
      "{'depth': 7, 'l2_leaf_reg': 25.83618799360561, 'learning_rate': 0.08987760428514252}\n",
      "{'depth': 9, 'l2_leaf_reg': 1.0373073118412859, 'learning_rate': 0.08469523739540981}\n",
      "{'depth': 9, 'l2_leaf_reg': 6.673622922635901, 'learning_rate': 0.06310804263767711}\n",
      "{'depth': 5, 'l2_leaf_reg': 1.0918886388756286, 'learning_rate': 0.06009973218690967}\n",
      "{'depth': 9, 'l2_leaf_reg': 16.473587253387464, 'learning_rate': 0.07253888297261564}\n",
      "{'depth': 3, 'l2_leaf_reg': 11.173418084100751, 'learning_rate': 0.0785720809476737}\n",
      "{'depth': 9, 'l2_leaf_reg': 28.750505273628313, 'learning_rate': 0.051523733115326036}\n",
      "{'depth': 6, 'l2_leaf_reg': 22.54634385916787, 'learning_rate': 0.07581795353700871}\n",
      "{'depth': 4, 'l2_leaf_reg': 34.87319350580517, 'learning_rate': 0.08728139921327965}\n",
      "{'depth': 9, 'l2_leaf_reg': 5.099151525974977, 'learning_rate': 0.08357623724367817}\n",
      "{'depth': 8, 'l2_leaf_reg': 1.03026059648222, 'learning_rate': 0.09826870550779888}\n",
      "{'depth': 9, 'l2_leaf_reg': 14.556133278945312, 'learning_rate': 0.09601048054129893}\n",
      "{'depth': 7, 'l2_leaf_reg': 7.9910735226954195, 'learning_rate': 0.08464386688290695}\n",
      "{'depth': 9, 'l2_leaf_reg': 82.40906128814451, 'learning_rate': 0.07000051713883132}\n",
      "{'depth': 5, 'l2_leaf_reg': 20.11764595468002, 'learning_rate': 0.08104322523973322}\n",
      "{'depth': 9, 'l2_leaf_reg': 12.15356584998412, 'learning_rate': 0.09187562182392671}\n",
      "{'depth': 3, 'l2_leaf_reg': 98.64731234612555, 'learning_rate': 0.08793439173787347}\n",
      "{'depth': 9, 'l2_leaf_reg': 70.25416125461501, 'learning_rate': 0.07780495803885963}\n",
      "{'depth': 6, 'l2_leaf_reg': 2.9210681193383214, 'learning_rate': 0.07430405640704726}\n",
      "{'depth': 4, 'l2_leaf_reg': 45.97059303031889, 'learning_rate': 0.09414130745245135}\n",
      "{'depth': 9, 'l2_leaf_reg': 56.35875771418836, 'learning_rate': 0.08560282650173269}\n",
      "{'depth': 9, 'l2_leaf_reg': 24.231351563557162, 'learning_rate': 0.08236919803428626}\n",
      "{'depth': 8, 'l2_leaf_reg': 17.744871199530383, 'learning_rate': 0.06813009601529219}\n",
      "{'depth': 7, 'l2_leaf_reg': 10.01382115797123, 'learning_rate': 0.09095302013208584}\n",
      "{'depth': 9, 'l2_leaf_reg': 7.859362819290947, 'learning_rate': 0.07135060742517119}\n",
      "{'depth': 5, 'l2_leaf_reg': 30.0627540751433, 'learning_rate': 0.05721252487503206}\n",
      "{'depth': 9, 'l2_leaf_reg': 4.848620095488163, 'learning_rate': 0.0983529087483}\n",
      "{'depth': 3, 'l2_leaf_reg': 42.46554713028667, 'learning_rate': 0.07657563228285301}\n",
      "{'depth': 9, 'l2_leaf_reg': 37.725827162789024, 'learning_rate': 0.0659044160408765}\n",
      "{'depth': 6, 'l2_leaf_reg': 14.615081001092182, 'learning_rate': 0.09483695707190082}\n",
      "{'depth': 9, 'l2_leaf_reg': 12.494102974437968, 'learning_rate': 0.07922115213143688}\n",
      "{'depth': 4, 'l2_leaf_reg': 5.821602494411671, 'learning_rate': 0.08670937114603558}\n",
      "{'depth': 8, 'l2_leaf_reg': 1.195034772295308, 'learning_rate': 0.09989912570297645}\n",
      "{'depth': 9, 'l2_leaf_reg': 27.331991716101218, 'learning_rate': 0.09658047498679176}\n",
      "{'depth': 7, 'l2_leaf_reg': 59.87088447348481, 'learning_rate': 0.09247243072885089}\n",
      "{'depth': 9, 'l2_leaf_reg': 16.313392052435752, 'learning_rate': 0.07357672050337943}\n",
      "{'depth': 5, 'l2_leaf_reg': 21.62247927775434, 'learning_rate': 0.08935295434960698}\n",
      "{'depth': 9, 'l2_leaf_reg': 10.740220053669061, 'learning_rate': 0.08040045092690654}\n",
      "{'depth': 3, 'l2_leaf_reg': 2.6144801776928253, 'learning_rate': 0.0534028137757808}\n",
      "{'depth': 9, 'l2_leaf_reg': 19.30516504441822, 'learning_rate': 0.08820983982902098}\n",
      "{'depth': 9, 'l2_leaf_reg': 7.252897920776029, 'learning_rate': 0.0834942633340668}\n",
      "{'depth': 6, 'l2_leaf_reg': 65.61850575560982, 'learning_rate': 0.046483242060225985}\n",
      "{'depth': 4, 'l2_leaf_reg': 9.257013868872585, 'learning_rate': 0.0643251905223949}\n",
      "{'depth': 8, 'l2_leaf_reg': 52.93412368806402, 'learning_rate': 0.09788091675930687}\n",
      "{'depth': 9, 'l2_leaf_reg': 33.81369522211094, 'learning_rate': 0.05942713894728269}\n",
      "{'depth': 7, 'l2_leaf_reg': 13.221866647685507, 'learning_rate': 0.08488860065048912}\n",
      "{'depth': 9, 'l2_leaf_reg': 3.0529325796701814, 'learning_rate': 0.09019638343263343}\n",
      "{'depth': 9, 'l2_leaf_reg': 3.9384616320308403, 'learning_rate': 0.09061549135105902}\n",
      "{'depth': 9, 'l2_leaf_reg': 6.340341148418214, 'learning_rate': 0.09341822777113432}\n",
      "{'depth': 9, 'l2_leaf_reg': 1.2330240957816814, 'learning_rate': 0.09523296457468844}\n",
      "{'depth': 9, 'l2_leaf_reg': 2.8895107047497985, 'learning_rate': 0.09168400041751124}\n",
      "{'depth': 9, 'l2_leaf_reg': 4.799576022561373, 'learning_rate': 0.08667406490957957}\n",
      "{'depth': 9, 'l2_leaf_reg': 7.9701658894302305, 'learning_rate': 0.09994723872917588}\n",
      "{'depth': 9, 'l2_leaf_reg': 1.0421763837603222, 'learning_rate': 0.09662623638836987}\n",
      "{'depth': 9, 'l2_leaf_reg': 11.032226349507006, 'learning_rate': 0.08171354302275795}\n",
      "{'depth': 9, 'l2_leaf_reg': 14.870478351115342, 'learning_rate': 0.07531765864913603}\n",
      "{'depth': 9, 'l2_leaf_reg': 17.27097153935627, 'learning_rate': 0.07818894954834504}\n",
      "{'depth': 9, 'l2_leaf_reg': 8.802465268676738, 'learning_rate': 0.08883664285681275}\n",
      "{'depth': 9, 'l2_leaf_reg': 4.503133571735249, 'learning_rate': 0.08326996175180659}\n",
      "{'depth': 9, 'l2_leaf_reg': 11.757606725925163, 'learning_rate': 0.08543724950809116}\n",
      "{'depth': 9, 'l2_leaf_reg': 6.82388731277595, 'learning_rate': 0.07982148880200109}\n",
      "{'depth': 5, 'l2_leaf_reg': 23.574602846384085, 'learning_rate': 0.09355689115342357}\n",
      "{'depth': 9, 'l2_leaf_reg': 2.9034863194267215, 'learning_rate': 0.09551362195343502}\n",
      "{'depth': 9, 'l2_leaf_reg': 1.244341832514602, 'learning_rate': 0.0871911710394052}\n",
      "{'depth': 3, 'l2_leaf_reg': 13.579927108187242, 'learning_rate': 0.09060280858649127}\n",
      "{'depth': 6, 'l2_leaf_reg': 19.689438423812984, 'learning_rate': 0.09836875508857244}\n",
      "{'depth': 9, 'l2_leaf_reg': 9.43514604101384, 'learning_rate': 0.08145932043597033}\n",
      "{'depth': 8, 'l2_leaf_reg': 5.83074200794394, 'learning_rate': 0.0766488710900393}\n",
      "{'depth': 4, 'l2_leaf_reg': 15.672221799773775, 'learning_rate': 0.07271071579366997}\n",
      "{'depth': 9, 'l2_leaf_reg': 3.1119588307128887, 'learning_rate': 0.09316539436200882}\n",
      "{'depth': 7, 'l2_leaf_reg': 10.912475280160887, 'learning_rate': 0.08421801674746315}\n",
      "{'depth': 9, 'l2_leaf_reg': 17.61257606676475, 'learning_rate': 0.08910766667089928}\n",
      "{'depth': 5, 'l2_leaf_reg': 6.641719460857667, 'learning_rate': 0.09153481099486364}\n",
      "{'depth': 9, 'l2_leaf_reg': 1.0412830977207927, 'learning_rate': 0.0997078983619873}\n",
      "{'depth': 9, 'l2_leaf_reg': 21.056629224921146, 'learning_rate': 0.08258292490202938}\n",
      "{'depth': 3, 'l2_leaf_reg': 94.09400502611989, 'learning_rate': 0.09751640808919308}\n",
      "{'depth': 9, 'l2_leaf_reg': 12.440637224303611, 'learning_rate': 0.09465394315335535}\n",
      "{'depth': 6, 'l2_leaf_reg': 4.523707351711453, 'learning_rate': 0.06933568127238737}\n",
      "{'depth': 4, 'l2_leaf_reg': 8.853901865034532, 'learning_rate': 0.08600678909133845}\n",
      "{'depth': 9, 'l2_leaf_reg': 24.3979486665848, 'learning_rate': 0.08834105899501574}\n",
      "{'depth': 8, 'l2_leaf_reg': 14.108942786206637, 'learning_rate': 0.07989636503749752}\n",
      "{'depth': 9, 'l2_leaf_reg': 3.19416747405861, 'learning_rate': 0.07103558259861434}\n",
      "{'depth': 7, 'l2_leaf_reg': 84.88822059708284, 'learning_rate': 0.07482550131358237}\n",
      "{'depth': 9, 'l2_leaf_reg': 25.61681766305709, 'learning_rate': 0.061520103119477594}\n",
      "{'depth': 5, 'l2_leaf_reg': 18.860379416795123, 'learning_rate': 0.07866829866117397}\n",
      "{'depth': 9, 'l2_leaf_reg': 6.380890420818474, 'learning_rate': 0.09537738029398932}\n",
      "{'depth': 9, 'l2_leaf_reg': 73.92680085177474, 'learning_rate': 0.09078847023623153}\n",
      "{'depth': 3, 'l2_leaf_reg': 10.506601638984367, 'learning_rate': 0.07711859663050574}\n",
      "{'depth': 9, 'l2_leaf_reg': 1.141013062624857, 'learning_rate': 0.09996900414453114}\n",
      "{'depth': 4, 'l2_leaf_reg': 7.609346259446287, 'learning_rate': 0.06751149839257344}\n",
      "{'depth': 6, 'l2_leaf_reg': 15.491374400054106, 'learning_rate': 0.09271633311703695}\n",
      "{'depth': 9, 'l2_leaf_reg': 77.61924772694671, 'learning_rate': 0.08460868339993283}\n",
      "{'depth': 8, 'l2_leaf_reg': 30.57181082548665, 'learning_rate': 0.0971531193013283}\n",
      "{'depth': 9, 'l2_leaf_reg': 21.534221878700443, 'learning_rate': 0.08741888040873698}\n",
      "{'depth': 7, 'l2_leaf_reg': 1.2316755013143337, 'learning_rate': 0.08200389003900291}\n",
      "{'depth': 9, 'l2_leaf_reg': 16.48462503498282, 'learning_rate': 0.08987923636894167}\n",
      "{'depth': 5, 'l2_leaf_reg': 4.396157573284138, 'learning_rate': 0.09984612288607383}\n",
      "{'depth': 9, 'l2_leaf_reg': 9.32352284746434, 'learning_rate': 0.07313538615944054}\n",
      "{'depth': 9, 'l2_leaf_reg': 13.184490226526567, 'learning_rate': 0.09374925923308713}\n",
      "{'depth': 3, 'l2_leaf_reg': 49.13985276225057, 'learning_rate': 0.08587526286481127}\n",
      "{'depth': 9, 'l2_leaf_reg': 1.1084840506890046, 'learning_rate': 0.049052664799470035}\n",
      "{'depth': 6, 'l2_leaf_reg': 89.1625276090466, 'learning_rate': 0.09631890949122114}\n",
      "{'depth': 4, 'l2_leaf_reg': 5.482308204720997, 'learning_rate': 0.07979126119744136}\n",
      "{'depth': 9, 'l2_leaf_reg': 39.49382489071813, 'learning_rate': 0.08385730933873178}\n",
      "{'depth': 8, 'l2_leaf_reg': 3.3546053766291584, 'learning_rate': 0.08960578930694657}\n",
      "{'depth': 9, 'l2_leaf_reg': 26.261791047232574, 'learning_rate': 0.07561674005140163}\n",
      "{'depth': 7, 'l2_leaf_reg': 28.794503371567647, 'learning_rate': 0.09177461240343751}\n",
      "{'depth': 9, 'l2_leaf_reg': 10.549053505457769, 'learning_rate': 0.08742329629566997}\n",
      "{'depth': 5, 'l2_leaf_reg': 22.74110969717446, 'learning_rate': 0.09841388726497907}\n",
      "{'depth': 9, 'l2_leaf_reg': 7.775688337763071, 'learning_rate': 0.08197345697088679}\n",
      "{'depth': 9, 'l2_leaf_reg': 12.617394188713533, 'learning_rate': 0.0946970004318856}\n",
      "{'depth': 3, 'l2_leaf_reg': 18.622190963540326, 'learning_rate': 0.07781420751694686}\n",
      "{'depth': 9, 'l2_leaf_reg': 32.361153377214976, 'learning_rate': 0.07114505741228877}\n",
      "{'depth': 6, 'l2_leaf_reg': 1.070463376117328, 'learning_rate': 0.0863477414798704}\n",
      "{'depth': 9, 'l2_leaf_reg': 5.50232572759793, 'learning_rate': 0.0629346392212827}\n",
      "{'depth': 4, 'l2_leaf_reg': 35.86377683094469, 'learning_rate': 0.09665413073366035}\n",
      "{'depth': 8, 'l2_leaf_reg': 60.56011550013273, 'learning_rate': 0.08348575152044105}\n",
      "{'depth': 9, 'l2_leaf_reg': 17.03620292348473, 'learning_rate': 0.04055929484309838}\n",
      "{'depth': 9, 'l2_leaf_reg': 99.66617666328607, 'learning_rate': 0.09215972123934216}\n",
      "{'depth': 7, 'l2_leaf_reg': 2.718718330113714, 'learning_rate': 0.08828944308730258}\n",
      "{'depth': 5, 'l2_leaf_reg': 14.496189459904024, 'learning_rate': 0.09810352914564238}\n",
      "{'depth': 9, 'l2_leaf_reg': 9.094014453700728, 'learning_rate': 0.05571728066140764}\n",
      "{'depth': 9, 'l2_leaf_reg': 20.501482371752427, 'learning_rate': 0.0652752916164693}\n",
      "{'depth': 3, 'l2_leaf_reg': 12.097828982864119, 'learning_rate': 0.07414944904425996}\n",
      "{'depth': 9, 'l2_leaf_reg': 7.6007966723728995, 'learning_rate': 0.08063790490433682}\n",
      "{'depth': 6, 'l2_leaf_reg': 44.6992337424797, 'learning_rate': 0.06896900059962414}\n",
      "{'depth': 9, 'l2_leaf_reg': 57.44794194144372, 'learning_rate': 0.09048129717420017}\n",
      "{'depth': 4, 'l2_leaf_reg': 3.992697296656806, 'learning_rate': 0.0931433263829706}\n",
      "{'depth': 9, 'l2_leaf_reg': 1.0125843769577543, 'learning_rate': 0.0997078760687267}\n",
      "{'depth': 8, 'l2_leaf_reg': 10.72845806487084, 'learning_rate': 0.0855582973318015}\n",
      "{'depth': 7, 'l2_leaf_reg': 23.345499872056347, 'learning_rate': 0.0769149048838165}\n",
      "{'depth': 9, 'l2_leaf_reg': 15.059019183045063, 'learning_rate': 0.04329899671181508}\n",
      "{'depth': 9, 'l2_leaf_reg': 5.483444220642504, 'learning_rate': 0.09435064541898955}\n",
      "{'depth': 5, 'l2_leaf_reg': 53.847189477146124, 'learning_rate': 0.09990937506715131}\n",
      "{'depth': 9, 'l2_leaf_reg': 18.769723066954835, 'learning_rate': 0.08833585471936216}\n",
      "{'depth': 3, 'l2_leaf_reg': 1.000845714666603, 'learning_rate': 0.09567831764888808}\n",
      "{'depth': 9, 'l2_leaf_reg': 9.16864269691985, 'learning_rate': 0.0585977944596202}\n",
      "{'depth': 6, 'l2_leaf_reg': 6.787409440552925, 'learning_rate': 0.07910291849376458}\n",
      "{'depth': 9, 'l2_leaf_reg': 27.49078003809023, 'learning_rate': 0.08398807993972382}\n",
      "{'depth': 8, 'l2_leaf_reg': 3.5508714116380844, 'learning_rate': 0.0822103866142598}\n",
      "{'depth': 4, 'l2_leaf_reg': 13.263023237839214, 'learning_rate': 0.06631656434507477}\n",
      "{'depth': 9, 'l2_leaf_reg': 11.819008997947062, 'learning_rate': 0.07204539974977875}\n",
      "{'depth': 9, 'l2_leaf_reg': 16.554017797362263, 'learning_rate': 0.09065727720847866}\n",
      "{'depth': 7, 'l2_leaf_reg': 2.9129403007263854, 'learning_rate': 0.07543982971318372}\n",
      "{'depth': 9, 'l2_leaf_reg': 51.714433969222455, 'learning_rate': 0.05182223008542798}\n",
      "{'depth': 5, 'l2_leaf_reg': 7.480780255225454, 'learning_rate': 0.03115935446489732}\n",
      "{'depth': 9, 'l2_leaf_reg': 97.26677136877437, 'learning_rate': 0.0978097008644757}\n",
      "{'depth': 3, 'l2_leaf_reg': 25.198049455146297, 'learning_rate': 0.08043753670755936}\n",
      "{'depth': 9, 'l2_leaf_reg': 20.751113247198756, 'learning_rate': 0.08639670702828918}\n",
      "{'depth': 6, 'l2_leaf_reg': 6.095604988853378, 'learning_rate': 0.09244327857955721}\n",
      "{'depth': 9, 'l2_leaf_reg': 42.3167392486003, 'learning_rate': 0.08979794749749552}\n",
      "{'depth': 4, 'l2_leaf_reg': 9.802383401536991, 'learning_rate': 0.09496564346314115}\n",
      "{'depth': 8, 'l2_leaf_reg': 4.671492680172349, 'learning_rate': 0.08467030004935622}\n",
      "{'depth': 9, 'l2_leaf_reg': 68.79774515973968, 'learning_rate': 0.03620542706391963}\n",
      "{'depth': 9, 'l2_leaf_reg': 14.927925216837242, 'learning_rate': 0.06995228369894302}\n",
      "{'depth': 7, 'l2_leaf_reg': 30.831189566836645, 'learning_rate': 0.07800249359510167}\n",
      "{'depth': 9, 'l2_leaf_reg': 64.78622890586077, 'learning_rate': 0.07327578593932486}\n",
      "{'depth': 5, 'l2_leaf_reg': 71.85371225330262, 'learning_rate': 0.08821463843645702}\n",
      "{'depth': 9, 'l2_leaf_reg': 2.4909249829910847, 'learning_rate': 0.09998751647455871}\n",
      "{'depth': 9, 'l2_leaf_reg': 8.292335966898271, 'learning_rate': 0.09987155911554975}\n",
      "{'depth': 3, 'l2_leaf_reg': 1.1019645042705923, 'learning_rate': 0.09802704395203435}\n",
      "{'depth': 6, 'l2_leaf_reg': 11.428937897986494, 'learning_rate': 0.09594337992172311}\n",
      "{'depth': 9, 'l2_leaf_reg': 17.636661350095302, 'learning_rate': 0.09982634238534151}\n",
      "{'depth': 4, 'l2_leaf_reg': 1.2476235421348112, 'learning_rate': 0.09366725554921297}\n",
      "{'depth': 9, 'l2_leaf_reg': 13.855064165363313, 'learning_rate': 0.04518393330650635}\n",
      "{'depth': 8, 'l2_leaf_reg': 20.558050281085798, 'learning_rate': 0.09239636191062318}\n",
      "{'depth': 9, 'l2_leaf_reg': 5.243170594357771, 'learning_rate': 0.025661414837542015}\n",
      "{'depth': 7, 'l2_leaf_reg': 23.241212195997104, 'learning_rate': 0.09723096682904767}\n",
      "{'depth': 9, 'l2_leaf_reg': 38.06853337294026, 'learning_rate': 0.03358030094129051}\n",
      "{'depth': 5, 'l2_leaf_reg': 10.166123930562964, 'learning_rate': 0.09854970007792782}\n",
      "{'depth': 9, 'l2_leaf_reg': 80.95292183724213, 'learning_rate': 0.09562042019815344}\n",
      "{'depth': 9, 'l2_leaf_reg': 86.81078683405397, 'learning_rate': 0.09113721984970338}\n",
      "{'depth': 3, 'l2_leaf_reg': 46.79896804568586, 'learning_rate': 0.08719880551847604}\n",
      "{'depth': 6, 'l2_leaf_reg': 3.304414084269537, 'learning_rate': 0.060465691416091566}\n",
      "{'depth': 9, 'l2_leaf_reg': 16.25143312798912, 'learning_rate': 0.06810113473981302}\n",
      "{'depth': 4, 'l2_leaf_reg': 28.937977278746942, 'learning_rate': 0.09990279487379938}\n",
      "{'depth': 9, 'l2_leaf_reg': 6.5184171159215545, 'learning_rate': 0.08178884103535887}\n",
      "{'depth': 9, 'l2_leaf_reg': 12.172692809605248, 'learning_rate': 0.0941259487950619}\n",
      "{'depth': 8, 'l2_leaf_reg': 34.51417088501736, 'learning_rate': 0.09675121317028249}\n",
      "{'depth': 7, 'l2_leaf_reg': 19.11058780759507, 'learning_rate': 0.08414311339672333}\n",
      "{'depth': 9, 'l2_leaf_reg': 9.063562866486247, 'learning_rate': 0.09164134591374792}\n",
      "{'depth': 5, 'l2_leaf_reg': 1.5204878906731918, 'learning_rate': 0.06347416860609956}\n",
      "{'depth': 9, 'l2_leaf_reg': 13.858413613133738, 'learning_rate': 0.08840928374471871}\n",
      "{'depth': 9, 'l2_leaf_reg': 25.864105813070232, 'learning_rate': 0.07947849655680199}\n",
      "{'depth': 3, 'l2_leaf_reg': 4.540777444821673, 'learning_rate': 0.057180234968440574}\n",
      "{'depth': 9, 'l2_leaf_reg': 1.1554142823300142, 'learning_rate': 0.07572896367287789}\n",
      "{'depth': 6, 'l2_leaf_reg': 21.6347840474611, 'learning_rate': 0.08575638399777145}\n",
      "{'depth': 4, 'l2_leaf_reg': 7.513872472887009, 'learning_rate': 0.04817212355570782}\n",
      "{'depth': 9, 'l2_leaf_reg': 10.405145951936854, 'learning_rate': 0.08945146513464688}\n",
      "{'depth': 8, 'l2_leaf_reg': 16.566402528210663, 'learning_rate': 0.08250533426683929}\n",
      "{'depth': 9, 'l2_leaf_reg': 3.091616871141969, 'learning_rate': 0.09376056200326599}\n",
      "{'depth': 9, 'l2_leaf_reg': 5.563708993373201, 'learning_rate': 0.09995934556779487}\n",
      "{'depth': 9, 'l2_leaf_reg': 1.0178056635390853, 'learning_rate': 0.08722872236775606}\n",
      "{'depth': 9, 'l2_leaf_reg': 4.768964338969832, 'learning_rate': 0.09073941442062908}\n",
      "{'depth': 9, 'l2_leaf_reg': 2.6886497645619936, 'learning_rate': 0.09637682051970368}\n",
      "{'depth': 9, 'l2_leaf_reg': 7.491318523243584, 'learning_rate': 0.08910529306403991}\n",
      "{'depth': 9, 'l2_leaf_reg': 2.9029813535190505, 'learning_rate': 0.09292610971493728}\n",
      "{'depth': 9, 'l2_leaf_reg': 92.41847555890195, 'learning_rate': 0.08566807685460276}\n",
      "{'depth': 9, 'l2_leaf_reg': 8.743957197733831, 'learning_rate': 0.09793715188488651}\n",
      "{'depth': 9, 'l2_leaf_reg': 11.968014777062887, 'learning_rate': 0.09452518340334061}\n",
      "{'depth': 9, 'l2_leaf_reg': 6.975948591760668, 'learning_rate': 0.08332563909463621}\n",
      "{'depth': 9, 'l2_leaf_reg': 1.0189484043500157, 'learning_rate': 0.0808118040226029}\n",
      "{'depth': 9, 'l2_leaf_reg': 4.197245631275676, 'learning_rate': 0.09172047759184765}\n",
      "{'depth': 9, 'l2_leaf_reg': 1.0447383638009526, 'learning_rate': 0.09568622293994461}\n",
      "{'depth': 9, 'l2_leaf_reg': 9.610849068547989, 'learning_rate': 0.08922354586639225}\n",
      "{'depth': 9, 'l2_leaf_reg': 13.083755194733708, 'learning_rate': 0.09864669594706482}\n",
      "{'depth': 9, 'l2_leaf_reg': 5.220577674451031, 'learning_rate': 0.07708649179373468}\n",
      "{'depth': 9, 'l2_leaf_reg': 14.858715851351084, 'learning_rate': 0.08580012386698253}\n",
      "{'depth': 9, 'l2_leaf_reg': 10.69878534184053, 'learning_rate': 0.08725537621924835}\n",
      "{'depth': 7, 'l2_leaf_reg': 2.6876484995729104, 'learning_rate': 0.09234578168745425}\n",
      "{'depth': 9, 'l2_leaf_reg': 8.498633921779469, 'learning_rate': 0.08374591242962065}\n",
      "{'depth': 5, 'l2_leaf_reg': 6.678161099352689, 'learning_rate': 0.09045851198491436}\n",
      "{'depth': 9, 'l2_leaf_reg': 1.1096093575371744, 'learning_rate': 0.09987782187286423}\n",
      "{'depth': 9, 'l2_leaf_reg': 5.832827005750719, 'learning_rate': 0.09696574557160208}\n",
      "{'depth': 3, 'l2_leaf_reg': 18.02444532718043, 'learning_rate': 0.09503514130896969}\n",
      "{'depth': 9, 'l2_leaf_reg': 11.97682153883461, 'learning_rate': 0.09807525309070715}\n",
      "{'depth': 6, 'l2_leaf_reg': 2.8498375851906506, 'learning_rate': 0.09994896667410673}\n",
      "{'depth': 9, 'l2_leaf_reg': 1.298865298674121, 'learning_rate': 0.09872918248044071}\n",
      "{'depth': 4, 'l2_leaf_reg': 15.19431776742833, 'learning_rate': 0.09492333394804647}\n",
      "{'depth': 9, 'l2_leaf_reg': 8.959061560914867, 'learning_rate': 0.09347946971236198}\n",
      "{'depth': 8, 'l2_leaf_reg': 1.1158029826009295, 'learning_rate': 0.09790677934883774}\n",
      "{'depth': 9, 'l2_leaf_reg': 4.5922026220643275, 'learning_rate': 0.011777179704923535}\n",
      "{'depth': 7, 'l2_leaf_reg': 1.0358606074645509, 'learning_rate': 0.09650977752098239}\n",
      "{'depth': 9, 'l2_leaf_reg': 6.808471100927242, 'learning_rate': 0.09256953203171185}\n",
      "{'depth': 5, 'l2_leaf_reg': 10.374412421123935, 'learning_rate': 0.09987451893080927}\n",
      "{'depth': 9, 'l2_leaf_reg': 13.811065121071397, 'learning_rate': 0.08828193569350211}\n",
      "{'depth': 9, 'l2_leaf_reg': 4.68801095668229, 'learning_rate': 0.09102924534157937}\n",
      "{'depth': 3, 'l2_leaf_reg': 19.258512091198792, 'learning_rate': 0.09960983688672666}\n",
      "{'depth': 9, 'l2_leaf_reg': 7.534149923614862, 'learning_rate': 0.03826003553587208}\n",
      "{'depth': 6, 'l2_leaf_reg': 12.22192217902846, 'learning_rate': 0.07894700206866381}\n",
      "{'depth': 9, 'l2_leaf_reg': 15.990248179403332, 'learning_rate': 0.09459127554302305}\n",
      "{'depth': 4, 'l2_leaf_reg': 62.31966149710835, 'learning_rate': 0.09663541565722379}\n",
      "{'depth': 8, 'l2_leaf_reg': 3.9061395336174773, 'learning_rate': 0.08481526970035594}\n",
      "{'depth': 9, 'l2_leaf_reg': 6.275014492665022, 'learning_rate': 0.0895737523291655}\n",
      "{'depth': 9, 'l2_leaf_reg': 1.0578013874220205, 'learning_rate': 0.08106844198879383}\n",
      "{'depth': 7, 'l2_leaf_reg': 10.721850283916684, 'learning_rate': 0.09983119918353268}\n",
      "{'depth': 9, 'l2_leaf_reg': 8.32406947291163, 'learning_rate': 0.09322033685943328}\n",
      "{'depth': 9, 'l2_leaf_reg': 3.149659386945744, 'learning_rate': 0.08789063158466051}\n",
      "{'depth': 5, 'l2_leaf_reg': 17.863421973184302, 'learning_rate': 0.07375876739390749}\n",
      "{'depth': 9, 'l2_leaf_reg': 2.6863364052334893, 'learning_rate': 0.07117569907171178}\n",
      "{'depth': 9, 'l2_leaf_reg': 13.304709897251652, 'learning_rate': 0.08283812292729359}\n",
      "{'depth': 3, 'l2_leaf_reg': 24.064573588157433, 'learning_rate': 0.07851856143964217}\n",
      "{'depth': 9, 'l2_leaf_reg': 1.157363878630268, 'learning_rate': 0.07524750317635348}\n",
      "{'depth': 6, 'l2_leaf_reg': 9.876544652960423, 'learning_rate': 0.08651451944424994}\n",
      "{'depth': 9, 'l2_leaf_reg': 5.420234573406075, 'learning_rate': 0.08074021729288447}\n",
      "{'depth': 4, 'l2_leaf_reg': 66.28694815044877, 'learning_rate': 0.0664948932129796}\n",
      "{'depth': 8, 'l2_leaf_reg': 20.982197146311254, 'learning_rate': 0.08720844819016096}\n",
      "{'depth': 9, 'l2_leaf_reg': 15.673397819578696, 'learning_rate': 0.08480399832261215}\n",
      "{'depth': 9, 'l2_leaf_reg': 77.42841477865493, 'learning_rate': 0.09624261403053244}\n",
      "{'depth': 7, 'l2_leaf_reg': 1.0152060301847576, 'learning_rate': 0.05373370876862008}\n",
      "{'depth': 9, 'l2_leaf_reg': 8.672584144457984, 'learning_rate': 0.07683344075511842}\n",
      "{'depth': 5, 'l2_leaf_reg': 3.292948537052824, 'learning_rate': 0.0916732617098375}\n",
      "{'depth': 9, 'l2_leaf_reg': 11.79845904713817, 'learning_rate': 0.0998515381292309}\n",
      "{'depth': 9, 'l2_leaf_reg': 6.691439410636267, 'learning_rate': 0.02764113474491819}\n",
      "{'depth': 3, 'l2_leaf_reg': 13.554288246792296, 'learning_rate': 0.08883586802464237}\n",
      "{'depth': 9, 'l2_leaf_reg': 1.040650921880683, 'learning_rate': 0.09353175948649058}\n",
      "{'depth': 6, 'l2_leaf_reg': 4.571131766343696, 'learning_rate': 0.08197491318695743}\n",
      "{'depth': 9, 'l2_leaf_reg': 18.522475910609984, 'learning_rate': 0.07190320953960543}\n",
      "{'depth': 8, 'l2_leaf_reg': 26.762019490280302, 'learning_rate': 0.06964215040136007}\n",
      "{'depth': 4, 'l2_leaf_reg': 23.169043933839838, 'learning_rate': 0.09777519784201827}\n",
      "{'depth': 9, 'l2_leaf_reg': 56.336113858034935, 'learning_rate': 0.07884453626831013}\n",
      "{'depth': 9, 'l2_leaf_reg': 8.197742894266279, 'learning_rate': 0.023517520234946694}\n",
      "{'depth': 7, 'l2_leaf_reg': 40.748062575132536, 'learning_rate': 0.08338162158045255}\n",
      "{'depth': 9, 'l2_leaf_reg': 10.342075215785572, 'learning_rate': 0.09037848359487004}\n",
      "{'depth': 5, 'l2_leaf_reg': 2.509110739556565, 'learning_rate': 0.0946932074096872}\n",
      "{'depth': 9, 'l2_leaf_reg': 16.13582465071405, 'learning_rate': 0.07474643726980404}\n",
      "{'depth': 9, 'l2_leaf_reg': 5.687405295863563, 'learning_rate': 0.08771769394402168}\n",
      "{'depth': 3, 'l2_leaf_reg': 14.428385082091523, 'learning_rate': 0.08640625234647636}\n",
      "{'depth': 9, 'l2_leaf_reg': 3.513987171552338, 'learning_rate': 0.061520563466317194}\n",
      "{'depth': 6, 'l2_leaf_reg': 11.617862608533468, 'learning_rate': 0.06469006393891488}\n",
      "{'depth': 9, 'l2_leaf_reg': 19.907155362835304, 'learning_rate': 0.04230854052911786}\n",
      "{'depth': 4, 'l2_leaf_reg': 7.491678606882819, 'learning_rate': 0.09683247841555119}\n",
      "{'depth': 8, 'l2_leaf_reg': 17.597339219281878, 'learning_rate': 0.09181447036965763}\n",
      "{'depth': 9, 'l2_leaf_reg': 9.740029444888476, 'learning_rate': 0.08087311060887224}\n",
      "{'depth': 9, 'l2_leaf_reg': 5.683055657383382, 'learning_rate': 0.07686259788190199}\n",
      "{'depth': 7, 'l2_leaf_reg': 74.71657483505852, 'learning_rate': 0.08465348251231644}\n",
      "{'depth': 9, 'l2_leaf_reg': 21.59960537313371, 'learning_rate': 0.09982294368158785}\n",
      "{'depth': 5, 'l2_leaf_reg': 2.7955226393314154, 'learning_rate': 0.08984617949073984}\n",
      "{'depth': 9, 'l2_leaf_reg': 13.080291552519341, 'learning_rate': 0.09526091971803627}\n",
      "{'depth': 9, 'l2_leaf_reg': 7.940820466074264, 'learning_rate': 0.07298576484406004}\n",
      "{'depth': 3, 'l2_leaf_reg': 32.35147094564915, 'learning_rate': 0.0680105164038478}\n",
      "{'depth': 9, 'l2_leaf_reg': 1.091102508172567, 'learning_rate': 0.09782759813127402}\n",
      "{'depth': 9, 'l2_leaf_reg': 4.4604844270768265, 'learning_rate': 0.09843885132973439}\n",
      "{'depth': 6, 'l2_leaf_reg': 10.843070397372108, 'learning_rate': 0.09764136173599577}\n",
      "{'depth': 4, 'l2_leaf_reg': 16.43093280770602, 'learning_rate': 0.0933580485835933}\n",
      "{'depth': 9, 'l2_leaf_reg': 6.51381264167893, 'learning_rate': 0.09598932102000074}\n",
      "{'depth': 8, 'l2_leaf_reg': 14.158225699959326, 'learning_rate': 0.09938098126297078}\n",
      "{'depth': 9, 'l2_leaf_reg': 1.2937329376993598, 'learning_rate': 0.09439826311384213}\n",
      "{'depth': 9, 'l2_leaf_reg': 1.365724027063247, 'learning_rate': 0.0999383911647208}\n",
      "{'depth': 7, 'l2_leaf_reg': 8.821460319092196, 'learning_rate': 0.09784990169480391}\n",
      "{'depth': 9, 'l2_leaf_reg': 48.82430751276004, 'learning_rate': 0.09475359067991662}\n",
      "{'depth': 5, 'l2_leaf_reg': 4.795329427803141, 'learning_rate': 0.09973158110384515}\n",
      "{'depth': 9, 'l2_leaf_reg': 44.472302465911085, 'learning_rate': 0.09266949026319163}\n",
      "{'depth': 9, 'l2_leaf_reg': 11.722558227739135, 'learning_rate': 0.09665387629255107}\n",
      "{'depth': 3, 'l2_leaf_reg': 35.941766587196184, 'learning_rate': 0.09797242085499099}\n",
      "{'depth': 9, 'l2_leaf_reg': 1.2685317309585125, 'learning_rate': 0.0940957311082022}\n",
      "{'depth': 6, 'l2_leaf_reg': 6.697817621013466, 'learning_rate': 0.014653017865142767}\n",
      "{'depth': 9, 'l2_leaf_reg': 2.916532236172783, 'learning_rate': 0.09968854420705353}\n",
      "{'depth': 4, 'l2_leaf_reg': 83.42149719877246, 'learning_rate': 0.0959154218383002}\n",
      "{'depth': 8, 'l2_leaf_reg': 17.519303021894807, 'learning_rate': 0.09136807233099212}\n",
      "{'depth': 9, 'l2_leaf_reg': 24.416923963786353, 'learning_rate': 0.010046049498478121}\n",
      "{'depth': 9, 'l2_leaf_reg': 29.984326409735587, 'learning_rate': 0.09858022533246058}\n",
      "{'depth': 7, 'l2_leaf_reg': 19.75667965664951, 'learning_rate': 0.09978261017723505}\n",
      "{'depth': 9, 'l2_leaf_reg': 9.561979512061178, 'learning_rate': 0.09312259365440335}\n",
      "{'depth': 5, 'l2_leaf_reg': 12.883838816249295, 'learning_rate': 0.09546946842096006}\n",
      "{'depth': 9, 'l2_leaf_reg': 22.729783855714093, 'learning_rate': 0.09014702484668136}\n",
      "{'depth': 9, 'l2_leaf_reg': 27.67909331218594, 'learning_rate': 0.09709672853631979}\n",
      "{'depth': 3, 'l2_leaf_reg': 15.229386199642615, 'learning_rate': 0.029373342123877003}\n",
      "{'depth': 9, 'l2_leaf_reg': 2.897715721536421, 'learning_rate': 0.0998039947424631}\n",
      "{'depth': 6, 'l2_leaf_reg': 1.0647948479458904, 'learning_rate': 0.09203944633535859}\n",
      "{'depth': 9, 'l2_leaf_reg': 4.778072175417745, 'learning_rate': 0.09987408052860045}\n",
      "{'depth': 4, 'l2_leaf_reg': 8.705050443506366, 'learning_rate': 0.05063764028992233}\n",
      "{'depth': 8, 'l2_leaf_reg': 1.0632951460026345, 'learning_rate': 0.09422447732014017}\n",
      "{'depth': 8, 'l2_leaf_reg': 58.19658114098927, 'learning_rate': 0.08884678626124426}\n",
      "{'depth': 8, 'l2_leaf_reg': 51.29711425618635, 'learning_rate': 0.09440728365772413}\n",
      "{'depth': 8, 'l2_leaf_reg': 6.50152495015311, 'learning_rate': 0.017721678613927143}\n",
      "{'depth': 8, 'l2_leaf_reg': 1.1078064766660676, 'learning_rate': 0.09132460834080901}\n",
      "{'depth': 8, 'l2_leaf_reg': 11.1860443566678, 'learning_rate': 0.08619971396096289}\n",
      "{'depth': 8, 'l2_leaf_reg': 3.8671552142710146, 'learning_rate': 0.09024713629196658}\n",
      "{'depth': 8, 'l2_leaf_reg': 7.638667769022341, 'learning_rate': 0.08871218487914503}\n",
      "{'depth': 8, 'l2_leaf_reg': 13.672729327796027, 'learning_rate': 0.08734099345289864}\n",
      "{'depth': 8, 'l2_leaf_reg': 5.636231771189918, 'learning_rate': 0.09325738863891855}\n",
      "{'depth': 8, 'l2_leaf_reg': 71.23808154945169, 'learning_rate': 0.020998021261978972}\n",
      "{'depth': 8, 'l2_leaf_reg': 16.173570895504675, 'learning_rate': 0.0848080222474564}\n",
      "{'depth': 8, 'l2_leaf_reg': 9.593640705838052, 'learning_rate': 0.09162510254605935}\n",
      "{'depth': 8, 'l2_leaf_reg': 1.1241508765196755, 'learning_rate': 0.09655465800392016}\n",
      "{'depth': 8, 'l2_leaf_reg': 18.85632384935492, 'learning_rate': 0.08307891555597667}\n",
      "{'depth': 8, 'l2_leaf_reg': 4.085688365215026, 'learning_rate': 0.09083481978860082}\n",
      "{'depth': 8, 'l2_leaf_reg': 12.28826003832573, 'learning_rate': 0.08786258558732403}\n",
      "{'depth': 8, 'l2_leaf_reg': 22.204357521818373, 'learning_rate': 0.09549816199909199}\n",
      "{'depth': 8, 'l2_leaf_reg': 94.2665335660545, 'learning_rate': 0.09768814098178032}\n",
      "{'depth': 8, 'l2_leaf_reg': 6.637478149523922, 'learning_rate': 0.09232915442854743}\n",
      "{'depth': 8, 'l2_leaf_reg': 60.23445640459772, 'learning_rate': 0.08956642118534863}\n",
      "{'depth': 8, 'l2_leaf_reg': 25.35219766972471, 'learning_rate': 0.08542245056799037}\n",
      "{'depth': 8, 'l2_leaf_reg': 2.7583051779420926, 'learning_rate': 0.09367533197522364}\n",
      "{'depth': 8, 'l2_leaf_reg': 14.71341052370504, 'learning_rate': 0.09997570810188955}\n",
      "{'depth': 8, 'l2_leaf_reg': 9.974019675128496, 'learning_rate': 0.09619806231489009}\n",
      "{'depth': 8, 'l2_leaf_reg': 1.119859602237128, 'learning_rate': 0.08191269062784394}\n",
      "{'depth': 8, 'l2_leaf_reg': 8.09292580127848, 'learning_rate': 0.0559629044555681}\n",
      "{'depth': 8, 'l2_leaf_reg': 4.554992065257376, 'learning_rate': 0.09134043009525686}\n",
      "{'depth': 8, 'l2_leaf_reg': 20.333640633793152, 'learning_rate': 0.08655650765277023}\n",
      "{'depth': 8, 'l2_leaf_reg': 1.004739587073038, 'learning_rate': 0.09805359882110576}\n",
      "{'depth': 8, 'l2_leaf_reg': 38.235058843532514, 'learning_rate': 0.04677426213775657}\n",
      "{'depth': 8, 'l2_leaf_reg': 12.135469220793453, 'learning_rate': 0.09459952348404317}\n",
      "{'depth': 8, 'l2_leaf_reg': 6.282190727142996, 'learning_rate': 0.08910886995455733}\n",
      "{'depth': 8, 'l2_leaf_reg': 16.57307960607168, 'learning_rate': 0.09242854733122627}\n",
      "{'depth': 8, 'l2_leaf_reg': 10.216544959917123, 'learning_rate': 0.08353330007611728}\n",
      "{'depth': 8, 'l2_leaf_reg': 90.90081102083283, 'learning_rate': 0.0798373615860381}\n",
      "{'depth': 8, 'l2_leaf_reg': 4.068501937041647, 'learning_rate': 0.09822732323697919}\n",
      "{'depth': 8, 'l2_leaf_reg': 68.4330719975755, 'learning_rate': 0.09596911428307923}\n",
      "{'depth': 8, 'l2_leaf_reg': 8.245981858082892, 'learning_rate': 0.08757384771697992}\n",
      "{'depth': 8, 'l2_leaf_reg': 33.71795099115135, 'learning_rate': 0.09027679225007015}\n",
      "{'depth': 8, 'l2_leaf_reg': 2.8666806626212034, 'learning_rate': 0.09373334454593366}\n",
      "{'depth': 8, 'l2_leaf_reg': 14.73519642771019, 'learning_rate': 0.08520550786208247}\n",
      "{'depth': 8, 'l2_leaf_reg': 28.344884601743892, 'learning_rate': 0.04014466058664368}\n",
      "{'depth': 5, 'l2_leaf_reg': 18.12649604500619, 'learning_rate': 0.08224716016473521}\n",
      "{'depth': 7, 'l2_leaf_reg': 12.368711588540869, 'learning_rate': 0.09733225803962406}\n",
      "{'depth': 8, 'l2_leaf_reg': 5.572400216452321, 'learning_rate': 0.09983397184465613}\n",
      "{'depth': 8, 'l2_leaf_reg': 10.86417867668154, 'learning_rate': 0.08874678974962824}\n",
      "{'depth': 3, 'l2_leaf_reg': 63.940222885698205, 'learning_rate': 0.058399307630608396}\n",
      "{'depth': 6, 'l2_leaf_reg': 86.52786920914902, 'learning_rate': 0.09990515818074581}\n",
      "{'depth': 4, 'l2_leaf_reg': 54.23784692220704, 'learning_rate': 0.07839207638597631}\n",
      "{'depth': 7, 'l2_leaf_reg': 7.591015534096224, 'learning_rate': 0.09107061650828643}\n",
      "{'depth': 8, 'l2_leaf_reg': 1.071371089872946, 'learning_rate': 0.09517542557374983}\n",
      "{'depth': 8, 'l2_leaf_reg': 2.916075886901684, 'learning_rate': 0.09305628012541903}\n",
      "{'depth': 5, 'l2_leaf_reg': 31.89477417644438, 'learning_rate': 0.08627207384189485}\n",
      "{'depth': 3, 'l2_leaf_reg': 1.2035876209472616, 'learning_rate': 0.09443815099743455}\n",
      "{'depth': 6, 'l2_leaf_reg': 4.84902032724158, 'learning_rate': 0.09667527763175034}\n",
      "{'depth': 4, 'l2_leaf_reg': 1.232279451608894, 'learning_rate': 0.0981242328240094}\n",
      "{'depth': 8, 'l2_leaf_reg': 3.947020499831963, 'learning_rate': 0.09464291300940292}\n",
      "{'depth': 7, 'l2_leaf_reg': 5.877746142174019, 'learning_rate': 0.09155821789602131}\n",
      "{'depth': 8, 'l2_leaf_reg': 2.5196448225362547, 'learning_rate': 0.08929580385830914}\n",
      "{'depth': 5, 'l2_leaf_reg': 8.543348213190463, 'learning_rate': 0.09301911605324266}\n",
      "{'depth': 3, 'l2_leaf_reg': 6.733897071135887, 'learning_rate': 0.09828605421212404}\n",
      "{'depth': 8, 'l2_leaf_reg': 2.529686110955437, 'learning_rate': 0.09616148678251195}\n",
      "{'depth': 6, 'l2_leaf_reg': 9.189460572218623, 'learning_rate': 0.09126790883152221}\n",
      "{'depth': 4, 'l2_leaf_reg': 1.3196193418684625, 'learning_rate': 0.09983939560841248}\n",
      "{'depth': 8, 'l2_leaf_reg': 1.042686826105125, 'learning_rate': 0.09480925999477849}\n",
      "{'depth': 9, 'l2_leaf_reg': 4.170772983608529, 'learning_rate': 0.08761307124244108}\n",
      "{'depth': 7, 'l2_leaf_reg': 6.602088693001022, 'learning_rate': 0.09994319431325331}\n",
      "{'depth': 8, 'l2_leaf_reg': 10.76689989078048, 'learning_rate': 0.09001937792336237}\n",
      "{'depth': 9, 'l2_leaf_reg': 4.810729875023192, 'learning_rate': 0.0935747609269743}\n",
      "{'depth': 5, 'l2_leaf_reg': 1.1016933159180395, 'learning_rate': 0.09706670033648401}\n",
      "{'depth': 9, 'l2_leaf_reg': 7.959566666936549, 'learning_rate': 0.08508878913596508}\n",
      "{'depth': 3, 'l2_leaf_reg': 3.1911167937077822, 'learning_rate': 0.09821735316842937}\n",
      "{'depth': 8, 'l2_leaf_reg': 1.024898215477245, 'learning_rate': 0.08813070417314649}\n",
      "{'depth': 9, 'l2_leaf_reg': 12.351479730867107, 'learning_rate': 0.09235279245338579}\n",
      "{'depth': 6, 'l2_leaf_reg': 9.617819453271299, 'learning_rate': 0.09604239963031586}\n",
      "{'depth': 9, 'l2_leaf_reg': 13.919561892552856, 'learning_rate': 0.09008434770858012}\n",
      "{'depth': 4, 'l2_leaf_reg': 4.930634352966239, 'learning_rate': 0.09458890974338179}\n",
      "{'depth': 9, 'l2_leaf_reg': 7.273182827607636, 'learning_rate': 0.09217743457320206}\n",
      "{'depth': 8, 'l2_leaf_reg': 1.0699654216762138, 'learning_rate': 0.084189274665315}\n",
      "{'depth': 9, 'l2_leaf_reg': 2.8919479296083255, 'learning_rate': 0.09765180964329453}\n",
      "{'depth': 7, 'l2_leaf_reg': 11.769617885107614, 'learning_rate': 0.09815904262424852}\n",
      "{'depth': 9, 'l2_leaf_reg': 15.689695975583447, 'learning_rate': 0.09997537070923479}\n",
      "{'depth': 8, 'l2_leaf_reg': 8.487692507465585, 'learning_rate': 0.09643168034762148}\n",
      "{'depth': 5, 'l2_leaf_reg': 5.49186798477106, 'learning_rate': 0.09848900594895231}\n",
      "{'depth': 9, 'l2_leaf_reg': 1.0047071691250136, 'learning_rate': 0.09990867398435611}\n",
      "{'depth': 9, 'l2_leaf_reg': 3.1288997596794643, 'learning_rate': 0.09634829805133073}\n",
      "{'depth': 3, 'l2_leaf_reg': 9.749342100002607, 'learning_rate': 0.08653747031400144}\n",
      "{'depth': 8, 'l2_leaf_reg': 13.714604238101028, 'learning_rate': 0.09283474203409381}\n",
      "{'depth': 9, 'l2_leaf_reg': 17.310502187007398, 'learning_rate': 0.08963020797672637}\n",
      "{'depth': 6, 'l2_leaf_reg': 5.683326349076659, 'learning_rate': 0.09111054455918302}\n",
      "{'depth': 9, 'l2_leaf_reg': 3.3893288074801244, 'learning_rate': 0.09824070489640238}\n",
      "{'depth': 4, 'l2_leaf_reg': 6.516686375361955, 'learning_rate': 0.09468738052760929}\n",
      "{'depth': 8, 'l2_leaf_reg': 1.0121824380255697, 'learning_rate': 0.08826186977288605}\n",
      "{'depth': 9, 'l2_leaf_reg': 11.448937528689072, 'learning_rate': 0.08254110688317258}\n",
      "{'depth': 9, 'l2_leaf_reg': 8.295425792361996, 'learning_rate': 0.09659350001145985}\n",
      "{'depth': 7, 'l2_leaf_reg': 13.858691321055261, 'learning_rate': 0.034265729718724075}\n",
      "{'depth': 8, 'l2_leaf_reg': 3.3886887571741293, 'learning_rate': 0.09343166171611667}\n",
      "{'depth': 9, 'l2_leaf_reg': 7.022816659738446, 'learning_rate': 0.08038407780937937}\n",
      "{'depth': 5, 'l2_leaf_reg': 18.832088914435452, 'learning_rate': 0.08714635028694562}\n",
      "{'depth': 9, 'l2_leaf_reg': 10.522803090545004, 'learning_rate': 0.09127728108715139}\n",
      "{'depth': 3, 'l2_leaf_reg': 15.874538067461014, 'learning_rate': 0.09837272331925041}\n",
      "{'depth': 8, 'l2_leaf_reg': 5.216515016234698, 'learning_rate': 0.09967963271267473}\n",
      "{'depth': 9, 'l2_leaf_reg': 46.734042709811426, 'learning_rate': 0.08512147276077518}\n",
      "{'depth': 6, 'l2_leaf_reg': 9.835211375292857, 'learning_rate': 0.0953561337347515}\n",
      "{'depth': 4, 'l2_leaf_reg': 3.3557638468548827, 'learning_rate': 0.08962473005735377}\n",
      "{'depth': 9, 'l2_leaf_reg': 13.1240660077761, 'learning_rate': 0.0926085368783775}\n",
      "{'depth': 8, 'l2_leaf_reg': 42.65808316939279, 'learning_rate': 0.09698623027211074}\n",
      "{'depth': 9, 'l2_leaf_reg': 1.0765953535618105, 'learning_rate': 0.08329491601839961}\n",
      "{'depth': 9, 'l2_leaf_reg': 20.342464594163452, 'learning_rate': 0.09993090085008141}\n",
      "{'depth': 7, 'l2_leaf_reg': 8.290883945380553, 'learning_rate': 0.09996438230503961}\n",
      "{'depth': 8, 'l2_leaf_reg': 4.812571477017018, 'learning_rate': 0.09482258091100136}\n",
      "{'depth': 9, 'l2_leaf_reg': 11.170594407888899, 'learning_rate': 0.05254983221831474}\n",
      "{'depth': 5, 'l2_leaf_reg': 3.3138859822052527, 'learning_rate': 0.08639901449850665}\n",
      "{'depth': 9, 'l2_leaf_reg': 7.179406016004363, 'learning_rate': 0.08936582590129506}\n",
      "{'depth': 3, 'l2_leaf_reg': 14.605743240500036, 'learning_rate': 0.09137723619240355}\n",
      "{'depth': 8, 'l2_leaf_reg': 2.761852154659999, 'learning_rate': 0.043972903611065074}\n",
      "{'depth': 9, 'l2_leaf_reg': 17.10300843956995, 'learning_rate': 0.0938879818123645}\n",
      "{'depth': 6, 'l2_leaf_reg': 5.524844371401137, 'learning_rate': 0.09703521749110156}\n",
      "{'depth': 9, 'l2_leaf_reg': 1.0467209508192856, 'learning_rate': 0.09981116496666052}\n",
      "{'depth': 8, 'l2_leaf_reg': 79.61034201184715, 'learning_rate': 0.036840401973479334}\n",
      "{'depth': 4, 'l2_leaf_reg': 9.249311183520456, 'learning_rate': 0.09548919604897882}\n",
      "{'depth': 9, 'l2_leaf_reg': 22.720653818057826, 'learning_rate': 0.08821779350189307}\n",
      "{'depth': 9, 'l2_leaf_reg': 12.541751868234186, 'learning_rate': 0.09276480584510167}\n",
      "{'depth': 8, 'l2_leaf_reg': 7.239925537351694, 'learning_rate': 0.08104652290440187}\n",
      "{'depth': 9, 'l2_leaf_reg': 2.939518041844296, 'learning_rate': 0.09815817115986308}\n",
      "{'depth': 5, 'l2_leaf_reg': 11.464834292452673, 'learning_rate': 0.09051531679960073}\n",
      "{'depth': 7, 'l2_leaf_reg': 4.734522685145102, 'learning_rate': 0.03231358105052153}\n",
      "{'depth': 9, 'l2_leaf_reg': 97.95054026690036, 'learning_rate': 0.04903375364708407}\n",
      "{'depth': 3, 'l2_leaf_reg': 15.681089367943587, 'learning_rate': 0.08548438568019674}\n",
      "{'depth': 8, 'l2_leaf_reg': 9.106513265026045, 'learning_rate': 0.09995702652390687}\n",
      "{'depth': 9, 'l2_leaf_reg': 18.074175798872236, 'learning_rate': 0.09999115685632409}\n",
      "{'depth': 6, 'l2_leaf_reg': 6.643679530947249, 'learning_rate': 0.08404733771153941}\n",
      "{'depth': 9, 'l2_leaf_reg': 21.148188465089017, 'learning_rate': 0.09391519727400904}\n",
      "{'depth': 4, 'l2_leaf_reg': 1.1366372022512337, 'learning_rate': 0.09999858850052927}\n",
      "{'depth': 8, 'l2_leaf_reg': 13.175110781032277, 'learning_rate': 0.0960123273877667}\n",
      "{'depth': 9, 'l2_leaf_reg': 2.7193086861587905, 'learning_rate': 0.08697668608149793}\n",
      "{'depth': 9, 'l2_leaf_reg': 25.155793579719006, 'learning_rate': 0.08317805137152462}\n",
      "{'depth': 9, 'l2_leaf_reg': 10.283403278904041, 'learning_rate': 0.0773485649220269}\n",
      "{'depth': 9, 'l2_leaf_reg': 14.944826559606462, 'learning_rate': 0.07953032957466666}\n",
      "{'depth': 9, 'l2_leaf_reg': 4.463299452433426, 'learning_rate': 0.07473712328481381}\n",
      "{'depth': 9, 'l2_leaf_reg': 7.786284861304454, 'learning_rate': 0.08077664690035719}\n",
      "{'depth': 9, 'l2_leaf_reg': 2.938531392373141, 'learning_rate': 0.08186169166350668}\n",
      "{'depth': 9, 'l2_leaf_reg': 5.977382471410497, 'learning_rate': 0.07802063404588434}\n",
      "{'depth': 9, 'l2_leaf_reg': 20.156660118793006, 'learning_rate': 0.07574206354128901}\n",
      "{'depth': 9, 'l2_leaf_reg': 10.268683988595315, 'learning_rate': 0.07009865442530669}\n",
      "{'depth': 9, 'l2_leaf_reg': 12.424509496401782, 'learning_rate': 0.08827564292517916}\n",
      "{'depth': 9, 'l2_leaf_reg': 17.069719814542342, 'learning_rate': 0.08659624440802388}\n",
      "{'depth': 9, 'l2_leaf_reg': 1.0323608503311694, 'learning_rate': 0.07261644417809428}\n",
      "{'depth': 9, 'l2_leaf_reg': 8.268805562875695, 'learning_rate': 0.08496124019447686}\n",
      "{'depth': 9, 'l2_leaf_reg': 4.5877508904510815, 'learning_rate': 0.0795586788092021}\n",
      "{'depth': 9, 'l2_leaf_reg': 2.545618467105941, 'learning_rate': 0.08368086757970963}\n",
      "{'depth': 9, 'l2_leaf_reg': 14.42899136961405, 'learning_rate': 0.07667310201950191}\n",
      "{'depth': 9, 'l2_leaf_reg': 40.14840869377512, 'learning_rate': 0.08222610158945032}\n",
      "{'depth': 9, 'l2_leaf_reg': 6.466271324039842, 'learning_rate': 0.08969566938863988}\n",
      "{'depth': 9, 'l2_leaf_reg': 10.769695872603215, 'learning_rate': 0.08703648866378726}\n",
      "{'depth': 9, 'l2_leaf_reg': 19.187549179210553, 'learning_rate': 0.08837967292860022}\n",
      "{'depth': 9, 'l2_leaf_reg': 8.992133899907664, 'learning_rate': 0.07944500224846442}\n",
      "{'depth': 9, 'l2_leaf_reg': 1.0244086583851344, 'learning_rate': 0.09211741864608927}\n",
      "{'depth': 9, 'l2_leaf_reg': 23.195443442539077, 'learning_rate': 0.05455202253930806}\n",
      "{'depth': 9, 'l2_leaf_reg': 4.276209841977287, 'learning_rate': 0.0853259069011877}\n",
      "{'depth': 9, 'l2_leaf_reg': 26.688537849530142, 'learning_rate': 0.07452454400482071}\n",
      "{'depth': 9, 'l2_leaf_reg': 6.314884378932582, 'learning_rate': 0.09087803421838449}\n",
      "{'depth': 7, 'l2_leaf_reg': 1.154036056463406, 'learning_rate': 0.09238057615419258}\n",
      "{'depth': 9, 'l2_leaf_reg': 56.04523727037919, 'learning_rate': 0.08684892035379879}\n",
      "{'depth': 5, 'l2_leaf_reg': 13.774354342275727, 'learning_rate': 0.06655124347751984}\n",
      "{'depth': 9, 'l2_leaf_reg': 12.436526608303403, 'learning_rate': 0.0972365181165982}\n",
      "{'depth': 3, 'l2_leaf_reg': 15.75068445268381, 'learning_rate': 0.08273889798425244}\n",
      "{'depth': 9, 'l2_leaf_reg': 1.1045152286848876, 'learning_rate': 0.07742735849378443}\n",
      "{'depth': 6, 'l2_leaf_reg': 3.555772477155447, 'learning_rate': 0.08898218344666597}\n",
      "{'depth': 9, 'l2_leaf_reg': 8.33797092013059, 'learning_rate': 0.09089760695778033}\n",
      "{'depth': 4, 'l2_leaf_reg': 11.173590436318893, 'learning_rate': 0.08439761130496276}\n",
      "{'depth': 9, 'l2_leaf_reg': 5.5120461760902355, 'learning_rate': 0.0810518727871814}\n",
      "{'depth': 9, 'l2_leaf_reg': 3.0871742927024153, 'learning_rate': 0.09443637451415476}\n",
      "{'depth': 9, 'l2_leaf_reg': 50.87142425171477, 'learning_rate': 0.09841175443069103}\n",
      "{'depth': 7, 'l2_leaf_reg': 9.393139550965598, 'learning_rate': 0.09581488088883205}\n",
      "{'depth': 9, 'l2_leaf_reg': 17.7444999451909, 'learning_rate': 0.0636700821596311}\n",
      "{'depth': 5, 'l2_leaf_reg': 7.009633896375242, 'learning_rate': 0.08630334925807337}\n",
      "{'depth': 9, 'l2_leaf_reg': 2.763896210924491, 'learning_rate': 0.09249678768046464}\n",
      "{'depth': 3, 'l2_leaf_reg': 21.294219914833537, 'learning_rate': 0.08928219524772302}\n",
      "{'depth': 9, 'l2_leaf_reg': 30.385685135353633, 'learning_rate': 0.06041275179871494}\n",
      "{'depth': 6, 'l2_leaf_reg': 1.0193612168646986, 'learning_rate': 0.07144601995259263}\n",
      "{'depth': 9, 'l2_leaf_reg': 36.8465124389517, 'learning_rate': 0.09720022954738738}\n",
      "{'depth': 9, 'l2_leaf_reg': 88.82869080939584, 'learning_rate': 0.08714825568550161}\n",
      "{'depth': 4, 'l2_leaf_reg': 11.908897334972824, 'learning_rate': 0.09995587562650088}\n",
      "{'depth': 9, 'l2_leaf_reg': 4.802245741409301, 'learning_rate': 0.07912608843422711}\n",
      "{'depth': 7, 'l2_leaf_reg': 14.735555450740412, 'learning_rate': 0.09078393299336619}\n",
      "{'depth': 9, 'l2_leaf_reg': 84.15100197406232, 'learning_rate': 0.09356860113614768}\n",
      "{'depth': 5, 'l2_leaf_reg': 8.366742873218339, 'learning_rate': 0.019035329733081474}\n",
      "{'depth': 9, 'l2_leaf_reg': 6.016409312550385, 'learning_rate': 0.08145764018298858}\n",
      "{'depth': 9, 'l2_leaf_reg': 1.0987923313585988, 'learning_rate': 0.09527665772985955}\n",
      "{'depth': 9, 'l2_leaf_reg': 10.347209258350873, 'learning_rate': 0.09850497590851728}\n",
      "{'depth': 3, 'l2_leaf_reg': 18.962024111122467, 'learning_rate': 0.08368927964566672}\n",
      "{'depth': 9, 'l2_leaf_reg': 3.382908840254404, 'learning_rate': 0.07386456014105834}\n",
      "{'depth': 6, 'l2_leaf_reg': 6.971099273206095, 'learning_rate': 0.09623058232937254}\n",
      "{'depth': 4, 'l2_leaf_reg': 13.013919488014924, 'learning_rate': 0.08813357877375333}\n",
      "{'depth': 9, 'l2_leaf_reg': 15.658559422688416, 'learning_rate': 0.0999598816791545}\n",
      "{'depth': 9, 'l2_leaf_reg': 4.673115325650507, 'learning_rate': 0.08526372277489234}\n",
      "{'depth': 7, 'l2_leaf_reg': 66.40938843171737, 'learning_rate': 0.093254562942252}\n",
      "{'depth': 9, 'l2_leaf_reg': 75.83958839770413, 'learning_rate': 0.09072866304151679}\n",
      "{'depth': 9, 'l2_leaf_reg': 1.1072439851437266, 'learning_rate': 0.06871010506500316}\n",
      "{'depth': 5, 'l2_leaf_reg': 9.273903220730666, 'learning_rate': 0.05826699308569781}\n",
      "{'depth': 9, 'l2_leaf_reg': 1.0728632009626224, 'learning_rate': 0.0623732472680903}\n",
      "{'depth': 3, 'l2_leaf_reg': 4.926034953936222, 'learning_rate': 0.060022025075053324}\n",
      "{'depth': 9, 'l2_leaf_reg': 7.491519030466627, 'learning_rate': 0.07281229285368598}\n",
      "{'depth': 6, 'l2_leaf_reg': 10.703087483372993, 'learning_rate': 0.06532297680609046}\n",
      "{'depth': 9, 'l2_leaf_reg': 24.031236278481547, 'learning_rate': 0.056760531629971814}\n",
      "{'depth': 4, 'l2_leaf_reg': 61.81239927646254, 'learning_rate': 0.06773949270986657}\n",
      "{'depth': 9, 'l2_leaf_reg': 2.6118780451066557, 'learning_rate': 0.06879440611294001}\n",
      "{'depth': 9, 'l2_leaf_reg': 48.231053026667915, 'learning_rate': 0.06374765921391712}\n",
      "{'depth': 9, 'l2_leaf_reg': 12.685033405144296, 'learning_rate': 0.049542168811688145}\n",
      "{'depth': 7, 'l2_leaf_reg': 5.429104966616159, 'learning_rate': 0.061743513788705}\n",
      "{'depth': 9, 'l2_leaf_reg': 16.660089293559903, 'learning_rate': 0.05157033901485739}\n",
      "{'depth': 5, 'l2_leaf_reg': 7.857387631651809, 'learning_rate': 0.07000967419510562}\n",
      "{'depth': 9, 'l2_leaf_reg': 1.127942356197473, 'learning_rate': 0.045238893966640756}\n",
      "{'depth': 3, 'l2_leaf_reg': 1.1163200086344987, 'learning_rate': 0.05585033107891324}\n",
      "{'depth': 9, 'l2_leaf_reg': 3.0950936747320035, 'learning_rate': 0.06961496434692821}\n",
      "{'depth': 6, 'l2_leaf_reg': 73.95127755894379, 'learning_rate': 0.06562211123245894}\n",
      "{'depth': 9, 'l2_leaf_reg': 1.1112803254565982, 'learning_rate': 0.0638331716281167}\n",
      "{'depth': 4, 'l2_leaf_reg': 10.010883720931785, 'learning_rate': 0.059236069140895166}\n",
      "{'depth': 9, 'l2_leaf_reg': 99.81441282871693, 'learning_rate': 0.06696073340679747}\n",
      "{'depth': 9, 'l2_leaf_reg': 6.088591960547461, 'learning_rate': 0.07176724496721763}\n",
      "{'depth': 9, 'l2_leaf_reg': 14.43518390378891, 'learning_rate': 0.07618896400338979}\n",
      "{'depth': 7, 'l2_leaf_reg': 16.884346301774755, 'learning_rate': 0.05372478081268234}\n",
      "{'depth': 9, 'l2_leaf_reg': 21.980977573663214, 'learning_rate': 0.07495877003782582}\n",
      "{'depth': 5, 'l2_leaf_reg': 95.72755348969599, 'learning_rate': 0.04763997544131313}\n",
      "{'depth': 9, 'l2_leaf_reg': 12.133549309207197, 'learning_rate': 0.06159233515163132}\n",
      "{'depth': 3, 'l2_leaf_reg': 1.0289877557260403, 'learning_rate': 0.054926274225120086}\n",
      "{'depth': 9, 'l2_leaf_reg': 69.85872796260203, 'learning_rate': 0.06826984086912664}\n",
      "{'depth': 6, 'l2_leaf_reg': 80.81565026845281, 'learning_rate': 0.05725013138303122}\n",
      "{'depth': 9, 'l2_leaf_reg': 19.265184137643644, 'learning_rate': 0.07051407795314804}\n",
      "{'depth': 4, 'l2_leaf_reg': 8.237107998401193, 'learning_rate': 0.0728183558529502}\n",
      "{'depth': 9, 'l2_leaf_reg': 4.922028671441813, 'learning_rate': 0.04134353984273179}\n",
      "{'depth': 9, 'l2_leaf_reg': 3.9639865418919613, 'learning_rate': 0.07809003152163885}\n",
      "{'depth': 9, 'l2_leaf_reg': 10.593168529683712, 'learning_rate': 0.0650862655438956}\n",
      "{'depth': 7, 'l2_leaf_reg': 7.14126154615313, 'learning_rate': 0.051120749639924155}\n",
      "{'depth': 9, 'l2_leaf_reg': 13.677737166547292, 'learning_rate': 0.05924798664267543}\n",
      "{'depth': 5, 'l2_leaf_reg': 2.763880196887868, 'learning_rate': 0.0767223127619013}\n",
      "{'depth': 9, 'l2_leaf_reg': 43.927682043129956, 'learning_rate': 0.06718105396372129}\n",
      "{'depth': 3, 'l2_leaf_reg': 28.083903055094105, 'learning_rate': 0.08038106930235561}\n",
      "{'depth': 9, 'l2_leaf_reg': 9.20044046414803, 'learning_rate': 0.07395435947820884}\n",
      "{'depth': 6, 'l2_leaf_reg': 1.0118131997760493, 'learning_rate': 0.05315353821982735}\n",
      "{'depth': 9, 'l2_leaf_reg': 5.961815351931181, 'learning_rate': 0.06286136163368627}\n",
      "{'depth': 4, 'l2_leaf_reg': 1.0052449138189785, 'learning_rate': 0.09711496352320673}\n",
      "{'depth': 9, 'l2_leaf_reg': 11.585630828157166, 'learning_rate': 0.07800361559188088}\n",
      "{'depth': 9, 'l2_leaf_reg': 34.62557421973475, 'learning_rate': 0.07574972230677145}\n",
      "{'depth': 9, 'l2_leaf_reg': 26.12991340764952, 'learning_rate': 0.09819192051707085}\n",
      "{'depth': 7, 'l2_leaf_reg': 58.91607025610727, 'learning_rate': 0.0947312744731847}\n",
      "{'depth': 9, 'l2_leaf_reg': 1.0255925281933433, 'learning_rate': 0.07052759914784074}\n",
      "{'depth': 5, 'l2_leaf_reg': 17.49203355236596, 'learning_rate': 0.08230467439609641}\n",
      "{'depth': 9, 'l2_leaf_reg': 4.334446967588549, 'learning_rate': 0.03845787524158838}\n",
      "{'depth': 9, 'l2_leaf_reg': 7.752657715689838, 'learning_rate': 0.09209272569650785}\n",
      "{'depth': 3, 'l2_leaf_reg': 14.89522082923471, 'learning_rate': 0.0897392413675872}\n",
      "{'depth': 6, 'l2_leaf_reg': 2.908036967212089, 'learning_rate': 0.09839874772912004}\n",
      "{'depth': 9, 'l2_leaf_reg': 9.111022385240364, 'learning_rate': 0.09550023965050444}\n",
      "{'depth': 4, 'l2_leaf_reg': 5.895724433300204, 'learning_rate': 0.09978216869258888}\n",
      "{'depth': 9, 'l2_leaf_reg': 19.335800506878957, 'learning_rate': 0.08416503217662308}\n",
      "{'depth': 9, 'l2_leaf_reg': 11.507658362585286, 'learning_rate': 0.09311480538395227}\n",
      "{'depth': 9, 'l2_leaf_reg': 20.89162774788717, 'learning_rate': 0.07993010220256756}\n",
      "{'depth': 7, 'l2_leaf_reg': 52.75605535565068, 'learning_rate': 0.09743638733084135}\n",
      "{'depth': 9, 'l2_leaf_reg': 4.231562601700745, 'learning_rate': 0.06873654144337865}\n",
      "{'depth': 9, 'l2_leaf_reg': 23.66295616948843, 'learning_rate': 0.07190216249701123}\n",
      "{'depth': 9, 'l2_leaf_reg': 3.4783772872549132, 'learning_rate': 0.08729060311260246}\n",
      "{'depth': 9, 'l2_leaf_reg': 2.704520486243041, 'learning_rate': 0.08558814318697355}\n",
      "{'depth': 9, 'l2_leaf_reg': 6.036229057356412, 'learning_rate': 0.08190765989329661}\n",
      "{'depth': 9, 'l2_leaf_reg': 2.284088535549741, 'learning_rate': 0.07868088518992064}\n",
      "{'depth': 9, 'l2_leaf_reg': 1.2111710006108605, 'learning_rate': 0.07557579185660647}\n",
      "{'depth': 9, 'l2_leaf_reg': 2.7522161603054864, 'learning_rate': 0.07709614533585066}\n",
      "{'depth': 9, 'l2_leaf_reg': 7.154298296440143, 'learning_rate': 0.07769321295732781}\n",
      "{'depth': 9, 'l2_leaf_reg': 1.0466614898100377, 'learning_rate': 0.07555297124175872}\n",
      "{'depth': 9, 'l2_leaf_reg': 5.687235124684516, 'learning_rate': 0.07304526978832797}\n",
      "{'depth': 9, 'l2_leaf_reg': 1.1144362007462416, 'learning_rate': 0.07338284498965886}\n",
      "{'depth': 9, 'l2_leaf_reg': 4.450261814539127, 'learning_rate': 0.07489083305164464}\n",
      "{'depth': 9, 'l2_leaf_reg': 9.072824139175946, 'learning_rate': 0.07938084155726471}\n",
      "{'depth': 9, 'l2_leaf_reg': 6.778399159202663, 'learning_rate': 0.07085424706104486}\n",
      "{'depth': 9, 'l2_leaf_reg': 2.5504701248319916, 'learning_rate': 0.07543964921274282}\n",
      "{'depth': 9, 'l2_leaf_reg': 4.0085567833785545, 'learning_rate': 0.07412787765893566}\n",
      "{'depth': 9, 'l2_leaf_reg': 9.69964384803159, 'learning_rate': 0.07799452838967084}\n",
      "{'depth': 9, 'l2_leaf_reg': 1.0940994919185776, 'learning_rate': 0.07924636867127059}\n",
      "{'depth': 9, 'l2_leaf_reg': 1.0204580146975084, 'learning_rate': 0.07182907944604319}\n",
      "{'depth': 9, 'l2_leaf_reg': 6.816338407018177, 'learning_rate': 0.06681749186325046}\n",
      "{'depth': 9, 'l2_leaf_reg': 1.057748778970641, 'learning_rate': 0.06536674573262907}\n",
      "{'depth': 9, 'l2_leaf_reg': 4.697956341593979, 'learning_rate': 0.07034712499365395}\n",
      "{'depth': 9, 'l2_leaf_reg': 7.803346514496207, 'learning_rate': 0.0682577205735331}\n",
      "{'depth': 9, 'l2_leaf_reg': 10.774094160151257, 'learning_rate': 0.07232053777414887}\n",
      "{'depth': 9, 'l2_leaf_reg': 3.0538734592277104, 'learning_rate': 0.07202145014423514}\n",
      "{'depth': 9, 'l2_leaf_reg': 12.493477234964178, 'learning_rate': 0.08019772254005457}\n",
      "{'depth': 9, 'l2_leaf_reg': 8.567258383890351, 'learning_rate': 0.07002877448900752}\n",
      "{'depth': 9, 'l2_leaf_reg': 4.934124652713843, 'learning_rate': 0.06812747759720705}\n",
      "{'depth': 9, 'l2_leaf_reg': 2.8515446888520546, 'learning_rate': 0.07737167027400343}\n",
      "{'depth': 5, 'l2_leaf_reg': 5.843778806686661, 'learning_rate': 0.0645609991140741}\n",
      "{'depth': 9, 'l2_leaf_reg': 1.0103240121937906, 'learning_rate': 0.07419638828103571}\n",
      "{'depth': 9, 'l2_leaf_reg': 13.503509159765398, 'learning_rate': 0.0624615953657755}\n",
      "{'depth': 3, 'l2_leaf_reg': 10.364558113233677, 'learning_rate': 0.06637756876561302}\n",
      "{'depth': 9, 'l2_leaf_reg': 8.15826006767966, 'learning_rate': 0.08098492387285824}\n",
      "{'depth': 6, 'l2_leaf_reg': 3.0390465980599197, 'learning_rate': 0.07644723474197707}\n",
      "{'depth': 9, 'l2_leaf_reg': 5.224275704146347, 'learning_rate': 0.0786945831403376}\n",
      "{'depth': 4, 'l2_leaf_reg': 1.0265745035440694, 'learning_rate': 0.0824982151082972}\n",
      "{'depth': 9, 'l2_leaf_reg': 1.093669391747137, 'learning_rate': 0.07323220570339892}\n",
      "{'depth': 9, 'l2_leaf_reg': 7.253709467378565, 'learning_rate': 0.07011787021716613}\n",
      "{'depth': 9, 'l2_leaf_reg': 11.554302460406047, 'learning_rate': 0.07182794140219707}\n",
      "{'depth': 7, 'l2_leaf_reg': 4.844121108580719, 'learning_rate': 0.07965636569201169}\n",
      "{'depth': 9, 'l2_leaf_reg': 9.361583574849142, 'learning_rate': 0.06091370368749686}\n",
      "{'depth': 5, 'l2_leaf_reg': 15.246776095262508, 'learning_rate': 0.07652760542676694}\n",
      "{'depth': 9, 'l2_leaf_reg': 3.3115054619172426, 'learning_rate': 0.08145210492050434}\n",
      "{'depth': 9, 'l2_leaf_reg': 7.083021975696193, 'learning_rate': 0.0685449975651978}\n",
      "{'depth': 3, 'l2_leaf_reg': 1.0160025641605008, 'learning_rate': 0.08353368789919136}\n",
      "{'depth': 9, 'l2_leaf_reg': 12.642394307087917, 'learning_rate': 0.07771351442100449}\n",
      "{'depth': 9, 'l2_leaf_reg': 10.404860144364928, 'learning_rate': 0.07430346631982934}\n",
      "{'depth': 6, 'l2_leaf_reg': 2.625489016166089, 'learning_rate': 0.06545215845062573}\n",
      "{'depth': 4, 'l2_leaf_reg': 5.95804271834715, 'learning_rate': 0.08135604584790601}\n",
      "{'depth': 9, 'l2_leaf_reg': 4.36371766083998, 'learning_rate': 0.07908358151380118}\n",
      "{'depth': 9, 'l2_leaf_reg': 8.863934932200857, 'learning_rate': 0.07119732938097836}\n",
      "{'depth': 9, 'l2_leaf_reg': 13.780156770047064, 'learning_rate': 0.07566592229343393}\n",
      "{'depth': 7, 'l2_leaf_reg': 7.141801847489672, 'learning_rate': 0.08358192777491642}\n",
      "{'depth': 9, 'l2_leaf_reg': 16.180329620395156, 'learning_rate': 0.06668169453038919}\n",
      "{'depth': 5, 'l2_leaf_reg': 92.28490372820237, 'learning_rate': 0.08487697172302114}\n",
      "{'depth': 9, 'l2_leaf_reg': 2.879971960275321, 'learning_rate': 0.0686414974418755}\n",
      "{'depth': 9, 'l2_leaf_reg': 10.766620455902501, 'learning_rate': 0.07337414705157938}\n",
      "{'depth': 3, 'l2_leaf_reg': 4.636136047063622, 'learning_rate': 0.08028219371636285}\n",
      "{'depth': 9, 'l2_leaf_reg': 8.548239393975425, 'learning_rate': 0.08262691969623347}\n",
      "{'depth': 6, 'l2_leaf_reg': 1.11845959796028, 'learning_rate': 0.07829149008369908}\n",
      "{'depth': 9, 'l2_leaf_reg': 12.17250945253123, 'learning_rate': 0.0637699272853587}\n",
      "{'depth': 4, 'l2_leaf_reg': 6.0090634493033495, 'learning_rate': 0.07683566085899837}\n",
      "{'depth': 9, 'l2_leaf_reg': 2.7732505264899903, 'learning_rate': 0.07182310898411741}\n",
      "{'depth': 8, 'l2_leaf_reg': 1.1082553448688945, 'learning_rate': 0.08103395006036249}\n",
      "{'depth': 9, 'l2_leaf_reg': 1.0119864163270516, 'learning_rate': 0.07483339251318993}\n",
      "{'depth': 9, 'l2_leaf_reg': 13.96188857461808, 'learning_rate': 0.06285845763837959}\n",
      "{'depth': 7, 'l2_leaf_reg': 8.74447250456898, 'learning_rate': 0.08541889779120873}\n",
      "{'depth': 9, 'l2_leaf_reg': 4.3124120969112365, 'learning_rate': 0.05797164734373681}\n",
      "{'depth': 5, 'l2_leaf_reg': 6.677352861704813, 'learning_rate': 0.06953427595278126}\n",
      "{'depth': 9, 'l2_leaf_reg': 16.99798922286525, 'learning_rate': 0.08361304114730031}\n",
      "{'depth': 8, 'l2_leaf_reg': 9.848050427759487, 'learning_rate': 0.07898185812238265}\n",
      "{'depth': 9, 'l2_leaf_reg': 2.6291274393651745, 'learning_rate': 0.06105772527646845}\n",
      "{'depth': 9, 'l2_leaf_reg': 1.0902507659439897, 'learning_rate': 0.07623950482323891}\n",
      "{'depth': 3, 'l2_leaf_reg': 5.51450971692613, 'learning_rate': 0.07392110359725979}\n",
      "{'depth': 6, 'l2_leaf_reg': 10.72522284602548, 'learning_rate': 0.08543881510178525}\n",
      "{'depth': 9, 'l2_leaf_reg': 3.999716025642334, 'learning_rate': 0.08082568067420114}\n",
      "{'depth': 9, 'l2_leaf_reg': 14.455124844732214, 'learning_rate': 0.07083597848052442}\n",
      "{'depth': 4, 'l2_leaf_reg': 1.0253387426806329, 'learning_rate': 0.08382634861013066}\n",
      "{'depth': 8, 'l2_leaf_reg': 1.0151384165465167, 'learning_rate': 0.08186990322252112}\n",
      "{'depth': 9, 'l2_leaf_reg': 7.495148751139634, 'learning_rate': 0.06699310847657017}\n",
      "{'depth': 9, 'l2_leaf_reg': 8.650273507431372, 'learning_rate': 0.07890169131647476}\n",
      "{'depth': 7, 'l2_leaf_reg': 12.351430999606917, 'learning_rate': 0.08566605633510807}\n",
      "{'depth': 9, 'l2_leaf_reg': 6.186584236795157, 'learning_rate': 0.07255505691642533}\n",
      "{'depth': 5, 'l2_leaf_reg': 3.218426945898812, 'learning_rate': 0.07610812337859221}\n",
      "{'depth': 9, 'l2_leaf_reg': 11.074045817362265, 'learning_rate': 0.06439573470334868}\n",
      "{'depth': 8, 'l2_leaf_reg': 15.845684358187562, 'learning_rate': 0.086279247056842}\n",
      "{'depth': 9, 'l2_leaf_reg': 1.0109664632712998, 'learning_rate': 0.08300617249320248}\n",
      "{'depth': 9, 'l2_leaf_reg': 18.53310390979283, 'learning_rate': 0.07746408528252635}\n",
      "{'depth': 3, 'l2_leaf_reg': 4.662029193878092, 'learning_rate': 0.07350127488216754}\n",
      "{'depth': 6, 'l2_leaf_reg': 7.47134749906414, 'learning_rate': 0.06897425721557374}\n",
      "{'depth': 9, 'l2_leaf_reg': 13.436864732072738, 'learning_rate': 0.0806012754375359}\n",
      "{'depth': 4, 'l2_leaf_reg': 9.22227061186935, 'learning_rate': 0.0670499988353954}\n",
      "{'depth': 9, 'l2_leaf_reg': 2.8481082898167864, 'learning_rate': 0.08746049257040032}\n",
      "{'depth': 9, 'l2_leaf_reg': 55.04445569983257, 'learning_rate': 0.0824198681490548}\n",
      "{'depth': 8, 'l2_leaf_reg': 5.458839623615333, 'learning_rate': 0.07526060108802092}\n",
      "{'depth': 9, 'l2_leaf_reg': 12.467115491289281, 'learning_rate': 0.07921024846776628}\n",
      "{'depth': 7, 'l2_leaf_reg': 7.523783000325583, 'learning_rate': 0.060290777322667854}\n",
      "{'depth': 9, 'l2_leaf_reg': 4.783651610063121, 'learning_rate': 0.0847968806555648}\n",
      "{'depth': 9, 'l2_leaf_reg': 2.68601549058545, 'learning_rate': 0.07756212483818355}\n",
      "{'depth': 8, 'l2_leaf_reg': 10.260176660025252, 'learning_rate': 0.07223404652491323}\n",
      "{'depth': 5, 'l2_leaf_reg': 45.22623061431208, 'learning_rate': 0.08845224919753446}\n",
      "{'depth': 9, 'l2_leaf_reg': 6.9423597290201045, 'learning_rate': 0.07019322351290858}\n",
      "{'depth': 3, 'l2_leaf_reg': 40.58729088115261, 'learning_rate': 0.08224983711037992}\n",
      "{'depth': 9, 'l2_leaf_reg': 1.049187021822712, 'learning_rate': 0.06527819579367934}\n",
      "{'depth': 6, 'l2_leaf_reg': 16.53786834748795, 'learning_rate': 0.07487045726068126}\n",
      "{'depth': 9, 'l2_leaf_reg': 71.93927381858414, 'learning_rate': 0.07968922718429497}\n",
      "{'depth': 4, 'l2_leaf_reg': 1.0397491817770765, 'learning_rate': 0.08437975140726466}\n",
      "{'depth': 9, 'l2_leaf_reg': 14.744095454431166, 'learning_rate': 0.056578398722896314}\n",
      "{'depth': 8, 'l2_leaf_reg': 2.887748716627167, 'learning_rate': 0.06258595488247545}\n",
      "{'depth': 9, 'l2_leaf_reg': 9.567302641377445, 'learning_rate': 0.08733773763665464}\n",
      "{'depth': 9, 'l2_leaf_reg': 4.589914123761665, 'learning_rate': 0.07131562792620619}\n",
      "{'depth': 7, 'l2_leaf_reg': 11.53420464320079, 'learning_rate': 0.0774550701826631}\n",
      "{'depth': 9, 'l2_leaf_reg': 77.49735213298301, 'learning_rate': 0.06855127102414693}\n",
      "{'depth': 5, 'l2_leaf_reg': 17.989897131875395, 'learning_rate': 0.0586799684701026}\n",
      "{'depth': 9, 'l2_leaf_reg': 6.0475458786222145, 'learning_rate': 0.08537047753928535}\n",
      "{'depth': 8, 'l2_leaf_reg': 21.19982232114411, 'learning_rate': 0.08168553780369657}\n",
      "{'depth': 9, 'l2_leaf_reg': 2.8169012169361887, 'learning_rate': 0.0744010842660329}\n",
      "{'depth': 3, 'l2_leaf_reg': 8.900241069199188, 'learning_rate': 0.0897886352860708}\n",
      "{'depth': 9, 'l2_leaf_reg': 13.426341919042416, 'learning_rate': 0.08627476024329549}\n",
      "{'depth': 9, 'l2_leaf_reg': 50.06156615663463, 'learning_rate': 0.08365665713704219}\n",
      "{'depth': 6, 'l2_leaf_reg': 7.521087819452605, 'learning_rate': 0.07605727098032539}\n",
      "{'depth': 4, 'l2_leaf_reg': 1.0175779605216118, 'learning_rate': 0.08897425746202572}\n",
      "{'depth': 9, 'l2_leaf_reg': 3.8956621363813007, 'learning_rate': 0.07262955815853564}\n",
      "{'depth': 8, 'l2_leaf_reg': 11.297586103637354, 'learning_rate': 0.08066734242698358}\n",
      "{'depth': 9, 'l2_leaf_reg': 5.392625791028845, 'learning_rate': 0.0785939550316562}\n",
      "{'depth': 9, 'l2_leaf_reg': 14.842509844354314, 'learning_rate': 0.06757011660830636}\n",
      "{'depth': 7, 'l2_leaf_reg': 7.842572605524839, 'learning_rate': 0.06457054554528127}\n",
      "{'depth': 9, 'l2_leaf_reg': 3.9734525258386775, 'learning_rate': 0.08797239281925803}\n",
      "{'depth': 5, 'l2_leaf_reg': 9.659289707742047, 'learning_rate': 0.08320369884025414}\n",
      "{'depth': 9, 'l2_leaf_reg': 2.7304700516641502, 'learning_rate': 0.08604804361314587}\n",
      "{'depth': 8, 'l2_leaf_reg': 12.487060612709122, 'learning_rate': 0.0707459589038423}\n",
      "{'depth': 9, 'l2_leaf_reg': 1.0773761767839956, 'learning_rate': 0.08049405970840545}\n",
      "{'depth': 3, 'l2_leaf_reg': 5.607442392797333, 'learning_rate': 0.07808870744910425}\n",
      "{'depth': 9, 'l2_leaf_reg': 1.0121061569866576, 'learning_rate': 0.07616206182917684}\n",
      "{'depth': 6, 'l2_leaf_reg': 1.0359993935557539, 'learning_rate': 0.07357218071264134}\n",
      "{'depth': 9, 'l2_leaf_reg': 19.036248328134402, 'learning_rate': 0.08845300072187054}\n",
      "{'depth': 4, 'l2_leaf_reg': 16.524787460944975, 'learning_rate': 0.06880996433245731}\n",
      "{'depth': 9, 'l2_leaf_reg': 31.931505048707233, 'learning_rate': 0.08459522460870504}\n",
      "{'depth': 8, 'l2_leaf_reg': 6.249618805808346, 'learning_rate': 0.08139906737300587}\n",
      "{'depth': 9, 'l2_leaf_reg': 1.0477597795449494, 'learning_rate': 0.0657211485493149}\n",
      "{'depth': 9, 'l2_leaf_reg': 8.220166841167575, 'learning_rate': 0.08939309514441486}\n",
      "{'depth': 9, 'l2_leaf_reg': 11.280421586354908, 'learning_rate': 0.06033774672190804}\n",
      "{'depth': 7, 'l2_leaf_reg': 3.9198951774728767, 'learning_rate': 0.08277043275780357}\n",
      "{'depth': 5, 'l2_leaf_reg': 9.751320814002607, 'learning_rate': 0.07989311234420812}\n",
      "{'depth': 9, 'l2_leaf_reg': 82.23125101734749, 'learning_rate': 0.08663595000006993}\n",
      "{'depth': 8, 'l2_leaf_reg': 37.99807636781051, 'learning_rate': 0.05552750336495205}\n",
      "{'depth': 9, 'l2_leaf_reg': 7.288919182966943, 'learning_rate': 0.09110609459697888}\n",
      "{'depth': 9, 'l2_leaf_reg': 14.718879375371365, 'learning_rate': 0.06259346406162969}\n",
      "{'depth': 3, 'l2_leaf_reg': 3.975380008987342, 'learning_rate': 0.07460609553921602}\n",
      "{'depth': 6, 'l2_leaf_reg': 13.16342167142233, 'learning_rate': 0.06965109338291613}\n",
      "{'depth': 9, 'l2_leaf_reg': 1.09962044159267, 'learning_rate': 0.0775093719613745}\n",
      "{'depth': 4, 'l2_leaf_reg': 20.11498620516046, 'learning_rate': 0.08464372929253712}\n",
      "{'depth': 9, 'l2_leaf_reg': 6.253551007597524, 'learning_rate': 0.06635587162187659}\n",
      "{'depth': 8, 'l2_leaf_reg': 9.554727927859945, 'learning_rate': 0.07172004468030613}\n",
      "{'depth': 9, 'l2_leaf_reg': 2.883449818834081, 'learning_rate': 0.09068320576356761}\n",
      "{'depth': 9, 'l2_leaf_reg': 63.76999986319563, 'learning_rate': 0.07616280630058321}\n",
      "{'depth': 7, 'l2_leaf_reg': 29.337301283004667, 'learning_rate': 0.08782075091060326}\n",
      "{'depth': 9, 'l2_leaf_reg': 1.0172821419718203, 'learning_rate': 0.0823614067226483}\n",
      "{'depth': 5, 'l2_leaf_reg': 5.032577460438296, 'learning_rate': 0.07911931901854326}\n",
      "{'depth': 9, 'l2_leaf_reg': 17.765039474444627, 'learning_rate': 0.07360921356020404}\n",
      "{'depth': 8, 'l2_leaf_reg': 22.795621552052285, 'learning_rate': 0.085848891156862}\n",
      "{'depth': 9, 'l2_leaf_reg': 10.96519125750474, 'learning_rate': 0.09148122636842503}\n",
      "{'depth': 3, 'l2_leaf_reg': 67.69406183748447, 'learning_rate': 0.0837263601898136}\n",
      "{'depth': 9, 'l2_leaf_reg': 7.320325678958472, 'learning_rate': 0.08926641420164441}\n",
      "{'depth': 6, 'l2_leaf_reg': 3.1899501993668022, 'learning_rate': 0.06385322690239865}\n",
      "{'depth': 9, 'l2_leaf_reg': 12.492340475534018, 'learning_rate': 0.08099874113338137}\n",
      "{'depth': 4, 'l2_leaf_reg': 25.076673548676972, 'learning_rate': 0.08738722737148821}\n",
      "{'depth': 9, 'l2_leaf_reg': 8.861900650876514, 'learning_rate': 0.07810239410314941}\n",
      "{'depth': 8, 'l2_leaf_reg': 5.443561803101721, 'learning_rate': 0.07041117662966907}\n",
      "{'depth': 9, 'l2_leaf_reg': 15.559962284597756, 'learning_rate': 0.07577212494685191}\n",
      "{'depth': 9, 'l2_leaf_reg': 4.3661048694674065, 'learning_rate': 0.07255888525616622}\n",
      "{'depth': 9, 'l2_leaf_reg': 7.305118545995976, 'learning_rate': 0.07997867358990222}\n",
      "{'depth': 7, 'l2_leaf_reg': 1.142060169472709, 'learning_rate': 0.09223558162692719}\n",
      "{'depth': 5, 'l2_leaf_reg': 2.94531947588783, 'learning_rate': 0.06789054008297332}\n",
      "{'depth': 9, 'l2_leaf_reg': 1.0608296363217378, 'learning_rate': 0.08469987508581009}\n",
      "{'depth': 8, 'l2_leaf_reg': 1.1567730492473332, 'learning_rate': 0.08304036856398543}\n",
      "{'depth': 9, 'l2_leaf_reg': 5.644480350274052, 'learning_rate': 0.08517948650454427}\n",
      "{'depth': 9, 'l2_leaf_reg': 10.942085283451192, 'learning_rate': 0.07867381957698515}\n",
      "{'depth': 3, 'l2_leaf_reg': 1.082594254976831, 'learning_rate': 0.08185092407742564}\n",
      "{'depth': 9, 'l2_leaf_reg': 9.035433277503907, 'learning_rate': 0.08442516856954743}\n",
      "{'depth': 6, 'l2_leaf_reg': 46.93373939329125, 'learning_rate': 0.07703494456341319}\n",
      "{'depth': 9, 'l2_leaf_reg': 60.70690728277235, 'learning_rate': 0.07459855270937571}\n",
      "{'depth': 4, 'l2_leaf_reg': 2.755303151608758, 'learning_rate': 0.08011772003536553}\n",
      "{'depth': 8, 'l2_leaf_reg': 13.08002431805211, 'learning_rate': 0.0821010719635725}\n",
      "{'depth': 9, 'l2_leaf_reg': 7.123940074045566, 'learning_rate': 0.07671657185261041}\n",
      "{'depth': 9, 'l2_leaf_reg': 4.512025522813847, 'learning_rate': 0.08652004797279109}\n",
      "{'depth': 9, 'l2_leaf_reg': 14.909442589494976, 'learning_rate': 0.08401076753783045}\n",
      "{'depth': 9, 'l2_leaf_reg': 1.1375133972041347, 'learning_rate': 0.07858693246877906}\n",
      "{'depth': 7, 'l2_leaf_reg': 8.581619346564345, 'learning_rate': 0.0883136331002117}\n",
      "{'depth': 5, 'l2_leaf_reg': 35.45279834647786, 'learning_rate': 0.07302579851625574}\n",
      "{'depth': 8, 'l2_leaf_reg': 2.9248502738332736, 'learning_rate': 0.08206114190170423}\n",
      "{'depth': 9, 'l2_leaf_reg': 5.19980334507314, 'learning_rate': 0.08619315894245651}\n",
      "{'depth': 9, 'l2_leaf_reg': 85.57651194385446, 'learning_rate': 0.07525847843530317}\n",
      "{'depth': 3, 'l2_leaf_reg': 11.780500229071096, 'learning_rate': 0.07088943101737127}\n",
      "{'depth': 9, 'l2_leaf_reg': 17.060224068318636, 'learning_rate': 0.07993220094855773}\n",
      "{'depth': 6, 'l2_leaf_reg': 6.938891132253193, 'learning_rate': 0.08958824063696548}\n",
      "{'depth': 9, 'l2_leaf_reg': 10.344224940163308, 'learning_rate': 0.08429238240259264}\n",
      "{'depth': 4, 'l2_leaf_reg': 2.7876493619491454, 'learning_rate': 0.07727557044998182}\n",
      "{'depth': 8, 'l2_leaf_reg': 20.64371533397167, 'learning_rate': 0.08748148108245785}\n",
      "{'depth': 9, 'l2_leaf_reg': 5.890041112765541, 'learning_rate': 0.08060573025997218}\n",
      "{'depth': 9, 'l2_leaf_reg': 42.952897608092535, 'learning_rate': 0.06945617649664987}\n",
      "{'depth': 9, 'l2_leaf_reg': 8.779405733420653, 'learning_rate': 0.08302340168266142}\n",
      "{'depth': 7, 'l2_leaf_reg': 4.323288265954749, 'learning_rate': 0.07404711392436537}\n",
      "{'depth': 9, 'l2_leaf_reg': 13.734015976846191, 'learning_rate': 0.0859129901420795}\n",
      "{'depth': 5, 'l2_leaf_reg': 11.134544501053433, 'learning_rate': 0.0664698547735596}\n",
      "{'depth': 8, 'l2_leaf_reg': 2.247712106753089, 'learning_rate': 0.07233616931756531}\n",
      "{'depth': 9, 'l2_leaf_reg': 1.087733553333802, 'learning_rate': 0.061665167810277956}\n",
      "{'depth': 9, 'l2_leaf_reg': 6.834348408594828, 'learning_rate': 0.0789347513601404}\n",
      "{'depth': 3, 'l2_leaf_reg': 1.0157160792235145, 'learning_rate': 0.05778581659576149}\n",
      "{'depth': 9, 'l2_leaf_reg': 15.727584316828274, 'learning_rate': 0.09013436901930333}\n",
      "{'depth': 6, 'l2_leaf_reg': 4.248619771997321, 'learning_rate': 0.081406938648812}\n",
      "{'depth': 9, 'l2_leaf_reg': 8.37236106873391, 'learning_rate': 0.0752592995165379}\n",
      "{'depth': 4, 'l2_leaf_reg': 1.058950453590887, 'learning_rate': 0.08493786382404273}\n",
      "{'depth': 9, 'l2_leaf_reg': 87.97572898453967, 'learning_rate': 0.08790820006013172}\n",
      "{'depth': 8, 'l2_leaf_reg': 17.621027900237145, 'learning_rate': 0.07743483884060659}\n",
      "100%|██████████| 1000/1000 [9:46:28<00:00, 35.19s/trial, best loss: -0.9920249557222075]\n"
     ]
    }
   ],
   "source": [
    "#!g1.1\n",
    "import numpy as np\n",
    "from hyperopt import hp, fmin, tpe\n",
    "from catboost.utils import eval_metric\n",
    "\n",
    "val_pool = cb.Pool(X_test, y_test)\n",
    "train_pool = cb.Pool(X_train, y_train)\n",
    "\n",
    "def hyperopt_objective(params):\n",
    "    model = cb.CatBoostClassifier(\n",
    "        loss_function='MultiClass',\n",
    "        n_estimators=150,\n",
    "        bootstrap_type='Bernoulli',\n",
    "        subsample=0.5,\n",
    "        task_type=\"GPU\",\n",
    "        devices='0',\n",
    "        **params)\n",
    "    model.fit(train_pool, verbose=0, eval_set=val_pool)\n",
    "    y_pred = model.predict_proba(val_pool)\n",
    "    return -eval_metric(val_pool.get_label(), y_pred, 'AUC')[0]\n",
    "\n",
    "space = {\n",
    "    'learning_rate': hp.uniform('learning_rate', 0.01, 0.1),\n",
    "    'depth': hp.randint('depth', 3, 10),\n",
    "    'l2_leaf_reg': hp.uniform('l2_leaf_reg', 1, 100),\n",
    "}\n",
    "\n",
    "best = fmin(\n",
    "    hyperopt_objective,\n",
    "    space=space,\n",
    "    algo=tpe.suggest,\n",
    "    max_evals=1000,\n",
    "    trials_save_file='hog_cb_trials.bin',\n",
    ")\n"
   ]
  },
  {
   "cell_type": "code",
   "execution_count": 60,
   "metadata": {
    "cellId": "hej7441jn75ghva9aqbml8",
    "editable": true,
    "execution_id": "1ae8aaa8-abe0-4175-9bab-241d91d2ac08",
    "slideshow": {
     "slide_type": ""
    },
    "tags": []
   },
   "outputs": [
    {
     "data": {
      "text/plain": [
       "{'depth': 9,\n",
       " 'l2_leaf_reg': 1.0373073118412859,\n",
       " 'learning_rate': 0.08469523739540981}"
      ]
     },
     "execution_count": 60,
     "metadata": {},
     "output_type": "execute_result"
    }
   ],
   "source": [
    "best"
   ]
  },
  {
   "cell_type": "code",
   "execution_count": 6,
   "metadata": {
    "execution": {
     "iopub.execute_input": "2024-01-08T06:39:17.763313Z",
     "iopub.status.busy": "2024-01-08T06:39:17.762945Z",
     "iopub.status.idle": "2024-01-08T06:39:17.774255Z",
     "shell.execute_reply": "2024-01-08T06:39:17.773669Z",
     "shell.execute_reply.started": "2024-01-08T06:39:17.763293Z"
    }
   },
   "outputs": [],
   "source": [
    "best = {'depth': 9,\n",
    " 'l2_leaf_reg': 1.0373073118412859,\n",
    " 'learning_rate': 0.07}"
   ]
  },
  {
   "cell_type": "code",
   "execution_count": null,
   "metadata": {
    "cellId": "4vygmwq7f1hen9jyv8xdm",
    "editable": true,
    "execution": {
     "iopub.execute_input": "2024-01-08T06:39:43.050431Z",
     "iopub.status.busy": "2024-01-08T06:39:43.049902Z"
    },
    "slideshow": {
     "slide_type": ""
    },
    "tags": []
   },
   "outputs": [
    {
     "data": {
      "application/vnd.jupyter.widget-view+json": {
       "model_id": "7457ebbc4a294e0fa2b61dde3b28336e",
       "version_major": 2,
       "version_minor": 0
      },
      "text/plain": [
       "MetricVisualizer(layout=Layout(align_self='stretch', height='500px'))"
      ]
     },
     "metadata": {},
     "output_type": "display_data"
    }
   ],
   "source": [
    "#!g1.1\n",
    "val_pool = cb.Pool(X_test, y_test)\n",
    "train_pool = cb.Pool(X_train, y_train)\n",
    "model = cb.CatBoostClassifier(\n",
    "    loss_function='MultiClass',\n",
    "    n_estimators=1500,\n",
    "    bootstrap_type='Bernoulli',\n",
    "    task_type=\"GPU\",\n",
    "    devices='0',\n",
    "    **best,\n",
    ")\n",
    "model.fit(train_pool, verbose=0, eval_set=val_pool, plot=True)"
   ]
  },
  {
   "cell_type": "code",
   "execution_count": 9,
   "metadata": {
    "cellId": "e5e0fasf3z8m52ltf5bp8m",
    "execution": {
     "iopub.execute_input": "2024-01-08T06:46:50.684975Z",
     "iopub.status.busy": "2024-01-08T06:46:50.684617Z",
     "iopub.status.idle": "2024-01-08T06:46:50.955437Z",
     "shell.execute_reply": "2024-01-08T06:46:50.954663Z",
     "shell.execute_reply.started": "2024-01-08T06:46:50.684955Z"
    }
   },
   "outputs": [
    {
     "name": "stdout",
     "output_type": "stream",
     "text": [
      "roc_auc: 0.989593025030785\n",
      "f1: 0.8935586817109332\n",
      "accuracy: 0.891260162601626\n"
     ]
    }
   ],
   "source": [
    "from sklearn.metrics import roc_auc_score, f1_score, accuracy_score\n",
    "\n",
    "y_pred_proba = model.predict_proba(X_test)\n",
    "y_pred = model.predict(X_test)\n",
    "print('roc_auc:', roc_auc_score(y_test, y_pred_proba, multi_class='ovo'))\n",
    "print('f1:', f1_score(y_test, y_pred, average='macro'))\n",
    "print('accuracy:', accuracy_score(y_test, y_pred))"
   ]
  },
  {
   "cell_type": "markdown",
   "metadata": {
    "cellId": "pvt23m83ywq36ythoozp6a"
   },
   "source": [
    "После подбора параметров удалось немного увеличить качество предсказаний. Сохраним эту модель в S3, чтобы в будущем можно было использовать в сервисе"
   ]
  },
  {
   "cell_type": "code",
   "execution_count": 10,
   "metadata": {
    "cellId": "p69aq5rzg4q46hb5dydgr",
    "execution": {
     "iopub.execute_input": "2024-01-08T06:47:37.357114Z",
     "iopub.status.busy": "2024-01-08T06:47:37.356768Z",
     "iopub.status.idle": "2024-01-08T06:47:38.534534Z",
     "shell.execute_reply": "2024-01-08T06:47:38.533849Z",
     "shell.execute_reply.started": "2024-01-08T06:47:37.357094Z"
    }
   },
   "outputs": [],
   "source": [
    "model.save_model('hog_cat_boost_v3.cbm', format=\"cbm\")\n",
    "s3_client.upload_file('hog_cat_boost_v3.cbm', BUCKET_NAME, 'models/hog_cat_boost_v3.cbm')"
   ]
  },
  {
   "cell_type": "markdown",
   "metadata": {
    "cellId": "6a7hhfp3l4rleooccmap2e"
   },
   "source": [
    "Проверим скорость предсказания на одной модели"
   ]
  },
  {
   "cell_type": "code",
   "execution_count": 11,
   "metadata": {
    "cellId": "84ba6y9nehrv5zl50s3maa",
    "execution": {
     "iopub.execute_input": "2024-01-08T06:47:42.200189Z",
     "iopub.status.busy": "2024-01-08T06:47:42.199923Z",
     "iopub.status.idle": "2024-01-08T06:47:42.658987Z",
     "shell.execute_reply": "2024-01-08T06:47:42.658274Z",
     "shell.execute_reply.started": "2024-01-08T06:47:42.200170Z"
    }
   },
   "outputs": [],
   "source": [
    "from skimage.feature import hog\n",
    "from PIL import Image\n",
    "import io\n",
    "\n",
    "def hog_picture(image: io.IOBase):\n",
    "    image = Image.open(image).convert('L').resize((128, 128))\n",
    "    array = np.asarray(image)\n",
    "    vector = hog(\n",
    "        array,\n",
    "        orientations=9,\n",
    "        pixels_per_cell=(8, 8),\n",
    "        cells_per_block=(2, 2),\n",
    "        feature_vector=True,\n",
    "    )\n",
    "    return vector\n",
    "\n",
    "def predict(image: io.IOBase):\n",
    "    vector = hog_picture(image)\n",
    "    severity = model.predict(vector)\n",
    "    return severity"
   ]
  },
  {
   "cell_type": "markdown",
   "metadata": {
    "cellId": "u5ibyiz3xksqt4patkqtng"
   },
   "source": [
    "Для этого используем спорные изображения, который получили разную оценку у экспертов и не использовались при обучении"
   ]
  },
  {
   "cell_type": "code",
   "execution_count": 12,
   "metadata": {
    "cellId": "tz7hggj3layof367earyg",
    "execution": {
     "iopub.execute_input": "2024-01-08T06:47:44.110912Z",
     "iopub.status.busy": "2024-01-08T06:47:44.110650Z",
     "iopub.status.idle": "2024-01-08T06:47:44.154205Z",
     "shell.execute_reply": "2024-01-08T06:47:44.153589Z",
     "shell.execute_reply.started": "2024-01-08T06:47:44.110889Z"
    }
   },
   "outputs": [
    {
     "data": {
      "text/plain": [
       "0"
      ]
     },
     "execution_count": 12,
     "metadata": {},
     "output_type": "execute_result"
    }
   ],
   "source": [
    "buffer = io.BytesIO()\n",
    "s3_client.download_fileobj(BUCKET_NAME, f'{DATASET_DIR}MedicalExpert-II/2Mild/MildG2 (110).png', buffer)\n",
    "buffer.seek(0)"
   ]
  },
  {
   "cell_type": "code",
   "execution_count": 13,
   "metadata": {
    "cellId": "p8fi6wwob4mlyva7eqqz8",
    "execution": {
     "iopub.execute_input": "2024-01-08T06:47:46.229570Z",
     "iopub.status.busy": "2024-01-08T06:47:46.229241Z",
     "iopub.status.idle": "2024-01-08T06:47:56.627826Z",
     "shell.execute_reply": "2024-01-08T06:47:56.626917Z",
     "shell.execute_reply.started": "2024-01-08T06:47:46.229553Z"
    }
   },
   "outputs": [
    {
     "name": "stdout",
     "output_type": "stream",
     "text": [
      "12.8 ms ± 61.9 µs per loop (mean ± std. dev. of 7 runs, 100 loops each)\n"
     ]
    }
   ],
   "source": [
    "%%timeit\n",
    "predict(buffer)"
   ]
  },
  {
   "cell_type": "markdown",
   "metadata": {
    "cellId": "8nb79lif12us2d0cr4ib3j"
   },
   "source": [
    "Модель предсказывает достаточно быстро для встраивания в API\n"
   ]
  }
 ],
 "metadata": {
  "kernelspec": {
   "display_name": "DataSphere Kernel",
   "language": "python",
   "name": "python3"
  },
  "language_info": {
   "codemirror_mode": {
    "name": "ipython",
    "version": 3
   },
   "file_extension": ".py",
   "mimetype": "text/x-python",
   "name": "python",
   "nbconvert_exporter": "python",
   "pygments_lexer": "ipython3",
   "version": "3.7.7"
  },
  "notebookId": "74b5f5ac-17ff-492b-8e62-7adfd02330b7",
  "notebookPath": "hse-knee-xray-research/models/ML/hog.ipynb",
  "widgets": {
   "application/vnd.jupyter.widget-state+json": {
    "state": {
     "1c07e33c3b754d8da5e01a5ae447cd4c": {
      "model_module": "@jupyter-widgets/base",
      "model_module_version": "1.2.0",
      "model_name": "LayoutModel",
      "state": {
       "align_self": "stretch",
       "height": "500px"
      }
     },
     "7457ebbc4a294e0fa2b61dde3b28336e": {
      "model_module": "catboost-widget",
      "model_module_version": "^1.0.0",
      "model_name": "CatboostWidgetModel",
      "state": {
       "_model_module_version": "^1.0.0",
       "_view_module_version": "^1.0.0",
       "data": {
        "catboost_info": {
         "content": {
          "data": {
           "iterations": [
            {
             "iteration": 0,
             "learn": [
              1.533217812
             ],
             "passed_time": 0.3511687263,
             "remaining_time": 526.4019207,
             "test": [
              1.557606767
             ]
            },
            {
             "iteration": 1,
             "learn": [
              1.460472739
             ],
             "passed_time": 0.6790924585,
             "remaining_time": 508.6402514,
             "test": [
              1.507004156
             ]
            },
            {
             "iteration": 2,
             "learn": [
              1.400144994
             ],
             "passed_time": 0.9968567607,
             "remaining_time": 497.4315236,
             "test": [
              1.467136042
             ]
            },
            {
             "iteration": 3,
             "learn": [
              1.340970692
             ],
             "passed_time": 1.313696955,
             "remaining_time": 491.3226611,
             "test": [
              1.423895239
             ]
            },
            {
             "iteration": 4,
             "learn": [
              1.282917904
             ],
             "passed_time": 1.649507541,
             "remaining_time": 493.2027549,
             "test": [
              1.384195715
             ]
            },
            {
             "iteration": 5,
             "learn": [
              1.233626827
             ],
             "passed_time": 1.972105074,
             "remaining_time": 491.0541635,
             "test": [
              1.352007114
             ]
            },
            {
             "iteration": 6,
             "learn": [
              1.191944126
             ],
             "passed_time": 2.296855813,
             "remaining_time": 489.8865326,
             "test": [
              1.320722254
             ]
            },
            {
             "iteration": 7,
             "learn": [
              1.150237798
             ],
             "passed_time": 2.618723427,
             "remaining_time": 488.3919191,
             "test": [
              1.292655635
             ]
            },
            {
             "iteration": 8,
             "learn": [
              1.106142638
             ],
             "passed_time": 2.943819734,
             "remaining_time": 487.6928027,
             "test": [
              1.263660958
             ]
            },
            {
             "iteration": 9,
             "learn": [
              1.068121088
             ],
             "passed_time": 3.269402621,
             "remaining_time": 487.1409906,
             "test": [
              1.237499454
             ]
            },
            {
             "iteration": 10,
             "learn": [
              1.030369966
             ],
             "passed_time": 3.583632961,
             "remaining_time": 485.0935889,
             "test": [
              1.211734927
             ]
            },
            {
             "iteration": 11,
             "learn": [
              0.9953882538
             ],
             "passed_time": 3.902022872,
             "remaining_time": 483.8508361,
             "test": [
              1.186794746
             ]
            },
            {
             "iteration": 12,
             "learn": [
              0.9668351883
             ],
             "passed_time": 4.217250329,
             "remaining_time": 482.3885568,
             "test": [
              1.166373648
             ]
            },
            {
             "iteration": 13,
             "learn": [
              0.9322404404
             ],
             "passed_time": 4.538382054,
             "remaining_time": 481.7168381,
             "test": [
              1.141711475
             ]
            },
            {
             "iteration": 14,
             "learn": [
              0.899967157
             ],
             "passed_time": 4.878943852,
             "remaining_time": 483.0154413,
             "test": [
              1.120761282
             ]
            },
            {
             "iteration": 15,
             "learn": [
              0.8687355155
             ],
             "passed_time": 5.215743046,
             "remaining_time": 483.7601675,
             "test": [
              1.09751706
             ]
            },
            {
             "iteration": 16,
             "learn": [
              0.8434843614
             ],
             "passed_time": 5.540617214,
             "remaining_time": 483.3373723,
             "test": [
              1.078333413
             ]
            },
            {
             "iteration": 17,
             "learn": [
              0.8198645541
             ],
             "passed_time": 5.858827276,
             "remaining_time": 482.376779,
             "test": [
              1.060609399
             ]
            },
            {
             "iteration": 18,
             "learn": [
              0.7942287242
             ],
             "passed_time": 6.177117167,
             "remaining_time": 481.4900276,
             "test": [
              1.042494611
             ]
            },
            {
             "iteration": 19,
             "learn": [
              0.7704883366
             ],
             "passed_time": 6.503505762,
             "remaining_time": 481.2594264,
             "test": [
              1.026525978
             ]
            },
            {
             "iteration": 20,
             "learn": [
              0.7470866488
             ],
             "passed_time": 6.825584676,
             "remaining_time": 480.7161779,
             "test": [
              1.007520474
             ]
            },
            {
             "iteration": 21,
             "learn": [
              0.7228805422
             ],
             "passed_time": 7.160958653,
             "remaining_time": 481.0862223,
             "test": [
              0.9906084634
             ]
            },
            {
             "iteration": 22,
             "learn": [
              0.7034750342
             ],
             "passed_time": 7.484145395,
             "remaining_time": 480.6122934,
             "test": [
              0.9775695801
             ]
            },
            {
             "iteration": 23,
             "learn": [
              0.6832948533
             ],
             "passed_time": 7.807757216,
             "remaining_time": 480.1770688,
             "test": [
              0.9626541138
             ]
            },
            {
             "iteration": 24,
             "learn": [
              0.6664687325
             ],
             "passed_time": 8.118398302,
             "remaining_time": 478.9854998,
             "test": [
              0.9475505178
             ]
            },
            {
             "iteration": 25,
             "learn": [
              0.6531506699
             ],
             "passed_time": 8.409098328,
             "remaining_time": 476.7311898,
             "test": [
              0.9351864947
             ]
            },
            {
             "iteration": 26,
             "learn": [
              0.6337902332
             ],
             "passed_time": 8.730911062,
             "remaining_time": 476.3197035,
             "test": [
              0.9202932963
             ]
            },
            {
             "iteration": 27,
             "learn": [
              0.6178315885
             ],
             "passed_time": 9.034922471,
             "remaining_time": 474.9787814,
             "test": [
              0.9072442404
             ]
            },
            {
             "iteration": 28,
             "learn": [
              0.6005954626
             ],
             "passed_time": 9.370282109,
             "remaining_time": 475.2994821,
             "test": [
              0.8936571571
             ]
            },
            {
             "iteration": 29,
             "learn": [
              0.5836496661
             ],
             "passed_time": 9.693358001,
             "remaining_time": 474.974542,
             "test": [
              0.8787769225
             ]
            },
            {
             "iteration": 30,
             "learn": [
              0.5706826487
             ],
             "passed_time": 9.984318236,
             "remaining_time": 473.1278545,
             "test": [
              0.8692175392
             ]
            },
            {
             "iteration": 31,
             "learn": [
              0.5568643851
             ],
             "passed_time": 10.3017229,
             "remaining_time": 472.591538,
             "test": [
              0.8576930597
             ]
            },
            {
             "iteration": 32,
             "learn": [
              0.5442778929
             ],
             "passed_time": 10.61612954,
             "remaining_time": 471.9352131,
             "test": [
              0.8471211999
             ]
            },
            {
             "iteration": 33,
             "learn": [
              0.5326504562
             ],
             "passed_time": 10.90716921,
             "remaining_time": 470.2914725,
             "test": [
              0.8368063826
             ]
            },
            {
             "iteration": 34,
             "learn": [
              0.5201535212
             ],
             "passed_time": 11.20945359,
             "remaining_time": 469.1957001,
             "test": [
              0.8257172747
             ]
            },
            {
             "iteration": 35,
             "learn": [
              0.5097124653
             ],
             "passed_time": 11.50462622,
             "remaining_time": 467.8547997,
             "test": [
              0.8166828931
             ]
            },
            {
             "iteration": 36,
             "learn": [
              0.4969723476
             ],
             "passed_time": 11.82835336,
             "remaining_time": 467.6994857,
             "test": [
              0.8058431982
             ]
            },
            {
             "iteration": 37,
             "learn": [
              0.4868399795
             ],
             "passed_time": 12.11724528,
             "remaining_time": 466.1950685,
             "test": [
              0.7976961213
             ]
            },
            {
             "iteration": 38,
             "learn": [
              0.4734702472
             ],
             "passed_time": 12.46013358,
             "remaining_time": 466.7757735,
             "test": [
              0.7866517354
             ]
            },
            {
             "iteration": 39,
             "learn": [
              0.4629974764
             ],
             "passed_time": 12.77502833,
             "remaining_time": 466.2885342,
             "test": [
              0.7781408046
             ]
            },
            {
             "iteration": 40,
             "learn": [
              0.4539424028
             ],
             "passed_time": 13.07066169,
             "remaining_time": 465.1242781,
             "test": [
              0.7700366509
             ]
            },
            {
             "iteration": 41,
             "learn": [
              0.4443759802
             ],
             "passed_time": 13.39316696,
             "remaining_time": 464.9342245,
             "test": [
              0.7621811037
             ]
            },
            {
             "iteration": 42,
             "learn": [
              0.4345499054
             ],
             "passed_time": 13.70516241,
             "remaining_time": 464.3818982,
             "test": [
              0.753232072
             ]
            },
            {
             "iteration": 43,
             "learn": [
              0.4251584998
             ],
             "passed_time": 14.01770666,
             "remaining_time": 463.8586567,
             "test": [
              0.745286895
             ]
            },
            {
             "iteration": 44,
             "learn": [
              0.4148774284
             ],
             "passed_time": 14.34539924,
             "remaining_time": 463.8345754,
             "test": [
              0.7365279779
             ]
            },
            {
             "iteration": 45,
             "learn": [
              0.4069353817
             ],
             "passed_time": 14.63423676,
             "remaining_time": 462.5691358,
             "test": [
              0.7307836641
             ]
            },
            {
             "iteration": 46,
             "learn": [
              0.3984617917
             ],
             "passed_time": 14.94159575,
             "remaining_time": 461.9178432,
             "test": [
              0.7224370445
             ]
            },
            {
             "iteration": 47,
             "learn": [
              0.3891503917
             ],
             "passed_time": 15.25268617,
             "remaining_time": 461.3937566,
             "test": [
              0.7139097384
             ]
            },
            {
             "iteration": 48,
             "learn": [
              0.3819892172
             ],
             "passed_time": 15.54299943,
             "remaining_time": 460.2631057,
             "test": [
              0.7082345854
             ]
            },
            {
             "iteration": 49,
             "learn": [
              0.3759039802
             ],
             "passed_time": 15.85117601,
             "remaining_time": 459.6841042,
             "test": [
              0.7032365876
             ]
            },
            {
             "iteration": 50,
             "learn": [
              0.3702073301
             ],
             "passed_time": 16.13294984,
             "remaining_time": 458.3655748,
             "test": [
              0.6973818647
             ]
            },
            {
             "iteration": 51,
             "learn": [
              0.3637301005
             ],
             "passed_time": 16.40898113,
             "remaining_time": 456.9270131,
             "test": [
              0.6906244542
             ]
            },
            {
             "iteration": 52,
             "learn": [
              0.3580804374
             ],
             "passed_time": 16.70802588,
             "remaining_time": 456.1606312,
             "test": [
              0.6851219239
             ]
            },
            {
             "iteration": 53,
             "learn": [
              0.3517182274
             ],
             "passed_time": 17.00676546,
             "remaining_time": 455.4033863,
             "test": [
              0.6788616646
             ]
            },
            {
             "iteration": 54,
             "learn": [
              0.3454552329
             ],
             "passed_time": 17.30793559,
             "remaining_time": 454.7266714,
             "test": [
              0.6729333149
             ]
            },
            {
             "iteration": 55,
             "learn": [
              0.3395761691
             ],
             "passed_time": 17.59762088,
             "remaining_time": 453.767224,
             "test": [
              0.6665777191
             ]
            },
            {
             "iteration": 56,
             "learn": [
              0.3333283668
             ],
             "passed_time": 17.88448712,
             "remaining_time": 452.7599108,
             "test": [
              0.6602987894
             ]
            },
            {
             "iteration": 57,
             "learn": [
              0.3259687615
             ],
             "passed_time": 18.21256752,
             "remaining_time": 452.8021097,
             "test": [
              0.6536431041
             ]
            },
            {
             "iteration": 58,
             "learn": [
              0.3197628643
             ],
             "passed_time": 18.5153913,
             "remaining_time": 452.2148961,
             "test": [
              0.6474067254
             ]
            },
            {
             "iteration": 59,
             "learn": [
              0.3145664684
             ],
             "passed_time": 18.82126217,
             "remaining_time": 451.710292,
             "test": [
              0.6423359693
             ]
            },
            {
             "iteration": 60,
             "learn": [
              0.3091515006
             ],
             "passed_time": 19.1178275,
             "remaining_time": 450.9926849,
             "test": [
              0.6367913223
             ]
            },
            {
             "iteration": 61,
             "learn": [
              0.3048842812
             ],
             "passed_time": 19.39064107,
             "remaining_time": 449.737772,
             "test": [
              0.6321052613
             ]
            },
            {
             "iteration": 62,
             "learn": [
              0.3003419246
             ],
             "passed_time": 19.66862022,
             "remaining_time": 448.6318613,
             "test": [
              0.626964352
             ]
            },
            {
             "iteration": 63,
             "learn": [
              0.2945055109
             ],
             "passed_time": 19.9825013,
             "remaining_time": 448.357373,
             "test": [
              0.62170956
             ]
            },
            {
             "iteration": 64,
             "learn": [
              0.2893465503
             ],
             "passed_time": 20.27157508,
             "remaining_time": 447.5340038,
             "test": [
              0.6166229248
             ]
            },
            {
             "iteration": 65,
             "learn": [
              0.2850159543
             ],
             "passed_time": 20.55508043,
             "remaining_time": 446.6058385,
             "test": [
              0.612654275
             ]
            },
            {
             "iteration": 66,
             "learn": [
              0.2802169787
             ],
             "passed_time": 20.85910829,
             "remaining_time": 446.1358535,
             "test": [
              0.6081729052
             ]
            },
            {
             "iteration": 67,
             "learn": [
              0.2774164122
             ],
             "passed_time": 21.12106705,
             "remaining_time": 444.7848237,
             "test": [
              0.6048668342
             ]
            },
            {
             "iteration": 68,
             "learn": [
              0.2753124553
             ],
             "passed_time": 21.37771788,
             "remaining_time": 443.3552795,
             "test": [
              0.6025421019
             ]
            },
            {
             "iteration": 69,
             "learn": [
              0.2721613491
             ],
             "passed_time": 21.64676926,
             "remaining_time": 442.212572,
             "test": [
              0.5990936155
             ]
            },
            {
             "iteration": 70,
             "learn": [
              0.2683856834
             ],
             "passed_time": 21.9411542,
             "remaining_time": 441.604357,
             "test": [
              0.5953437371
             ]
            },
            {
             "iteration": 71,
             "learn": [
              0.2654858218
             ],
             "passed_time": 22.21520784,
             "remaining_time": 440.6016222,
             "test": [
              0.5929820983
             ]
            },
            {
             "iteration": 72,
             "learn": [
              0.2619765929
             ],
             "passed_time": 22.50192814,
             "remaining_time": 439.8664582,
             "test": [
              0.5891991592
             ]
            },
            {
             "iteration": 73,
             "learn": [
              0.2579799343
             ],
             "passed_time": 22.79097884,
             "remaining_time": 439.1883219,
             "test": [
              0.5839929348
             ]
            },
            {
             "iteration": 74,
             "learn": [
              0.2544042426
             ],
             "passed_time": 23.10544581,
             "remaining_time": 439.0034703,
             "test": [
              0.5799439593
             ]
            },
            {
             "iteration": 75,
             "learn": [
              0.2503615282
             ],
             "passed_time": 23.42274001,
             "remaining_time": 438.8681812,
             "test": [
              0.5761376978
             ]
            },
            {
             "iteration": 76,
             "learn": [
              0.2481492033
             ],
             "passed_time": 23.68357071,
             "remaining_time": 437.6846899,
             "test": [
              0.5740871274
             ]
            },
            {
             "iteration": 77,
             "learn": [
              0.244017996
             ],
             "passed_time": 23.99815259,
             "remaining_time": 437.5047819,
             "test": [
              0.5701310072
             ]
            },
            {
             "iteration": 78,
             "learn": [
              0.2396030576
             ],
             "passed_time": 24.31800641,
             "remaining_time": 437.4162925,
             "test": [
              0.5657465245
             ]
            },
            {
             "iteration": 79,
             "learn": [
              0.2359905958
             ],
             "passed_time": 24.62614225,
             "remaining_time": 437.114025,
             "test": [
              0.561688679
             ]
            },
            {
             "iteration": 80,
             "learn": [
              0.2331809299
             ],
             "passed_time": 24.89967432,
             "remaining_time": 436.2054057,
             "test": [
              0.5577851582
             ]
            },
            {
             "iteration": 81,
             "learn": [
              0.2304753218
             ],
             "passed_time": 25.17881837,
             "remaining_time": 435.4093225,
             "test": [
              0.5546938268
             ]
            },
            {
             "iteration": 82,
             "learn": [
              0.2267505809
             ],
             "passed_time": 25.48135258,
             "remaining_time": 435.0250194,
             "test": [
              0.5504300497
             ]
            },
            {
             "iteration": 83,
             "learn": [
              0.2239352744
             ],
             "passed_time": 25.75664964,
             "remaining_time": 434.1835225,
             "test": [
              0.5473165124
             ]
            },
            {
             "iteration": 84,
             "learn": [
              0.2203715689
             ],
             "passed_time": 26.06870324,
             "remaining_time": 433.9672363,
             "test": [
              0.543773372
             ]
            },
            {
             "iteration": 85,
             "learn": [
              0.2178607332
             ],
             "passed_time": 26.32970816,
             "remaining_time": 432.9093876,
             "test": [
              0.5407510773
             ]
            },
            {
             "iteration": 86,
             "learn": [
              0.2150451607
             ],
             "passed_time": 26.61011041,
             "remaining_time": 432.1848967,
             "test": [
              0.5373501661
             ]
            },
            {
             "iteration": 87,
             "learn": [
              0.2132578603
             ],
             "passed_time": 26.86896641,
             "remaining_time": 431.1247792,
             "test": [
              0.5349216616
             ]
            },
            {
             "iteration": 88,
             "learn": [
              0.2113012764
             ],
             "passed_time": 27.14578724,
             "remaining_time": 430.3674809,
             "test": [
              0.5326821552
             ]
            },
            {
             "iteration": 89,
             "learn": [
              0.2083043146
             ],
             "passed_time": 27.4572307,
             "remaining_time": 430.1632809,
             "test": [
              0.529081081
             ]
            },
            {
             "iteration": 90,
             "learn": [
              0.2056101472
             ],
             "passed_time": 27.7563727,
             "remaining_time": 429.7662542,
             "test": [
              0.5258770454
             ]
            },
            {
             "iteration": 91,
             "learn": [
              0.203885332
             ],
             "passed_time": 28.01643389,
             "remaining_time": 428.7732492,
             "test": [
              0.5238569306
             ]
            },
            {
             "iteration": 92,
             "learn": [
              0.2014375535
             ],
             "passed_time": 28.28626137,
             "remaining_time": 427.9437607,
             "test": [
              0.5209459134
             ]
            },
            {
             "iteration": 93,
             "learn": [
              0.1997552155
             ],
             "passed_time": 28.54916237,
             "remaining_time": 427.0225776,
             "test": [
              0.5193305907
             ]
            },
            {
             "iteration": 94,
             "learn": [
              0.1976957047
             ],
             "passed_time": 28.83490354,
             "remaining_time": 426.453047,
             "test": [
              0.51747243
             ]
            },
            {
             "iteration": 95,
             "learn": [
              0.1952000346
             ],
             "passed_time": 29.12012574,
             "remaining_time": 425.881839,
             "test": [
              0.5149658327
             ]
            },
            {
             "iteration": 96,
             "learn": [
              0.1933193589
             ],
             "passed_time": 29.39077832,
             "remaining_time": 425.1057936,
             "test": [
              0.5133154024
             ]
            },
            {
             "iteration": 97,
             "learn": [
              0.1910209489
             ],
             "passed_time": 29.66427865,
             "remaining_time": 424.3808027,
             "test": [
              0.5112248242
             ]
            },
            {
             "iteration": 98,
             "learn": [
              0.1893083328
             ],
             "passed_time": 29.92377545,
             "remaining_time": 423.4667616,
             "test": [
              0.5090504778
             ]
            },
            {
             "iteration": 99,
             "learn": [
              0.1864003694
             ],
             "passed_time": 30.23943336,
             "remaining_time": 423.3520671,
             "test": [
              0.5061318002
             ]
            },
            {
             "iteration": 100,
             "learn": [
              0.1850074429
             ],
             "passed_time": 30.49766117,
             "remaining_time": 422.4379008,
             "test": [
              0.504236671
             ]
            },
            {
             "iteration": 101,
             "learn": [
              0.1825427693
             ],
             "passed_time": 30.80905738,
             "remaining_time": 422.2653158,
             "test": [
              0.501173128
             ]
            },
            {
             "iteration": 102,
             "learn": [
              0.1804213852
             ],
             "passed_time": 31.09279696,
             "remaining_time": 421.7149257,
             "test": [
              0.4990834802
             ]
            },
            {
             "iteration": 103,
             "learn": [
              0.1780267531
             ],
             "passed_time": 31.38260004,
             "remaining_time": 421.2510544,
             "test": [
              0.496253347
             ]
            },
            {
             "iteration": 104,
             "learn": [
              0.1758162375
             ],
             "passed_time": 31.67711101,
             "remaining_time": 420.8530463,
             "test": [
              0.4933191315
             ]
            },
            {
             "iteration": 105,
             "learn": [
              0.1744929665
             ],
             "passed_time": 31.93693818,
             "remaining_time": 420.0008662,
             "test": [
              0.4915488949
             ]
            },
            {
             "iteration": 106,
             "learn": [
              0.1727098433
             ],
             "passed_time": 32.20584981,
             "remaining_time": 419.278026,
             "test": [
              0.4894665664
             ]
            },
            {
             "iteration": 107,
             "learn": [
              0.1718362477
             ],
             "passed_time": 32.46372344,
             "remaining_time": 418.4213243,
             "test": [
              0.4881363535
             ]
            },
            {
             "iteration": 108,
             "learn": [
              0.1701390899
             ],
             "passed_time": 32.75057071,
             "remaining_time": 417.9453565,
             "test": [
              0.4864774254
             ]
            },
            {
             "iteration": 109,
             "learn": [
              0.1690136644
             ],
             "passed_time": 33.00652872,
             "remaining_time": 417.0824992,
             "test": [
              0.4849703719
             ]
            },
            {
             "iteration": 110,
             "learn": [
              0.1675144718
             ],
             "passed_time": 33.27209776,
             "remaining_time": 416.350845,
             "test": [
              0.4830706837
             ]
            },
            {
             "iteration": 111,
             "learn": [
              0.1653586058
             ],
             "passed_time": 33.54752268,
             "remaining_time": 415.749656,
             "test": [
              0.4798851944
             ]
            },
            {
             "iteration": 112,
             "learn": [
              0.1640901441
             ],
             "passed_time": 33.80734539,
             "remaining_time": 414.9627262,
             "test": [
              0.4783931825
             ]
            },
            {
             "iteration": 113,
             "learn": [
              0.1628730062
             ],
             "passed_time": 34.07038611,
             "remaining_time": 414.224168,
             "test": [
              0.476728858
             ]
            },
            {
             "iteration": 114,
             "learn": [
              0.160978269
             ],
             "passed_time": 34.35083023,
             "remaining_time": 413.7034771,
             "test": [
              0.4741469903
             ]
            },
            {
             "iteration": 115,
             "learn": [
              0.160205738
             ],
             "passed_time": 34.60753048,
             "remaining_time": 412.9036396,
             "test": [
              0.4733309242
             ]
            },
            {
             "iteration": 116,
             "learn": [
              0.1582013158
             ],
             "passed_time": 34.90924358,
             "remaining_time": 412.6451613,
             "test": [
              0.4707834507
             ]
            },
            {
             "iteration": 117,
             "learn": [
              0.1562416323
             ],
             "passed_time": 35.21182062,
             "remaining_time": 412.3960686,
             "test": [
              0.4685719498
             ]
            },
            {
             "iteration": 118,
             "learn": [
              0.1553313863
             ],
             "passed_time": 35.46939364,
             "remaining_time": 411.6238035,
             "test": [
              0.467208087
             ]
            },
            {
             "iteration": 119,
             "learn": [
              0.1536197546
             ],
             "passed_time": 35.75136777,
             "remaining_time": 411.1407294,
             "test": [
              0.4645573996
             ]
            },
            {
             "iteration": 120,
             "learn": [
              0.1519737609
             ],
             "passed_time": 36.03410922,
             "remaining_time": 410.6697241,
             "test": [
              0.4626217354
             ]
            },
            {
             "iteration": 121,
             "learn": [
              0.1506611326
             ],
             "passed_time": 36.30456497,
             "remaining_time": 410.0630371,
             "test": [
              0.4613932168
             ]
            },
            {
             "iteration": 122,
             "learn": [
              0.1491871894
             ],
             "passed_time": 36.58123403,
             "remaining_time": 409.5313761,
             "test": [
              0.4593943774
             ]
            },
            {
             "iteration": 123,
             "learn": [
              0.1486200733
             ],
             "passed_time": 36.83141714,
             "remaining_time": 408.7099192,
             "test": [
              0.4587067705
             ]
            },
            {
             "iteration": 124,
             "learn": [
              0.1471418466
             ],
             "passed_time": 37.10044741,
             "remaining_time": 408.1049215,
             "test": [
              0.4567584526
             ]
            },
            {
             "iteration": 125,
             "learn": [
              0.1455451413
             ],
             "passed_time": 37.38048103,
             "remaining_time": 407.6252456,
             "test": [
              0.4550567255
             ]
            },
            {
             "iteration": 126,
             "learn": [
              0.1436619646
             ],
             "passed_time": 37.68087992,
             "remaining_time": 407.3688829,
             "test": [
              0.4532107221
             ]
            },
            {
             "iteration": 127,
             "learn": [
              0.1421762481
             ],
             "passed_time": 37.95615563,
             "remaining_time": 406.8425431,
             "test": [
              0.451437012
             ]
            },
            {
             "iteration": 128,
             "learn": [
              0.1407374122
             ],
             "passed_time": 38.2450413,
             "remaining_time": 406.4647412,
             "test": [
              0.4499503965
             ]
            },
            {
             "iteration": 129,
             "learn": [
              0.1390313146
             ],
             "passed_time": 38.52132301,
             "remaining_time": 405.955481,
             "test": [
              0.4479754998
             ]
            },
            {
             "iteration": 130,
             "learn": [
              0.1373616146
             ],
             "passed_time": 38.81953156,
             "remaining_time": 405.6789214,
             "test": [
              0.4461142687
             ]
            },
            {
             "iteration": 131,
             "learn": [
              0.1359532696
             ],
             "passed_time": 39.09752024,
             "remaining_time": 405.1924825,
             "test": [
              0.4446074013
             ]
            },
            {
             "iteration": 132,
             "learn": [
              0.1351080232
             ],
             "passed_time": 39.35713234,
             "remaining_time": 404.5203001,
             "test": [
              0.4438162703
             ]
            },
            {
             "iteration": 133,
             "learn": [
              0.1337236639
             ],
             "passed_time": 39.63732433,
             "remaining_time": 404.0640674,
             "test": [
              0.4419390981
             ]
            },
            {
             "iteration": 134,
             "learn": [
              0.1331107315
             ],
             "passed_time": 39.89311771,
             "remaining_time": 403.3637457,
             "test": [
              0.4407956503
             ]
            },
            {
             "iteration": 135,
             "learn": [
              0.1322981711
             ],
             "passed_time": 40.14903685,
             "remaining_time": 402.6712225,
             "test": [
              0.4398309971
             ]
            },
            {
             "iteration": 136,
             "learn": [
              0.1313037955
             ],
             "passed_time": 40.42468726,
             "remaining_time": 402.1813776,
             "test": [
              0.4388909379
             ]
            },
            {
             "iteration": 137,
             "learn": [
              0.1298224691
             ],
             "passed_time": 40.73342542,
             "remaining_time": 402.0211987,
             "test": [
              0.437178573
             ]
            },
            {
             "iteration": 138,
             "learn": [
              0.1284935044
             ],
             "passed_time": 41.01240011,
             "remaining_time": 401.5674572,
             "test": [
              0.435883995
             ]
            },
            {
             "iteration": 139,
             "learn": [
              0.1276284096
             ],
             "passed_time": 41.27222713,
             "remaining_time": 400.9302064,
             "test": [
              0.4347822918
             ]
            },
            {
             "iteration": 140,
             "learn": [
              0.1263182024
             ],
             "passed_time": 41.56268792,
             "remaining_time": 400.5935666,
             "test": [
              0.4332212433
             ]
            },
            {
             "iteration": 141,
             "learn": [
              0.1253321015
             ],
             "passed_time": 41.83985593,
             "remaining_time": 400.1304531,
             "test": [
              0.4321860337
             ]
            },
            {
             "iteration": 142,
             "learn": [
              0.1247604357
             ],
             "passed_time": 42.09593153,
             "remaining_time": 399.4697838,
             "test": [
              0.4313344258
             ]
            },
            {
             "iteration": 143,
             "learn": [
              0.1240758256
             ],
             "passed_time": 42.34910933,
             "remaining_time": 398.7874462,
             "test": [
              0.4302184562
             ]
            },
            {
             "iteration": 144,
             "learn": [
              0.12325229
             ],
             "passed_time": 42.60698842,
             "remaining_time": 398.1549607,
             "test": [
              0.4292733727
             ]
            },
            {
             "iteration": 145,
             "learn": [
              0.1220975708
             ],
             "passed_time": 42.88324454,
             "remaining_time": 397.698035,
             "test": [
              0.4277603335
             ]
            },
            {
             "iteration": 146,
             "learn": [
              0.1215629544
             ],
             "passed_time": 43.13748231,
             "remaining_time": 397.0409086,
             "test": [
              0.4267720168
             ]
            },
            {
             "iteration": 147,
             "learn": [
              0.1205961299
             ],
             "passed_time": 43.41411149,
             "remaining_time": 396.5937752,
             "test": [
              0.4257997963
             ]
            },
            {
             "iteration": 148,
             "learn": [
              0.1193776883
             ],
             "passed_time": 43.69386291,
             "remaining_time": 396.1772402,
             "test": [
              0.4241743941
             ]
            },
            {
             "iteration": 149,
             "learn": [
              0.1186471289
             ],
             "passed_time": 43.94922081,
             "remaining_time": 395.5429873,
             "test": [
              0.4229263058
             ]
            },
            {
             "iteration": 150,
             "learn": [
              0.1175033849
             ],
             "passed_time": 44.23514612,
             "remaining_time": 395.1868352,
             "test": [
              0.4217607452
             ]
            },
            {
             "iteration": 151,
             "learn": [
              0.1166065086
             ],
             "passed_time": 44.50034911,
             "remaining_time": 394.6478329,
             "test": [
              0.4207281717
             ]
            },
            {
             "iteration": 152,
             "learn": [
              0.1158248383
             ],
             "passed_time": 44.76142614,
             "remaining_time": 394.0760851,
             "test": [
              0.419402766
             ]
            },
            {
             "iteration": 153,
             "learn": [
              0.1148083262
             ],
             "passed_time": 45.03156389,
             "remaining_time": 393.5875649,
             "test": [
              0.418148444
             ]
            },
            {
             "iteration": 154,
             "learn": [
              0.114257134
             ],
             "passed_time": 45.28926941,
             "remaining_time": 392.993983,
             "test": [
              0.417525873
             ]
            },
            {
             "iteration": 155,
             "learn": [
              0.1135117947
             ],
             "passed_time": 45.56221705,
             "remaining_time": 392.5360238,
             "test": [
              0.4167029838
             ]
            },
            {
             "iteration": 156,
             "learn": [
              0.1126543093
             ],
             "passed_time": 45.82522864,
             "remaining_time": 391.9954272,
             "test": [
              0.4156072973
             ]
            },
            {
             "iteration": 157,
             "learn": [
              0.1117965312
             ],
             "passed_time": 46.0904541,
             "remaining_time": 391.4771481,
             "test": [
              0.4139848725
             ]
            },
            {
             "iteration": 158,
             "learn": [
              0.1109887533
             ],
             "passed_time": 46.36008343,
             "remaining_time": 390.9991942,
             "test": [
              0.4128801299
             ]
            },
            {
             "iteration": 159,
             "learn": [
              0.1101360637
             ],
             "passed_time": 46.62986267,
             "remaining_time": 390.5250999,
             "test": [
              0.4111353556
             ]
            },
            {
             "iteration": 160,
             "learn": [
              0.109608538
             ],
             "passed_time": 46.88599316,
             "remaining_time": 389.94003,
             "test": [
              0.4101348195
             ]
            },
            {
             "iteration": 161,
             "learn": [
              0.1087023495
             ],
             "passed_time": 47.17237566,
             "remaining_time": 389.6088805,
             "test": [
              0.4091838433
             ]
            },
            {
             "iteration": 162,
             "learn": [
              0.1077189691
             ],
             "passed_time": 47.45475893,
             "remaining_time": 389.2454766,
             "test": [
              0.4082157786
             ]
            },
            {
             "iteration": 163,
             "learn": [
              0.107128406
             ],
             "passed_time": 47.70970202,
             "remaining_time": 388.6595238,
             "test": [
              0.4076611899
             ]
            },
            {
             "iteration": 164,
             "learn": [
              0.1060023487
             ],
             "passed_time": 48.01067367,
             "remaining_time": 388.4499961,
             "test": [
              0.4060023548
             ]
            },
            {
             "iteration": 165,
             "learn": [
              0.1052207248
             ],
             "passed_time": 48.28079421,
             "remaining_time": 387.9914426,
             "test": [
              0.4049230436
             ]
            },
            {
             "iteration": 166,
             "learn": [
              0.1041453261
             ],
             "passed_time": 48.57474354,
             "remaining_time": 387.7253481,
             "test": [
              0.4037276477
             ]
            },
            {
             "iteration": 167,
             "learn": [
              0.1033410203
             ],
             "passed_time": 48.85664991,
             "remaining_time": 387.3634386,
             "test": [
              0.4024226801
             ]
            },
            {
             "iteration": 168,
             "learn": [
              0.1024159346
             ],
             "passed_time": 49.12298731,
             "remaining_time": 386.8798586,
             "test": [
              0.401860555
             ]
            },
            {
             "iteration": 169,
             "learn": [
              0.1014986246
             ],
             "passed_time": 49.3937845,
             "remaining_time": 386.4337258,
             "test": [
              0.4005246977
             ]
            },
            {
             "iteration": 170,
             "learn": [
              0.1006585065
             ],
             "passed_time": 49.6744375,
             "remaining_time": 386.0662423,
             "test": [
              0.3996681896
             ]
            },
            {
             "iteration": 171,
             "learn": [
              0.09962390211
             ],
             "passed_time": 49.99544931,
             "remaining_time": 386.0113761,
             "test": [
              0.3983859551
             ]
            },
            {
             "iteration": 172,
             "learn": [
              0.09871867811
             ],
             "passed_time": 50.27417186,
             "remaining_time": 385.6290524,
             "test": [
              0.396715893
             ]
            },
            {
             "iteration": 173,
             "learn": [
              0.09784419119
             ],
             "passed_time": 50.55524769,
             "remaining_time": 385.2658531,
             "test": [
              0.395452794
             ]
            },
            {
             "iteration": 174,
             "learn": [
              0.09733668014
             ],
             "passed_time": 50.81318527,
             "remaining_time": 384.7284027,
             "test": [
              0.3948807755
             ]
            },
            {
             "iteration": 175,
             "learn": [
              0.09651873189
             ],
             "passed_time": 51.08226308,
             "remaining_time": 384.2779336,
             "test": [
              0.393870377
             ]
            },
            {
             "iteration": 176,
             "learn": [
              0.09568881074
             ],
             "passed_time": 51.35891852,
             "remaining_time": 383.8861537,
             "test": [
              0.3930418433
             ]
            },
            {
             "iteration": 177,
             "learn": [
              0.09484194795
             ],
             "passed_time": 51.63095168,
             "remaining_time": 383.4613378,
             "test": [
              0.3921092584
             ]
            },
            {
             "iteration": 178,
             "learn": [
              0.09413036556
             ],
             "passed_time": 51.90959981,
             "remaining_time": 383.0870467,
             "test": [
              0.3911040081
             ]
            },
            {
             "iteration": 179,
             "learn": [
              0.09350868631
             ],
             "passed_time": 52.20186486,
             "remaining_time": 382.8136756,
             "test": [
              0.390416029
             ]
            },
            {
             "iteration": 180,
             "learn": [
              0.09268894212
             ],
             "passed_time": 52.46773373,
             "remaining_time": 382.3477392,
             "test": [
              0.3893772528
             ]
            },
            {
             "iteration": 181,
             "learn": [
              0.09187375429
             ],
             "passed_time": 52.75442775,
             "remaining_time": 382.034812,
             "test": [
              0.3880007984
             ]
            },
            {
             "iteration": 182,
             "learn": [
              0.09112449054
             ],
             "passed_time": 53.03229435,
             "remaining_time": 381.658643,
             "test": [
              0.3869856237
             ]
            },
            {
             "iteration": 183,
             "learn": [
              0.09054251474
             ],
             "passed_time": 53.3084961,
             "remaining_time": 381.2716351,
             "test": [
              0.386329899
             ]
            },
            {
             "iteration": 184,
             "learn": [
              0.0899107716
             ],
             "passed_time": 53.57444281,
             "remaining_time": 380.8129313,
             "test": [
              0.3851429389
             ]
            },
            {
             "iteration": 185,
             "learn": [
              0.0891807177
             ],
             "passed_time": 53.86823923,
             "remaining_time": 380.5530449,
             "test": [
              0.3844928276
             ]
            },
            {
             "iteration": 186,
             "learn": [
              0.08886865085
             ],
             "passed_time": 54.13559824,
             "remaining_time": 380.1071684,
             "test": [
              0.3836661858
             ]
            },
            {
             "iteration": 187,
             "learn": [
              0.08806514989
             ],
             "passed_time": 54.44632298,
             "remaining_time": 379.9658285,
             "test": [
              0.3829478132
             ]
            },
            {
             "iteration": 188,
             "learn": [
              0.08745531716
             ],
             "passed_time": 54.73020499,
             "remaining_time": 379.6365013,
             "test": [
              0.3820893823
             ]
            },
            {
             "iteration": 189,
             "learn": [
              0.08690017394
             ],
             "passed_time": 54.99423015,
             "remaining_time": 379.1707447,
             "test": [
              0.3816373251
             ]
            },
            {
             "iteration": 190,
             "learn": [
              0.08607142348
             ],
             "passed_time": 55.30610199,
             "remaining_time": 379.0350131,
             "test": [
              0.3807645038
             ]
            },
            {
             "iteration": 191,
             "learn": [
              0.08560011713
             ],
             "passed_time": 55.56945572,
             "remaining_time": 378.5669171,
             "test": [
              0.3802667943
             ]
            },
            {
             "iteration": 192,
             "learn": [
              0.08508294795
             ],
             "passed_time": 55.83621245,
             "remaining_time": 378.1239879,
             "test": [
              0.379169123
             ]
            },
            {
             "iteration": 193,
             "learn": [
              0.08451434853
             ],
             "passed_time": 56.11886214,
             "remaining_time": 377.7898657,
             "test": [
              0.3785726036
             ]
            },
            {
             "iteration": 194,
             "learn": [
              0.08390962423
             ],
             "passed_time": 56.38954992,
             "remaining_time": 377.3762187,
             "test": [
              0.3778603096
             ]
            },
            {
             "iteration": 195,
             "learn": [
              0.08330653622
             ],
             "passed_time": 56.66529896,
             "remaining_time": 376.9977033,
             "test": [
              0.3770592542
             ]
            },
            {
             "iteration": 196,
             "learn": [
              0.08286768972
             ],
             "passed_time": 56.93658857,
             "remaining_time": 376.5907356,
             "test": [
              0.3763031998
             ]
            },
            {
             "iteration": 197,
             "learn": [
              0.08224281105
             ],
             "passed_time": 57.22501264,
             "remaining_time": 376.2978104,
             "test": [
              0.3755475486
             ]
            },
            {
             "iteration": 198,
             "learn": [
              0.08154368712
             ],
             "passed_time": 57.53519161,
             "remaining_time": 376.1471572,
             "test": [
              0.3749042914
             ]
            },
            {
             "iteration": 199,
             "learn": [
              0.08096665347
             ],
             "passed_time": 57.83299994,
             "remaining_time": 375.9144996,
             "test": [
              0.3743695825
             ]
            },
            {
             "iteration": 200,
             "learn": [
              0.08012904971
             ],
             "passed_time": 58.14873614,
             "remaining_time": 375.7970559,
             "test": [
              0.3737328382
             ]
            },
            {
             "iteration": 201,
             "learn": [
              0.07957177133
             ],
             "passed_time": 58.44116127,
             "remaining_time": 375.5278581,
             "test": [
              0.3728933257
             ]
            },
            {
             "iteration": 202,
             "learn": [
              0.07888661578
             ],
             "passed_time": 58.73601999,
             "remaining_time": 375.2739799,
             "test": [
              0.3719303162
             ]
            },
            {
             "iteration": 203,
             "learn": [
              0.0783909446
             ],
             "passed_time": 59.00419911,
             "remaining_time": 374.8502061,
             "test": [
              0.3712596118
             ]
            },
            {
             "iteration": 204,
             "learn": [
              0.07778907383
             ],
             "passed_time": 59.27795264,
             "remaining_time": 374.4631642,
             "test": [
              0.3705061005
             ]
            },
            {
             "iteration": 205,
             "learn": [
              0.07752378775
             ],
             "passed_time": 59.53073916,
             "remaining_time": 373.9455168,
             "test": [
              0.3701034484
             ]
            },
            {
             "iteration": 206,
             "learn": [
              0.07695173614
             ],
             "passed_time": 59.80337838,
             "remaining_time": 373.554436,
             "test": [
              0.3694450254
             ]
            },
            {
             "iteration": 207,
             "learn": [
              0.07629746401
             ],
             "passed_time": 60.11302887,
             "remaining_time": 373.3943908,
             "test": [
              0.3682518316
             ]
            },
            {
             "iteration": 208,
             "learn": [
              0.07596361315
             ],
             "passed_time": 60.36816717,
             "remaining_time": 372.8961905,
             "test": [
              0.3675444378
             ]
            },
            {
             "iteration": 209,
             "learn": [
              0.07552346294
             ],
             "passed_time": 60.64940643,
             "remaining_time": 372.5606395,
             "test": [
              0.3673773355
             ]
            },
            {
             "iteration": 210,
             "learn": [
              0.07505944675
             ],
             "passed_time": 60.94261427,
             "remaining_time": 372.2987194,
             "test": [
              0.3668775481
             ]
            },
            {
             "iteration": 211,
             "learn": [
              0.07465723731
             ],
             "passed_time": 61.2087456,
             "remaining_time": 371.8720016,
             "test": [
              0.3664190091
             ]
            },
            {
             "iteration": 212,
             "learn": [
              0.07445173588
             ],
             "passed_time": 61.46557717,
             "remaining_time": 371.3906001,
             "test": [
              0.3659609663
             ]
            },
            {
             "iteration": 213,
             "learn": [
              0.07399061314
             ],
             "passed_time": 61.73277689,
             "remaining_time": 370.9736032,
             "test": [
              0.3652349953
             ]
            },
            {
             "iteration": 214,
             "learn": [
              0.07350791925
             ],
             "passed_time": 62.0016415,
             "remaining_time": 370.5679503,
             "test": [
              0.3648196585
             ]
            },
            {
             "iteration": 215,
             "learn": [
              0.07296063823
             ],
             "passed_time": 62.2726848,
             "remaining_time": 370.1765152,
             "test": [
              0.3642153236
             ]
            },
            {
             "iteration": 216,
             "learn": [
              0.07259376878
             ],
             "passed_time": 62.53976365,
             "remaining_time": 369.7627501,
             "test": [
              0.3636842433
             ]
            },
            {
             "iteration": 217,
             "learn": [
              0.07214368772
             ],
             "passed_time": 62.81754028,
             "remaining_time": 369.4132415,
             "test": [
              0.3630446147
             ]
            },
            {
             "iteration": 218,
             "learn": [
              0.07166878285
             ],
             "passed_time": 63.0963852,
             "remaining_time": 369.0706367,
             "test": [
              0.362388952
             ]
            },
            {
             "iteration": 219,
             "learn": [
              0.07118962096
             ],
             "passed_time": 63.3725787,
             "remaining_time": 368.7131851,
             "test": [
              0.3615473615
             ]
            },
            {
             "iteration": 220,
             "learn": [
              0.07061245427
             ],
             "passed_time": 63.65255864,
             "remaining_time": 368.3783824,
             "test": [
              0.3609718385
             ]
            },
            {
             "iteration": 221,
             "learn": [
              0.07026241339
             ],
             "passed_time": 63.91235857,
             "remaining_time": 367.927902,
             "test": [
              0.3606716249
             ]
            },
            {
             "iteration": 222,
             "learn": [
              0.06974714657
             ],
             "passed_time": 64.19145745,
             "remaining_time": 367.5896465,
             "test": [
              0.3601243864
             ]
            },
            {
             "iteration": 223,
             "learn": [
              0.0694728542
             ],
             "passed_time": 64.45031602,
             "remaining_time": 367.1366216,
             "test": [
              0.3596926433
             ]
            },
            {
             "iteration": 224,
             "learn": [
              0.06912998376
             ],
             "passed_time": 64.7131863,
             "remaining_time": 366.7080557,
             "test": [
              0.3596862235
             ]
            },
            {
             "iteration": 225,
             "learn": [
              0.06886131865
             ],
             "passed_time": 64.97005376,
             "remaining_time": 366.2471172,
             "test": [
              0.3592607762
             ]
            },
            {
             "iteration": 226,
             "learn": [
              0.06847225279
             ],
             "passed_time": 65.24162485,
             "remaining_time": 365.8704337,
             "test": [
              0.3589382017
             ]
            },
            {
             "iteration": 227,
             "learn": [
              0.06806492161
             ],
             "passed_time": 65.52054688,
             "remaining_time": 365.5356826,
             "test": [
              0.3583550492
             ]
            },
            {
             "iteration": 228,
             "learn": [
              0.06775284146
             ],
             "passed_time": 65.79496548,
             "remaining_time": 365.1764241,
             "test": [
              0.3580246592
             ]
            },
            {
             "iteration": 229,
             "learn": [
              0.06733035127
             ],
             "passed_time": 66.07209873,
             "remaining_time": 364.832893,
             "test": [
              0.3574499115
             ]
            },
            {
             "iteration": 230,
             "learn": [
              0.06703976246
             ],
             "passed_time": 66.33437763,
             "remaining_time": 364.4083342,
             "test": [
              0.3568476855
             ]
            },
            {
             "iteration": 231,
             "learn": [
              0.06668184608
             ],
             "passed_time": 66.59742445,
             "remaining_time": 363.9893715,
             "test": [
              0.35646206
             ]
            },
            {
             "iteration": 232,
             "learn": [
              0.06637289219
             ],
             "passed_time": 66.86450457,
             "remaining_time": 363.5936794,
             "test": [
              0.3559668316
             ]
            },
            {
             "iteration": 233,
             "learn": [
              0.06597269818
             ],
             "passed_time": 67.13360751,
             "remaining_time": 363.2100304,
             "test": [
              0.3552448924
             ]
            },
            {
             "iteration": 234,
             "learn": [
              0.06571196845
             ],
             "passed_time": 67.3906212,
             "remaining_time": 362.7622801,
             "test": [
              0.3547512768
             ]
            },
            {
             "iteration": 235,
             "learn": [
              0.06536353061
             ],
             "passed_time": 67.67482181,
             "remaining_time": 362.4617575,
             "test": [
              0.3542058991
             ]
            },
            {
             "iteration": 236,
             "learn": [
              0.06509157296
             ],
             "passed_time": 67.93558604,
             "remaining_time": 362.0364775,
             "test": [
              0.3535981217
             ]
            },
            {
             "iteration": 237,
             "learn": [
              0.06473670301
             ],
             "passed_time": 68.198103,
             "remaining_time": 361.6218739,
             "test": [
              0.352863746
             ]
            },
            {
             "iteration": 238,
             "learn": [
              0.06432171583
             ],
             "passed_time": 68.46799519,
             "remaining_time": 361.2474558,
             "test": [
              0.3522898666
             ]
            },
            {
             "iteration": 239,
             "learn": [
              0.06388189154
             ],
             "passed_time": 68.73540383,
             "remaining_time": 360.8608701,
             "test": [
              0.3510866243
             ]
            },
            {
             "iteration": 240,
             "learn": [
              0.06353987916
             ],
             "passed_time": 69.00115866,
             "remaining_time": 360.4666338,
             "test": [
              0.3510876477
             ]
            },
            {
             "iteration": 241,
             "learn": [
              0.0632561016
             ],
             "passed_time": 69.26009438,
             "remaining_time": 360.0380113,
             "test": [
              0.3505041851
             ]
            },
            {
             "iteration": 242,
             "learn": [
              0.06292128625
             ],
             "passed_time": 69.51613271,
             "remaining_time": 359.5957976,
             "test": [
              0.349924103
             ]
            },
            {
             "iteration": 243,
             "learn": [
              0.06264358161
             ],
             "passed_time": 69.77764558,
             "remaining_time": 359.1832904,
             "test": [
              0.3495518754
             ]
            },
            {
             "iteration": 244,
             "learn": [
              0.0623374613
             ],
             "passed_time": 70.06713914,
             "remaining_time": 358.9153454,
             "test": [
              0.3492119642
             ]
            },
            {
             "iteration": 245,
             "learn": [
              0.0618990272
             ],
             "passed_time": 70.38161494,
             "remaining_time": 358.7745737,
             "test": [
              0.348373227
             ]
            },
            {
             "iteration": 246,
             "learn": [
              0.06152955698
             ],
             "passed_time": 70.67645407,
             "remaining_time": 358.5327812,
             "test": [
              0.3476104116
             ]
            },
            {
             "iteration": 247,
             "learn": [
              0.061188396
             ],
             "passed_time": 70.96513,
             "remaining_time": 358.2594466,
             "test": [
              0.347031446
             ]
            },
            {
             "iteration": 248,
             "learn": [
              0.06086016574
             ],
             "passed_time": 71.23627331,
             "remaining_time": 357.8979033,
             "test": [
              0.3465376443
             ]
            },
            {
             "iteration": 249,
             "learn": [
              0.06049495255
             ],
             "passed_time": 71.51527647,
             "remaining_time": 357.5763824,
             "test": [
              0.3461160427
             ]
            },
            {
             "iteration": 250,
             "learn": [
              0.0600937475
             ],
             "passed_time": 71.78655701,
             "remaining_time": 357.2167717,
             "test": [
              0.3452167046
             ]
            },
            {
             "iteration": 251,
             "learn": [
              0.05979062706
             ],
             "passed_time": 72.0528211,
             "remaining_time": 356.8330188,
             "test": [
              0.3452960689
             ]
            },
            {
             "iteration": 252,
             "learn": [
              0.05956784475
             ],
             "passed_time": 72.31182299,
             "remaining_time": 356.4144003,
             "test": [
              0.3445985996
             ]
            },
            {
             "iteration": 253,
             "learn": [
              0.05926190404
             ],
             "passed_time": 72.5782645,
             "remaining_time": 356.0335337,
             "test": [
              0.3439100932
             ]
            },
            {
             "iteration": 254,
             "learn": [
              0.05911963944
             ],
             "passed_time": 72.82999444,
             "remaining_time": 355.5817376,
             "test": [
              0.3436882205
             ]
            },
            {
             "iteration": 255,
             "learn": [
              0.0587217735
             ],
             "passed_time": 73.12745784,
             "remaining_time": 355.3537404,
             "test": [
              0.3431102163
             ]
            },
            {
             "iteration": 256,
             "learn": [
              0.05833257461
             ],
             "passed_time": 73.42432959,
             "remaining_time": 355.1223412,
             "test": [
              0.3426046914
             ]
            },
            {
             "iteration": 257,
             "learn": [
              0.05807432592
             ],
             "passed_time": 73.69582488,
             "remaining_time": 354.7682733,
             "test": [
              0.3421711805
             ]
            },
            {
             "iteration": 258,
             "learn": [
              0.05777791031
             ],
             "passed_time": 73.98189198,
             "remaining_time": 354.4846639,
             "test": [
              0.3418689511
             ]
            },
            {
             "iteration": 259,
             "learn": [
              0.05748056347
             ],
             "passed_time": 74.24547418,
             "remaining_time": 354.0937999,
             "test": [
              0.341569823
             ]
            },
            {
             "iteration": 260,
             "learn": [
              0.05716780485
             ],
             "passed_time": 74.52684154,
             "remaining_time": 353.7883397,
             "test": [
              0.3412216
             ]
            },
            {
             "iteration": 261,
             "learn": [
              0.05683412028
             ],
             "passed_time": 74.8066895,
             "remaining_time": 353.475884,
             "test": [
              0.3407063058
             ]
            },
            {
             "iteration": 262,
             "learn": [
              0.05654067128
             ],
             "passed_time": 75.09743004,
             "remaining_time": 353.2149086,
             "test": [
              0.339938156
             ]
            },
            {
             "iteration": 263,
             "learn": [
              0.05620856314
             ],
             "passed_time": 75.3661463,
             "remaining_time": 352.8505941,
             "test": [
              0.3391050944
             ]
            },
            {
             "iteration": 264,
             "learn": [
              0.05586794759
             ],
             "passed_time": 75.64735897,
             "remaining_time": 352.545239,
             "test": [
              0.3387816514
             ]
            },
            {
             "iteration": 265,
             "learn": [
              0.05561254912
             ],
             "passed_time": 75.92208874,
             "remaining_time": 352.2099906,
             "test": [
              0.3385543513
             ]
            },
            {
             "iteration": 266,
             "learn": [
              0.05536683539
             ],
             "passed_time": 76.18691514,
             "remaining_time": 351.8294621,
             "test": [
              0.3378663722
             ]
            },
            {
             "iteration": 267,
             "learn": [
              0.05509426912
             ],
             "passed_time": 76.45730579,
             "remaining_time": 351.4753759,
             "test": [
              0.3375824719
             ]
            },
            {
             "iteration": 268,
             "learn": [
              0.05480939737
             ],
             "passed_time": 76.72883882,
             "remaining_time": 351.1271397,
             "test": [
              0.3371932797
             ]
            },
            {
             "iteration": 269,
             "learn": [
              0.05456618465
             ],
             "passed_time": 76.99341172,
             "remaining_time": 350.7477645,
             "test": [
              0.3369157993
             ]
            },
            {
             "iteration": 270,
             "learn": [
              0.05420497572
             ],
             "passed_time": 77.26158844,
             "remaining_time": 350.38558,
             "test": [
              0.3362349844
             ]
            },
            {
             "iteration": 271,
             "learn": [
              0.05386288684
             ],
             "passed_time": 77.53770214,
             "remaining_time": 350.05992,
             "test": [
              0.3356065207
             ]
            },
            {
             "iteration": 272,
             "learn": [
              0.05356703328
             ],
             "passed_time": 77.83804154,
             "remaining_time": 349.8435054,
             "test": [
              0.335339554
             ]
            },
            {
             "iteration": 273,
             "learn": [
              0.05330916041
             ],
             "passed_time": 78.11483852,
             "remaining_time": 349.5211388,
             "test": [
              0.3345137805
             ]
            },
            {
             "iteration": 274,
             "learn": [
              0.05311253223
             ],
             "passed_time": 78.37945201,
             "remaining_time": 349.1448317,
             "test": [
              0.3341651234
             ]
            },
            {
             "iteration": 275,
             "learn": [
              0.05281534503
             ],
             "passed_time": 78.65563212,
             "remaining_time": 348.8206294,
             "test": [
              0.3338229172
             ]
            },
            {
             "iteration": 276,
             "learn": [
              0.05248479669
             ],
             "passed_time": 78.93543338,
             "remaining_time": 348.5127618,
             "test": [
              0.3337257509
             ]
            },
            {
             "iteration": 277,
             "learn": [
              0.05214242511
             ],
             "passed_time": 79.23691556,
             "remaining_time": 348.3003986,
             "test": [
              0.3336007653
             ]
            },
            {
             "iteration": 278,
             "learn": [
              0.05179169912
             ],
             "passed_time": 79.55945738,
             "remaining_time": 348.1795608,
             "test": [
              0.3333975939
             ]
            },
            {
             "iteration": 279,
             "learn": [
              0.05158785726
             ],
             "passed_time": 79.8294562,
             "remaining_time": 347.8283449,
             "test": [
              0.3332441997
             ]
            },
            {
             "iteration": 280,
             "learn": [
              0.05133582783
             ],
             "passed_time": 80.10828604,
             "remaining_time": 347.5160166,
             "test": [
              0.3329755581
             ]
            },
            {
             "iteration": 281,
             "learn": [
              0.05106730906
             ],
             "passed_time": 80.38867767,
             "remaining_time": 347.2106716,
             "test": [
              0.3326596206
             ]
            },
            {
             "iteration": 282,
             "learn": [
              0.05073871297
             ],
             "passed_time": 80.69119907,
             "remaining_time": 347.0006688,
             "test": [
              0.3323826363
             ]
            },
            {
             "iteration": 283,
             "learn": [
              0.05043768114
             ],
             "passed_time": 81.00817848,
             "remaining_time": 346.8519191,
             "test": [
              0.3319133355
             ]
            },
            {
             "iteration": 284,
             "learn": [
              0.05012440037
             ],
             "passed_time": 81.31895284,
             "remaining_time": 346.6755358,
             "test": [
              0.3316886716
             ]
            },
            {
             "iteration": 285,
             "learn": [
              0.04994174056
             ],
             "passed_time": 81.57760835,
             "remaining_time": 346.2769809,
             "test": [
              0.3312927804
             ]
            },
            {
             "iteration": 286,
             "learn": [
              0.04968674784
             ],
             "passed_time": 81.86016108,
             "remaining_time": 345.9804021,
             "test": [
              0.3311530943
             ]
            },
            {
             "iteration": 287,
             "learn": [
              0.04944889963
             ],
             "passed_time": 82.13797779,
             "remaining_time": 345.6639898,
             "test": [
              0.3305554274
             ]
            },
            {
             "iteration": 288,
             "learn": [
              0.04926206594
             ],
             "passed_time": 82.4090029,
             "remaining_time": 345.3193859,
             "test": [
              0.3302732018
             ]
            },
            {
             "iteration": 289,
             "learn": [
              0.04899413584
             ],
             "passed_time": 82.68052301,
             "remaining_time": 344.9773546,
             "test": [
              0.3297685453
             ]
            },
            {
             "iteration": 290,
             "learn": [
              0.0487740574
             ],
             "passed_time": 82.96691542,
             "remaining_time": 344.697597,
             "test": [
              0.3294949725
             ]
            },
            {
             "iteration": 291,
             "learn": [
              0.04864217264
             ],
             "passed_time": 83.22362153,
             "remaining_time": 344.2949822,
             "test": [
              0.3294702856
             ]
            },
            {
             "iteration": 292,
             "learn": [
              0.04853511501
             ],
             "passed_time": 83.47671194,
             "remaining_time": 343.8784686,
             "test": [
              0.3291728942
             ]
            },
            {
             "iteration": 293,
             "learn": [
              0.04843980412
             ],
             "passed_time": 83.73555712,
             "remaining_time": 343.4866731,
             "test": [
              0.3288649272
             ]
            },
            {
             "iteration": 294,
             "learn": [
              0.04815480599
             ],
             "passed_time": 84.02930228,
             "remaining_time": 343.2383364,
             "test": [
              0.3285269388
             ]
            },
            {
             "iteration": 295,
             "learn": [
              0.04791476275
             ],
             "passed_time": 84.3070056,
             "remaining_time": 342.9244417,
             "test": [
              0.3280791926
             ]
            },
            {
             "iteration": 296,
             "learn": [
              0.04770701308
             ],
             "passed_time": 84.57390857,
             "remaining_time": 342.5670438,
             "test": [
              0.3282163046
             ]
            },
            {
             "iteration": 297,
             "learn": [
              0.04742641831
             ],
             "passed_time": 84.87451794,
             "remaining_time": 342.3462099,
             "test": [
              0.3276588936
             ]
            },
            {
             "iteration": 298,
             "learn": [
              0.04721981271
             ],
             "passed_time": 85.14797988,
             "remaining_time": 342.0157988,
             "test": [
              0.3276874573
             ]
            },
            {
             "iteration": 299,
             "learn": [
              0.04711141146
             ],
             "passed_time": 85.40005539,
             "remaining_time": 341.6002216,
             "test": [
              0.3275865384
             ]
            },
            {
             "iteration": 300,
             "learn": [
              0.04694873973
             ],
             "passed_time": 85.66568459,
             "remaining_time": 341.2397203,
             "test": [
              0.327338304
             ]
            },
            {
             "iteration": 301,
             "learn": [
              0.04669435895
             ],
             "passed_time": 85.94365263,
             "remaining_time": 340.9287942,
             "test": [
              0.3269684954
             ]
            },
            {
             "iteration": 302,
             "learn": [
              0.04642543444
             ],
             "passed_time": 86.21057181,
             "remaining_time": 340.5744372,
             "test": [
              0.3269907633
             ]
            },
            {
             "iteration": 303,
             "learn": [
              0.04619735079
             ],
             "passed_time": 86.50165106,
             "remaining_time": 340.3157061,
             "test": [
              0.3266285842
             ]
            },
            {
             "iteration": 304,
             "learn": [
              0.04601890145
             ],
             "passed_time": 86.761173,
             "remaining_time": 339.9331205,
             "test": [
              0.3264863859
             ]
            },
            {
             "iteration": 305,
             "learn": [
              0.04581688213
             ],
             "passed_time": 87.03927778,
             "remaining_time": 339.6238486,
             "test": [
              0.3261748523
             ]
            },
            {
             "iteration": 306,
             "learn": [
              0.04558710233
             ],
             "passed_time": 87.31695424,
             "remaining_time": 339.3131153,
             "test": [
              0.325780853
             ]
            },
            {
             "iteration": 307,
             "learn": [
              0.04535179504
             ],
             "passed_time": 87.59825121,
             "remaining_time": 339.0166086,
             "test": [
              0.3257430782
             ]
            },
            {
             "iteration": 308,
             "learn": [
              0.04515640405
             ],
             "passed_time": 87.89603807,
             "remaining_time": 338.7837584,
             "test": [
              0.3256332894
             ]
            },
            {
             "iteration": 309,
             "learn": [
              0.04489012022
             ],
             "passed_time": 88.18534127,
             "remaining_time": 338.5179229,
             "test": [
              0.3253238027
             ]
            },
            {
             "iteration": 310,
             "learn": [
              0.0446059602
             ],
             "passed_time": 88.50233845,
             "remaining_time": 338.3578149,
             "test": [
              0.3251591504
             ]
            },
            {
             "iteration": 311,
             "learn": [
              0.04438999911
             ],
             "passed_time": 88.80111756,
             "remaining_time": 338.1273323,
             "test": [
              0.3249130249
             ]
            },
            {
             "iteration": 312,
             "learn": [
              0.04420985361
             ],
             "passed_time": 89.07421401,
             "remaining_time": 337.7990161,
             "test": [
              0.3250420423
             ]
            },
            {
             "iteration": 313,
             "learn": [
              0.04397598307
             ],
             "passed_time": 89.37819754,
             "remaining_time": 337.5877143,
             "test": [
              0.324794025
             ]
            },
            {
             "iteration": 314,
             "learn": [
              0.04377838707
             ],
             "passed_time": 89.65945413,
             "remaining_time": 337.2903274,
             "test": [
              0.3244252399
             ]
            },
            {
             "iteration": 315,
             "learn": [
              0.04362179158
             ],
             "passed_time": 89.9108813,
             "remaining_time": 336.8812768,
             "test": [
              0.3242803434
             ]
            },
            {
             "iteration": 316,
             "learn": [
              0.04344858371
             ],
             "passed_time": 90.18112308,
             "remaining_time": 336.5434341,
             "test": [
              0.3238419323
             ]
            },
            {
             "iteration": 317,
             "learn": [
              0.04326751363
             ],
             "passed_time": 90.45855061,
             "remaining_time": 336.2327258,
             "test": [
              0.3233499915
             ]
            },
            {
             "iteration": 318,
             "learn": [
              0.0430768985
             ],
             "passed_time": 90.74172285,
             "remaining_time": 335.9434943,
             "test": [
              0.3231505107
             ]
            },
            {
             "iteration": 319,
             "learn": [
              0.04292765636
             ],
             "passed_time": 91.02022637,
             "remaining_time": 335.6370847,
             "test": [
              0.3228396284
             ]
            },
            {
             "iteration": 320,
             "learn": [
              0.04283454715
             ],
             "passed_time": 91.27943421,
             "remaining_time": 335.259978,
             "test": [
              0.3227886107
             ]
            },
            {
             "iteration": 321,
             "learn": [
              0.04265799352
             ],
             "passed_time": 91.5542137,
             "remaining_time": 334.9405706,
             "test": [
              0.3227227064
             ]
            },
            {
             "iteration": 322,
             "learn": [
              0.04245929668
             ],
             "passed_time": 91.84037831,
             "remaining_time": 334.6629265,
             "test": [
              0.3221279858
             ]
            },
            {
             "iteration": 323,
             "learn": [
              0.04234849087
             ],
             "passed_time": 92.10003792,
             "remaining_time": 334.2890265,
             "test": [
              0.321939763
             ]
            },
            {
             "iteration": 324,
             "learn": [
              0.04214207816
             ],
             "passed_time": 92.38403753,
             "remaining_time": 334.003828,
             "test": [
              0.3218163901
             ]
            },
            {
             "iteration": 325,
             "learn": [
              0.04193565216
             ],
             "passed_time": 92.64927826,
             "remaining_time": 333.6510818,
             "test": [
              0.3217617128
             ]
            },
            {
             "iteration": 326,
             "learn": [
              0.04174058377
             ],
             "passed_time": 92.92409585,
             "remaining_time": 333.3332246,
             "test": [
              0.3213877484
             ]
            },
            {
             "iteration": 327,
             "learn": [
              0.04159610086
             ],
             "passed_time": 93.19731143,
             "remaining_time": 333.0099055,
             "test": [
              0.3211783432
             ]
            },
            {
             "iteration": 328,
             "learn": [
              0.04143339588
             ],
             "passed_time": 93.47406236,
             "remaining_time": 332.6994742,
             "test": [
              0.3209131442
             ]
            },
            {
             "iteration": 329,
             "learn": [
              0.04122380038
             ],
             "passed_time": 93.76617842,
             "remaining_time": 332.4437235,
             "test": [
              0.3204575826
             ]
            },
            {
             "iteration": 330,
             "learn": [
              0.0411591667
             ],
             "passed_time": 94.01902255,
             "remaining_time": 332.0490555,
             "test": [
              0.3203533762
             ]
            },
            {
             "iteration": 331,
             "learn": [
              0.04096739419
             ],
             "passed_time": 94.29002765,
             "remaining_time": 331.7191334,
             "test": [
              0.3198520071
             ]
            },
            {
             "iteration": 332,
             "learn": [
              0.04080479563
             ],
             "passed_time": 94.56292837,
             "remaining_time": 331.3962084,
             "test": [
              0.3196820205
             ]
            },
            {
             "iteration": 333,
             "learn": [
              0.04060224086
             ],
             "passed_time": 94.82874221,
             "remaining_time": 331.0488425,
             "test": [
              0.3193818379
             ]
            },
            {
             "iteration": 334,
             "learn": [
              0.04043059278
             ],
             "passed_time": 95.10057392,
             "remaining_time": 330.7228914,
             "test": [
              0.319132487
             ]
            },
            {
             "iteration": 335,
             "learn": [
              0.04024930986
             ],
             "passed_time": 95.38756902,
             "remaining_time": 330.4497927,
             "test": [
              0.3189153284
             ]
            },
            {
             "iteration": 336,
             "learn": [
              0.04005098883
             ],
             "passed_time": 95.67327926,
             "remaining_time": 330.1721774,
             "test": [
              0.3184685126
             ]
            },
            {
             "iteration": 337,
             "learn": [
              0.03990625317
             ],
             "passed_time": 95.93408196,
             "remaining_time": 329.8088853,
             "test": [
              0.31819984
             ]
            },
            {
             "iteration": 338,
             "learn": [
              0.0397396836
             ],
             "passed_time": 96.21813707,
             "remaining_time": 329.5258323,
             "test": [
              0.3179684151
             ]
            },
            {
             "iteration": 339,
             "learn": [
              0.03958960669
             ],
             "passed_time": 96.48497479,
             "remaining_time": 329.1840316,
             "test": [
              0.3177825804
             ]
            },
            {
             "iteration": 340,
             "learn": [
              0.03938031716
             ],
             "passed_time": 96.76092847,
             "remaining_time": 328.8736542,
             "test": [
              0.3173522949
             ]
            },
            {
             "iteration": 341,
             "learn": [
              0.03931739295
             ],
             "passed_time": 97.01415046,
             "remaining_time": 328.4865094,
             "test": [
              0.3171054251
             ]
            },
            {
             "iteration": 342,
             "learn": [
              0.03917528134
             ],
             "passed_time": 97.28847874,
             "remaining_time": 328.1713408,
             "test": [
              0.3171181097
             ]
            },
            {
             "iteration": 343,
             "learn": [
              0.0389981989
             ],
             "passed_time": 97.57926855,
             "remaining_time": 327.911728,
             "test": [
              0.3168976326
             ]
            },
            {
             "iteration": 344,
             "learn": [
              0.03897435621
             ],
             "passed_time": 97.83118767,
             "remaining_time": 327.5218022,
             "test": [
              0.3167938605
             ]
            },
            {
             "iteration": 345,
             "learn": [
              0.03877609173
             ],
             "passed_time": 98.12477045,
             "remaining_time": 327.2716332,
             "test": [
              0.3162862886
             ]
            },
            {
             "iteration": 346,
             "learn": [
              0.03858200446
             ],
             "passed_time": 98.42942604,
             "remaining_time": 327.0580064,
             "test": [
              0.3163630168
             ]
            },
            {
             "iteration": 347,
             "learn": [
              0.03839279614
             ],
             "passed_time": 98.75356689,
             "remaining_time": 326.9083594,
             "test": [
              0.3160498394
             ]
            },
            {
             "iteration": 348,
             "learn": [
              0.03821671809
             ],
             "passed_time": 99.04171164,
             "remaining_time": 326.6389974,
             "test": [
              0.3155697458
             ]
            },
            {
             "iteration": 349,
             "learn": [
              0.03805050106
             ],
             "passed_time": 99.34325983,
             "remaining_time": 326.413568,
             "test": [
              0.3153444306
             ]
            },
            {
             "iteration": 350,
             "learn": [
              0.03787794171
             ],
             "passed_time": 99.62538983,
             "remaining_time": 326.1241394,
             "test": [
              0.3149276051
             ]
            },
            {
             "iteration": 351,
             "learn": [
              0.03773484899
             ],
             "passed_time": 99.89992335,
             "remaining_time": 325.8099773,
             "test": [
              0.3147271629
             ]
            },
            {
             "iteration": 352,
             "learn": [
              0.03771682979
             ],
             "passed_time": 100.1524905,
             "remaining_time": 325.4246646,
             "test": [
              0.3146479537
             ]
            },
            {
             "iteration": 353,
             "learn": [
              0.0376108863
             ],
             "passed_time": 100.4138735,
             "remaining_time": 325.0686412,
             "test": [
              0.3146849842
             ]
            },
            {
             "iteration": 354,
             "learn": [
              0.03747757477
             ],
             "passed_time": 100.6839072,
             "remaining_time": 324.741053,
             "test": [
              0.3143723341
             ]
            },
            {
             "iteration": 355,
             "learn": [
              0.037320517
             ],
             "passed_time": 100.9752122,
             "remaining_time": 324.4821424,
             "test": [
              0.3140660108
             ]
            },
            {
             "iteration": 356,
             "learn": [
              0.03716158347
             ],
             "passed_time": 101.2779565,
             "remaining_time": 324.2596759,
             "test": [
              0.3136093636
             ]
            },
            {
             "iteration": 357,
             "learn": [
              0.03703489362
             ],
             "passed_time": 101.5551689,
             "remaining_time": 323.9553152,
             "test": [
              0.3133969191
             ]
            },
            {
             "iteration": 358,
             "learn": [
              0.03690284257
             ],
             "passed_time": 101.8275784,
             "remaining_time": 323.6358412,
             "test": [
              0.3131606559
             ]
            },
            {
             "iteration": 359,
             "learn": [
              0.03674329709
             ],
             "passed_time": 102.0996356,
             "remaining_time": 323.3155127,
             "test": [
              0.3130165038
             ]
            },
            {
             "iteration": 360,
             "learn": [
              0.03663243474
             ],
             "passed_time": 102.368315,
             "remaining_time": 322.9847944,
             "test": [
              0.3129610511
             ]
            },
            {
             "iteration": 361,
             "learn": [
              0.03645312069
             ],
             "passed_time": 102.6720808,
             "remaining_time": 322.7647182,
             "test": [
              0.3127527625
             ]
            },
            {
             "iteration": 362,
             "learn": [
              0.03629970135
             ],
             "passed_time": 102.9718123,
             "remaining_time": 322.5315444,
             "test": [
              0.3127044119
             ]
            },
            {
             "iteration": 363,
             "learn": [
              0.03618843657
             ],
             "passed_time": 103.2426607,
             "remaining_time": 322.2078642,
             "test": [
              0.3123256404
             ]
            },
            {
             "iteration": 364,
             "learn": [
              0.03608392651
             ],
             "passed_time": 103.5089377,
             "remaining_time": 321.8702584,
             "test": [
              0.3125262997
             ]
            },
            {
             "iteration": 365,
             "learn": [
              0.03595765903
             ],
             "passed_time": 103.7793784,
             "remaining_time": 321.5459428,
             "test": [
              0.3122240392
             ]
            },
            {
             "iteration": 366,
             "learn": [
              0.03592578785
             ],
             "passed_time": 104.0327646,
             "remaining_time": 321.1692707,
             "test": [
              0.3121647098
             ]
            },
            {
             "iteration": 367,
             "learn": [
              0.03577005707
             ],
             "passed_time": 104.3064433,
             "remaining_time": 320.8556897,
             "test": [
              0.3117721992
             ]
            },
            {
             "iteration": 368,
             "learn": [
              0.03561592268
             ],
             "passed_time": 104.6190852,
             "remaining_time": 320.6617491,
             "test": [
              0.3116062443
             ]
            },
            {
             "iteration": 369,
             "learn": [
              0.03559145142
             ],
             "passed_time": 104.873552,
             "remaining_time": 320.2894966,
             "test": [
              0.3115813403
             ]
            },
            {
             "iteration": 370,
             "learn": [
              0.03544568808
             ],
             "passed_time": 105.1569773,
             "remaining_time": 320.0060036,
             "test": [
              0.3117803868
             ]
            },
            {
             "iteration": 371,
             "learn": [
              0.03533108419
             ],
             "passed_time": 105.4236647,
             "remaining_time": 319.6717575,
             "test": [
              0.3116106173
             ]
            },
            {
             "iteration": 372,
             "learn": [
              0.03522981679
             ],
             "passed_time": 105.6924001,
             "remaining_time": 319.3440616,
             "test": [
              0.3113056896
             ]
            },
            {
             "iteration": 373,
             "learn": [
              0.03506768716
             ],
             "passed_time": 105.9836387,
             "remaining_time": 319.0844311,
             "test": [
              0.3111892638
             ]
            },
            {
             "iteration": 374,
             "learn": [
              0.03490693775
             ],
             "passed_time": 106.2693763,
             "remaining_time": 318.8081288,
             "test": [
              0.3109474492
             ]
            },
            {
             "iteration": 375,
             "learn": [
              0.03477412176
             ],
             "passed_time": 106.5437455,
             "remaining_time": 318.4977923,
             "test": [
              0.3107617076
             ]
            },
            {
             "iteration": 376,
             "learn": [
              0.03465933829
             ],
             "passed_time": 106.8254156,
             "remaining_time": 318.2093945,
             "test": [
              0.3105909766
             ]
            },
            {
             "iteration": 377,
             "learn": [
              0.0345207354
             ],
             "passed_time": 107.1276225,
             "remaining_time": 317.9819907,
             "test": [
              0.3104585477
             ]
            },
            {
             "iteration": 378,
             "learn": [
              0.03437494213
             ],
             "passed_time": 107.4338213,
             "remaining_time": 317.7659993,
             "test": [
              0.3103137753
             ]
            },
            {
             "iteration": 379,
             "learn": [
              0.03427400065
             ],
             "passed_time": 107.6998975,
             "remaining_time": 317.4312767,
             "test": [
              0.3101500224
             ]
            },
            {
             "iteration": 380,
             "learn": [
              0.03416073707
             ],
             "passed_time": 107.97464,
             "remaining_time": 317.1223678,
             "test": [
              0.3100032031
             ]
            },
            {
             "iteration": 381,
             "learn": [
              0.03409413452
             ],
             "passed_time": 108.2338226,
             "remaining_time": 316.7680986,
             "test": [
              0.3099362753
             ]
            },
            {
             "iteration": 382,
             "learn": [
              0.03396388273
             ],
             "passed_time": 108.5286622,
             "remaining_time": 316.5183176,
             "test": [
              0.3096674477
             ]
            },
            {
             "iteration": 383,
             "learn": [
              0.03383364424
             ],
             "passed_time": 108.8170664,
             "remaining_time": 316.2495992,
             "test": [
              0.3095559531
             ]
            },
            {
             "iteration": 384,
             "learn": [
              0.03377178428
             ],
             "passed_time": 109.0743996,
             "remaining_time": 315.8907936,
             "test": [
              0.3096066607
             ]
            },
            {
             "iteration": 385,
             "learn": [
              0.03363551944
             ],
             "passed_time": 109.3646301,
             "remaining_time": 315.6274557,
             "test": [
              0.309414127
             ]
            },
            {
             "iteration": 386,
             "learn": [
              0.03350195515
             ],
             "passed_time": 109.6758192,
             "remaining_time": 315.4242551,
             "test": [
              0.3092210971
             ]
            },
            {
             "iteration": 387,
             "learn": [
              0.03339217035
             ],
             "passed_time": 109.952969,
             "remaining_time": 315.1229421,
             "test": [
              0.309054522
             ]
            },
            {
             "iteration": 388,
             "learn": [
              0.0332644628
             ],
             "passed_time": 110.2295079,
             "remaining_time": 314.8200085,
             "test": [
              0.3088713235
             ]
            },
            {
             "iteration": 389,
             "learn": [
              0.03314962279
             ],
             "passed_time": 110.504766,
             "remaining_time": 314.5135646,
             "test": [
              0.3089720563
             ]
            },
            {
             "iteration": 390,
             "learn": [
              0.0330598161
             ],
             "passed_time": 110.7808166,
             "remaining_time": 314.2095284,
             "test": [
              0.3088001468
             ]
            },
            {
             "iteration": 391,
             "learn": [
              0.0329714894
             ],
             "passed_time": 111.0478774,
             "remaining_time": 313.8802248,
             "test": [
              0.3085968514
             ]
            },
            {
             "iteration": 392,
             "learn": [
              0.03284901334
             ],
             "passed_time": 111.3253238,
             "remaining_time": 313.5804922,
             "test": [
              0.3081529819
             ]
            },
            {
             "iteration": 393,
             "learn": [
              0.03273532405
             ],
             "passed_time": 111.5919752,
             "remaining_time": 313.25057,
             "test": [
              0.3077748617
             ]
            },
            {
             "iteration": 394,
             "learn": [
              0.03266995205
             ],
             "passed_time": 111.8458571,
             "remaining_time": 312.8852459,
             "test": [
              0.3074531245
             ]
            },
            {
             "iteration": 395,
             "learn": [
              0.03256898064
             ],
             "passed_time": 112.1216051,
             "remaining_time": 312.5814444,
             "test": [
              0.3073509651
             ]
            },
            {
             "iteration": 396,
             "learn": [
              0.03254832074
             ],
             "passed_time": 112.3731178,
             "remaining_time": 312.2104508,
             "test": [
              0.3072173576
             ]
            },
            {
             "iteration": 397,
             "learn": [
              0.03242982567
             ],
             "passed_time": 112.6654197,
             "remaining_time": 311.9529963,
             "test": [
              0.3070701661
             ]
            },
            {
             "iteration": 398,
             "learn": [
              0.0322983134
             ],
             "passed_time": 112.9725522,
             "remaining_time": 311.7362907,
             "test": [
              0.3069014821
             ]
            },
            {
             "iteration": 399,
             "learn": [
              0.03216321258
             ],
             "passed_time": 113.2595624,
             "remaining_time": 311.4637966,
             "test": [
              0.3064895258
             ]
            },
            {
             "iteration": 400,
             "learn": [
              0.03203521901
             ],
             "passed_time": 113.5582736,
             "remaining_time": 311.2232983,
             "test": [
              0.3065466532
             ]
            },
            {
             "iteration": 401,
             "learn": [
              0.03193468994
             ],
             "passed_time": 113.8426248,
             "remaining_time": 310.9432887,
             "test": [
              0.3065684249
             ]
            },
            {
             "iteration": 402,
             "learn": [
              0.03190940052
             ],
             "passed_time": 114.0938591,
             "remaining_time": 310.5731101,
             "test": [
              0.3064417645
             ]
            },
            {
             "iteration": 403,
             "learn": [
              0.03180814974
             ],
             "passed_time": 114.3934685,
             "remaining_time": 310.3347562,
             "test": [
              0.306312499
             ]
            },
            {
             "iteration": 404,
             "learn": [
              0.03167924823
             ],
             "passed_time": 114.7142338,
             "remaining_time": 310.1532987,
             "test": [
              0.3062050052
             ]
            },
            {
             "iteration": 405,
             "learn": [
              0.03155415809
             ],
             "passed_time": 115.0089592,
             "remaining_time": 309.9009886,
             "test": [
              0.3060102385
             ]
            },
            {
             "iteration": 406,
             "learn": [
              0.03141642656
             ],
             "passed_time": 115.3095591,
             "remaining_time": 309.6642458,
             "test": [
              0.3058860593
             ]
            },
            {
             "iteration": 407,
             "learn": [
              0.03132425855
             ],
             "passed_time": 115.5782924,
             "remaining_time": 309.3419004,
             "test": [
              0.3056512228
             ]
            },
            {
             "iteration": 408,
             "learn": [
              0.03123274573
             ],
             "passed_time": 115.8489224,
             "remaining_time": 309.0248762,
             "test": [
              0.3054872528
             ]
            },
            {
             "iteration": 409,
             "learn": [
              0.03109971689
             ],
             "passed_time": 116.1392937,
             "remaining_time": 308.7605614,
             "test": [
              0.3053381075
             ]
            },
            {
             "iteration": 410,
             "learn": [
              0.03101323933
             ],
             "passed_time": 116.4160489,
             "remaining_time": 308.460042,
             "test": [
              0.3052572545
             ]
            },
            {
             "iteration": 411,
             "learn": [
              0.03088948284
             ],
             "passed_time": 116.7259868,
             "remaining_time": 308.247266,
             "test": [
              0.3051573591
             ]
            },
            {
             "iteration": 412,
             "learn": [
              0.03077916259
             ],
             "passed_time": 117.0065272,
             "remaining_time": 307.9566465,
             "test": [
              0.3049705629
             ]
            },
            {
             "iteration": 413,
             "learn": [
              0.03066704309
             ],
             "passed_time": 117.305853,
             "remaining_time": 307.7153535,
             "test": [
              0.3047291205
             ]
            },
            {
             "iteration": 414,
             "learn": [
              0.03053902291
             ],
             "passed_time": 117.5969161,
             "remaining_time": 307.4521783,
             "test": [
              0.3045429757
             ]
            },
            {
             "iteration": 415,
             "learn": [
              0.03041451811
             ],
             "passed_time": 117.9043977,
             "remaining_time": 307.2316517,
             "test": [
              0.3044045301
             ]
            },
            {
             "iteration": 416,
             "learn": [
              0.03031106232
             ],
             "passed_time": 118.1712476,
             "remaining_time": 306.9051826,
             "test": [
              0.3040926864
             ]
            },
            {
             "iteration": 417,
             "learn": [
              0.03024625238
             ],
             "passed_time": 118.4375604,
             "remaining_time": 306.5776084,
             "test": [
              0.3042139813
             ]
            },
            {
             "iteration": 418,
             "learn": [
              0.03015779264
             ],
             "passed_time": 118.7158825,
             "remaining_time": 306.2813101,
             "test": [
              0.3039674836
             ]
            },
            {
             "iteration": 419,
             "learn": [
              0.03004879939
             ],
             "passed_time": 119.0184993,
             "remaining_time": 306.0475696,
             "test": [
              0.3037880998
             ]
            },
            {
             "iteration": 420,
             "learn": [
              0.02995834417
             ],
             "passed_time": 119.2884989,
             "remaining_time": 305.7299057,
             "test": [
              0.3035527671
             ]
            },
            {
             "iteration": 421,
             "learn": [
              0.02986274726
             ],
             "passed_time": 119.5612791,
             "remaining_time": 305.4195707,
             "test": [
              0.3032152129
             ]
            },
            {
             "iteration": 422,
             "learn": [
              0.02978839226
             ],
             "passed_time": 119.8242488,
             "remaining_time": 305.084435,
             "test": [
              0.3030977947
             ]
            },
            {
             "iteration": 423,
             "learn": [
              0.02967259441
             ],
             "passed_time": 120.1263541,
             "remaining_time": 304.8489552,
             "test": [
              0.3027416632
             ]
            },
            {
             "iteration": 424,
             "learn": [
              0.02957584012
             ],
             "passed_time": 120.3993747,
             "remaining_time": 304.5395948,
             "test": [
              0.3026582361
             ]
            },
            {
             "iteration": 425,
             "learn": [
              0.02949228594
             ],
             "passed_time": 120.7001069,
             "remaining_time": 304.3002694,
             "test": [
              0.3025827796
             ]
            },
            {
             "iteration": 426,
             "learn": [
              0.02938875699
             ],
             "passed_time": 120.9963862,
             "remaining_time": 304.049467,
             "test": [
              0.3023284664
             ]
            },
            {
             "iteration": 427,
             "learn": [
              0.02928421699
             ],
             "passed_time": 121.2746316,
             "remaining_time": 303.753283,
             "test": [
              0.3021147813
             ]
            },
            {
             "iteration": 428,
             "learn": [
              0.02917605519
             ],
             "passed_time": 121.5827611,
             "remaining_time": 303.5317881,
             "test": [
              0.3016947925
             ]
            },
            {
             "iteration": 429,
             "learn": [
              0.02906667615
             ],
             "passed_time": 121.9069465,
             "remaining_time": 303.3498435,
             "test": [
              0.3016932108
             ]
            },
            {
             "iteration": 430,
             "learn": [
              0.02900452019
             ],
             "passed_time": 122.1748463,
             "remaining_time": 303.027635,
             "test": [
              0.3016377891
             ]
            },
            {
             "iteration": 431,
             "learn": [
              0.02890143024
             ],
             "passed_time": 122.4504242,
             "remaining_time": 302.7246598,
             "test": [
              0.3016876593
             ]
            },
            {
             "iteration": 432,
             "learn": [
              0.02879667739
             ],
             "passed_time": 122.7751133,
             "remaining_time": 302.5428311,
             "test": [
              0.3015489656
             ]
            },
            {
             "iteration": 433,
             "learn": [
              0.02869703298
             ],
             "passed_time": 123.0793066,
             "remaining_time": 302.3100019,
             "test": [
              0.3014968624
             ]
            },
            {
             "iteration": 434,
             "learn": [
              0.02863585149
             ],
             "passed_time": 123.3601793,
             "remaining_time": 302.0197493,
             "test": [
              0.3014843018
             ]
            },
            {
             "iteration": 435,
             "learn": [
              0.02854314802
             ],
             "passed_time": 123.6324638,
             "remaining_time": 301.7085814,
             "test": [
              0.3013253561
             ]
            },
            {
             "iteration": 436,
             "learn": [
              0.02848239224
             ],
             "passed_time": 123.8936751,
             "remaining_time": 301.3706559,
             "test": [
              0.3011887713
             ]
            },
            {
             "iteration": 437,
             "learn": [
              0.0283876434
             ],
             "passed_time": 124.1806632,
             "remaining_time": 301.0955806,
             "test": [
              0.3009646036
             ]
            },
            {
             "iteration": 438,
             "learn": [
              0.02831755208
             ],
             "passed_time": 124.4448582,
             "remaining_time": 300.7653635,
             "test": [
              0.3009130897
             ]
            },
            {
             "iteration": 439,
             "learn": [
              0.02822503819
             ],
             "passed_time": 124.7640328,
             "remaining_time": 300.5678972,
             "test": [
              0.3006357333
             ]
            },
            {
             "iteration": 440,
             "learn": [
              0.02813040576
             ],
             "passed_time": 125.0638411,
             "remaining_time": 300.3233736,
             "test": [
              0.300466491
             ]
            },
            {
             "iteration": 441,
             "learn": [
              0.02803778544
             ],
             "passed_time": 125.361374,
             "remaining_time": 300.0731532,
             "test": [
              0.3004309181
             ]
            },
            {
             "iteration": 442,
             "learn": [
              0.02794887672
             ],
             "passed_time": 125.6575796,
             "remaining_time": 299.8195522,
             "test": [
              0.3003316119
             ]
            },
            {
             "iteration": 443,
             "learn": [
              0.02787890181
             ],
             "passed_time": 125.9330601,
             "remaining_time": 299.5164673,
             "test": [
              0.3001112899
             ]
            },
            {
             "iteration": 444,
             "learn": [
              0.02782431538
             ],
             "passed_time": 126.209351,
             "remaining_time": 299.2154277,
             "test": [
              0.2999077774
             ]
            },
            {
             "iteration": 445,
             "learn": [
              0.02771486151
             ],
             "passed_time": 126.516141,
             "remaining_time": 298.9865754,
             "test": [
              0.2997821095
             ]
            },
            {
             "iteration": 446,
             "learn": [
              0.02764443262
             ],
             "passed_time": 126.7900459,
             "remaining_time": 298.6799067,
             "test": [
              0.2999371164
             ]
            },
            {
             "iteration": 447,
             "learn": [
              0.02754758188
             ],
             "passed_time": 127.0658421,
             "remaining_time": 298.3778256,
             "test": [
              0.2996047726
             ]
            },
            {
             "iteration": 448,
             "learn": [
              0.02746313473
             ],
             "passed_time": 127.3503773,
             "remaining_time": 298.0963174,
             "test": [
              0.2995089089
             ]
            },
            {
             "iteration": 449,
             "learn": [
              0.02739479943
             ],
             "passed_time": 127.6250869,
             "remaining_time": 297.7918694,
             "test": [
              0.2994362746
             ]
            },
            {
             "iteration": 450,
             "learn": [
              0.02730840668
             ],
             "passed_time": 127.9188607,
             "remaining_time": 297.5318956,
             "test": [
              0.2993726653
             ]
            },
            {
             "iteration": 451,
             "learn": [
              0.02725223385
             ],
             "passed_time": 128.1839492,
             "remaining_time": 297.2052627,
             "test": [
              0.2993946851
             ]
            },
            {
             "iteration": 452,
             "learn": [
              0.02718949921
             ],
             "passed_time": 128.4586561,
             "remaining_time": 296.9011324,
             "test": [
              0.2992285752
             ]
            },
            {
             "iteration": 453,
             "learn": [
              0.02709489671
             ],
             "passed_time": 128.7624599,
             "remaining_time": 296.6641698,
             "test": [
              0.2991527154
             ]
            },
            {
             "iteration": 454,
             "learn": [
              0.02704477684
             ],
             "passed_time": 129.0326572,
             "remaining_time": 296.3497292,
             "test": [
              0.2988538354
             ]
            },
            {
             "iteration": 455,
             "learn": [
              0.02695766572
             ],
             "passed_time": 129.3046616,
             "remaining_time": 296.03962,
             "test": [
              0.2985654381
             ]
            },
            {
             "iteration": 456,
             "learn": [
              0.02688396091
             ],
             "passed_time": 129.6066201,
             "remaining_time": 295.798041,
             "test": [
              0.2985656552
             ]
            },
            {
             "iteration": 457,
             "learn": [
              0.02681242786
             ],
             "passed_time": 129.9028417,
             "remaining_time": 295.5431465,
             "test": [
              0.2983319662
             ]
            },
            {
             "iteration": 458,
             "learn": [
              0.02671382608
             ],
             "passed_time": 130.1745209,
             "remaining_time": 295.2324102,
             "test": [
              0.2978284882
             ]
            },
            {
             "iteration": 459,
             "learn": [
              0.02663862965
             ],
             "passed_time": 130.4487447,
             "remaining_time": 294.9275967,
             "test": [
              0.2976597732
             ]
            },
            {
             "iteration": 460,
             "learn": [
              0.02656405515
             ],
             "passed_time": 130.739008,
             "remaining_time": 294.6590658,
             "test": [
              0.2975750125
             ]
            },
            {
             "iteration": 461,
             "learn": [
              0.02647420023
             ],
             "passed_time": 131.0326649,
             "remaining_time": 294.3980652,
             "test": [
              0.2974454058
             ]
            },
            {
             "iteration": 462,
             "learn": [
              0.02646859958
             ],
             "passed_time": 131.2831572,
             "remaining_time": 294.0402463,
             "test": [
              0.2974567568
             ]
            },
            {
             "iteration": 463,
             "learn": [
              0.02645443332
             ],
             "passed_time": 131.5403964,
             "remaining_time": 293.697954,
             "test": [
              0.2972830175
             ]
            },
            {
             "iteration": 464,
             "learn": [
              0.02637398877
             ],
             "passed_time": 131.8435425,
             "remaining_time": 293.4582074,
             "test": [
              0.297030193
             ]
            },
            {
             "iteration": 465,
             "learn": [
              0.02636367878
             ],
             "passed_time": 132.0928325,
             "remaining_time": 293.0986884,
             "test": [
              0.297032426
             ]
            },
            {
             "iteration": 466,
             "learn": [
              0.02635769898
             ],
             "passed_time": 132.3429438,
             "remaining_time": 292.7414582,
             "test": [
              0.297027805
             ]
            },
            {
             "iteration": 467,
             "learn": [
              0.02627987517
             ],
             "passed_time": 132.6159174,
             "remaining_time": 292.4350999,
             "test": [
              0.2970237112
             ]
            },
            {
             "iteration": 468,
             "learn": [
              0.02619431719
             ],
             "passed_time": 132.8818888,
             "remaining_time": 292.1134911,
             "test": [
              0.2971609472
             ]
            },
            {
             "iteration": 469,
             "learn": [
              0.02612709438
             ],
             "passed_time": 133.1562709,
             "remaining_time": 291.8105512,
             "test": [
              0.297324514
             ]
            },
            {
             "iteration": 470,
             "learn": [
              0.02606707193
             ],
             "passed_time": 133.4217499,
             "remaining_time": 291.4882817,
             "test": [
              0.2973817034
             ]
            },
            {
             "iteration": 471,
             "learn": [
              0.02600362557
             ],
             "passed_time": 133.6932958,
             "remaining_time": 291.1794662,
             "test": [
              0.2970043896
             ]
            },
            {
             "iteration": 472,
             "learn": [
              0.0259210974
             ],
             "passed_time": 133.9753792,
             "remaining_time": 290.8936879,
             "test": [
              0.2969532788
             ]
            },
            {
             "iteration": 473,
             "learn": [
              0.02585421548
             ],
             "passed_time": 134.2572183,
             "remaining_time": 290.6073965,
             "test": [
              0.2968505921
             ]
            },
            {
             "iteration": 474,
             "learn": [
              0.02580348034
             ],
             "passed_time": 134.5335262,
             "remaining_time": 290.3091881,
             "test": [
              0.2968194543
             ]
            },
            {
             "iteration": 475,
             "learn": [
              0.02574586744
             ],
             "passed_time": 134.8001297,
             "remaining_time": 289.990195,
             "test": [
              0.2968977641
             ]
            },
            {
             "iteration": 476,
             "learn": [
              0.02569576919
             ],
             "passed_time": 135.0670895,
             "remaining_time": 289.6721856,
             "test": [
              0.2967387254
             ]
            },
            {
             "iteration": 477,
             "learn": [
              0.02562618838
             ],
             "passed_time": 135.3423198,
             "remaining_time": 289.3720729,
             "test": [
              0.2966902198
             ]
            },
            {
             "iteration": 478,
             "learn": [
              0.02555523068
             ],
             "passed_time": 135.6209938,
             "remaining_time": 289.0794043,
             "test": [
              0.2964977171
             ]
            },
            {
             "iteration": 479,
             "learn": [
              0.02547431221
             ],
             "passed_time": 135.9555078,
             "remaining_time": 288.9054542,
             "test": [
              0.2964116538
             ]
            },
            {
             "iteration": 480,
             "learn": [
              0.02540779945
             ],
             "passed_time": 136.2294767,
             "remaining_time": 288.6025711,
             "test": [
              0.2965677153
             ]
            },
            {
             "iteration": 481,
             "learn": [
              0.02533098169
             ],
             "passed_time": 136.5088427,
             "remaining_time": 288.3112073,
             "test": [
              0.2964112197
             ]
            },
            {
             "iteration": 482,
             "learn": [
              0.02526583418
             ],
             "passed_time": 136.8024196,
             "remaining_time": 288.0498153,
             "test": [
              0.2961994574
             ]
            },
            {
             "iteration": 483,
             "learn": [
              0.025205105
             ],
             "passed_time": 137.0709855,
             "remaining_time": 287.7357877,
             "test": [
              0.2960999652
             ]
            },
            {
             "iteration": 484,
             "learn": [
              0.02519786306
             ],
             "passed_time": 137.3227568,
             "remaining_time": 287.3868004,
             "test": [
              0.2960847064
             ]
            },
            {
             "iteration": 485,
             "learn": [
              0.02512146435
             ],
             "passed_time": 137.5930115,
             "remaining_time": 287.076777,
             "test": [
              0.2957555259
             ]
            },
            {
             "iteration": 486,
             "learn": [
              0.02507344307
             ],
             "passed_time": 137.8710371,
             "remaining_time": 286.7830812,
             "test": [
              0.2957686137
             ]
            },
            {
             "iteration": 487,
             "learn": [
              0.0250127222
             ],
             "passed_time": 138.1480761,
             "remaining_time": 286.4874038,
             "test": [
              0.2956582666
             ]
            },
            {
             "iteration": 488,
             "learn": [
              0.024954208
             ],
             "passed_time": 138.4203616,
             "remaining_time": 286.1819747,
             "test": [
              0.2955476714
             ]
            },
            {
             "iteration": 489,
             "learn": [
              0.02487485764
             ],
             "passed_time": 138.7143734,
             "remaining_time": 285.9214636,
             "test": [
              0.2952668725
             ]
            },
            {
             "iteration": 490,
             "learn": [
              0.02480288392
             ],
             "passed_time": 138.9808922,
             "remaining_time": 285.6043181,
             "test": [
              0.2950952421
             ]
            },
            {
             "iteration": 491,
             "learn": [
              0.02472899952
             ],
             "passed_time": 139.2755712,
             "remaining_time": 285.3450727,
             "test": [
              0.2949843988
             ]
            },
            {
             "iteration": 492,
             "learn": [
              0.0246527355
             ],
             "passed_time": 139.5694296,
             "remaining_time": 285.0840073,
             "test": [
              0.294850047
             ]
            },
            {
             "iteration": 493,
             "learn": [
              0.02458639902
             ],
             "passed_time": 139.8560568,
             "remaining_time": 284.8080833,
             "test": [
              0.2947422121
             ]
            },
            {
             "iteration": 494,
             "learn": [
              0.02452196156
             ],
             "passed_time": 140.1416963,
             "remaining_time": 284.5301106,
             "test": [
              0.2945130511
             ]
            },
            {
             "iteration": 495,
             "learn": [
              0.02446094636
             ],
             "passed_time": 140.4080343,
             "remaining_time": 284.2130372,
             "test": [
              0.2946397735
             ]
            },
            {
             "iteration": 496,
             "learn": [
              0.02440016563
             ],
             "passed_time": 140.6825867,
             "remaining_time": 283.9127454,
             "test": [
              0.2943588195
             ]
            },
            {
             "iteration": 497,
             "learn": [
              0.0243328896
             ],
             "passed_time": 140.9554586,
             "remaining_time": 283.6091757,
             "test": [
              0.2942485034
             ]
            },
            {
             "iteration": 498,
             "learn": [
              0.024263214
             ],
             "passed_time": 141.2496922,
             "remaining_time": 283.3485808,
             "test": [
              0.2942492477
             ]
            },
            {
             "iteration": 499,
             "learn": [
              0.0241992987
             ],
             "passed_time": 141.5535163,
             "remaining_time": 283.1070326,
             "test": [
              0.2942218315
             ]
            },
            {
             "iteration": 500,
             "learn": [
              0.02413572928
             ],
             "passed_time": 141.8496583,
             "remaining_time": 282.8499175,
             "test": [
              0.2939895382
             ]
            },
            {
             "iteration": 501,
             "learn": [
              0.02407279842
             ],
             "passed_time": 142.1431987,
             "remaining_time": 282.5874748,
             "test": [
              0.2940089528
             ]
            },
            {
             "iteration": 502,
             "learn": [
              0.02400203695
             ],
             "passed_time": 142.4156981,
             "remaining_time": 282.2832028,
             "test": [
              0.2937923524
             ]
            },
            {
             "iteration": 503,
             "learn": [
              0.0239349771
             ],
             "passed_time": 142.6984009,
             "remaining_time": 281.9992208,
             "test": [
              0.2935100028
             ]
            },
            {
             "iteration": 504,
             "learn": [
              0.02387204291
             ],
             "passed_time": 142.9707257,
             "remaining_time": 281.6947962,
             "test": [
              0.293281245
             ]
            },
            {
             "iteration": 505,
             "learn": [
              0.02386058884
             ],
             "passed_time": 143.2220903,
             "remaining_time": 281.3493236,
             "test": [
              0.2932956975
             ]
            },
            {
             "iteration": 506,
             "learn": [
              0.02379863742
             ],
             "passed_time": 143.5161778,
             "remaining_time": 281.0878985,
             "test": [
              0.293128285
             ]
            },
            {
             "iteration": 507,
             "learn": [
              0.02374269241
             ],
             "passed_time": 143.7927087,
             "remaining_time": 280.7920611,
             "test": [
              0.2932119602
             ]
            },
            {
             "iteration": 508,
             "learn": [
              0.02367535818
             ],
             "passed_time": 144.0855576,
             "remaining_time": 280.5280699,
             "test": [
              0.2931641369
             ]
            },
            {
             "iteration": 509,
             "learn": [
              0.0236200301
             ],
             "passed_time": 144.3544178,
             "remaining_time": 280.2173992,
             "test": [
              0.2930727393
             ]
            },
            {
             "iteration": 510,
             "learn": [
              0.02356474194
             ],
             "passed_time": 144.6479383,
             "remaining_time": 279.9546203,
             "test": [
              0.2930367633
             ]
            },
            {
             "iteration": 511,
             "learn": [
              0.02350895656
             ],
             "passed_time": 144.9312374,
             "remaining_time": 279.6719972,
             "test": [
              0.2929640359
             ]
            },
            {
             "iteration": 512,
             "learn": [
              0.02346300227
             ],
             "passed_time": 145.2145499,
             "remaining_time": 279.3893972,
             "test": [
              0.292984567
             ]
            },
            {
             "iteration": 513,
             "learn": [
              0.02341123945
             ],
             "passed_time": 145.496753,
             "remaining_time": 279.1046662,
             "test": [
              0.2930026171
             ]
            },
            {
             "iteration": 514,
             "learn": [
              0.02335444303
             ],
             "passed_time": 145.7720698,
             "remaining_time": 278.8067743,
             "test": [
              0.2927951037
             ]
            },
            {
             "iteration": 515,
             "learn": [
              0.02329598039
             ],
             "passed_time": 146.0690976,
             "remaining_time": 278.5503722,
             "test": [
              0.2925532271
             ]
            },
            {
             "iteration": 516,
             "learn": [
              0.02324588879
             ],
             "passed_time": 146.3336855,
             "remaining_time": 278.2321332,
             "test": [
              0.2924269389
             ]
            },
            {
             "iteration": 517,
             "learn": [
              0.02320103866
             ],
             "passed_time": 146.6086153,
             "remaining_time": 277.9337069,
             "test": [
              0.2923872103
             ]
            },
            {
             "iteration": 518,
             "learn": [
              0.02314555094
             ],
             "passed_time": 146.8976473,
             "remaining_time": 277.6620269,
             "test": [
              0.2924078034
             ]
            },
            {
             "iteration": 519,
             "learn": [
              0.02309809671
             ],
             "passed_time": 147.1725724,
             "remaining_time": 277.3636941,
             "test": [
              0.2923763244
             ]
            },
            {
             "iteration": 520,
             "learn": [
              0.02303667908
             ],
             "passed_time": 147.4797962,
             "remaining_time": 277.126143,
             "test": [
              0.2921904897
             ]
            },
            {
             "iteration": 521,
             "learn": [
              0.02299452452
             ],
             "passed_time": 147.7579077,
             "remaining_time": 276.8337811,
             "test": [
              0.2921200264
             ]
            },
            {
             "iteration": 522,
             "learn": [
              0.02293346608
             ],
             "passed_time": 148.0316361,
             "remaining_time": 276.5332859,
             "test": [
              0.2922542541
             ]
            },
            {
             "iteration": 523,
             "learn": [
              0.02287820618
             ],
             "passed_time": 148.2963359,
             "remaining_time": 276.216076,
             "test": [
              0.2922908504
             ]
            },
            {
             "iteration": 524,
             "learn": [
              0.02283513203
             ],
             "passed_time": 148.5679047,
             "remaining_time": 275.9118229,
             "test": [
              0.2922847097
             ]
            },
            {
             "iteration": 525,
             "learn": [
              0.02278241804
             ],
             "passed_time": 148.8679692,
             "remaining_time": 275.6604601,
             "test": [
              0.2922073612
             ]
            },
            {
             "iteration": 526,
             "learn": [
              0.02272487996
             ],
             "passed_time": 149.1596737,
             "remaining_time": 275.3934773,
             "test": [
              0.2922151147
             ]
            },
            {
             "iteration": 527,
             "learn": [
              0.02266755141
             ],
             "passed_time": 149.4303336,
             "remaining_time": 275.0876596,
             "test": [
              0.2921878846
             ]
            },
            {
             "iteration": 528,
             "learn": [
              0.02261995251
             ],
             "passed_time": 149.6945634,
             "remaining_time": 274.7701721,
             "test": [
              0.2919962193
             ]
            },
            {
             "iteration": 529,
             "learn": [
              0.02257310024
             ],
             "passed_time": 149.9664355,
             "remaining_time": 274.4668724,
             "test": [
              0.2919784794
             ]
            },
            {
             "iteration": 530,
             "learn": [
              0.02253853017
             ],
             "passed_time": 150.2387212,
             "remaining_time": 274.1644461,
             "test": [
              0.2919840929
             ]
            },
            {
             "iteration": 531,
             "learn": [
              0.02248092392
             ],
             "passed_time": 150.5367463,
             "remaining_time": 273.9089669,
             "test": [
              0.2918406541
             ]
            },
            {
             "iteration": 532,
             "learn": [
              0.02243304564
             ],
             "passed_time": 150.8221981,
             "remaining_time": 273.630517,
             "test": [
              0.2917312994
             ]
            },
            {
             "iteration": 533,
             "learn": [
              0.02238497447
             ],
             "passed_time": 151.108367,
             "remaining_time": 273.3533381,
             "test": [
              0.2915690662
             ]
            },
            {
             "iteration": 534,
             "learn": [
              0.02234289474
             ],
             "passed_time": 151.376433,
             "remaining_time": 273.0434726,
             "test": [
              0.2915361606
             ]
            },
            {
             "iteration": 535,
             "learn": [
              0.02229223276
             ],
             "passed_time": 151.6523368,
             "remaining_time": 272.7478595,
             "test": [
              0.2914409482
             ]
            },
            {
             "iteration": 536,
             "learn": [
              0.02224727621
             ],
             "passed_time": 151.9451102,
             "remaining_time": 272.4825718,
             "test": [
              0.2912177109
             ]
            },
            {
             "iteration": 537,
             "learn": [
              0.02220833769
             ],
             "passed_time": 152.2153258,
             "remaining_time": 272.1768464,
             "test": [
              0.2912996494
             ]
            },
            {
             "iteration": 538,
             "learn": [
              0.0221656643
             ],
             "passed_time": 152.4897212,
             "remaining_time": 271.8787052,
             "test": [
              0.2911524579
             ]
            },
            {
             "iteration": 539,
             "learn": [
              0.02211317646
             ],
             "passed_time": 152.7920799,
             "remaining_time": 271.6303642,
             "test": [
              0.2911307482
             ]
            },
            {
             "iteration": 540,
             "learn": [
              0.02210854694
             ],
             "passed_time": 153.0420307,
             "remaining_time": 271.2889231,
             "test": [
              0.2911146831
             ]
            },
            {
             "iteration": 541,
             "learn": [
              0.0220594614
             ],
             "passed_time": 153.3157017,
             "remaining_time": 270.9897458,
             "test": [
              0.2909263673
             ]
            },
            {
             "iteration": 542,
             "learn": [
              0.02201013972
             ],
             "passed_time": 153.5869028,
             "remaining_time": 270.6863093,
             "test": [
              0.2907408738
             ]
            },
            {
             "iteration": 543,
             "learn": [
              0.02195979204
             ],
             "passed_time": 153.8931167,
             "remaining_time": 270.4445212,
             "test": [
              0.2906868477
             ]
            },
            {
             "iteration": 544,
             "learn": [
              0.02192134076
             ],
             "passed_time": 154.1756856,
             "remaining_time": 270.1610638,
             "test": [
              0.290781967
             ]
            },
            {
             "iteration": 545,
             "learn": [
              0.02187543967
             ],
             "passed_time": 154.4706567,
             "remaining_time": 269.8992792,
             "test": [
              0.2906726744
             ]
            },
            {
             "iteration": 546,
             "learn": [
              0.021831564
             ],
             "passed_time": 154.7456167,
             "remaining_time": 269.6025096,
             "test": [
              0.2906442348
             ]
            },
            {
             "iteration": 547,
             "learn": [
              0.02179330229
             ],
             "passed_time": 155.0145159,
             "remaining_time": 269.2952904,
             "test": [
              0.2905288944
             ]
            },
            {
             "iteration": 548,
             "learn": [
              0.02174123017
             ],
             "passed_time": 155.3093727,
             "remaining_time": 269.0331756,
             "test": [
              0.2904168416
             ]
            },
            {
             "iteration": 549,
             "learn": [
              0.02169676417
             ],
             "passed_time": 155.5861897,
             "remaining_time": 268.7397823,
             "test": [
              0.2903629706
             ]
            },
            {
             "iteration": 550,
             "learn": [
              0.02164495313
             ],
             "passed_time": 155.882131,
             "remaining_time": 268.4793871,
             "test": [
              0.2902480025
             ]
            },
            {
             "iteration": 551,
             "learn": [
              0.0216024028
             ],
             "passed_time": 156.1570897,
             "remaining_time": 268.182828,
             "test": [
              0.2902136082
             ]
            },
            {
             "iteration": 552,
             "learn": [
              0.02154214089
             ],
             "passed_time": 156.4390457,
             "remaining_time": 267.8983296,
             "test": [
              0.2901454398
             ]
            },
            {
             "iteration": 553,
             "learn": [
              0.02149375709
             ],
             "passed_time": 156.715352,
             "remaining_time": 267.6041931,
             "test": [
              0.2902303246
             ]
            },
            {
             "iteration": 554,
             "learn": [
              0.02143927211
             ],
             "passed_time": 157.0163803,
             "remaining_time": 267.3522151,
             "test": [
              0.2902421409
             ]
            },
            {
             "iteration": 555,
             "learn": [
              0.02138813122
             ],
             "passed_time": 157.3187692,
             "remaining_time": 267.1023707,
             "test": [
              0.2900822027
             ]
            },
            {
             "iteration": 556,
             "learn": [
              0.02133274162
             ],
             "passed_time": 157.6248728,
             "remaining_time": 266.8586266,
             "test": [
              0.2899386088
             ]
            },
            {
             "iteration": 557,
             "learn": [
              0.02128715482
             ],
             "passed_time": 157.895115,
             "remaining_time": 266.5541189,
             "test": [
              0.2899486883
             ]
            },
            {
             "iteration": 558,
             "learn": [
              0.02124178087
             ],
             "passed_time": 158.1628122,
             "remaining_time": 266.2454494,
             "test": [
              0.2898889247
             ]
            },
            {
             "iteration": 559,
             "learn": [
              0.02118777647
             ],
             "passed_time": 158.4397156,
             "remaining_time": 265.9523797,
             "test": [
              0.2897492696
             ]
            },
            {
             "iteration": 560,
             "learn": [
              0.02115502062
             ],
             "passed_time": 158.7114006,
             "remaining_time": 265.650633,
             "test": [
              0.2898464978
             ]
            },
            {
             "iteration": 561,
             "learn": [
              0.02111214436
             ],
             "passed_time": 158.9904073,
             "remaining_time": 265.3612136,
             "test": [
              0.2898173759
             ]
            },
            {
             "iteration": 562,
             "learn": [
              0.02107169427
             ],
             "passed_time": 159.2607035,
             "remaining_time": 265.0573343,
             "test": [
              0.2898078236
             ]
            },
            {
             "iteration": 563,
             "learn": [
              0.0210670847
             ],
             "passed_time": 159.5127308,
             "remaining_time": 264.7232553,
             "test": [
              0.2898669979
             ]
            },
            {
             "iteration": 564,
             "learn": [
              0.02102228778
             ],
             "passed_time": 159.8020414,
             "remaining_time": 264.4511658,
             "test": [
              0.2896879243
             ]
            },
            {
             "iteration": 565,
             "learn": [
              0.02098700765
             ],
             "passed_time": 160.0864314,
             "remaining_time": 264.1708956,
             "test": [
              0.2894694321
             ]
            },
            {
             "iteration": 566,
             "learn": [
              0.02094184323
             ],
             "passed_time": 160.3887107,
             "remaining_time": 263.9200478,
             "test": [
              0.2894840396
             ]
            },
            {
             "iteration": 567,
             "learn": [
              0.02089728245
             ],
             "passed_time": 160.6685338,
             "remaining_time": 263.6321716,
             "test": [
              0.2892765883
             ]
            },
            {
             "iteration": 568,
             "learn": [
              0.02085072951
             ],
             "passed_time": 160.9647944,
             "remaining_time": 263.371219,
             "test": [
              0.2891634499
             ]
            },
            {
             "iteration": 569,
             "learn": [
              0.02080632337
             ],
             "passed_time": 161.2603219,
             "remaining_time": 263.1089463,
             "test": [
              0.2891039965
             ]
            },
            {
             "iteration": 570,
             "learn": [
              0.02079780765
             ],
             "passed_time": 161.5107846,
             "remaining_time": 262.773238,
             "test": [
              0.2891144791
             ]
            },
            {
             "iteration": 571,
             "learn": [
              0.02079646236
             ],
             "passed_time": 161.7605593,
             "remaining_time": 262.4367115,
             "test": [
              0.289116526
             ]
            },
            {
             "iteration": 572,
             "learn": [
              0.02075366591
             ],
             "passed_time": 162.0383122,
             "remaining_time": 262.1457511,
             "test": [
              0.289058003
             ]
            },
            {
             "iteration": 573,
             "learn": [
              0.02070971708
             ],
             "passed_time": 162.3388519,
             "remaining_time": 261.8915973,
             "test": [
              0.2889857408
             ]
            },
            {
             "iteration": 574,
             "learn": [
              0.02067791075
             ],
             "passed_time": 162.6109758,
             "remaining_time": 261.5915697,
             "test": [
              0.2889958824
             ]
            },
            {
             "iteration": 575,
             "learn": [
              0.02063182009
             ],
             "passed_time": 162.8847607,
             "remaining_time": 261.2943036,
             "test": [
              0.2889894005
             ]
            },
            {
             "iteration": 576,
             "learn": [
              0.02059364319
             ],
             "passed_time": 163.1791493,
             "remaining_time": 261.0300777,
             "test": [
              0.2888728196
             ]
            },
            {
             "iteration": 577,
             "learn": [
              0.02055093488
             ],
             "passed_time": 163.4452448,
             "remaining_time": 260.7206155,
             "test": [
              0.2887924629
             ]
            },
            {
             "iteration": 578,
             "learn": [
              0.02051009899
             ],
             "passed_time": 163.7184918,
             "remaining_time": 260.4226787,
             "test": [
              0.2887700399
             ]
            },
            {
             "iteration": 579,
             "learn": [
              0.02046616346
             ],
             "passed_time": 164.0145977,
             "remaining_time": 260.161086,
             "test": [
              0.2887735754
             ]
            },
            {
             "iteration": 580,
             "learn": [
              0.02042516627
             ],
             "passed_time": 164.3293056,
             "remaining_time": 259.9287984,
             "test": [
              0.2887227128
             ]
            },
            {
             "iteration": 581,
             "learn": [
              0.02037542887
             ],
             "passed_time": 164.6053895,
             "remaining_time": 259.635305,
             "test": [
              0.2885929511
             ]
            },
            {
             "iteration": 582,
             "learn": [
              0.02033321111
             ],
             "passed_time": 164.8880035,
             "remaining_time": 259.3521427,
             "test": [
              0.2884610184
             ]
            },
            {
             "iteration": 583,
             "learn": [
              0.02029224885
             ],
             "passed_time": 165.189696,
             "remaining_time": 259.0989068,
             "test": [
              0.2883616502
             ]
            },
            {
             "iteration": 584,
             "learn": [
              0.0202504252
             ],
             "passed_time": 165.4854423,
             "remaining_time": 258.8362046,
             "test": [
              0.2883979983
             ]
            },
            {
             "iteration": 585,
             "learn": [
              0.02021534462
             ],
             "passed_time": 165.7501195,
             "remaining_time": 258.5249304,
             "test": [
              0.2885452519
             ]
            },
            {
             "iteration": 586,
             "learn": [
              0.02017134755
             ],
             "passed_time": 166.0234721,
             "remaining_time": 258.2273084,
             "test": [
              0.2885391421
             ]
            },
            {
             "iteration": 587,
             "learn": [
              0.02013576478
             ],
             "passed_time": 166.3034761,
             "remaining_time": 257.9400853,
             "test": [
              0.2885653178
             ]
            },
            {
             "iteration": 588,
             "learn": [
              0.02011424017
             ],
             "passed_time": 166.5702604,
             "remaining_time": 257.6324401,
             "test": [
              0.2884366415
             ]
            },
            {
             "iteration": 589,
             "learn": [
              0.0200742823
             ],
             "passed_time": 166.8672271,
             "remaining_time": 257.3714859,
             "test": [
              0.2883832048
             ]
            },
            {
             "iteration": 590,
             "learn": [
              0.02003260166
             ],
             "passed_time": 167.1555081,
             "remaining_time": 257.0970506,
             "test": [
              0.2885665273
             ]
            },
            {
             "iteration": 591,
             "learn": [
              0.01999442476
             ],
             "passed_time": 167.4238133,
             "remaining_time": 256.7919298,
             "test": [
              0.2884408284
             ]
            },
            {
             "iteration": 592,
             "learn": [
              0.01996324202
             ],
             "passed_time": 167.6932693,
             "remaining_time": 256.4886936,
             "test": [
              0.2884053796
             ]
            },
            {
             "iteration": 593,
             "learn": [
              0.01992091284
             ],
             "passed_time": 167.9688414,
             "remaining_time": 256.1948995,
             "test": [
              0.2880692521
             ]
            },
            {
             "iteration": 594,
             "learn": [
              0.01988415772
             ],
             "passed_time": 168.2800979,
             "remaining_time": 255.955443,
             "test": [
              0.2880526287
             ]
            },
            {
             "iteration": 595,
             "learn": [
              0.01984976059
             ],
             "passed_time": 168.5563756,
             "remaining_time": 255.6626905,
             "test": [
              0.2879175946
             ]
            },
            {
             "iteration": 596,
             "learn": [
              0.01980862539
             ],
             "passed_time": 168.8364114,
             "remaining_time": 255.3756775,
             "test": [
              0.2880047434
             ]
            },
            {
             "iteration": 597,
             "learn": [
              0.01977817599
             ],
             "passed_time": 169.1182462,
             "remaining_time": 255.0914015,
             "test": [
              0.287963371
             ]
            },
            {
             "iteration": 598,
             "learn": [
              0.01973865379
             ],
             "passed_time": 169.4174611,
             "remaining_time": 254.8332762,
             "test": [
              0.2879099032
             ]
            },
            {
             "iteration": 599,
             "learn": [
              0.01970006449
             ],
             "passed_time": 169.7062267,
             "remaining_time": 254.55934,
             "test": [
              0.2879114539
             ]
            },
            {
             "iteration": 600,
             "learn": [
              0.0196758094
             ],
             "passed_time": 169.9726243,
             "remaining_time": 254.2518955,
             "test": [
              0.2878871701
             ]
            },
            {
             "iteration": 601,
             "learn": [
              0.01963397744
             ],
             "passed_time": 170.269977,
             "remaining_time": 253.9907631,
             "test": [
              0.2878026885
             ]
            },
            {
             "iteration": 602,
             "learn": [
              0.01959562759
             ],
             "passed_time": 170.564443,
             "remaining_time": 253.7252163,
             "test": [
              0.2876727096
             ]
            },
            {
             "iteration": 603,
             "learn": [
              0.01956112237
             ],
             "passed_time": 170.8460421,
             "remaining_time": 253.4404863,
             "test": [
              0.287630779
             ]
            },
            {
             "iteration": 604,
             "learn": [
              0.01952712268
             ],
             "passed_time": 171.1395196,
             "remaining_time": 253.1733389,
             "test": [
              0.2875356287
             ]
            },
            {
             "iteration": 605,
             "learn": [
              0.01949642218
             ],
             "passed_time": 171.4074608,
             "remaining_time": 252.8684322,
             "test": [
              0.2875615562
             ]
            },
            {
             "iteration": 606,
             "learn": [
              0.01946355658
             ],
             "passed_time": 171.6813554,
             "remaining_time": 252.5724059,
             "test": [
              0.2875152216
             ]
            },
            {
             "iteration": 607,
             "learn": [
              0.01942897487
             ],
             "passed_time": 171.9667068,
             "remaining_time": 252.2932606,
             "test": [
              0.2874657235
             ]
            },
            {
             "iteration": 608,
             "learn": [
              0.01939442808
             ],
             "passed_time": 172.2599434,
             "remaining_time": 252.0256315,
             "test": [
              0.2873905151
             ]
            },
            {
             "iteration": 609,
             "learn": [
              0.01935636426
             ],
             "passed_time": 172.5437734,
             "remaining_time": 251.7441939,
             "test": [
              0.2874034789
             ]
            },
            {
             "iteration": 610,
             "learn": [
              0.01932901783
             ],
             "passed_time": 172.8078756,
             "remaining_time": 251.4340449,
             "test": [
              0.2874503097
             ]
            },
            {
             "iteration": 611,
             "learn": [
              0.01929713667
             ],
             "passed_time": 173.0806528,
             "remaining_time": 251.1366335,
             "test": [
              0.2874477045
             ]
            },
            {
             "iteration": 612,
             "learn": [
              0.01926552491
             ],
             "passed_time": 173.3516296,
             "remaining_time": 250.8366973,
             "test": [
              0.287289131
             ]
            },
            {
             "iteration": 613,
             "learn": [
              0.01922791671
             ],
             "passed_time": 173.64668,
             "remaining_time": 250.5715937,
             "test": [
              0.2871256883
             ]
            },
            {
             "iteration": 614,
             "learn": [
              0.01919782318
             ],
             "passed_time": 173.9392502,
             "remaining_time": 250.3028234,
             "test": [
              0.2871266187
             ]
            },
            {
             "iteration": 615,
             "learn": [
              0.0191647414
             ],
             "passed_time": 174.2095834,
             "remaining_time": 250.0020645,
             "test": [
              0.2869399776
             ]
            },
            {
             "iteration": 616,
             "learn": [
              0.01913418225
             ],
             "passed_time": 174.4998421,
             "remaining_time": 249.7299199,
             "test": [
              0.2868970545
             ]
            },
            {
             "iteration": 617,
             "learn": [
              0.01910187872
             ],
             "passed_time": 174.7976682,
             "remaining_time": 249.4685167,
             "test": [
              0.2868202023
             ]
            },
            {
             "iteration": 618,
             "learn": [
              0.0190659434
             ],
             "passed_time": 175.0875497,
             "remaining_time": 249.1956887,
             "test": [
              0.2868638698
             ]
            },
            {
             "iteration": 619,
             "learn": [
              0.01902762515
             ],
             "passed_time": 175.3868057,
             "remaining_time": 248.9361113,
             "test": [
              0.2867597875
             ]
            },
            {
             "iteration": 620,
             "learn": [
              0.0189945068
             ],
             "passed_time": 175.6517501,
             "remaining_time": 248.6278395,
             "test": [
              0.2867965388
             ]
            },
            {
             "iteration": 621,
             "learn": [
              0.01896348536
             ],
             "passed_time": 175.9291926,
             "remaining_time": 248.337349,
             "test": [
              0.2867365891
             ]
            },
            {
             "iteration": 622,
             "learn": [
              0.01892643923
             ],
             "passed_time": 176.224059,
             "remaining_time": 248.0714282,
             "test": [
              0.2867172986
             ]
            },
            {
             "iteration": 623,
             "learn": [
              0.01889479586
             ],
             "passed_time": 176.5036769,
             "remaining_time": 247.784008,
             "test": [
              0.2866379653
             ]
            },
            {
             "iteration": 624,
             "learn": [
              0.01886131666
             ],
             "passed_time": 176.8020222,
             "remaining_time": 247.522831,
             "test": [
              0.2867342631
             ]
            },
            {
             "iteration": 625,
             "learn": [
              0.01882984457
             ],
             "passed_time": 177.0901216,
             "remaining_time": 247.2472305,
             "test": [
              0.2867029392
             ]
            },
            {
             "iteration": 626,
             "learn": [
              0.01880158522
             ],
             "passed_time": 177.3785165,
             "remaining_time": 246.9720014,
             "test": [
              0.286648541
             ]
            },
            {
             "iteration": 627,
             "learn": [
              0.01876861153
             ],
             "passed_time": 177.6609392,
             "remaining_time": 246.6884379,
             "test": [
              0.2865641214
             ]
            },
            {
             "iteration": 628,
             "learn": [
              0.01873468168
             ],
             "passed_time": 177.9348077,
             "remaining_time": 246.3930327,
             "test": [
              0.2864449974
             ]
            },
            {
             "iteration": 629,
             "learn": [
              0.01869890434
             ],
             "passed_time": 178.2475042,
             "remaining_time": 246.1513154,
             "test": [
              0.2864233188
             ]
            },
            {
             "iteration": 630,
             "learn": [
              0.01866292247
             ],
             "passed_time": 178.5313103,
             "remaining_time": 245.8695858,
             "test": [
              0.2863038536
             ]
            },
            {
             "iteration": 631,
             "learn": [
              0.01862430656
             ],
             "passed_time": 178.8121467,
             "remaining_time": 245.5837711,
             "test": [
              0.2862416709
             ]
            },
            {
             "iteration": 632,
             "learn": [
              0.01858786073
             ],
             "passed_time": 179.101516,
             "remaining_time": 245.3096593,
             "test": [
              0.2861544291
             ]
            },
            {
             "iteration": 633,
             "learn": [
              0.01855431667
             ],
             "passed_time": 179.3771975,
             "remaining_time": 245.0168029,
             "test": [
              0.2862060051
             ]
            },
            {
             "iteration": 634,
             "learn": [
              0.01852400862
             ],
             "passed_time": 179.6576596,
             "remaining_time": 244.7305127,
             "test": [
              0.2862394379
             ]
            },
            {
             "iteration": 635,
             "learn": [
              0.01852209462
             ],
             "passed_time": 179.9081101,
             "remaining_time": 244.4034703,
             "test": [
              0.286253115
             ]
            },
            {
             "iteration": 636,
             "learn": [
              0.01849639613
             ],
             "passed_time": 180.1677553,
             "remaining_time": 244.0891253,
             "test": [
              0.2861784028
             ]
            },
            {
             "iteration": 637,
             "learn": [
              0.01846656367
             ],
             "passed_time": 180.4525332,
             "remaining_time": 243.8089084,
             "test": [
              0.2861198487
             ]
            },
            {
             "iteration": 638,
             "learn": [
              0.01843531109
             ],
             "passed_time": 180.7193089,
             "remaining_time": 243.5044209,
             "test": [
              0.286019209
             ]
            },
            {
             "iteration": 639,
             "learn": [
              0.0184059193
             ],
             "passed_time": 181.0017882,
             "remaining_time": 243.2211529,
             "test": [
              0.2860750028
             ]
            },
            {
             "iteration": 640,
             "learn": [
              0.01837163857
             ],
             "passed_time": 181.2697051,
             "remaining_time": 242.9183724,
             "test": [
              0.2861682303
             ]
            },
            {
             "iteration": 641,
             "learn": [
              0.01833817932
             ],
             "passed_time": 181.5701367,
             "remaining_time": 242.6591547,
             "test": [
              0.286127106
             ]
            },
            {
             "iteration": 642,
             "learn": [
              0.01830448726
             ],
             "passed_time": 181.8661397,
             "remaining_time": 242.3939063,
             "test": [
              0.2860612637
             ]
            },
            {
             "iteration": 643,
             "learn": [
              0.01827732874
             ],
             "passed_time": 182.1328092,
             "remaining_time": 242.0895724,
             "test": [
              0.2859535838
             ]
            },
            {
             "iteration": 644,
             "learn": [
              0.01824468265
             ],
             "passed_time": 182.410882,
             "remaining_time": 241.8004714,
             "test": [
              0.2860068034
             ]
            },
            {
             "iteration": 645,
             "learn": [
              0.01821100556
             ],
             "passed_time": 182.7084033,
             "remaining_time": 241.5371152,
             "test": [
              0.2860195191
             ]
            },
            {
             "iteration": 646,
             "learn": [
              0.01818705312
             ],
             "passed_time": 182.9882048,
             "remaining_time": 241.2502916,
             "test": [
              0.2858164718
             ]
            },
            {
             "iteration": 647,
             "learn": [
              0.01815938409
             ],
             "passed_time": 183.2626411,
             "remaining_time": 240.9564356,
             "test": [
              0.2857340681
             ]
            },
            {
             "iteration": 648,
             "learn": [
              0.01813132595
             ],
             "passed_time": 183.555291,
             "remaining_time": 240.6865218,
             "test": [
              0.2857414184
             ]
            },
            {
             "iteration": 649,
             "learn": [
              0.01809791658
             ],
             "passed_time": 183.8446899,
             "remaining_time": 240.4122869,
             "test": [
              0.2857474971
             ]
            },
            {
             "iteration": 650,
             "learn": [
              0.01807658986
             ],
             "passed_time": 184.1152578,
             "remaining_time": 240.1134469,
             "test": [
              0.2857777045
             ]
            },
            {
             "iteration": 651,
             "learn": [
              0.01805213522
             ],
             "passed_time": 184.4102659,
             "remaining_time": 239.8464808,
             "test": [
              0.2857059386
             ]
            },
            {
             "iteration": 652,
             "learn": [
              0.01802629206
             ],
             "passed_time": 184.7019489,
             "remaining_time": 239.575116,
             "test": [
              0.2856762274
             ]
            },
            {
             "iteration": 653,
             "learn": [
              0.01799799945
             ],
             "passed_time": 185.000786,
             "remaining_time": 239.3129433,
             "test": [
              0.2855965839
             ]
            },
            {
             "iteration": 654,
             "learn": [
              0.01797277323
             ],
             "passed_time": 185.2642356,
             "remaining_time": 239.0050062,
             "test": [
              0.2855313309
             ]
            },
            {
             "iteration": 655,
             "learn": [
              0.01793727027
             ],
             "passed_time": 185.5349684,
             "remaining_time": 238.7065752,
             "test": [
              0.2854016622
             ]
            },
            {
             "iteration": 656,
             "learn": [
              0.01790686743
             ],
             "passed_time": 185.8289869,
             "remaining_time": 238.4381065,
             "test": [
              0.2854586656
             ]
            },
            {
             "iteration": 657,
             "learn": [
              0.01788434342
             ],
             "passed_time": 186.1041308,
             "remaining_time": 238.1454075,
             "test": [
              0.2853898149
             ]
            },
            {
             "iteration": 658,
             "learn": [
              0.01785913715
             ],
             "passed_time": 186.374463,
             "remaining_time": 237.8466212,
             "test": [
              0.2854089194
             ]
            },
            {
             "iteration": 659,
             "learn": [
              0.01782868443
             ],
             "passed_time": 186.6612355,
             "remaining_time": 237.5688452,
             "test": [
              0.2852825072
             ]
            },
            {
             "iteration": 660,
             "learn": [
              0.01780422646
             ],
             "passed_time": 186.957764,
             "remaining_time": 237.3034251,
             "test": [
              0.2851860232
             ]
            },
            {
             "iteration": 661,
             "learn": [
              0.01778552547
             ],
             "passed_time": 187.2159418,
             "remaining_time": 236.9893644,
             "test": [
              0.2850544627
             ]
            },
            {
             "iteration": 662,
             "learn": [
              0.01776078647
             ],
             "passed_time": 187.4918491,
             "remaining_time": 236.6978547,
             "test": [
              0.2848988975
             ]
            },
            {
             "iteration": 663,
             "learn": [
              0.01773130488
             ],
             "passed_time": 187.7659898,
             "remaining_time": 236.4041679,
             "test": [
              0.2848128962
             ]
            },
            {
             "iteration": 664,
             "learn": [
              0.01770118308
             ],
             "passed_time": 188.0722503,
             "remaining_time": 236.1508706,
             "test": [
              0.2848253948
             ]
            },
            {
             "iteration": 665,
             "learn": [
              0.0176700469
             ],
             "passed_time": 188.3751,
             "remaining_time": 235.8931432,
             "test": [
              0.2847952494
             ]
            },
            {
             "iteration": 666,
             "learn": [
              0.017659401
             ],
             "passed_time": 188.6299502,
             "remaining_time": 235.575335,
             "test": [
              0.2848608126
             ]
            },
            {
             "iteration": 667,
             "learn": [
              0.01763641304
             ],
             "passed_time": 188.8978837,
             "remaining_time": 235.2740108,
             "test": [
              0.2848587656
             ]
            },
            {
             "iteration": 668,
             "learn": [
              0.01760877894
             ],
             "passed_time": 189.195922,
             "remaining_time": 235.0101812,
             "test": [
              0.2847519541
             ]
            },
            {
             "iteration": 669,
             "learn": [
              0.01757830459
             ],
             "passed_time": 189.4640754,
             "remaining_time": 234.7092278,
             "test": [
              0.2847183352
             ]
            },
            {
             "iteration": 670,
             "learn": [
              0.01757518333
             ],
             "passed_time": 189.7172631,
             "remaining_time": 234.3898824,
             "test": [
              0.2846925317
             ]
            },
            {
             "iteration": 671,
             "learn": [
              0.01755987798
             ],
             "passed_time": 189.9693571,
             "remaining_time": 234.0693864,
             "test": [
              0.2846058791
             ]
            },
            {
             "iteration": 672,
             "learn": [
              0.0175340581
             ],
             "passed_time": 190.2459578,
             "remaining_time": 233.7792082,
             "test": [
              0.2846110584
             ]
            },
            {
             "iteration": 673,
             "learn": [
              0.01750831804
             ],
             "passed_time": 190.5184493,
             "remaining_time": 233.4840343,
             "test": [
              0.2847267089
             ]
            },
            {
             "iteration": 674,
             "learn": [
              0.01748690152
             ],
             "passed_time": 190.7924842,
             "remaining_time": 233.190814,
             "test": [
              0.2846295737
             ]
            },
            {
             "iteration": 675,
             "learn": [
              0.01746622167
             ],
             "passed_time": 191.055765,
             "remaining_time": 232.8845419,
             "test": [
              0.2845194127
             ]
            },
            {
             "iteration": 676,
             "learn": [
              0.01744815258
             ],
             "passed_time": 191.3172672,
             "remaining_time": 232.5762348,
             "test": [
              0.2844741945
             ]
            },
            {
             "iteration": 677,
             "learn": [
              0.01742617234
             ],
             "passed_time": 191.5967228,
             "remaining_time": 232.2898321,
             "test": [
              0.2845209013
             ]
            },
            {
             "iteration": 678,
             "learn": [
              0.01740050212
             ],
             "passed_time": 191.8641594,
             "remaining_time": 231.9889173,
             "test": [
              0.2844434599
             ]
            },
            {
             "iteration": 679,
             "learn": [
              0.01737400045
             ],
             "passed_time": 192.1625038,
             "remaining_time": 231.7253722,
             "test": [
              0.2844073908
             ]
            },
            {
             "iteration": 680,
             "learn": [
              0.01734719447
             ],
             "passed_time": 192.4523992,
             "remaining_time": 231.4515638,
             "test": [
              0.2844677747
             ]
            },
            {
             "iteration": 681,
             "learn": [
              0.0173207377
             ],
             "passed_time": 192.7314916,
             "remaining_time": 231.1647509,
             "test": [
              0.2844825683
             ]
            },
            {
             "iteration": 682,
             "learn": [
              0.01729577754
             ],
             "passed_time": 193.002971,
             "remaining_time": 230.868854,
             "test": [
              0.2843894028
             ]
            },
            {
             "iteration": 683,
             "learn": [
              0.01727459882
             ],
             "passed_time": 193.2655365,
             "remaining_time": 230.5623944,
             "test": [
              0.2841973654
             ]
            },
            {
             "iteration": 684,
             "learn": [
              0.01724462002
             ],
             "passed_time": 193.5653911,
             "remaining_time": 230.3004288,
             "test": [
              0.2842067625
             ]
            },
            {
             "iteration": 685,
             "learn": [
              0.01721683459
             ],
             "passed_time": 193.8557166,
             "remaining_time": 230.0270457,
             "test": [
              0.28424156
             ]
            },
            {
             "iteration": 686,
             "learn": [
              0.01718978583
             ],
             "passed_time": 194.1535766,
             "remaining_time": 229.7625295,
             "test": [
              0.2842461811
             ]
            },
            {
             "iteration": 687,
             "learn": [
              0.01716516989
             ],
             "passed_time": 194.4522419,
             "remaining_time": 229.4988669,
             "test": [
              0.2841675301
             ]
            },
            {
             "iteration": 688,
             "learn": [
              0.01714021139
             ],
             "passed_time": 194.7284556,
             "remaining_time": 229.2086756,
             "test": [
              0.2842005908
             ]
            },
            {
             "iteration": 689,
             "learn": [
              0.01711413043
             ],
             "passed_time": 194.9963248,
             "remaining_time": 228.9087292,
             "test": [
              0.2842985944
             ]
            },
            {
             "iteration": 690,
             "learn": [
              0.01709785561
             ],
             "passed_time": 195.2633151,
             "remaining_time": 228.6078465,
             "test": [
              0.2843229713
             ]
            },
            {
             "iteration": 691,
             "learn": [
              0.01707227685
             ],
             "passed_time": 195.5327962,
             "remaining_time": 228.3099701,
             "test": [
              0.2841688947
             ]
            },
            {
             "iteration": 692,
             "learn": [
              0.01704857385
             ],
             "passed_time": 195.8287279,
             "remaining_time": 228.0429775,
             "test": [
              0.2841353378
             ]
            },
            {
             "iteration": 693,
             "learn": [
              0.01701616888
             ],
             "passed_time": 196.1303994,
             "remaining_time": 227.7825675,
             "test": [
              0.2840779002
             ]
            },
            {
             "iteration": 694,
             "learn": [
              0.01698603543
             ],
             "passed_time": 196.4229428,
             "remaining_time": 227.5114661,
             "test": [
              0.2839711817
             ]
            },
            {
             "iteration": 695,
             "learn": [
              0.0169578509
             ],
             "passed_time": 196.7244408,
             "remaining_time": 227.2506471,
             "test": [
              0.2838927478
             ]
            },
            {
             "iteration": 696,
             "learn": [
              0.01693264297
             ],
             "passed_time": 197.0043845,
             "remaining_time": 226.9648791,
             "test": [
              0.2836719296
             ]
            },
            {
             "iteration": 697,
             "learn": [
              0.0169045233
             ],
             "passed_time": 197.3075312,
             "remaining_time": 226.7057881,
             "test": [
              0.2836463122
             ]
            },
            {
             "iteration": 698,
             "learn": [
              0.01687831762
             ],
             "passed_time": 197.6011183,
             "remaining_time": 226.4356162,
             "test": [
              0.2836586247
             ]
            },
            {
             "iteration": 699,
             "learn": [
              0.01685162804
             ],
             "passed_time": 197.8774209,
             "remaining_time": 226.1456239,
             "test": [
              0.2835697081
             ]
            },
            {
             "iteration": 700,
             "learn": [
              0.01682893276
             ],
             "passed_time": 198.1724877,
             "remaining_time": 225.8770581,
             "test": [
              0.2834786826
             ]
            },
            {
             "iteration": 701,
             "learn": [
              0.01680477578
             ],
             "passed_time": 198.4413581,
             "remaining_time": 225.5786378,
             "test": [
              0.2834748679
             ]
            },
            {
             "iteration": 702,
             "learn": [
              0.01678133884
             ],
             "passed_time": 198.7156248,
             "remaining_time": 225.2864196,
             "test": [
              0.2833939219
             ]
            },
            {
             "iteration": 703,
             "learn": [
              0.01676155197
             ],
             "passed_time": 198.9844958,
             "remaining_time": 224.9881515,
             "test": [
              0.2834677657
             ]
            },
            {
             "iteration": 704,
             "learn": [
              0.01673946863
             ],
             "passed_time": 199.2698303,
             "remaining_time": 224.7085321,
             "test": [
              0.2833113632
             ]
            },
            {
             "iteration": 705,
             "learn": [
              0.01671638256
             ],
             "passed_time": 199.5634242,
             "remaining_time": 224.4381853,
             "test": [
              0.2832790158
             ]
            },
            {
             "iteration": 706,
             "learn": [
              0.0166913908
             ],
             "passed_time": 199.8314806,
             "remaining_time": 224.1391289,
             "test": [
              0.2833247611
             ]
            },
            {
             "iteration": 707,
             "learn": [
              0.01666620782
             ],
             "passed_time": 200.1109516,
             "remaining_time": 223.8529289,
             "test": [
              0.2832925688
             ]
            },
            {
             "iteration": 708,
             "learn": [
              0.01664108137
             ],
             "passed_time": 200.3847868,
             "remaining_time": 223.5604603,
             "test": [
              0.2833213186
             ]
            },
            {
             "iteration": 709,
             "learn": [
              0.01661761449
             ],
             "passed_time": 200.6860439,
             "remaining_time": 223.2985559,
             "test": [
              0.283331305
             ]
            },
            {
             "iteration": 710,
             "learn": [
              0.01661391121
             ],
             "passed_time": 200.9375186,
             "remaining_time": 222.981297,
             "test": [
              0.2833485177
             ]
            },
            {
             "iteration": 711,
             "learn": [
              0.01658826261
             ],
             "passed_time": 201.2201453,
             "remaining_time": 222.6987001,
             "test": [
              0.2832681299
             ]
            },
            {
             "iteration": 712,
             "learn": [
              0.01656880333
             ],
             "passed_time": 201.4906971,
             "remaining_time": 222.4027751,
             "test": [
              0.2831857573
             ]
            },
            {
             "iteration": 713,
             "learn": [
              0.01654685635
             ],
             "passed_time": 201.7601806,
             "remaining_time": 222.1057451,
             "test": [
              0.2830471256
             ]
            },
            {
             "iteration": 714,
             "learn": [
              0.01652487944
             ],
             "passed_time": 202.0365292,
             "remaining_time": 221.8163292,
             "test": [
              0.2829782129
             ]
            },
            {
             "iteration": 715,
             "learn": [
              0.01650467351
             ],
             "passed_time": 202.309994,
             "remaining_time": 221.5237923,
             "test": [
              0.2829319093
             ]
            },
            {
             "iteration": 716,
             "learn": [
              0.01648066287
             ],
             "passed_time": 202.5881083,
             "remaining_time": 221.2363861,
             "test": [
              0.282937957
             ]
            },
            {
             "iteration": 717,
             "learn": [
              0.01646179891
             ],
             "passed_time": 202.8498776,
             "remaining_time": 220.9312038,
             "test": [
              0.2827811202
             ]
            },
            {
             "iteration": 718,
             "learn": [
              0.01643817572
             ],
             "passed_time": 203.1317339,
             "remaining_time": 220.6479613,
             "test": [
              0.2827645589
             ]
            },
            {
             "iteration": 719,
             "learn": [
              0.01643506277
             ],
             "passed_time": 203.3855508,
             "remaining_time": 220.3343467,
             "test": [
              0.2827564022
             ]
            },
            {
             "iteration": 720,
             "learn": [
              0.01640947902
             ],
             "passed_time": 203.6626042,
             "remaining_time": 220.0460037,
             "test": [
              0.2827518122
             ]
            },
            {
             "iteration": 721,
             "learn": [
              0.01639138332
             ],
             "passed_time": 203.9316624,
             "remaining_time": 219.7490766,
             "test": [
              0.2826338977
             ]
            },
            {
             "iteration": 722,
             "learn": [
              0.01637358861
             ],
             "passed_time": 204.1960966,
             "remaining_time": 219.4472573,
             "test": [
              0.2824550101
             ]
            },
            {
             "iteration": 723,
             "learn": [
              0.01635448353
             ],
             "passed_time": 204.4854583,
             "remaining_time": 219.1722592,
             "test": [
              0.2824081173
             ]
            },
            {
             "iteration": 724,
             "learn": [
              0.01633674203
             ],
             "passed_time": 204.7562454,
             "remaining_time": 218.8773657,
             "test": [
              0.2822740136
             ]
            },
            {
             "iteration": 725,
             "learn": [
              0.01631545522
             ],
             "passed_time": 205.0627447,
             "remaining_time": 218.6206122,
             "test": [
              0.2823006855
             ]
            },
            {
             "iteration": 726,
             "learn": [
              0.01629541558
             ],
             "passed_time": 205.3535829,
             "remaining_time": 218.3470696,
             "test": [
              0.2823169057
             ]
            },
            {
             "iteration": 727,
             "learn": [
              0.01627480225
             ],
             "passed_time": 205.6560705,
             "remaining_time": 218.085833,
             "test": [
              0.2822147462
             ]
            },
            {
             "iteration": 728,
             "learn": [
              0.01625425876
             ],
             "passed_time": 205.9299474,
             "remaining_time": 217.7942242,
             "test": [
              0.2820628096
             ]
            },
            {
             "iteration": 729,
             "learn": [
              0.01623810367
             ],
             "passed_time": 206.2075188,
             "remaining_time": 217.5065609,
             "test": [
              0.28201877
             ]
            },
            {
             "iteration": 730,
             "learn": [
              0.01621373217
             ],
             "passed_time": 206.4955433,
             "remaining_time": 217.2299217,
             "test": [
              0.2819675973
             ]
            },
            {
             "iteration": 731,
             "learn": [
              0.01619146758
             ],
             "passed_time": 206.7895067,
             "remaining_time": 216.9594824,
             "test": [
              0.2818893805
             ]
            },
            {
             "iteration": 732,
             "learn": [
              0.01616888537
             ],
             "passed_time": 207.0662297,
             "remaining_time": 216.6709389,
             "test": [
              0.2816552263
             ]
            },
            {
             "iteration": 733,
             "learn": [
              0.01614668064
             ],
             "passed_time": 207.3429775,
             "remaining_time": 216.3824533,
             "test": [
              0.2816469456
             ]
            },
            {
             "iteration": 734,
             "learn": [
              0.01612471204
             ],
             "passed_time": 207.6403315,
             "remaining_time": 216.115447,
             "test": [
              0.2815015839
             ]
            },
            {
             "iteration": 735,
             "learn": [
              0.01610260708
             ],
             "passed_time": 207.913961,
             "remaining_time": 215.8237312,
             "test": [
              0.2815558581
             ]
            },
            {
             "iteration": 736,
             "learn": [
              0.01608339724
             ],
             "passed_time": 208.1916094,
             "remaining_time": 215.5362252,
             "test": [
              0.2814418203
             ]
            },
            {
             "iteration": 737,
             "learn": [
              0.01606648885
             ],
             "passed_time": 208.4597828,
             "remaining_time": 215.2389627,
             "test": [
              0.2814641503
             ]
            },
            {
             "iteration": 738,
             "learn": [
              0.0160426445
             ],
             "passed_time": 208.7386049,
             "remaining_time": 214.9527447,
             "test": [
              0.2813455225
             ]
            },
            {
             "iteration": 739,
             "learn": [
              0.01602188649
             ],
             "passed_time": 209.0151588,
             "remaining_time": 214.6642172,
             "test": [
              0.2813566875
             ]
            },
            {
             "iteration": 740,
             "learn": [
              0.0159961614
             ],
             "passed_time": 209.3106256,
             "remaining_time": 214.3950942,
             "test": [
              0.2813484998
             ]
            },
            {
             "iteration": 741,
             "learn": [
              0.01597623484
             ],
             "passed_time": 209.5789756,
             "remaining_time": 214.0981988,
             "test": [
              0.2811760011
             ]
            },
            {
             "iteration": 742,
             "learn": [
              0.01595135118
             ],
             "passed_time": 209.8711553,
             "remaining_time": 213.8256589,
             "test": [
              0.2811537332
             ]
            },
            {
             "iteration": 743,
             "learn": [
              0.01593015583
             ],
             "passed_time": 210.1361508,
             "remaining_time": 213.5254436,
             "test": [
              0.2812048129
             ]
            },
            {
             "iteration": 744,
             "learn": [
              0.01591104908
             ],
             "passed_time": 210.4119101,
             "remaining_time": 213.236231,
             "test": [
              0.2810538687
             ]
            },
            {
             "iteration": 745,
             "learn": [
              0.01590454215
             ],
             "passed_time": 210.6655534,
             "remaining_time": 212.9247014,
             "test": [
              0.2811521205
             ]
            },
            {
             "iteration": 746,
             "learn": [
              0.01588277476
             ],
             "passed_time": 210.9376759,
             "remaining_time": 212.6319545,
             "test": [
              0.2810884801
             ]
            },
            {
             "iteration": 747,
             "learn": [
              0.0158613333
             ],
             "passed_time": 211.2258681,
             "remaining_time": 212.3554182,
             "test": [
              0.2811471893
             ]
            },
            {
             "iteration": 748,
             "learn": [
              0.01583930983
             ],
             "passed_time": 211.5142866,
             "remaining_time": 212.0790777,
             "test": [
              0.2810730663
             ]
            },
            {
             "iteration": 749,
             "learn": [
              0.01582099795
             ],
             "passed_time": 211.7821878,
             "remaining_time": 211.7821878,
             "test": [
              0.2810190713
             ]
            },
            {
             "iteration": 750,
             "learn": [
              0.01580146218
             ],
             "passed_time": 212.0592845,
             "remaining_time": 211.4945461,
             "test": [
              0.2810235993
             ]
            },
            {
             "iteration": 751,
             "learn": [
              0.01578421456
             ],
             "passed_time": 212.3238285,
             "remaining_time": 211.1944464,
             "test": [
              0.2808731823
             ]
            },
            {
             "iteration": 752,
             "learn": [
              0.01576467712
             ],
             "passed_time": 212.6037112,
             "remaining_time": 210.9096577,
             "test": [
              0.2808663593
             ]
            },
            {
             "iteration": 753,
             "learn": [
              0.01574236596
             ],
             "passed_time": 212.9020462,
             "remaining_time": 210.6431386,
             "test": [
              0.2808390982
             ]
            },
            {
             "iteration": 754,
             "learn": [
              0.01572293495
             ],
             "passed_time": 213.1863478,
             "remaining_time": 210.3626876,
             "test": [
              0.28077583
             ]
            },
            {
             "iteration": 755,
             "learn": [
              0.01570257438
             ],
             "passed_time": 213.4528144,
             "remaining_time": 210.0646745,
             "test": [
              0.2806884642
             ]
            },
            {
             "iteration": 756,
             "learn": [
              0.01568453189
             ],
             "passed_time": 213.7262227,
             "remaining_time": 209.773558,
             "test": [
              0.2806639012
             ]
            },
            {
             "iteration": 757,
             "learn": [
              0.01566815231
             ],
             "passed_time": 214.0270202,
             "remaining_time": 209.5092995,
             "test": [
              0.2805070644
             ]
            },
            {
             "iteration": 758,
             "learn": [
              0.01564817919
             ],
             "passed_time": 214.3109719,
             "remaining_time": 209.2284982,
             "test": [
              0.2804985046
             ]
            },
            {
             "iteration": 759,
             "learn": [
              0.01563041441
             ],
             "passed_time": 214.5818309,
             "remaining_time": 208.9349406,
             "test": [
              0.2805439709
             ]
            },
            {
             "iteration": 760,
             "learn": [
              0.01560914257
             ],
             "passed_time": 214.8842739,
             "remaining_time": 208.6721135,
             "test": [
              0.2804396094
             ]
            },
            {
             "iteration": 761,
             "learn": [
              0.01559138111
             ],
             "passed_time": 215.1521576,
             "remaining_time": 208.3757117,
             "test": [
              0.2804275141
             ]
            },
            {
             "iteration": 762,
             "learn": [
              0.01556905831
             ],
             "passed_time": 215.422369,
             "remaining_time": 208.081633,
             "test": [
              0.2803254476
             ]
            },
            {
             "iteration": 763,
             "learn": [
              0.01555474239
             ],
             "passed_time": 215.7050829,
             "remaining_time": 207.799661,
             "test": [
              0.2802868665
             ]
            },
            {
             "iteration": 764,
             "learn": [
              0.01553823975
             ],
             "passed_time": 215.9816398,
             "remaining_time": 207.5117716,
             "test": [
              0.280247479
             ]
            },
            {
             "iteration": 765,
             "learn": [
              0.01553637397
             ],
             "passed_time": 216.2340065,
             "remaining_time": 207.2007321,
             "test": [
              0.2802278162
             ]
            },
            {
             "iteration": 766,
             "learn": [
              0.0155199894
             ],
             "passed_time": 216.5115331,
             "remaining_time": 206.9138902,
             "test": [
              0.2802367792
             ]
            },
            {
             "iteration": 767,
             "learn": [
              0.01550425835
             ],
             "passed_time": 216.8080449,
             "remaining_time": 206.6451678,
             "test": [
              0.2802216445
             ]
            },
            {
             "iteration": 768,
             "learn": [
              0.0154841522
             ],
             "passed_time": 217.1018505,
             "remaining_time": 206.3738006,
             "test": [
              0.2801385585
             ]
            },
            {
             "iteration": 769,
             "learn": [
              0.0154642905
             ],
             "passed_time": 217.3959373,
             "remaining_time": 206.1026418,
             "test": [
              0.2801586244
             ]
            },
            {
             "iteration": 770,
             "learn": [
              0.01544718755
             ],
             "passed_time": 217.6802747,
             "remaining_time": 205.8222053,
             "test": [
              0.2800921929
             ]
            },
            {
             "iteration": 771,
             "learn": [
              0.01543067161
             ],
             "passed_time": 217.9818328,
             "remaining_time": 205.5579977,
             "test": [
              0.2800476881
             ]
            },
            {
             "iteration": 772,
             "learn": [
              0.01541589173
             ],
             "passed_time": 218.2554073,
             "remaining_time": 205.2673753,
             "test": [
              0.2801288822
             ]
            },
            {
             "iteration": 773,
             "learn": [
              0.0153985909
             ],
             "passed_time": 218.5463748,
             "remaining_time": 204.9931113,
             "test": [
              0.2801988803
             ]
            },
            {
             "iteration": 774,
             "learn": [
              0.01538079286
             ],
             "passed_time": 218.8188021,
             "remaining_time": 204.70146,
             "test": [
              0.2801387756
             ]
            },
            {
             "iteration": 775,
             "learn": [
              0.01536315279
             ],
             "passed_time": 219.1203079,
             "remaining_time": 204.4369883,
             "test": [
              0.2801919953
             ]
            },
            {
             "iteration": 776,
             "learn": [
              0.01534810353
             ],
             "passed_time": 219.389245,
             "remaining_time": 204.142116,
             "test": [
              0.2800366161
             ]
            },
            {
             "iteration": 777,
             "learn": [
              0.01532878227
             ],
             "passed_time": 219.6763082,
             "remaining_time": 203.8641318,
             "test": [
              0.2799409075
             ]
            },
            {
             "iteration": 778,
             "learn": [
              0.01531106239
             ],
             "passed_time": 219.955398,
             "remaining_time": 203.5787445,
             "test": [
              0.2798576355
             ]
            },
            {
             "iteration": 779,
             "learn": [
              0.01529414901
             ],
             "passed_time": 220.2375977,
             "remaining_time": 203.2962441,
             "test": [
              0.2798423457
             ]
            },
            {
             "iteration": 780,
             "learn": [
              0.01527516532
             ],
             "passed_time": 220.5396322,
             "remaining_time": 203.0320045,
             "test": [
              0.2798411672
             ]
            },
            {
             "iteration": 781,
             "learn": [
              0.01525501095
             ],
             "passed_time": 220.8105681,
             "remaining_time": 202.7391149,
             "test": [
              0.2797497075
             ]
            },
            {
             "iteration": 782,
             "learn": [
              0.0152359807
             ],
             "passed_time": 221.0886722,
             "remaining_time": 202.4528454,
             "test": [
              0.2797543906
             ]
            },
            {
             "iteration": 783,
             "learn": [
              0.01521658461
             ],
             "passed_time": 221.383488,
             "remaining_time": 202.1818589,
             "test": [
              0.2797633846
             ]
            },
            {
             "iteration": 784,
             "learn": [
              0.01519990903
             ],
             "passed_time": 221.6764977,
             "remaining_time": 201.9091667,
             "test": [
              0.2797293314
             ]
            },
            {
             "iteration": 785,
             "learn": [
              0.01518139095
             ],
             "passed_time": 221.9676208,
             "remaining_time": 201.634709,
             "test": [
              0.2795907928
             ]
            },
            {
             "iteration": 786,
             "learn": [
              0.01516261346
             ],
             "passed_time": 222.2444681,
             "remaining_time": 201.3472754,
             "test": [
              0.2795347198
             ]
            },
            {
             "iteration": 787,
             "learn": [
              0.01514930858
             ],
             "passed_time": 222.5169701,
             "remaining_time": 201.0559425,
             "test": [
              0.2794216745
             ]
            },
            {
             "iteration": 788,
             "learn": [
              0.01513256815
             ],
             "passed_time": 222.7894986,
             "remaining_time": 200.7646812,
             "test": [
              0.2794710485
             ]
            },
            {
             "iteration": 789,
             "learn": [
              0.0151125335
             ],
             "passed_time": 223.0506106,
             "remaining_time": 200.463207,
             "test": [
              0.2793981661
             ]
            },
            {
             "iteration": 790,
             "learn": [
              0.01509321723
             ],
             "passed_time": 223.3214971,
             "remaining_time": 200.170596,
             "test": [
              0.2794525953
             ]
            },
            {
             "iteration": 791,
             "learn": [
              0.0150789329
             ],
             "passed_time": 223.6013949,
             "remaining_time": 199.8860954,
             "test": [
              0.2792971231
             ]
            },
            {
             "iteration": 792,
             "learn": [
              0.01506104507
             ],
             "passed_time": 223.8966217,
             "remaining_time": 199.6152731,
             "test": [
              0.2793473345
             ]
            },
            {
             "iteration": 793,
             "learn": [
              0.01504347817
             ],
             "passed_time": 224.1967635,
             "remaining_time": 199.3487595,
             "test": [
              0.2793253457
             ]
            },
            {
             "iteration": 794,
             "learn": [
              0.01502755755
             ],
             "passed_time": 224.4638728,
             "remaining_time": 199.0528683,
             "test": [
              0.2792805307
             ]
            },
            {
             "iteration": 795,
             "learn": [
              0.01501921809
             ],
             "passed_time": 224.7257038,
             "remaining_time": 198.7523812,
             "test": [
              0.2793381854
             ]
            },
            {
             "iteration": 796,
             "learn": [
              0.01500232134
             ],
             "passed_time": 225.0276227,
             "remaining_time": 198.487351,
             "test": [
              0.2793196701
             ]
            },
            {
             "iteration": 797,
             "learn": [
              0.01498767783
             ],
             "passed_time": 225.2954747,
             "remaining_time": 198.1922597,
             "test": [
              0.2792571463
             ]
            },
            {
             "iteration": 798,
             "learn": [
              0.01497004275
             ],
             "passed_time": 225.5740741,
             "remaining_time": 197.9066658,
             "test": [
              0.2790852679
             ]
            },
            {
             "iteration": 799,
             "learn": [
              0.01495785036
             ],
             "passed_time": 225.8471209,
             "remaining_time": 197.6162308,
             "test": [
              0.2790694818
             ]
            },
            {
             "iteration": 800,
             "learn": [
              0.01494248348
             ],
             "passed_time": 226.1151984,
             "remaining_time": 197.3215028,
             "test": [
              0.2790907573
             ]
            },
            {
             "iteration": 801,
             "learn": [
              0.01492456072
             ],
             "passed_time": 226.3900234,
             "remaining_time": 197.0327136,
             "test": [
              0.2789720675
             ]
            },
            {
             "iteration": 802,
             "learn": [
              0.01491211556
             ],
             "passed_time": 226.6484605,
             "remaining_time": 196.7297347,
             "test": [
              0.2790072681
             ]
            },
            {
             "iteration": 803,
             "learn": [
              0.014893812
             ],
             "passed_time": 226.9152374,
             "remaining_time": 196.4340861,
             "test": [
              0.2790080125
             ]
            },
            {
             "iteration": 804,
             "learn": [
              0.01487556165
             ],
             "passed_time": 227.1804602,
             "remaining_time": 196.1371675,
             "test": [
              0.2788893537
             ]
            },
            {
             "iteration": 805,
             "learn": [
              0.0148607851
             ],
             "passed_time": 227.4583163,
             "remaining_time": 195.8512054,
             "test": [
              0.2789097918
             ]
            },
            {
             "iteration": 806,
             "learn": [
              0.01484466493
             ],
             "passed_time": 227.7362351,
             "remaining_time": 195.5653171,
             "test": [
              0.278905884
             ]
            },
            {
             "iteration": 807,
             "learn": [
              0.01483239105
             ],
             "passed_time": 228.0120554,
             "remaining_time": 195.2776514,
             "test": [
              0.2790064618
             ]
            },
            {
             "iteration": 808,
             "learn": [
              0.01481504199
             ],
             "passed_time": 228.3058676,
             "remaining_time": 195.0053826,
             "test": [
              0.2789429145
             ]
            },
            {
             "iteration": 809,
             "learn": [
              0.01480219607
             ],
             "passed_time": 228.5814446,
             "remaining_time": 194.7175269,
             "test": [
              0.2790212244
             ]
            },
            {
             "iteration": 810,
             "learn": [
              0.01479471468
             ],
             "passed_time": 228.8438944,
             "remaining_time": 194.418549,
             "test": [
              0.2790573864
             ]
            },
            {
             "iteration": 811,
             "learn": [
              0.01477925135
             ],
             "passed_time": 229.152026,
             "remaining_time": 194.1583669,
             "test": [
              0.2790859502
             ]
            },
            {
             "iteration": 812,
             "learn": [
              0.01476573861
             ],
             "passed_time": 229.4328548,
             "remaining_time": 193.8749954,
             "test": [
              0.2790534477
             ]
            },
            {
             "iteration": 813,
             "learn": [
              0.01474768448
             ],
             "passed_time": 229.7008827,
             "remaining_time": 193.5808422,
             "test": [
              0.2789625152
             ]
            },
            {
             "iteration": 814,
             "learn": [
              0.01473307921
             ],
             "passed_time": 229.99159,
             "remaining_time": 193.3058149,
             "test": [
              0.2789438139
             ]
            },
            {
             "iteration": 815,
             "learn": [
              0.01471582993
             ],
             "passed_time": 230.2707253,
             "remaining_time": 193.0210491,
             "test": [
              0.2788864074
             ]
            },
            {
             "iteration": 816,
             "learn": [
              0.01469827301
             ],
             "passed_time": 230.5425448,
             "remaining_time": 192.7301813,
             "test": [
              0.279018154
             ]
            },
            {
             "iteration": 817,
             "learn": [
              0.01468146273
             ],
             "passed_time": 230.8405053,
             "remaining_time": 192.4611548,
             "test": [
              0.2789095747
             ]
            },
            {
             "iteration": 818,
             "learn": [
              0.01466399062
             ],
             "passed_time": 231.1340363,
             "remaining_time": 192.1883745,
             "test": [
              0.278921546
             ]
            },
            {
             "iteration": 819,
             "learn": [
              0.01464567376
             ],
             "passed_time": 231.4009294,
             "remaining_time": 191.8934536,
             "test": [
              0.2788392974
             ]
            },
            {
             "iteration": 820,
             "learn": [
              0.01462812848
             ],
             "passed_time": 231.6710434,
             "remaining_time": 191.6012649,
             "test": [
              0.2788572854
             ]
            },
            {
             "iteration": 821,
             "learn": [
              0.01461620381
             ],
             "passed_time": 231.936983,
             "remaining_time": 191.3056867,
             "test": [
              0.2787682138
             ]
            },
            {
             "iteration": 822,
             "learn": [
              0.01460291888
             ],
             "passed_time": 232.2098567,
             "remaining_time": 191.0158846,
             "test": [
              0.278640592
             ]
            },
            {
             "iteration": 823,
             "learn": [
              0.0145871712
             ],
             "passed_time": 232.4802489,
             "remaining_time": 190.7240877,
             "test": [
              0.2785464651
             ]
            },
            {
             "iteration": 824,
             "learn": [
              0.01457331756
             ],
             "passed_time": 232.7449334,
             "remaining_time": 190.4276728,
             "test": [
              0.2786796074
             ]
            },
            {
             "iteration": 825,
             "learn": [
              0.01455839302
             ],
             "passed_time": 233.0158908,
             "remaining_time": 190.1364533,
             "test": [
              0.2786686905
             ]
            },
            {
             "iteration": 826,
             "learn": [
              0.01454123353
             ],
             "passed_time": 233.2968338,
             "remaining_time": 189.8534089,
             "test": [
              0.2787040152
             ]
            },
            {
             "iteration": 827,
             "learn": [
              0.01452711217
             ],
             "passed_time": 233.5954897,
             "remaining_time": 189.5847453,
             "test": [
              0.2786549514
             ]
            },
            {
             "iteration": 828,
             "learn": [
              0.01451270811
             ],
             "passed_time": 233.8841121,
             "remaining_time": 189.3078881,
             "test": [
              0.2787003556
             ]
            },
            {
             "iteration": 829,
             "learn": [
              0.01449968925
             ],
             "passed_time": 234.1528056,
             "remaining_time": 189.0149153,
             "test": [
              0.2787480548
             ]
            },
            {
             "iteration": 830,
             "learn": [
              0.01448379191
             ],
             "passed_time": 234.4304988,
             "remaining_time": 188.7292463,
             "test": [
              0.2787380374
             ]
            },
            {
             "iteration": 831,
             "learn": [
              0.01446954749
             ],
             "passed_time": 234.7012451,
             "remaining_time": 188.4380189,
             "test": [
              0.278687888
             ]
            },
            {
             "iteration": 832,
             "learn": [
              0.01445501206
             ],
             "passed_time": 234.9748532,
             "remaining_time": 188.1491322,
             "test": [
              0.2785430226
             ]
            },
            {
             "iteration": 833,
             "learn": [
              0.01444029372
             ],
             "passed_time": 235.2502033,
             "remaining_time": 187.8616731,
             "test": [
              0.2784385681
             ]
            },
            {
             "iteration": 834,
             "learn": [
              0.01442529933
             ],
             "passed_time": 235.5451893,
             "remaining_time": 187.5898813,
             "test": [
              0.2784446778
             ]
            },
            {
             "iteration": 835,
             "learn": [
              0.01441019519
             ],
             "passed_time": 235.8379447,
             "remaining_time": 187.3162623,
             "test": [
              0.2783647553
             ]
            },
            {
             "iteration": 836,
             "learn": [
              0.01439444584
             ],
             "passed_time": 236.1345653,
             "remaining_time": 187.0456593,
             "test": [
              0.2783781842
             ]
            },
            {
             "iteration": 837,
             "learn": [
              0.01437937663
             ],
             "passed_time": 236.4353562,
             "remaining_time": 186.7782885,
             "test": [
              0.2784295431
             ]
            },
            {
             "iteration": 838,
             "learn": [
              0.01436614658
             ],
             "passed_time": 236.703863,
             "remaining_time": 186.4854034,
             "test": [
              0.2784477172
             ]
            },
            {
             "iteration": 839,
             "learn": [
              0.01435282839
             ],
             "passed_time": 236.9769918,
             "remaining_time": 186.1962079,
             "test": [
              0.2784219137
             ]
            },
            {
             "iteration": 840,
             "learn": [
              0.01433499044
             ],
             "passed_time": 237.2774387,
             "remaining_time": 185.9284568,
             "test": [
              0.2784693028
             ]
            },
            {
             "iteration": 841,
             "learn": [
              0.01431961193
             ],
             "passed_time": 237.5524941,
             "remaining_time": 185.6407851,
             "test": [
              0.2785037591
             ]
            },
            {
             "iteration": 842,
             "learn": [
              0.01430916724
             ],
             "passed_time": 237.8179135,
             "remaining_time": 185.3456337,
             "test": [
              0.2785127221
             ]
            },
            {
             "iteration": 843,
             "learn": [
              0.01429361578
             ],
             "passed_time": 238.117763,
             "remaining_time": 185.0773134,
             "test": [
              0.2784760018
             ]
            },
            {
             "iteration": 844,
             "learn": [
              0.0142789124
             ],
             "passed_time": 238.4146248,
             "remaining_time": 184.8066026,
             "test": [
              0.278503573
             ]
            },
            {
             "iteration": 845,
             "learn": [
              0.01426178617
             ],
             "passed_time": 238.6942655,
             "remaining_time": 184.5225173,
             "test": [
              0.278604585
             ]
            },
            {
             "iteration": 846,
             "learn": [
              0.01424504241
             ],
             "passed_time": 238.9729354,
             "remaining_time": 184.237694,
             "test": [
              0.2785404484
             ]
            },
            {
             "iteration": 847,
             "learn": [
              0.0142318689
             ],
             "passed_time": 239.25107,
             "remaining_time": 183.9524737,
             "test": [
              0.2785437359
             ]
            },
            {
             "iteration": 848,
             "learn": [
              0.01421635735
             ],
             "passed_time": 239.5187193,
             "remaining_time": 183.65923,
             "test": [
              0.2785388667
             ]
            },
            {
             "iteration": 849,
             "learn": [
              0.01420031367
             ],
             "passed_time": 239.806424,
             "remaining_time": 183.3813831,
             "test": [
              0.2784933075
             ]
            },
            {
             "iteration": 850,
             "learn": [
              0.01418601105
             ],
             "passed_time": 240.1010566,
             "remaining_time": 183.1087964,
             "test": [
              0.2784171066
             ]
            },
            {
             "iteration": 851,
             "learn": [
              0.0141695583
             ],
             "passed_time": 240.3854574,
             "remaining_time": 182.8283761,
             "test": [
              0.2783948076
             ]
            },
            {
             "iteration": 852,
             "learn": [
              0.01415647791
             ],
             "passed_time": 240.6723857,
             "remaining_time": 182.5498635,
             "test": [
              0.2783388588
             ]
            },
            {
             "iteration": 853,
             "learn": [
              0.0141449673
             ],
             "passed_time": 240.9448641,
             "remaining_time": 182.2604007,
             "test": [
              0.2783585525
             ]
            },
            {
             "iteration": 854,
             "learn": [
              0.01412750351
             ],
             "passed_time": 241.2303802,
             "remaining_time": 181.9808131,
             "test": [
              0.2783628634
             ]
            },
            {
             "iteration": 855,
             "learn": [
              0.0141124426
             ],
             "passed_time": 241.5320567,
             "remaining_time": 181.7133697,
             "test": [
              0.2783481629
             ]
            },
            {
             "iteration": 856,
             "learn": [
              0.01410126956
             ],
             "passed_time": 241.808272,
             "remaining_time": 181.4267432,
             "test": [
              0.2781983662
             ]
            },
            {
             "iteration": 857,
             "learn": [
              0.01408881775
             ],
             "passed_time": 242.0857678,
             "remaining_time": 181.141099,
             "test": [
              0.2781752299
             ]
            },
            {
             "iteration": 858,
             "learn": [
              0.01407765137
             ],
             "passed_time": 242.3500312,
             "remaining_time": 180.8455995,
             "test": [
              0.2782771413
             ]
            },
            {
             "iteration": 859,
             "learn": [
              0.01406865174
             ],
             "passed_time": 242.6194502,
             "remaining_time": 180.5540094,
             "test": [
              0.2782102135
             ]
            },
            {
             "iteration": 860,
             "learn": [
              0.01405468503
             ],
             "passed_time": 242.8891543,
             "remaining_time": 180.2626824,
             "test": [
              0.2782350556
             ]
            },
            {
             "iteration": 861,
             "learn": [
              0.01404360844
             ],
             "passed_time": 243.1611658,
             "remaining_time": 179.9731135,
             "test": [
              0.2781240262
             ]
            },
            {
             "iteration": 862,
             "learn": [
              0.01403066939
             ],
             "passed_time": 243.4312129,
             "remaining_time": 179.6821351,
             "test": [
              0.2781274997
             ]
            },
            {
             "iteration": 863,
             "learn": [
              0.01401731962
             ],
             "passed_time": 243.7233278,
             "remaining_time": 179.4074496,
             "test": [
              0.2781807504
             ]
            },
            {
             "iteration": 864,
             "learn": [
              0.0140044155
             ],
             "passed_time": 244.0156822,
             "remaining_time": 179.1328996,
             "test": [
              0.2781278409
             ]
            },
            {
             "iteration": 865,
             "learn": [
              0.01399181901
             ],
             "passed_time": 244.291973,
             "remaining_time": 178.8465484,
             "test": [
              0.2781300118
             ]
            },
            {
             "iteration": 866,
             "learn": [
              0.01397675478
             ],
             "passed_time": 244.5721577,
             "remaining_time": 178.5630632,
             "test": [
              0.278119095
             ]
            },
            {
             "iteration": 867,
             "learn": [
              0.01396225095
             ],
             "passed_time": 244.8678835,
             "remaining_time": 178.2909013,
             "test": [
              0.2780594554
             ]
            },
            {
             "iteration": 868,
             "learn": [
              0.01395291875
             ],
             "passed_time": 245.1338217,
             "remaining_time": 177.9970558,
             "test": [
              0.2780893838
             ]
            },
            {
             "iteration": 869,
             "learn": [
              0.01394030231
             ],
             "passed_time": 245.4300131,
             "remaining_time": 177.7251819,
             "test": [
              0.2780818164
             ]
            },
            {
             "iteration": 870,
             "learn": [
              0.01392506015
             ],
             "passed_time": 245.7193307,
             "remaining_time": 177.4482882,
             "test": [
              0.2779809285
             ]
            },
            {
             "iteration": 871,
             "learn": [
              0.01391095375
             ],
             "passed_time": 246.011344,
             "remaining_time": 177.1733073,
             "test": [
              0.2779616379
             ]
            },
            {
             "iteration": 872,
             "learn": [
              0.01390054731
             ],
             "passed_time": 246.2901999,
             "remaining_time": 176.8888378,
             "test": [
              0.2779240182
             ]
            },
            {
             "iteration": 873,
             "learn": [
              0.01388860019
             ],
             "passed_time": 246.5594184,
             "remaining_time": 176.5974782,
             "test": [
              0.2779047896
             ]
            },
            {
             "iteration": 874,
             "learn": [
              0.01387463763
             ],
             "passed_time": 246.8385733,
             "remaining_time": 176.3132667,
             "test": [
              0.27792591
             ]
            },
            {
             "iteration": 875,
             "learn": [
              0.01386036578
             ],
             "passed_time": 247.1131609,
             "remaining_time": 176.0258132,
             "test": [
              0.277869744
             ]
            },
            {
             "iteration": 876,
             "learn": [
              0.01384529406
             ],
             "passed_time": 247.39822,
             "remaining_time": 175.7458279,
             "test": [
              0.2778162142
             ]
            },
            {
             "iteration": 877,
             "learn": [
              0.01383349411
             ],
             "passed_time": 247.6726053,
             "remaining_time": 175.4582694,
             "test": [
              0.2778481584
             ]
            },
            {
             "iteration": 878,
             "learn": [
              0.01381788279
             ],
             "passed_time": 247.938203,
             "remaining_time": 175.1645325,
             "test": [
              0.2777838668
             ]
            },
            {
             "iteration": 879,
             "learn": [
              0.013806156
             ],
             "passed_time": 248.2087368,
             "remaining_time": 174.8743373,
             "test": [
              0.2778363732
             ]
            },
            {
             "iteration": 880,
             "learn": [
              0.01379538954
             ],
             "passed_time": 248.4804482,
             "remaining_time": 174.5850141,
             "test": [
              0.2778097633
             ]
            },
            {
             "iteration": 881,
             "learn": [
              0.01378225844
             ],
             "passed_time": 248.7523465,
             "remaining_time": 174.2958618,
             "test": [
              0.277838203
             ]
            },
            {
             "iteration": 882,
             "learn": [
              0.01377279403
             ],
             "passed_time": 249.0218316,
             "remaining_time": 174.0050624,
             "test": [
              0.2778385441
             ]
            },
            {
             "iteration": 883,
             "learn": [
              0.01376098909
             ],
             "passed_time": 249.3074455,
             "remaining_time": 173.7255503,
             "test": [
              0.2778627969
             ]
            },
            {
             "iteration": 884,
             "learn": [
              0.01374932633
             ],
             "passed_time": 249.5844821,
             "remaining_time": 173.4400638,
             "test": [
              0.2777095578
             ]
            },
            {
             "iteration": 885,
             "learn": [
              0.01373956675
             ],
             "passed_time": 249.8627501,
             "remaining_time": 173.1554498,
             "test": [
              0.2777215291
             ]
            },
            {
             "iteration": 886,
             "learn": [
              0.01372753399
             ],
             "passed_time": 250.132219,
             "remaining_time": 172.8647691,
             "test": [
              0.2776852119
             ]
            },
            {
             "iteration": 887,
             "learn": [
              0.01371442866
             ],
             "passed_time": 250.425452,
             "remaining_time": 172.5905142,
             "test": [
              0.2776213235
             ]
            },
            {
             "iteration": 888,
             "learn": [
              0.01370039377
             ],
             "passed_time": 250.7342022,
             "remaining_time": 172.3268814,
             "test": [
              0.2776003272
             ]
            },
            {
             "iteration": 889,
             "learn": [
              0.01368791535
             ],
             "passed_time": 251.0270986,
             "remaining_time": 172.0522811,
             "test": [
              0.2776445218
             ]
            },
            {
             "iteration": 890,
             "learn": [
              0.01367476014
             ],
             "passed_time": 251.2978232,
             "remaining_time": 171.7624852,
             "test": [
              0.27765609
             ]
            },
            {
             "iteration": 891,
             "learn": [
              0.01365986552
             ],
             "passed_time": 251.5550872,
             "remaining_time": 171.4635572,
             "test": [
              0.2775686621
             ]
            },
            {
             "iteration": 892,
             "learn": [
              0.01364675603
             ],
             "passed_time": 251.8631749,
             "remaining_time": 171.1992689,
             "test": [
              0.2775349811
             ]
            },
            {
             "iteration": 893,
             "learn": [
              0.01363734817
             ],
             "passed_time": 252.1261832,
             "remaining_time": 170.9043255,
             "test": [
              0.2775788966
             ]
            },
            {
             "iteration": 894,
             "learn": [
              0.01362358266
             ],
             "passed_time": 252.4233077,
             "remaining_time": 170.6325153,
             "test": [
              0.2776503524
             ]
            },
            {
             "iteration": 895,
             "learn": [
              0.01361235641
             ],
             "passed_time": 252.6963181,
             "remaining_time": 170.344393,
             "test": [
              0.2775195982
             ]
            },
            {
             "iteration": 896,
             "learn": [
              0.0135991829
             ],
             "passed_time": 252.9993749,
             "remaining_time": 170.0765028,
             "test": [
              0.2774457544
             ]
            },
            {
             "iteration": 897,
             "learn": [
              0.01358924207
             ],
             "passed_time": 253.2738848,
             "remaining_time": 169.7893972,
             "test": [
              0.2774015597
             ]
            },
            {
             "iteration": 898,
             "learn": [
              0.01357884977
             ],
             "passed_time": 253.5498603,
             "remaining_time": 169.5032992,
             "test": [
              0.2774185553
             ]
            },
            {
             "iteration": 899,
             "learn": [
              0.01357779382
             ],
             "passed_time": 253.8030262,
             "remaining_time": 169.2020174,
             "test": [
              0.2774192686
             ]
            },
            {
             "iteration": 900,
             "learn": [
              0.01356679289
             ],
             "passed_time": 254.098947,
             "remaining_time": 168.9292667,
             "test": [
              0.2774666577
             ]
            },
            {
             "iteration": 901,
             "learn": [
              0.0135550395
             ],
             "passed_time": 254.3979119,
             "remaining_time": 168.6584826,
             "test": [
              0.2774273942
             ]
            },
            {
             "iteration": 902,
             "learn": [
              0.01354191172
             ],
             "passed_time": 254.7015575,
             "remaining_time": 168.3907307,
             "test": [
              0.277359505
             ]
            },
            {
             "iteration": 903,
             "learn": [
              0.01353242154
             ],
             "passed_time": 254.973264,
             "remaining_time": 168.1018422,
             "test": [
              0.2773688712
             ]
            },
            {
             "iteration": 904,
             "learn": [
              0.01352179809
             ],
             "passed_time": 255.2428495,
             "remaining_time": 167.8115972,
             "test": [
              0.2773710111
             ]
            },
            {
             "iteration": 905,
             "learn": [
              0.01351284087
             ],
             "passed_time": 255.5069942,
             "remaining_time": 167.5178306,
             "test": [
              0.2773914492
             ]
            },
            {
             "iteration": 906,
             "learn": [
              0.01350046888
             ],
             "passed_time": 255.7960227,
             "remaining_time": 167.2403985,
             "test": [
              0.2773905808
             ]
            },
            {
             "iteration": 907,
             "learn": [
              0.01348836628
             ],
             "passed_time": 256.0663047,
             "remaining_time": 166.9507185,
             "test": [
              0.2774468399
             ]
            },
            {
             "iteration": 908,
             "learn": [
              0.01347814359
             ],
             "passed_time": 256.3506711,
             "remaining_time": 166.6702383,
             "test": [
              0.2774846457
             ]
            },
            {
             "iteration": 909,
             "learn": [
              0.01346654983
             ],
             "passed_time": 256.616538,
             "remaining_time": 166.3777554,
             "test": [
              0.2775396952
             ]
            },
            {
             "iteration": 910,
             "learn": [
              0.01345368313
             ],
             "passed_time": 256.8904955,
             "remaining_time": 166.0905618,
             "test": [
              0.277559606
             ]
            },
            {
             "iteration": 911,
             "learn": [
              0.01344133442
             ],
             "passed_time": 257.1636663,
             "remaining_time": 165.8028901,
             "test": [
              0.2774823817
             ]
            },
            {
             "iteration": 912,
             "learn": [
              0.01343065277
             ],
             "passed_time": 257.4573832,
             "remaining_time": 165.5284599,
             "test": [
              0.2774294721
             ]
            },
            {
             "iteration": 913,
             "learn": [
              0.01341961609
             ],
             "passed_time": 257.7320877,
             "remaining_time": 165.241798,
             "test": [
              0.2774395826
             ]
            },
            {
             "iteration": 914,
             "learn": [
              0.01340895522
             ],
             "passed_time": 258.005342,
             "remaining_time": 164.9542351,
             "test": [
              0.2774206332
             ]
            },
            {
             "iteration": 915,
             "learn": [
              0.0133964053
             ],
             "passed_time": 258.2998271,
             "remaining_time": 164.6802391,
             "test": [
              0.2775350431
             ]
            },
            {
             "iteration": 916,
             "learn": [
              0.01338344631
             ],
             "passed_time": 258.5923994,
             "remaining_time": 164.4049824,
             "test": [
              0.2775346709
             ]
            },
            {
             "iteration": 917,
             "learn": [
              0.01338282521
             ],
             "passed_time": 258.8443499,
             "remaining_time": 164.1039343,
             "test": [
              0.2775634828
             ]
            },
            {
             "iteration": 918,
             "learn": [
              0.01337076003
             ],
             "passed_time": 259.1323061,
             "remaining_time": 163.8257561,
             "test": [
              0.2775188229
             ]
            },
            {
             "iteration": 919,
             "learn": [
              0.01335717162
             ],
             "passed_time": 259.4092162,
             "remaining_time": 163.5405928,
             "test": [
              0.2774732016
             ]
            },
            {
             "iteration": 920,
             "learn": [
              0.01334693729
             ],
             "passed_time": 259.6825213,
             "remaining_time": 163.2531812,
             "test": [
              0.2773701117
             ]
            },
            {
             "iteration": 921,
             "learn": [
              0.01333638867
             ],
             "passed_time": 259.9678428,
             "remaining_time": 162.9733331,
             "test": [
              0.2773372371
             ]
            },
            {
             "iteration": 922,
             "learn": [
              0.01332395598
             ],
             "passed_time": 260.2382143,
             "remaining_time": 162.6841275,
             "test": [
              0.2772861264
             ]
            },
            {
             "iteration": 923,
             "learn": [
              0.01331078663
             ],
             "passed_time": 260.5263633,
             "remaining_time": 162.4060447,
             "test": [
              0.2773480919
             ]
            },
            {
             "iteration": 924,
             "learn": [
              0.01329583714
             ],
             "passed_time": 260.7973648,
             "remaining_time": 162.1172808,
             "test": [
              0.2773629165
             ]
            },
            {
             "iteration": 925,
             "learn": [
              0.01328506154
             ],
             "passed_time": 261.0872386,
             "remaining_time": 161.8402537,
             "test": [
              0.2773956361
             ]
            },
            {
             "iteration": 926,
             "learn": [
              0.01327291986
             ],
             "passed_time": 261.3818715,
             "remaining_time": 161.5661407,
             "test": [
              0.2774886775
             ]
            },
            {
             "iteration": 927,
             "learn": [
              0.01326323595
             ],
             "passed_time": 261.6527815,
             "remaining_time": 161.277361,
             "test": [
              0.2775796099
             ]
            },
            {
             "iteration": 928,
             "learn": [
              0.01326270964
             ],
             "passed_time": 261.9039052,
             "remaining_time": 160.9764584,
             "test": [
              0.2775960162
             ]
            },
            {
             "iteration": 929,
             "learn": [
              0.01325147341
             ],
             "passed_time": 262.2054945,
             "remaining_time": 160.7065934,
             "test": [
              0.2775294296
             ]
            },
            {
             "iteration": 930,
             "learn": [
              0.01324096886
             ],
             "passed_time": 262.4736083,
             "remaining_time": 160.416201,
             "test": [
              0.2774343413
             ]
            },
            {
             "iteration": 931,
             "learn": [
              0.01323085343
             ],
             "passed_time": 262.7586857,
             "remaining_time": 160.1361947,
             "test": [
              0.2774745662
             ]
            },
            {
             "iteration": 932,
             "learn": [
              0.01321843654
             ],
             "passed_time": 263.0433464,
             "remaining_time": 159.8559243,
             "test": [
              0.2774542212
             ]
            },
            {
             "iteration": 933,
             "learn": [
              0.01320789706
             ],
             "passed_time": 263.3264884,
             "remaining_time": 159.5747242,
             "test": [
              0.2774029553
             ]
            },
            {
             "iteration": 934,
             "learn": [
              0.01319583271
             ],
             "passed_time": 263.599538,
             "remaining_time": 159.2874213,
             "test": [
              0.2772793654
             ]
            },
            {
             "iteration": 935,
             "learn": [
              0.01318384069
             ],
             "passed_time": 263.8908535,
             "remaining_time": 159.0111553,
             "test": [
              0.2771514024
             ]
            },
            {
             "iteration": 936,
             "learn": [
              0.01317465898
             ],
             "passed_time": 264.1704717,
             "remaining_time": 158.7278288,
             "test": [
              0.2770841025
             ]
            },
            {
             "iteration": 937,
             "learn": [
              0.01316356243
             ],
             "passed_time": 264.4488196,
             "remaining_time": 158.443749,
             "test": [
              0.2770554457
             ]
            },
            {
             "iteration": 938,
             "learn": [
              0.0131537563
             ],
             "passed_time": 264.7159275,
             "remaining_time": 158.1529663,
             "test": [
              0.2770078085
             ]
            },
            {
             "iteration": 939,
             "learn": [
              0.01314665903
             ],
             "passed_time": 264.9893353,
             "remaining_time": 157.865987,
             "test": [
              0.2771193962
             ]
            },
            {
             "iteration": 940,
             "learn": [
              0.01313551094
             ],
             "passed_time": 265.2871927,
             "remaining_time": 157.5935608,
             "test": [
              0.2770850329
             ]
            },
            {
             "iteration": 941,
             "learn": [
              0.01312488832
             ],
             "passed_time": 265.5807812,
             "remaining_time": 157.3185519,
             "test": [
              0.2771165119
             ]
            },
            {
             "iteration": 942,
             "learn": [
              0.01311407862
             ],
             "passed_time": 265.8745495,
             "remaining_time": 157.0436098,
             "test": [
              0.2771595901
             ]
            },
            {
             "iteration": 943,
             "learn": [
              0.01310239092
             ],
             "passed_time": 266.1494327,
             "remaining_time": 156.7575048,
             "test": [
              0.2770165234
             ]
            },
            {
             "iteration": 944,
             "learn": [
              0.01309104826
             ],
             "passed_time": 266.4285068,
             "remaining_time": 156.473885,
             "test": [
              0.2769443853
             ]
            },
            {
             "iteration": 945,
             "learn": [
              0.01308213178
             ],
             "passed_time": 266.7053466,
             "remaining_time": 156.1889662,
             "test": [
              0.2768277424
             ]
            },
            {
             "iteration": 946,
             "learn": [
              0.01306934407
             ],
             "passed_time": 266.9802862,
             "remaining_time": 155.9029549,
             "test": [
              0.2768327666
             ]
            },
            {
             "iteration": 947,
             "learn": [
              0.01305848033
             ],
             "passed_time": 267.2573342,
             "remaining_time": 155.6181946,
             "test": [
              0.2768008535
             ]
            },
            {
             "iteration": 948,
             "learn": [
              0.01304815038
             ],
             "passed_time": 267.5320287,
             "remaining_time": 155.3320841,
             "test": [
              0.2767218303
             ]
            },
            {
             "iteration": 949,
             "learn": [
              0.01303860698
             ],
             "passed_time": 267.799969,
             "remaining_time": 155.0420873,
             "test": [
              0.2767404076
             ]
            },
            {
             "iteration": 950,
             "learn": [
              0.01302730091
             ],
             "passed_time": 268.0719947,
             "remaining_time": 154.7544953,
             "test": [
              0.2767517276
             ]
            },
            {
             "iteration": 951,
             "learn": [
              0.0130160123
             ],
             "passed_time": 268.3367271,
             "remaining_time": 154.4627379,
             "test": [
              0.2766696961
             ]
            },
            {
             "iteration": 952,
             "learn": [
              0.01300518099
             ],
             "passed_time": 268.5989692,
             "remaining_time": 154.1696077,
             "test": [
              0.2767105413
             ]
            },
            {
             "iteration": 953,
             "learn": [
              0.01299535075
             ],
             "passed_time": 268.8880203,
             "remaining_time": 153.8918858,
             "test": [
              0.2767479129
             ]
            },
            {
             "iteration": 954,
             "learn": [
              0.01298674273
             ],
             "passed_time": 269.1640987,
             "remaining_time": 153.606737,
             "test": [
              0.276784075
             ]
            },
            {
             "iteration": 955,
             "learn": [
              0.01297945257
             ],
             "passed_time": 269.4330514,
             "remaining_time": 153.3175523,
             "test": [
              0.2766972674
             ]
            },
            {
             "iteration": 956,
             "learn": [
              0.01297131682
             ],
             "passed_time": 269.7048581,
             "remaining_time": 153.0300292,
             "test": [
              0.2767730341
             ]
            },
            {
             "iteration": 957,
             "learn": [
              0.01296139595
             ],
             "passed_time": 270.0020262,
             "remaining_time": 152.7568875,
             "test": [
              0.2767597602
             ]
            },
            {
             "iteration": 958,
             "learn": [
              0.01294978058
             ],
             "passed_time": 270.2767334,
             "remaining_time": 152.4710248,
             "test": [
              0.2767932551
             ]
            },
            {
             "iteration": 959,
             "learn": [
              0.01294031617
             ],
             "passed_time": 270.5522529,
             "remaining_time": 152.1856423,
             "test": [
              0.2767311654
             ]
            },
            {
             "iteration": 960,
             "learn": [
              0.01293036703
             ],
             "passed_time": 270.8269203,
             "remaining_time": 151.8998023,
             "test": [
              0.2766902893
             ]
            },
            {
             "iteration": 961,
             "learn": [
              0.01292107889
             ],
             "passed_time": 271.0981993,
             "remaining_time": 151.6120907,
             "test": [
              0.2766617566
             ]
            },
            {
             "iteration": 962,
             "learn": [
              0.01290932467
             ],
             "passed_time": 271.3991026,
             "remaining_time": 151.3409326,
             "test": [
              0.2765605275
             ]
            },
            {
             "iteration": 963,
             "learn": [
              0.01289710732
             ],
             "passed_time": 271.6983656,
             "remaining_time": 151.0688008,
             "test": [
              0.276539128
             ]
            },
            {
             "iteration": 964,
             "learn": [
              0.01288666679
             ],
             "passed_time": 271.9870748,
             "remaining_time": 150.7907617,
             "test": [
              0.2765587597
             ]
            },
            {
             "iteration": 965,
             "learn": [
              0.01287672846
             ],
             "passed_time": 272.2592422,
             "remaining_time": 150.5035562,
             "test": [
              0.2765771509
             ]
            },
            {
             "iteration": 966,
             "learn": [
              0.01287626285
             ],
             "passed_time": 272.5112301,
             "remaining_time": 150.2052592,
             "test": [
              0.2765713824
             ]
            },
            {
             "iteration": 967,
             "learn": [
              0.0128672416
             ],
             "passed_time": 272.7962357,
             "remaining_time": 149.9252039,
             "test": [
              0.276498593
             ]
            },
            {
             "iteration": 968,
             "learn": [
              0.01285601868
             ],
             "passed_time": 273.0675049,
             "remaining_time": 149.637611,
             "test": [
              0.2763642722
             ]
            },
            {
             "iteration": 969,
             "learn": [
              0.01284385122
             ],
             "passed_time": 273.3447643,
             "remaining_time": 149.3533248,
             "test": [
              0.2763314596
             ]
            },
            {
             "iteration": 970,
             "learn": [
              0.01283286609
             ],
             "passed_time": 273.6466529,
             "remaining_time": 149.0824711,
             "test": [
              0.2763336306
             ]
            },
            {
             "iteration": 971,
             "learn": [
              0.01282288369
             ],
             "passed_time": 273.929552,
             "remaining_time": 148.8012381,
             "test": [
              0.2762949874
             ]
            },
            {
             "iteration": 972,
             "learn": [
              0.01282220357
             ],
             "passed_time": 274.1808604,
             "remaining_time": 148.5028915,
             "test": [
              0.2762971273
             ]
            },
            {
             "iteration": 973,
             "learn": [
              0.01280971351
             ],
             "passed_time": 274.4575014,
             "remaining_time": 148.2183221,
             "test": [
              0.2762754797
             ]
            },
            {
             "iteration": 974,
             "learn": [
              0.01280220551
             ],
             "passed_time": 274.7245881,
             "remaining_time": 147.9286244,
             "test": [
              0.2762841636
             ]
            },
            {
             "iteration": 975,
             "learn": [
              0.01279418034
             ],
             "passed_time": 274.9993653,
             "remaining_time": 147.6431019,
             "test": [
              0.2763070207
             ]
            },
            {
             "iteration": 976,
             "learn": [
              0.01279379954
             ],
             "passed_time": 275.2505735,
             "remaining_time": 147.3449846,
             "test": [
              0.2763449506
             ]
            },
            {
             "iteration": 977,
             "learn": [
              0.01278563968
             ],
             "passed_time": 275.5292894,
             "remaining_time": 147.0616452,
             "test": [
              0.2763692344
             ]
            },
            {
             "iteration": 978,
             "learn": [
              0.01277627671
             ],
             "passed_time": 275.8197424,
             "remaining_time": 146.7845616,
             "test": [
              0.2762370536
             ]
            },
            {
             "iteration": 979,
             "learn": [
              0.01276889259
             ],
             "passed_time": 276.091588,
             "remaining_time": 146.4975773,
             "test": [
              0.2762639736
             ]
            },
            {
             "iteration": 980,
             "learn": [
              0.01275903075
             ],
             "passed_time": 276.3566277,
             "remaining_time": 146.2070232,
             "test": [
              0.2762090481
             ]
            },
            {
             "iteration": 981,
             "learn": [
              0.01274823186
             ],
             "passed_time": 276.648744,
             "remaining_time": 145.9308039,
             "test": [
              0.2762712308
             ]
            },
            {
             "iteration": 982,
             "learn": [
              0.0127395299
             ],
             "passed_time": 276.9264895,
             "remaining_time": 145.646994,
             "test": [
              0.2762533669
             ]
            },
            {
             "iteration": 983,
             "learn": [
              0.01272960819
             ],
             "passed_time": 277.2088095,
             "remaining_time": 145.3655952,
             "test": [
              0.2762760069
             ]
            },
            {
             "iteration": 984,
             "learn": [
              0.01272152649
             ],
             "passed_time": 277.4812246,
             "remaining_time": 145.0790159,
             "test": [
              0.2762148477
             ]
            },
            {
             "iteration": 985,
             "learn": [
              0.01271208786
             ],
             "passed_time": 277.7559435,
             "remaining_time": 144.7936663,
             "test": [
              0.2762111261
             ]
            },
            {
             "iteration": 986,
             "learn": [
              0.01270106115
             ],
             "passed_time": 278.0531545,
             "remaining_time": 144.5200286,
             "test": [
              0.2761249077
             ]
            },
            {
             "iteration": 987,
             "learn": [
              0.01269316569
             ],
             "passed_time": 278.3210843,
             "remaining_time": 144.2311692,
             "test": [
              0.276100841
             ]
            },
            {
             "iteration": 988,
             "learn": [
              0.01268302199
             ],
             "passed_time": 278.6098565,
             "remaining_time": 143.953121,
             "test": [
              0.2761316687
             ]
            },
            {
             "iteration": 989,
             "learn": [
              0.01267506168
             ],
             "passed_time": 278.8863693,
             "remaining_time": 143.6687357,
             "test": [
              0.2760866987
             ]
            },
            {
             "iteration": 990,
             "learn": [
              0.01266525305
             ],
             "passed_time": 279.1848052,
             "remaining_time": 143.3956265,
             "test": [
              0.2761092457
             ]
            },
            {
             "iteration": 991,
             "learn": [
              0.01265412741
             ],
             "passed_time": 279.4775642,
             "remaining_time": 143.1195591,
             "test": [
              0.2761228608
             ]
            },
            {
             "iteration": 992,
             "learn": [
              0.01264655954
             ],
             "passed_time": 279.7479295,
             "remaining_time": 142.8320244,
             "test": [
              0.2760881874
             ]
            },
            {
             "iteration": 993,
             "learn": [
              0.01263760481
             ],
             "passed_time": 280.0250182,
             "remaining_time": 142.5479469,
             "test": [
              0.2760082958
             ]
            },
            {
             "iteration": 994,
             "learn": [
              0.01262904752
             ],
             "passed_time": 280.2989338,
             "remaining_time": 142.2622729,
             "test": [
              0.2760182823
             ]
            },
            {
             "iteration": 995,
             "learn": [
              0.01261904017
             ],
             "passed_time": 280.5974483,
             "remaining_time": 141.9890702,
             "test": [
              0.2760298814
             ]
            },
            {
             "iteration": 996,
             "learn": [
              0.01260911182
             ],
             "passed_time": 280.8980605,
             "remaining_time": 141.7168751,
             "test": [
              0.2760736419
             ]
            },
            {
             "iteration": 997,
             "learn": [
              0.01260089957
             ],
             "passed_time": 281.1755435,
             "remaining_time": 141.4329888,
             "test": [
              0.2760280206
             ]
            },
            {
             "iteration": 998,
             "learn": [
              0.01258959184
             ],
             "passed_time": 281.4498237,
             "remaining_time": 141.1475092,
             "test": [
              0.2761223025
             ]
            },
            {
             "iteration": 999,
             "learn": [
              0.0125819242
             ],
             "passed_time": 281.7190181,
             "remaining_time": 140.859509,
             "test": [
              0.2760406122
             ]
            },
            {
             "iteration": 1000,
             "learn": [
              0.01257427485
             ],
             "passed_time": 281.9913566,
             "remaining_time": 140.5731138,
             "test": [
              0.2760893349
             ]
            },
            {
             "iteration": 1001,
             "learn": [
              0.01256434234
             ],
             "passed_time": 282.2596417,
             "remaining_time": 140.2847321,
             "test": [
              0.2760701683
             ]
            },
            {
             "iteration": 1002,
             "learn": [
              0.01255574846
             ],
             "passed_time": 282.5454694,
             "remaining_time": 140.0050831,
             "test": [
              0.2759472917
             ]
            },
            {
             "iteration": 1003,
             "learn": [
              0.01254653681
             ],
             "passed_time": 282.8206941,
             "remaining_time": 139.7201836,
             "test": [
              0.2759242484
             ]
            },
            {
             "iteration": 1004,
             "learn": [
              0.01253923917
             ],
             "passed_time": 283.0940819,
             "remaining_time": 139.4343986,
             "test": [
              0.2759247446
             ]
            },
            {
             "iteration": 1005,
             "learn": [
              0.0125333184
             ],
             "passed_time": 283.3655561,
             "remaining_time": 139.1476985,
             "test": [
              0.2759712964
             ]
            },
            {
             "iteration": 1006,
             "learn": [
              0.0125273411
             ],
             "passed_time": 283.6374555,
             "remaining_time": 138.8612369,
             "test": [
              0.2759663031
             ]
            },
            {
             "iteration": 1007,
             "learn": [
              0.01251699619
             ],
             "passed_time": 283.9101053,
             "remaining_time": 138.5751705,
             "test": [
              0.2758846748
             ]
            },
            {
             "iteration": 1008,
             "learn": [
              0.01250693397
             ],
             "passed_time": 284.1908254,
             "remaining_time": 138.2930577,
             "test": [
              0.2758367895
             ]
            },
            {
             "iteration": 1009,
             "learn": [
              0.01249875997
             ],
             "passed_time": 284.4869284,
             "remaining_time": 138.0184108,
             "test": [
              0.2757992628
             ]
            },
            {
             "iteration": 1010,
             "learn": [
              0.01248943109
             ],
             "passed_time": 284.7561636,
             "remaining_time": 137.730726,
             "test": [
              0.2757808096
             ]
            },
            {
             "iteration": 1011,
             "learn": [
              0.01248092286
             ],
             "passed_time": 285.029919,
             "remaining_time": 137.4452574,
             "test": [
              0.2757252019
             ]
            },
            {
             "iteration": 1012,
             "learn": [
              0.01247158233
             ],
             "passed_time": 285.3227653,
             "remaining_time": 137.1689898,
             "test": [
              0.275734599
             ]
            },
            {
             "iteration": 1013,
             "learn": [
              0.01246196078
             ],
             "passed_time": 285.6092973,
             "remaining_time": 136.8896632,
             "test": [
              0.2756820307
             ]
            },
            {
             "iteration": 1014,
             "learn": [
              0.01245429647
             ],
             "passed_time": 285.8851603,
             "remaining_time": 136.6052244,
             "test": [
              0.2757178206
             ]
            },
            {
             "iteration": 1015,
             "learn": [
              0.01244595286
             ],
             "passed_time": 286.174696,
             "remaining_time": 136.3273158,
             "test": [
              0.2757020656
             ]
            },
            {
             "iteration": 1016,
             "learn": [
              0.01243750282
             ],
             "passed_time": 286.4518528,
             "remaining_time": 136.0435053,
             "test": [
              0.275682775
             ]
            },
            {
             "iteration": 1017,
             "learn": [
              0.01242889231
             ],
             "passed_time": 286.7280658,
             "remaining_time": 135.759261,
             "test": [
              0.2757140679
             ]
            },
            {
             "iteration": 1018,
             "learn": [
              0.01242013797
             ],
             "passed_time": 287.0004805,
             "remaining_time": 135.4732395,
             "test": [
              0.2756124357
             ]
            },
            {
             "iteration": 1019,
             "learn": [
              0.01241168294
             ],
             "passed_time": 287.2702571,
             "remaining_time": 135.1860034,
             "test": [
              0.2756239108
             ]
            },
            {
             "iteration": 1020,
             "learn": [
              0.01240211128
             ],
             "passed_time": 287.5497052,
             "remaining_time": 134.9033387,
             "test": [
              0.2755919666
             ]
            },
            {
             "iteration": 1021,
             "learn": [
              0.01240174128
             ],
             "passed_time": 287.8025592,
             "remaining_time": 134.608242,
             "test": [
              0.2756032246
             ]
            },
            {
             "iteration": 1022,
             "learn": [
              0.01239145623
             ],
             "passed_time": 288.1031678,
             "remaining_time": 134.3354946,
             "test": [
              0.2756171188
             ]
            },
            {
             "iteration": 1023,
             "learn": [
              0.01238085107
             ],
             "passed_time": 288.3974722,
             "remaining_time": 134.0597624,
             "test": [
              0.2755745989
             ]
            },
            {
             "iteration": 1024,
             "learn": [
              0.01237204767
             ],
             "passed_time": 288.6741045,
             "remaining_time": 133.7758045,
             "test": [
              0.2756091172
             ]
            },
            {
             "iteration": 1025,
             "learn": [
              0.01236319937
             ],
             "passed_time": 288.9576378,
             "remaining_time": 133.495049,
             "test": [
              0.2756882024
             ]
            },
            {
             "iteration": 1026,
             "learn": [
              0.01235579862
             ],
             "passed_time": 289.2336,
             "remaining_time": 133.2108012,
             "test": [
              0.2756478845
             ]
            },
            {
             "iteration": 1027,
             "learn": [
              0.01234722387
             ],
             "passed_time": 289.5103297,
             "remaining_time": 132.9269218,
             "test": [
              0.2756037518
             ]
            },
            {
             "iteration": 1028,
             "learn": [
              0.01233926522
             ],
             "passed_time": 289.7905435,
             "remaining_time": 132.6446511,
             "test": [
              0.2756885436
             ]
            },
            {
             "iteration": 1029,
             "learn": [
              0.01233076779
             ],
             "passed_time": 290.0677999,
             "remaining_time": 132.3610349,
             "test": [
              0.2757770879
             ]
            },
            {
             "iteration": 1030,
             "learn": [
              0.01232221881
             ],
             "passed_time": 290.3534088,
             "remaining_time": 132.0812306,
             "test": [
              0.2757237442
             ]
            },
            {
             "iteration": 1031,
             "learn": [
              0.01231235032
             ],
             "passed_time": 290.6469118,
             "remaining_time": 131.8049949,
             "test": [
              0.2757294197
             ]
            },
            {
             "iteration": 1032,
             "learn": [
              0.01230347624
             ],
             "passed_time": 290.9141608,
             "remaining_time": 131.5168568,
             "test": [
              0.2756775337
             ]
            },
            {
             "iteration": 1033,
             "learn": [
              0.01229641057
             ],
             "passed_time": 291.1856072,
             "remaining_time": 131.2306508,
             "test": [
              0.2756572196
             ]
            },
            {
             "iteration": 1034,
             "learn": [
              0.01228751987
             ],
             "passed_time": 291.4862588,
             "remaining_time": 130.9575946,
             "test": [
              0.2756216778
             ]
            },
            {
             "iteration": 1035,
             "learn": [
              0.01227760315
             ],
             "passed_time": 291.7585091,
             "remaining_time": 130.6717647,
             "test": [
              0.2757066866
             ]
            },
            {
             "iteration": 1036,
             "learn": [
              0.01226971684
             ],
             "passed_time": 292.0296884,
             "remaining_time": 130.3854829,
             "test": [
              0.2757174794
             ]
            },
            {
             "iteration": 1037,
             "learn": [
              0.01226030398
             ],
             "passed_time": 292.3242744,
             "remaining_time": 130.1096482,
             "test": [
              0.2756646629
             ]
            },
            {
             "iteration": 1038,
             "learn": [
              0.01225212084
             ],
             "passed_time": 292.6180981,
             "remaining_time": 129.8334391,
             "test": [
              0.2756787122
             ]
            },
            {
             "iteration": 1039,
             "learn": [
              0.01224459288
             ],
             "passed_time": 292.9108109,
             "remaining_time": 129.5567048,
             "test": [
              0.2756448761
             ]
            },
            {
             "iteration": 1040,
             "learn": [
              0.01223931234
             ],
             "passed_time": 293.1769941,
             "remaining_time": 129.2682423,
             "test": [
              0.2756262058
             ]
            },
            {
             "iteration": 1041,
             "learn": [
              0.01222951701
             ],
             "passed_time": 293.4411859,
             "remaining_time": 128.9789474,
             "test": [
              0.2756892879
             ]
            },
            {
             "iteration": 1042,
             "learn": [
              0.01221960612
             ],
             "passed_time": 293.7392035,
             "remaining_time": 128.7045216,
             "test": [
              0.2756532809
             ]
            },
            {
             "iteration": 1043,
             "learn": [
              0.01221109871
             ],
             "passed_time": 294.0284391,
             "remaining_time": 128.4262148,
             "test": [
              0.2756687257
             ]
            },
            {
             "iteration": 1044,
             "learn": [
              0.01220299372
             ],
             "passed_time": 294.3313399,
             "remaining_time": 128.153837,
             "test": [
              0.2756371227
             ]
            },
            {
             "iteration": 1045,
             "learn": [
              0.01219319674
             ],
             "passed_time": 294.6265478,
             "remaining_time": 127.8780619,
             "test": [
              0.2755932692
             ]
            },
            {
             "iteration": 1046,
             "learn": [
              0.01218442243
             ],
             "passed_time": 294.901093,
             "remaining_time": 127.5933096,
             "test": [
              0.2755041355
             ]
            },
            {
             "iteration": 1047,
             "learn": [
              0.01217510769
             ],
             "passed_time": 295.2011226,
             "remaining_time": 127.3195681,
             "test": [
              0.2754380761
             ]
            },
            {
             "iteration": 1048,
             "learn": [
              0.01216810105
             ],
             "passed_time": 295.4760386,
             "remaining_time": 127.0349794,
             "test": [
              0.275444589
             ]
            },
            {
             "iteration": 1049,
             "learn": [
              0.01216141618
             ],
             "passed_time": 295.7490238,
             "remaining_time": 126.7495816,
             "test": [
              0.2755255971
             ]
            },
            {
             "iteration": 1050,
             "learn": [
              0.01215409942
             ],
             "passed_time": 296.0257161,
             "remaining_time": 126.4657912,
             "test": [
              0.2755525791
             ]
            },
            {
             "iteration": 1051,
             "learn": [
              0.01214562859
             ],
             "passed_time": 296.2994517,
             "remaining_time": 126.1807551,
             "test": [
              0.2755045697
             ]
            },
            {
             "iteration": 1052,
             "learn": [
              0.01213801583
             ],
             "passed_time": 296.5695797,
             "remaining_time": 125.894209,
             "test": [
              0.2754136683
             ]
            },
            {
             "iteration": 1053,
             "learn": [
              0.01213063005
             ],
             "passed_time": 296.8332508,
             "remaining_time": 125.6049619,
             "test": [
              0.2754488689
             ]
            },
            {
             "iteration": 1054,
             "learn": [
              0.01212363505
             ],
             "passed_time": 297.1036543,
             "remaining_time": 125.318603,
             "test": [
              0.2754728736
             ]
            },
            {
             "iteration": 1055,
             "learn": [
              0.01211515259
             ],
             "passed_time": 297.4011942,
             "remaining_time": 125.0436839,
             "test": [
              0.2754719742
             ]
            },
            {
             "iteration": 1056,
             "learn": [
              0.01210824323
             ],
             "passed_time": 297.6770792,
             "remaining_time": 124.7596462,
             "test": [
              0.2755577894
             ]
            },
            {
             "iteration": 1057,
             "learn": [
              0.01210040431
             ],
             "passed_time": 297.951022,
             "remaining_time": 124.4748126,
             "test": [
              0.275566039
             ]
            },
            {
             "iteration": 1058,
             "learn": [
              0.01209256289
             ],
             "passed_time": 298.250432,
             "remaining_time": 124.2006048,
             "test": [
              0.2755478339
             ]
            },
            {
             "iteration": 1059,
             "learn": [
              0.01208612996
             ],
             "passed_time": 298.525324,
             "remaining_time": 123.9161722,
             "test": [
              0.2755802434
             ]
            },
            {
             "iteration": 1060,
             "learn": [
              0.0120787051
             ],
             "passed_time": 298.8202069,
             "remaining_time": 123.6400291,
             "test": [
              0.2755809257
             ]
            },
            {
             "iteration": 1061,
             "learn": [
              0.01206927312
             ],
             "passed_time": 299.0859964,
             "remaining_time": 123.3518516,
             "test": [
              0.275570443
             ]
            },
            {
             "iteration": 1062,
             "learn": [
              0.01206169112
             ],
             "passed_time": 299.3572918,
             "remaining_time": 123.0659798,
             "test": [
              0.2756357581
             ]
            },
            {
             "iteration": 1063,
             "learn": [
              0.01205277297
             ],
             "passed_time": 299.6336035,
             "remaining_time": 122.7821909,
             "test": [
              0.2755666903
             ]
            },
            {
             "iteration": 1064,
             "learn": [
              0.01204327281
             ],
             "passed_time": 299.9312441,
             "remaining_time": 122.5071279,
             "test": [
              0.2755956882
             ]
            },
            {
             "iteration": 1065,
             "learn": [
              0.0120348735
             ],
             "passed_time": 300.2130042,
             "remaining_time": 122.2255571,
             "test": [
              0.275628935
             ]
            },
            {
             "iteration": 1066,
             "learn": [
              0.01202750268
             ],
             "passed_time": 300.4874021,
             "remaining_time": 121.9409982,
             "test": [
              0.2756673301
             ]
            },
            {
             "iteration": 1067,
             "learn": [
              0.01202242834
             ],
             "passed_time": 300.7573494,
             "remaining_time": 121.6546582,
             "test": [
              0.2756757038
             ]
            },
            {
             "iteration": 1068,
             "learn": [
              0.01201521384
             ],
             "passed_time": 301.0535335,
             "remaining_time": 121.378927,
             "test": [
              0.2756650041
             ]
            },
            {
             "iteration": 1069,
             "learn": [
              0.0120085298
             ],
             "passed_time": 301.3291108,
             "remaining_time": 121.0948763,
             "test": [
              0.2756431083
             ]
            },
            {
             "iteration": 1070,
             "learn": [
              0.01200186572
             ],
             "passed_time": 301.595896,
             "remaining_time": 120.8073197,
             "test": [
              0.2756752696
             ]
            },
            {
             "iteration": 1071,
             "learn": [
              0.01199482666
             ],
             "passed_time": 301.8913412,
             "remaining_time": 120.5312444,
             "test": [
              0.2756163434
             ]
            },
            {
             "iteration": 1072,
             "learn": [
              0.01198705924
             ],
             "passed_time": 302.1651637,
             "remaining_time": 120.2465283,
             "test": [
              0.2756496522
             ]
            },
            {
             "iteration": 1073,
             "learn": [
              0.01198507706
             ],
             "passed_time": 302.4170614,
             "remaining_time": 119.9531361,
             "test": [
              0.2756360062
             ]
            },
            {
             "iteration": 1074,
             "learn": [
              0.01197662121
             ],
             "passed_time": 302.6864186,
             "remaining_time": 119.6667236,
             "test": [
              0.2757101292
             ]
            },
            {
             "iteration": 1075,
             "learn": [
              0.01196871411
             ],
             "passed_time": 302.9829702,
             "remaining_time": 119.3910589,
             "test": [
              0.2757037093
             ]
            },
            {
             "iteration": 1076,
             "learn": [
              0.01196121858
             ],
             "passed_time": 303.2588484,
             "remaining_time": 119.1072357,
             "test": [
              0.2757627286
             ]
            },
            {
             "iteration": 1077,
             "learn": [
              0.01195383446
             ],
             "passed_time": 303.5323376,
             "remaining_time": 118.8224921,
             "test": [
              0.2758496602
             ]
            },
            {
             "iteration": 1078,
             "learn": [
              0.01194628572
             ],
             "passed_time": 303.8036727,
             "remaining_time": 118.5369288,
             "test": [
              0.2757927499
             ]
            },
            {
             "iteration": 1079,
             "learn": [
              0.01193815329
             ],
             "passed_time": 304.0703135,
             "remaining_time": 118.2495664,
             "test": [
              0.2757664502
             ]
            },
            {
             "iteration": 1080,
             "learn": [
              0.01193131378
             ],
             "passed_time": 304.346798,
             "remaining_time": 117.9660577,
             "test": [
              0.2757455469
             ]
            },
            {
             "iteration": 1081,
             "learn": [
              0.01192450669
             ],
             "passed_time": 304.6158327,
             "remaining_time": 117.679684,
             "test": [
              0.2756547075
             ]
            },
            {
             "iteration": 1082,
             "learn": [
              0.01191774949
             ],
             "passed_time": 304.9079463,
             "remaining_time": 117.4022286,
             "test": [
              0.2756282217
             ]
            },
            {
             "iteration": 1083,
             "learn": [
              0.0119105591
             ],
             "passed_time": 305.1992266,
             "remaining_time": 117.1244264,
             "test": [
              0.2756195378
             ]
            },
            {
             "iteration": 1084,
             "learn": [
              0.01190707864
             ],
             "passed_time": 305.4616375,
             "remaining_time": 116.8355572,
             "test": [
              0.2756127148
             ]
            },
            {
             "iteration": 1085,
             "learn": [
              0.01189981758
             ],
             "passed_time": 305.750213,
             "remaining_time": 116.556711,
             "test": [
              0.2756128699
             ]
            },
            {
             "iteration": 1086,
             "learn": [
              0.01189282009
             ],
             "passed_time": 306.040644,
             "remaining_time": 116.278552,
             "test": [
              0.2755967737
             ]
            },
            {
             "iteration": 1087,
             "learn": [
              0.01188604293
             ],
             "passed_time": 306.3118051,
             "remaining_time": 115.9930732,
             "test": [
              0.2755589679
             ]
            },
            {
             "iteration": 1088,
             "learn": [
              0.01187607716
             ],
             "passed_time": 306.5854799,
             "remaining_time": 115.7085696,
             "test": [
              0.2755148663
             ]
            },
            {
             "iteration": 1089,
             "learn": [
              0.01186933908
             ],
             "passed_time": 306.8806129,
             "remaining_time": 115.4321572,
             "test": [
              0.2754745794
             ]
            },
            {
             "iteration": 1090,
             "learn": [
              0.01186211211
             ],
             "passed_time": 307.1574661,
             "remaining_time": 115.1488576,
             "test": [
              0.275536607
             ]
            },
            {
             "iteration": 1091,
             "learn": [
              0.01185377432
             ],
             "passed_time": 307.4508819,
             "remaining_time": 114.8717581,
             "test": [
              0.2755379405
             ]
            },
            {
             "iteration": 1092,
             "learn": [
              0.01184416191
             ],
             "passed_time": 307.7207968,
             "remaining_time": 114.5858777,
             "test": [
              0.275568086
             ]
            },
            {
             "iteration": 1093,
             "learn": [
              0.01183646683
             ],
             "passed_time": 308.005479,
             "remaining_time": 114.3055068,
             "test": [
              0.2755581615
             ]
            },
            {
             "iteration": 1094,
             "learn": [
              0.01182968885
             ],
             "passed_time": 308.2767262,
             "remaining_time": 114.020159,
             "test": [
              0.2754854652
             ]
            },
            {
             "iteration": 1095,
             "learn": [
              0.01182137766
             ],
             "passed_time": 308.5481817,
             "remaining_time": 113.7349137,
             "test": [
              0.275487295
             ]
            },
            {
             "iteration": 1096,
             "learn": [
              0.01181416233
             ],
             "passed_time": 308.8216318,
             "remaining_time": 113.4504263,
             "test": [
              0.2754678183
             ]
            },
            {
             "iteration": 1097,
             "learn": [
              0.01180765456
             ],
             "passed_time": 309.0973628,
             "remaining_time": 113.166794,
             "test": [
              0.2754358741
             ]
            },
            {
             "iteration": 1098,
             "learn": [
              0.01180109525
             ],
             "passed_time": 309.3954025,
             "remaining_time": 112.8913161,
             "test": [
              0.2753801423
             ]
            },
            {
             "iteration": 1099,
             "learn": [
              0.01179623874
             ],
             "passed_time": 309.6639899,
             "remaining_time": 112.6050872,
             "test": [
              0.2754298885
             ]
            },
            {
             "iteration": 1100,
             "learn": [
              0.01178881887
             ],
             "passed_time": 309.9558793,
             "remaining_time": 112.327335,
             "test": [
              0.2754363083
             ]
            },
            {
             "iteration": 1101,
             "learn": [
              0.01178184882
             ],
             "passed_time": 310.2269006,
             "remaining_time": 112.0420204,
             "test": [
              0.2753830266
             ]
            },
            {
             "iteration": 1102,
             "learn": [
              0.01177453039
             ],
             "passed_time": 310.5147636,
             "remaining_time": 111.7627934,
             "test": [
              0.2753874616
             ]
            },
            {
             "iteration": 1103,
             "learn": [
              0.01176761438
             ],
             "passed_time": 310.7825976,
             "remaining_time": 111.4763665,
             "test": [
              0.2754316252
             ]
            },
            {
             "iteration": 1104,
             "learn": [
              0.01176220163
             ],
             "passed_time": 311.0496126,
             "remaining_time": 111.1896805,
             "test": [
              0.2755191152
             ]
            },
            {
             "iteration": 1105,
             "learn": [
              0.01175388712
             ],
             "passed_time": 311.3486384,
             "remaining_time": 110.9144336,
             "test": [
              0.2755061514
             ]
            },
            {
             "iteration": 1106,
             "learn": [
              0.01174711079
             ],
             "passed_time": 311.6248133,
             "remaining_time": 110.6310313,
             "test": [
              0.27552783
             ]
            },
            {
             "iteration": 1107,
             "learn": [
              0.01174005178
             ],
             "passed_time": 311.9148816,
             "remaining_time": 110.3525574,
             "test": [
              0.2755754052
             ]
            },
            {
             "iteration": 1108,
             "learn": [
              0.01173235088
             ],
             "passed_time": 312.1896796,
             "remaining_time": 110.0686787,
             "test": [
              0.2755242945
             ]
            },
            {
             "iteration": 1109,
             "learn": [
              0.01172554379
             ],
             "passed_time": 312.4572023,
             "remaining_time": 109.7822603,
             "test": [
              0.2755514626
             ]
            },
            {
             "iteration": 1110,
             "learn": [
              0.01171830434
             ],
             "passed_time": 312.7316121,
             "remaining_time": 109.4982872,
             "test": [
              0.2755786306
             ]
            },
            {
             "iteration": 1111,
             "learn": [
              0.01171153301
             ],
             "passed_time": 313.0044234,
             "remaining_time": 109.2137736,
             "test": [
              0.2755468105
             ]
            },
            {
             "iteration": 1112,
             "learn": [
              0.01170391691
             ],
             "passed_time": 313.3011445,
             "remaining_time": 108.9375947,
             "test": [
              0.2754824258
             ]
            },
            {
             "iteration": 1113,
             "learn": [
              0.01169620936
             ],
             "passed_time": 313.5973481,
             "remaining_time": 108.6611996,
             "test": [
              0.275502957
             ]
            },
            {
             "iteration": 1114,
             "learn": [
              0.01169045905
             ],
             "passed_time": 313.889638,
             "remaining_time": 108.3834176,
             "test": [
              0.2755216893
             ]
            },
            {
             "iteration": 1115,
             "learn": [
              0.01168464055
             ],
             "passed_time": 314.1655971,
             "remaining_time": 108.0999904,
             "test": [
              0.2754661126
             ]
            },
            {
             "iteration": 1116,
             "learn": [
              0.01167780436
             ],
             "passed_time": 314.4587053,
             "remaining_time": 107.8224567,
             "test": [
              0.2754519703
             ]
            },
            {
             "iteration": 1117,
             "learn": [
              0.01167114943
             ],
             "passed_time": 314.7376561,
             "remaining_time": 107.5400578,
             "test": [
              0.2755076401
             ]
            },
            {
             "iteration": 1118,
             "learn": [
              0.01166520954
             ],
             "passed_time": 315.0115023,
             "remaining_time": 107.2559271,
             "test": [
              0.2755048178
             ]
            },
            {
             "iteration": 1119,
             "learn": [
              0.01165722512
             ],
             "passed_time": 315.2919772,
             "remaining_time": 106.9740637,
             "test": [
              0.2754607162
             ]
            },
            {
             "iteration": 1120,
             "learn": [
              0.01165094683
             ],
             "passed_time": 315.5550954,
             "remaining_time": 106.6863347,
             "test": [
              0.2755701019
             ]
            },
            {
             "iteration": 1121,
             "learn": [
              0.01164446983
             ],
             "passed_time": 315.8298159,
             "remaining_time": 106.4025583,
             "test": [
              0.2755694196
             ]
            },
            {
             "iteration": 1122,
             "learn": [
              0.01163727445
             ],
             "passed_time": 316.1013256,
             "remaining_time": 106.1177202,
             "test": [
              0.2755713734
             ]
            },
            {
             "iteration": 1123,
             "learn": [
              0.01163002669
             ],
             "passed_time": 316.3951102,
             "remaining_time": 105.8403571,
             "test": [
              0.2755224026
             ]
            },
            {
             "iteration": 1124,
             "learn": [
              0.01162377002
             ],
             "passed_time": 316.6607748,
             "remaining_time": 105.5535916,
             "test": [
              0.27559513
             ]
            },
            {
             "iteration": 1125,
             "learn": [
              0.01161685568
             ],
             "passed_time": 316.9342433,
             "remaining_time": 105.2694556,
             "test": [
              0.2755849885
             ]
            },
            {
             "iteration": 1126,
             "learn": [
              0.01161071209
             ],
             "passed_time": 317.2107237,
             "remaining_time": 104.9863353,
             "test": [
              0.2755336296
             ]
            },
            {
             "iteration": 1127,
             "learn": [
              0.01160364891
             ],
             "passed_time": 317.4888349,
             "remaining_time": 104.7037647,
             "test": [
              0.2755544089
             ]
            },
            {
             "iteration": 1128,
             "learn": [
              0.01159666472
             ],
             "passed_time": 317.7823664,
             "remaining_time": 104.4262692,
             "test": [
              0.2756073494
             ]
            },
            {
             "iteration": 1129,
             "learn": [
              0.01159501097
             ],
             "passed_time": 318.0341535,
             "remaining_time": 104.1350768,
             "test": [
              0.275651265
             ]
            },
            {
             "iteration": 1130,
             "learn": [
              0.01158760939
             ],
             "passed_time": 318.3221479,
             "remaining_time": 103.8557671,
             "test": [
              0.2756253684
             ]
            },
            {
             "iteration": 1131,
             "learn": [
              0.01158064848
             ],
             "passed_time": 318.5892488,
             "remaining_time": 103.5696498,
             "test": [
              0.2756168396
             ]
            },
            {
             "iteration": 1132,
             "learn": [
              0.01157378652
             ],
             "passed_time": 318.8562309,
             "remaining_time": 103.2835276,
             "test": [
              0.2756946843
             ]
            },
            {
             "iteration": 1133,
             "learn": [
              0.01156633422
             ],
             "passed_time": 319.1380935,
             "remaining_time": 103.0022418,
             "test": [
              0.2756802939
             ]
            },
            {
             "iteration": 1134,
             "learn": [
              0.01155967097
             ],
             "passed_time": 319.4349384,
             "remaining_time": 102.7257731,
             "test": [
              0.2757351883
             ]
            },
            {
             "iteration": 1135,
             "learn": [
              0.01155351408
             ],
             "passed_time": 319.7157793,
             "remaining_time": 102.4441405,
             "test": [
              0.2758157001
             ]
            },
            {
             "iteration": 1136,
             "learn": [
              0.01154694728
             ],
             "passed_time": 319.9810238,
             "remaining_time": 102.15753,
             "test": [
              0.2758388364
             ]
            },
            {
             "iteration": 1137,
             "learn": [
              0.01154170082
             ],
             "passed_time": 320.2540082,
             "remaining_time": 101.8734191,
             "test": [
              0.2758754327
             ]
            },
            {
             "iteration": 1138,
             "learn": [
              0.01153606441
             ],
             "passed_time": 320.5258757,
             "remaining_time": 101.5889738,
             "test": [
              0.2758822247
             ]
            },
            {
             "iteration": 1139,
             "learn": [
              0.01153035484
             ],
             "passed_time": 320.7959165,
             "remaining_time": 101.3039736,
             "test": [
              0.2758657254
             ]
            },
            {
             "iteration": 1140,
             "learn": [
              0.01152482985
             ],
             "passed_time": 321.0687547,
             "remaining_time": 101.0198799,
             "test": [
              0.275842279
             ]
            },
            {
             "iteration": 1141,
             "learn": [
              0.0115229516
             ],
             "passed_time": 321.3230283,
             "remaining_time": 100.7299861,
             "test": [
              0.2758238878
             ]
            },
            {
             "iteration": 1142,
             "learn": [
              0.01151511102
             ],
             "passed_time": 321.6120465,
             "remaining_time": 100.4510067,
             "test": [
              0.2758188635
             ]
            },
            {
             "iteration": 1143,
             "learn": [
              0.0115083879
             ],
             "passed_time": 321.8846554,
             "remaining_time": 100.1669033,
             "test": [
              0.2758119475
             ]
            },
            {
             "iteration": 1144,
             "learn": [
              0.01150415831
             ],
             "passed_time": 322.1501252,
             "remaining_time": 99.8806065,
             "test": [
              0.2758023642
             ]
            },
            {
             "iteration": 1145,
             "learn": [
              0.01149871563
             ],
             "passed_time": 322.4205278,
             "remaining_time": 99.59586985,
             "test": [
              0.2757248297
             ]
            },
            {
             "iteration": 1146,
             "learn": [
              0.01149224279
             ],
             "passed_time": 322.6912545,
             "remaining_time": 99.31125791,
             "test": [
              0.2757040194
             ]
            },
            {
             "iteration": 1147,
             "learn": [
              0.01148511808
             ],
             "passed_time": 322.9526258,
             "remaining_time": 99.02380163,
             "test": [
              0.2756897841
             ]
            },
            {
             "iteration": 1148,
             "learn": [
              0.0114781048
             ],
             "passed_time": 323.2439077,
             "remaining_time": 98.74552794,
             "test": [
              0.2757032131
             ]
            },
            {
             "iteration": 1149,
             "learn": [
              0.01147170595
             ],
             "passed_time": 323.5187503,
             "remaining_time": 98.46222835,
             "test": [
              0.2757047948
             ]
            },
            {
             "iteration": 1150,
             "learn": [
              0.01146454715
             ],
             "passed_time": 323.8153332,
             "remaining_time": 98.18553542,
             "test": [
              0.2756838605
             ]
            },
            {
             "iteration": 1151,
             "learn": [
              0.01145840439
             ],
             "passed_time": 324.0899876,
             "remaining_time": 97.90218375,
             "test": [
              0.2756102647
             ]
            },
            {
             "iteration": 1152,
             "learn": [
              0.01145137531
             ],
             "passed_time": 324.3703294,
             "remaining_time": 97.62055881,
             "test": [
              0.2755414451
             ]
            },
            {
             "iteration": 1153,
             "learn": [
              0.01144536309
             ],
             "passed_time": 324.6582041,
             "remaining_time": 97.34119465,
             "test": [
              0.2755307453
             ]
            },
            {
             "iteration": 1154,
             "learn": [
              0.01143949886
             ],
             "passed_time": 324.9355531,
             "remaining_time": 97.05867171,
             "test": [
              0.2754970644
             ]
            },
            {
             "iteration": 1155,
             "learn": [
              0.01143293289
             ],
             "passed_time": 325.2123196,
             "remaining_time": 96.77598439,
             "test": [
              0.2755094699
             ]
            },
            {
             "iteration": 1156,
             "learn": [
              0.01142615158
             ],
             "passed_time": 325.5047601,
             "remaining_time": 96.49795394,
             "test": [
              0.2754897141
             ]
            },
            {
             "iteration": 1157,
             "learn": [
              0.01141956067
             ],
             "passed_time": 325.7913755,
             "remaining_time": 96.21817825,
             "test": [
              0.2754845038
             ]
            },
            {
             "iteration": 1158,
             "learn": [
              0.01141405979
             ],
             "passed_time": 326.0565897,
             "remaining_time": 95.93209413,
             "test": [
              0.2754417047
             ]
            },
            {
             "iteration": 1159,
             "learn": [
              0.01140811408
             ],
             "passed_time": 326.3463974,
             "remaining_time": 95.65325442,
             "test": [
              0.2754223211
             ]
            },
            {
             "iteration": 1160,
             "learn": [
              0.0114017302
             ],
             "passed_time": 326.625639,
             "remaining_time": 95.37131062,
             "test": [
              0.2754092953
             ]
            },
            {
             "iteration": 1161,
             "learn": [
              0.01139500709
             ],
             "passed_time": 326.9172567,
             "remaining_time": 95.09297139,
             "test": [
              0.2753641392
             ]
            },
            {
             "iteration": 1162,
             "learn": [
              0.01138963841
             ],
             "passed_time": 327.1863747,
             "remaining_time": 94.80808966,
             "test": [
              0.2753558585
             ]
            },
            {
             "iteration": 1163,
             "learn": [
              0.0113834125
             ],
             "passed_time": 327.4878419,
             "remaining_time": 94.53257292,
             "test": [
              0.275323201
             ]
            },
            {
             "iteration": 1164,
             "learn": [
              0.01137769212
             ],
             "passed_time": 327.7607943,
             "remaining_time": 94.2488121,
             "test": [
              0.2753648835
             ]
            },
            {
             "iteration": 1165,
             "learn": [
              0.0113709873
             ],
             "passed_time": 328.0531351,
             "remaining_time": 93.9706236,
             "test": [
              0.275370342
             ]
            },
            {
             "iteration": 1166,
             "learn": [
              0.0113646533
             ],
             "passed_time": 328.3529557,
             "remaining_time": 93.6945452,
             "test": [
              0.2753257441
             ]
            },
            {
             "iteration": 1167,
             "learn": [
              0.01135697153
             ],
             "passed_time": 328.622413,
             "remaining_time": 93.40979547,
             "test": [
              0.2752914429
             ]
            },
            {
             "iteration": 1168,
             "learn": [
              0.01135087949
             ],
             "passed_time": 328.893949,
             "remaining_time": 93.12566049,
             "test": [
              0.2753269847
             ]
            },
            {
             "iteration": 1169,
             "learn": [
              0.01134537029
             ],
             "passed_time": 329.1613338,
             "remaining_time": 92.84037621,
             "test": [
              0.2753027319
             ]
            },
            {
             "iteration": 1170,
             "learn": [
              0.01133905708
             ],
             "passed_time": 329.4572167,
             "remaining_time": 92.56312919,
             "test": [
              0.2752976456
             ]
            },
            {
             "iteration": 1171,
             "learn": [
              0.01133282868
             ],
             "passed_time": 329.725962,
             "remaining_time": 92.27825559,
             "test": [
              0.2752698263
             ]
            },
            {
             "iteration": 1172,
             "learn": [
              0.01132666264
             ],
             "passed_time": 330.0061149,
             "remaining_time": 91.99658956,
             "test": [
              0.2753310785
             ]
            },
            {
             "iteration": 1173,
             "learn": [
              0.01132095806
             ],
             "passed_time": 330.3001418,
             "remaining_time": 91.71877873,
             "test": [
              0.2753510204
             ]
            },
            {
             "iteration": 1174,
             "learn": [
              0.01131444364
             ],
             "passed_time": 330.5883975,
             "remaining_time": 91.43934399,
             "test": [
              0.2753695356
             ]
            },
            {
             "iteration": 1175,
             "learn": [
              0.01130666043
             ],
             "passed_time": 330.8723734,
             "remaining_time": 91.15871513,
             "test": [
              0.2754012937
             ]
            },
            {
             "iteration": 1176,
             "learn": [
              0.01130298292
             ],
             "passed_time": 331.1442256,
             "remaining_time": 90.87475349,
             "test": [
              0.2753918035
             ]
            },
            {
             "iteration": 1177,
             "learn": [
              0.01129607356
             ],
             "passed_time": 331.4178893,
             "remaining_time": 90.59130761,
             "test": [
              0.2753506172
             ]
            },
            {
             "iteration": 1178,
             "learn": [
              0.01128963647
             ],
             "passed_time": 331.7042059,
             "remaining_time": 90.31132322,
             "test": [
              0.2753510514
             ]
            },
            {
             "iteration": 1179,
             "learn": [
              0.01128315032
             ],
             "passed_time": 332.0042478,
             "remaining_time": 90.03505024,
             "test": [
              0.2753252479
             ]
            },
            {
             "iteration": 1180,
             "learn": [
              0.01127867628
             ],
             "passed_time": 332.2763232,
             "remaining_time": 89.75118299,
             "test": [
              0.2752835654
             ]
            },
            {
             "iteration": 1181,
             "learn": [
              0.01127312718
             ],
             "passed_time": 332.556574,
             "remaining_time": 89.46953513,
             "test": [
              0.2752248562
             ]
            },
            {
             "iteration": 1182,
             "learn": [
              0.01126870053
             ],
             "passed_time": 332.8252877,
             "remaining_time": 89.18479815,
             "test": [
              0.2752054726
             ]
            },
            {
             "iteration": 1183,
             "learn": [
              0.0112617812
             ],
             "passed_time": 333.0941766,
             "remaining_time": 88.90013496,
             "test": [
              0.2751337067
             ]
            },
            {
             "iteration": 1184,
             "learn": [
              0.01125552369
             ],
             "passed_time": 333.3894606,
             "remaining_time": 88.62251485,
             "test": [
              0.2751438792
             ]
            },
            {
             "iteration": 1185,
             "learn": [
              0.01125518945
             ],
             "passed_time": 333.6496443,
             "remaining_time": 88.33557194,
             "test": [
              0.2751698068
             ]
            },
            {
             "iteration": 1186,
             "learn": [
              0.01124840232
             ],
             "passed_time": 333.9359455,
             "remaining_time": 88.05556104,
             "test": [
              0.2751881049
             ]
            },
            {
             "iteration": 1187,
             "learn": [
              0.01124215563
             ],
             "passed_time": 334.2307565,
             "remaining_time": 87.77777444,
             "test": [
              0.2751753272
             ]
            },
            {
             "iteration": 1188,
             "learn": [
              0.0112360137
             ],
             "passed_time": 334.5169049,
             "remaining_time": 87.49769336,
             "test": [
              0.275161309
             ]
            },
            {
             "iteration": 1189,
             "learn": [
              0.01123094351
             ],
             "passed_time": 334.7906189,
             "remaining_time": 87.2143629,
             "test": [
              0.2751519428
             ]
            },
            {
             "iteration": 1190,
             "learn": [
              0.01122457543
             ],
             "passed_time": 335.0798178,
             "remaining_time": 86.93506608,
             "test": [
              0.2751263874
             ]
            },
            {
             "iteration": 1191,
             "learn": [
              0.01121794211
             ],
             "passed_time": 335.3575583,
             "remaining_time": 86.6527919,
             "test": [
              0.2751507023
             ]
            },
            {
             "iteration": 1192,
             "learn": [
              0.01121286194
             ],
             "passed_time": 335.6319575,
             "remaining_time": 86.3696655,
             "test": [
              0.275163573
             ]
            },
            {
             "iteration": 1193,
             "learn": [
              0.01120667595
             ],
             "passed_time": 335.9286357,
             "remaining_time": 86.09226343,
             "test": [
              0.2751824294
             ]
            },
            {
             "iteration": 1194,
             "learn": [
              0.01120163403
             ],
             "passed_time": 336.1949979,
             "remaining_time": 85.80709152,
             "test": [
              0.2751898417
             ]
            },
            {
             "iteration": 1195,
             "learn": [
              0.01119665863
             ],
             "passed_time": 336.4616153,
             "remaining_time": 85.52201593,
             "test": [
              0.2751712644
             ]
            },
            {
             "iteration": 1196,
             "learn": [
              0.01119187113
             ],
             "passed_time": 336.7287138,
             "remaining_time": 85.23709297,
             "test": [
              0.2752321755
             ]
            },
            {
             "iteration": 1197,
             "learn": [
              0.01118713186
             ],
             "passed_time": 336.9951933,
             "remaining_time": 84.95204371,
             "test": [
              0.2751612159
             ]
            },
            {
             "iteration": 1198,
             "learn": [
              0.01118189372
             ],
             "passed_time": 337.2682277,
             "remaining_time": 84.66867101,
             "test": [
              0.2751549201
             ]
            },
            {
             "iteration": 1199,
             "learn": [
              0.01117724591
             ],
             "passed_time": 337.5422856,
             "remaining_time": 84.38557141,
             "test": [
              0.2750869999
             ]
            },
            {
             "iteration": 1200,
             "learn": [
              0.01117132348
             ],
             "passed_time": 337.8123425,
             "remaining_time": 84.10149077,
             "test": [
              0.2750420919
             ]
            },
            {
             "iteration": 1201,
             "learn": [
              0.01116611278
             ],
             "passed_time": 338.1065645,
             "remaining_time": 83.82342448,
             "test": [
              0.2750223361
             ]
            },
            {
             "iteration": 1202,
             "learn": [
              0.0111598004
             ],
             "passed_time": 338.4004109,
             "remaining_time": 83.54523859,
             "test": [
              0.2749862361
             ]
            },
            {
             "iteration": 1203,
             "learn": [
              0.01115378319
             ],
             "passed_time": 338.6688018,
             "remaining_time": 83.26076855,
             "test": [
              0.2750252514
             ]
            },
            {
             "iteration": 1204,
             "learn": [
              0.01114786908
             ],
             "passed_time": 338.9709262,
             "remaining_time": 82.9845836,
             "test": [
              0.2750081938
             ]
            },
            {
             "iteration": 1205,
             "learn": [
              0.01114184106
             ],
             "passed_time": 339.2543085,
             "remaining_time": 82.70378664,
             "test": [
              0.2750584982
             ]
            },
            {
             "iteration": 1206,
             "learn": [
              0.01113527759
             ],
             "passed_time": 339.543903,
             "remaining_time": 82.42449345,
             "test": [
              0.2750096515
             ]
            },
            {
             "iteration": 1207,
             "learn": [
              0.01112909325
             ],
             "passed_time": 339.8379678,
             "remaining_time": 82.14626375,
             "test": [
              0.2750161024
             ]
            },
            {
             "iteration": 1208,
             "learn": [
              0.01112457681
             ],
             "passed_time": 340.112144,
             "remaining_time": 81.86322076,
             "test": [
              0.2749944547
             ]
            },
            {
             "iteration": 1209,
             "learn": [
              0.01111756186
             ],
             "passed_time": 340.4079764,
             "remaining_time": 81.58538278,
             "test": [
              0.2750911558
             ]
            },
            {
             "iteration": 1210,
             "learn": [
              0.01111334973
             ],
             "passed_time": 340.6761976,
             "remaining_time": 81.30092577,
             "test": [
              0.2750828751
             ]
            },
            {
             "iteration": 1211,
             "learn": [
              0.01110765179
             ],
             "passed_time": 340.9442879,
             "remaining_time": 81.01646446,
             "test": [
              0.2751195024
             ]
            },
            {
             "iteration": 1212,
             "learn": [
              0.01110396098
             ],
             "passed_time": 341.2222067,
             "remaining_time": 80.73435557,
             "test": [
              0.2751527492
             ]
            },
            {
             "iteration": 1213,
             "learn": [
              0.01109852413
             ],
             "passed_time": 341.5205297,
             "remaining_time": 80.45706054,
             "test": [
              0.275170272
             ]
            },
            {
             "iteration": 1214,
             "learn": [
              0.01109246118
             ],
             "passed_time": 341.7962089,
             "remaining_time": 80.17441937,
             "test": [
              0.275174769
             ]
            },
            {
             "iteration": 1215,
             "learn": [
              0.01108953531
             ],
             "passed_time": 342.061035,
             "remaining_time": 79.88925488,
             "test": [
              0.2752937999
             ]
            },
            {
             "iteration": 1216,
             "learn": [
              0.01108639741
             ],
             "passed_time": 342.3230703,
             "remaining_time": 79.60347486,
             "test": [
              0.2752773006
             ]
            },
            {
             "iteration": 1217,
             "learn": [
              0.01107987302
             ],
             "passed_time": 342.594439,
             "remaining_time": 79.31989475,
             "test": [
              0.2752614215
             ]
            },
            {
             "iteration": 1218,
             "learn": [
              0.01107504062
             ],
             "passed_time": 342.8748641,
             "remaining_time": 79.03842233,
             "test": [
              0.2752626
             ]
            },
            {
             "iteration": 1219,
             "learn": [
              0.01106821607
             ],
             "passed_time": 343.1679616,
             "remaining_time": 78.75986004,
             "test": [
              0.2753521679
             ]
            },
            {
             "iteration": 1220,
             "learn": [
              0.01106326728
             ],
             "passed_time": 343.4633134,
             "remaining_time": 78.48178906,
             "test": [
              0.2753003128
             ]
            },
            {
             "iteration": 1221,
             "learn": [
              0.011057719
             ],
             "passed_time": 343.7612856,
             "remaining_time": 78.20428592,
             "test": [
              0.2752934588
             ]
            },
            {
             "iteration": 1222,
             "learn": [
              0.01105272281
             ],
             "passed_time": 344.0342364,
             "remaining_time": 77.92108216,
             "test": [
              0.2752408904
             ]
            },
            {
             "iteration": 1223,
             "learn": [
              0.01104654014
             ],
             "passed_time": 344.3087885,
             "remaining_time": 77.63825622,
             "test": [
              0.2752818906
             ]
            },
            {
             "iteration": 1224,
             "learn": [
              0.01103993177
             ],
             "passed_time": 344.6066445,
             "remaining_time": 77.3606753,
             "test": [
              0.2753357306
             ]
            },
            {
             "iteration": 1225,
             "learn": [
              0.01103394782
             ],
             "passed_time": 344.8958105,
             "remaining_time": 77.08111916,
             "test": [
              0.2753355445
             ]
            },
            {
             "iteration": 1226,
             "learn": [
              0.01103236474
             ],
             "passed_time": 345.1493083,
             "remaining_time": 76.79361137,
             "test": [
              0.2753073219
             ]
            },
            {
             "iteration": 1227,
             "learn": [
              0.01102985542
             ],
             "passed_time": 345.4021728,
             "remaining_time": 76.50601873,
             "test": [
              0.2753350173
             ]
            },
            {
             "iteration": 1228,
             "learn": [
              0.01102509619
             ],
             "passed_time": 345.6749082,
             "remaining_time": 76.22286422,
             "test": [
              0.2753583396
             ]
            },
            {
             "iteration": 1229,
             "learn": [
              0.01101991376
             ],
             "passed_time": 345.9445398,
             "remaining_time": 75.93904532,
             "test": [
              0.2753722958
             ]
            },
            {
             "iteration": 1230,
             "learn": [
              0.01101444946
             ],
             "passed_time": 346.2385371,
             "remaining_time": 75.66057392,
             "test": [
              0.2753528812
             ]
            },
            {
             "iteration": 1231,
             "learn": [
              0.0110090733
             ],
             "passed_time": 346.5151423,
             "remaining_time": 75.37829395,
             "test": [
              0.2753349242
             ]
            },
            {
             "iteration": 1232,
             "learn": [
              0.01100213235
             ],
             "passed_time": 346.7886769,
             "remaining_time": 75.09535826,
             "test": [
              0.2754418598
             ]
            },
            {
             "iteration": 1233,
             "learn": [
              0.01099612761
             ],
             "passed_time": 347.0828076,
             "remaining_time": 74.81687748,
             "test": [
              0.2754237788
             ]
            },
            {
             "iteration": 1234,
             "learn": [
              0.01099061425
             ],
             "passed_time": 347.3813936,
             "remaining_time": 74.53932736,
             "test": [
              0.2754324626
             ]
            },
            {
             "iteration": 1235,
             "learn": [
              0.01098513832
             ],
             "passed_time": 347.6719655,
             "remaining_time": 74.26003146,
             "test": [
              0.2753608518
             ]
            },
            {
             "iteration": 1236,
             "learn": [
              0.01097988604
             ],
             "passed_time": 347.9655245,
             "remaining_time": 73.98135241,
             "test": [
              0.2753147032
             ]
            },
            {
             "iteration": 1237,
             "learn": [
              0.01097343398
             ],
             "passed_time": 348.2624717,
             "remaining_time": 73.70336638,
             "test": [
              0.2753685742
             ]
            },
            {
             "iteration": 1238,
             "learn": [
              0.0109679331
             ],
             "passed_time": 348.551443,
             "remaining_time": 73.42366959,
             "test": [
              0.2753599213
             ]
            },
            {
             "iteration": 1239,
             "learn": [
              0.01096147439
             ],
             "passed_time": 348.83003,
             "remaining_time": 73.14178049,
             "test": [
              0.2753567269
             ]
            },
            {
             "iteration": 1240,
             "learn": [
              0.01095578727
             ],
             "passed_time": 349.1242809,
             "remaining_time": 72.8631658,
             "test": [
              0.2753817551
             ]
            },
            {
             "iteration": 1241,
             "learn": [
              0.01094995547
             ],
             "passed_time": 349.4196256,
             "remaining_time": 72.58475315,
             "test": [
              0.2753674887
             ]
            },
            {
             "iteration": 1242,
             "learn": [
              0.01094486366
             ],
             "passed_time": 349.7067611,
             "remaining_time": 72.30461593,
             "test": [
              0.275390563
             ]
            },
            {
             "iteration": 1243,
             "learn": [
              0.01093984419
             ],
             "passed_time": 349.9793294,
             "remaining_time": 72.02146971,
             "test": [
              0.2754350368
             ]
            },
            {
             "iteration": 1244,
             "learn": [
              0.01093500016
             ],
             "passed_time": 350.2473013,
             "remaining_time": 71.73739907,
             "test": [
              0.2754282447
             ]
            },
            {
             "iteration": 1245,
             "learn": [
              0.01093039891
             ],
             "passed_time": 350.5373856,
             "remaining_time": 71.4578619,
             "test": [
              0.2753961144
             ]
            },
            {
             "iteration": 1246,
             "learn": [
              0.01092471428
             ],
             "passed_time": 350.826933,
             "remaining_time": 71.17819892,
             "test": [
              0.2753637981
             ]
            },
            {
             "iteration": 1247,
             "learn": [
              0.01091989436
             ],
             "passed_time": 351.0985685,
             "remaining_time": 70.89490326,
             "test": [
              0.2753880819
             ]
            },
            {
             "iteration": 1248,
             "learn": [
              0.01091505614
             ],
             "passed_time": 351.3760111,
             "remaining_time": 70.61279326,
             "test": [
              0.2754238098
             ]
            },
            {
             "iteration": 1249,
             "learn": [
              0.01090985126
             ],
             "passed_time": 351.6620028,
             "remaining_time": 70.33240056,
             "test": [
              0.2755149903
             ]
            },
            {
             "iteration": 1250,
             "learn": [
              0.01090455409
             ],
             "passed_time": 351.9298815,
             "remaining_time": 70.04839368,
             "test": [
              0.2755183088
             ]
            },
            {
             "iteration": 1251,
             "learn": [
              0.01089817436
             ],
             "passed_time": 352.2133275,
             "remaining_time": 69.76749618,
             "test": [
              0.2756116293
             ]
            },
            {
             "iteration": 1252,
             "learn": [
              0.01089271173
             ],
             "passed_time": 352.4949224,
             "remaining_time": 69.48622972,
             "test": [
              0.27556148
             ]
            },
            {
             "iteration": 1253,
             "learn": [
              0.01088744615
             ],
             "passed_time": 352.7891098,
             "remaining_time": 69.20743303,
             "test": [
              0.2756070393
             ]
            },
            {
             "iteration": 1254,
             "learn": [
              0.01088188208
             ],
             "passed_time": 353.0791316,
             "remaining_time": 68.92779859,
             "test": [
              0.2755765217
             ]
            },
            {
             "iteration": 1255,
             "learn": [
              0.01087603282
             ],
             "passed_time": 353.367107,
             "remaining_time": 68.64775008,
             "test": [
              0.2756345485
             ]
            },
            {
             "iteration": 1256,
             "learn": [
              0.0108713293
             ],
             "passed_time": 353.6622842,
             "remaining_time": 68.3690812,
             "test": [
              0.2756641667
             ]
            },
            {
             "iteration": 1257,
             "learn": [
              0.01086630484
             ],
             "passed_time": 353.9384069,
             "remaining_time": 68.08672056,
             "test": [
              0.2756875821
             ]
            },
            {
             "iteration": 1258,
             "learn": [
              0.01086057781
             ],
             "passed_time": 354.2394941,
             "remaining_time": 67.80914859,
             "test": [
              0.2756683846
             ]
            },
            {
             "iteration": 1259,
             "learn": [
              0.01085587429
             ],
             "passed_time": 354.5220534,
             "remaining_time": 67.52801017,
             "test": [
              0.2756332149
             ]
            },
            {
             "iteration": 1260,
             "learn": [
              0.01084961097
             ],
             "passed_time": 354.7986223,
             "remaining_time": 67.24573412,
             "test": [
              0.2756250583
             ]
            },
            {
             "iteration": 1261,
             "learn": [
              0.01084334931
             ],
             "passed_time": 355.0737422,
             "remaining_time": 66.96319385,
             "test": [
              0.2756440698
             ]
            },
            {
             "iteration": 1262,
             "learn": [
              0.01083711925
             ],
             "passed_time": 355.3457023,
             "remaining_time": 66.6800724,
             "test": [
              0.2756054576
             ]
            },
            {
             "iteration": 1263,
             "learn": [
              0.01083290463
             ],
             "passed_time": 355.6335348,
             "remaining_time": 66.39993213,
             "test": [
              0.275570443
             ]
            },
            {
             "iteration": 1264,
             "learn": [
              0.01082727071
             ],
             "passed_time": 355.9083071,
             "remaining_time": 66.11735349,
             "test": [
              0.2755580065
             ]
            },
            {
             "iteration": 1265,
             "learn": [
              0.01082243749
             ],
             "passed_time": 356.195819,
             "remaining_time": 65.83714191,
             "test": [
              0.2755702259
             ]
            },
            {
             "iteration": 1266,
             "learn": [
              0.0108197519
             ],
             "passed_time": 356.4648234,
             "remaining_time": 65.55351527,
             "test": [
              0.2756016429
             ]
            },
            {
             "iteration": 1267,
             "learn": [
              0.01081529034
             ],
             "passed_time": 356.7578258,
             "remaining_time": 65.27430251,
             "test": [
              0.275577266
             ]
            },
            {
             "iteration": 1268,
             "learn": [
              0.01081224307
             ],
             "passed_time": 357.0296969,
             "remaining_time": 64.99122142,
             "test": [
              0.2756354169
             ]
            },
            {
             "iteration": 1269,
             "learn": [
              0.01080727764
             ],
             "passed_time": 357.3020864,
             "remaining_time": 64.70825187,
             "test": [
              0.2756290591
             ]
            },
            {
             "iteration": 1270,
             "learn": [
              0.01080650273
             ],
             "passed_time": 357.5557429,
             "remaining_time": 64.42192378,
             "test": [
              0.2755967737
             ]
            },
            {
             "iteration": 1271,
             "learn": [
              0.01080246604
             ],
             "passed_time": 357.8251682,
             "remaining_time": 64.13847354,
             "test": [
              0.27557494
             ]
            },
            {
             "iteration": 1272,
             "learn": [
              0.01079940962
             ],
             "passed_time": 358.0908609,
             "remaining_time": 63.85437975,
             "test": [
              0.2756079077
             ]
            },
            {
             "iteration": 1273,
             "learn": [
              0.01079359612
             ],
             "passed_time": 358.3601906,
             "remaining_time": 63.57096002,
             "test": [
              0.2755606116
             ]
            },
            {
             "iteration": 1274,
             "learn": [
              0.01078845941
             ],
             "passed_time": 358.6305325,
             "remaining_time": 63.28774103,
             "test": [
              0.2755407628
             ]
            },
            {
             "iteration": 1275,
             "learn": [
              0.01078293775
             ],
             "passed_time": 358.9016677,
             "remaining_time": 63.00468148,
             "test": [
              0.2755684891
             ]
            },
            {
             "iteration": 1276,
             "learn": [
              0.01077772704
             ],
             "passed_time": 359.1922029,
             "remaining_time": 62.72502838,
             "test": [
              0.2755055001
             ]
            },
            {
             "iteration": 1277,
             "learn": [
              0.01077274332
             ],
             "passed_time": 359.4893136,
             "remaining_time": 62.44650049,
             "test": [
              0.2754720362
             ]
            },
            {
             "iteration": 1278,
             "learn": [
              0.01076783194
             ],
             "passed_time": 359.7618184,
             "remaining_time": 62.16369184,
             "test": [
              0.2754830151
             ]
            },
            {
             "iteration": 1279,
             "learn": [
              0.01076395156
             ],
             "passed_time": 360.0352979,
             "remaining_time": 61.88106683,
             "test": [
              0.2755141219
             ]
            },
            {
             "iteration": 1280,
             "learn": [
              0.01075961388
             ],
             "passed_time": 360.3261042,
             "remaining_time": 61.60141828,
             "test": [
              0.2755188671
             ]
            },
            {
             "iteration": 1281,
             "learn": [
              0.0107532325
             ],
             "passed_time": 360.5855573,
             "remaining_time": 61.31642081,
             "test": [
              0.2753528502
             ]
            },
            {
             "iteration": 1282,
             "learn": [
              0.01074816646
             ],
             "passed_time": 360.8591577,
             "remaining_time": 61.03385597,
             "test": [
              0.2753228598
             ]
            },
            {
             "iteration": 1283,
             "learn": [
              0.01074732504
             ],
             "passed_time": 361.10964,
             "remaining_time": 60.74741608,
             "test": [
              0.2753485083
             ]
            },
            {
             "iteration": 1284,
             "learn": [
              0.0107430838
             ],
             "passed_time": 361.3804953,
             "remaining_time": 60.46444084,
             "test": [
              0.275318642
             ]
            },
            {
             "iteration": 1285,
             "learn": [
              0.01073753304
             ],
             "passed_time": 361.6546516,
             "remaining_time": 60.18203379,
             "test": [
              0.2752472172
             ]
            },
            {
             "iteration": 1286,
             "learn": [
              0.01073217184
             ],
             "passed_time": 361.944137,
             "remaining_time": 59.90217652,
             "test": [
              0.2752680585
             ]
            },
            {
             "iteration": 1287,
             "learn": [
              0.01072771194
             ],
             "passed_time": 362.2323078,
             "remaining_time": 59.62208793,
             "test": [
              0.2752258177
             ]
            },
            {
             "iteration": 1288,
             "learn": [
              0.01072224764
             ],
             "passed_time": 362.5167535,
             "remaining_time": 59.34137704,
             "test": [
              0.275210807
             ]
            },
            {
             "iteration": 1289,
             "learn": [
              0.01071722983
             ],
             "passed_time": 362.7852223,
             "remaining_time": 59.05805944,
             "test": [
              0.2752307799
             ]
            },
            {
             "iteration": 1290,
             "learn": [
              0.01071342511
             ],
             "passed_time": 363.0516284,
             "remaining_time": 58.77443094,
             "test": [
              0.2752967152
             ]
            },
            {
             "iteration": 1291,
             "learn": [
              0.0107092795
             ],
             "passed_time": 363.3159645,
             "remaining_time": 58.49049584,
             "test": [
              0.2752863256
             ]
            },
            {
             "iteration": 1292,
             "learn": [
              0.01070453774
             ],
             "passed_time": 363.6173061,
             "remaining_time": 58.21251537,
             "test": [
              0.2752884655
             ]
            },
            {
             "iteration": 1293,
             "learn": [
              0.01069977435
             ],
             "passed_time": 363.8881514,
             "remaining_time": 57.92964388,
             "test": [
              0.275275905
             ]
            },
            {
             "iteration": 1294,
             "learn": [
              0.01069440235
             ],
             "passed_time": 364.1725298,
             "remaining_time": 57.64893329,
             "test": [
              0.2752257867
             ]
            },
            {
             "iteration": 1295,
             "learn": [
              0.01068913926
             ],
             "passed_time": 364.4638047,
             "remaining_time": 57.36930259,
             "test": [
              0.2751970059
             ]
            },
            {
             "iteration": 1296,
             "learn": [
              0.01068555072
             ],
             "passed_time": 364.7532249,
             "remaining_time": 57.08936365,
             "test": [
              0.2751489035
             ]
            },
            {
             "iteration": 1297,
             "learn": [
              0.01067989519
             ],
             "passed_time": 365.0173316,
             "remaining_time": 56.80547072,
             "test": [
              0.2751564398
             ]
            },
            {
             "iteration": 1298,
             "learn": [
              0.01067489983
             ],
             "passed_time": 365.2883524,
             "remaining_time": 56.52267809,
             "test": [
              0.2750800528
             ]
            },
            {
             "iteration": 1299,
             "learn": [
              0.01066960681
             ],
             "passed_time": 365.5545179,
             "remaining_time": 56.2391566,
             "test": [
              0.2751056082
             ]
            },
            {
             "iteration": 1300,
             "learn": [
              0.01066436036
             ],
             "passed_time": 365.8209496,
             "remaining_time": 55.95570251,
             "test": [
              0.275111997
             ]
            },
            {
             "iteration": 1301,
             "learn": [
              0.01066013576
             ],
             "passed_time": 366.1133991,
             "remaining_time": 55.67623119,
             "test": [
              0.2750943192
             ]
            },
            {
             "iteration": 1302,
             "learn": [
              0.01065508386
             ],
             "passed_time": 366.3836617,
             "remaining_time": 55.39338554,
             "test": [
              0.2750800218
             ]
            },
            {
             "iteration": 1303,
             "learn": [
              0.01065033461
             ],
             "passed_time": 366.6579091,
             "remaining_time": 55.11115811,
             "test": [
              0.275080363
             ]
            },
            {
             "iteration": 1304,
             "learn": [
              0.01064528521
             ],
             "passed_time": 366.9382138,
             "remaining_time": 54.82984804,
             "test": [
              0.2750945673
             ]
            },
            {
             "iteration": 1305,
             "learn": [
              0.01064069976
             ],
             "passed_time": 367.2186752,
             "remaining_time": 54.54856278,
             "test": [
              0.2750806111
             ]
            },
            {
             "iteration": 1306,
             "learn": [
              0.01063700895
             ],
             "passed_time": 367.4905826,
             "remaining_time": 54.26601564,
             "test": [
              0.2750864106
             ]
            },
            {
             "iteration": 1307,
             "learn": [
              0.01063221979
             ],
             "passed_time": 367.7692107,
             "remaining_time": 53.9844713,
             "test": [
              0.2751151604
             ]
            },
            {
             "iteration": 1308,
             "learn": [
              0.01062654846
             ],
             "passed_time": 368.0407926,
             "remaining_time": 53.70190327,
             "test": [
              0.275123069
             ]
            },
            {
             "iteration": 1309,
             "learn": [
              0.01062341971
             ],
             "passed_time": 368.3119074,
             "remaining_time": 53.41928428,
             "test": [
              0.2750776337
             ]
            },
            {
             "iteration": 1310,
             "learn": [
              0.01061808512
             ],
             "passed_time": 368.6056857,
             "remaining_time": 53.13995011,
             "test": [
              0.2751297369
             ]
            },
            {
             "iteration": 1311,
             "learn": [
              0.01061314464
             ],
             "passed_time": 368.8969939,
             "remaining_time": 52.86023997,
             "test": [
              0.2750987852
             ]
            },
            {
             "iteration": 1312,
             "learn": [
              0.01060747581
             ],
             "passed_time": 369.1638241,
             "remaining_time": 52.57702598,
             "test": [
              0.2750293142
             ]
            },
            {
             "iteration": 1313,
             "learn": [
              0.01060341583
             ],
             "passed_time": 369.4565703,
             "remaining_time": 52.29750539,
             "test": [
              0.2750352379
             ]
            },
            {
             "iteration": 1314,
             "learn": [
              0.01059902826
             ],
             "passed_time": 369.75326,
             "remaining_time": 52.01851946,
             "test": [
              0.2750503416
             ]
            },
            {
             "iteration": 1315,
             "learn": [
              0.01059479452
             ],
             "passed_time": 370.0167635,
             "remaining_time": 51.73486663,
             "test": [
              0.2749796301
             ]
            },
            {
             "iteration": 1316,
             "learn": [
              0.01059047263
             ],
             "passed_time": 370.3053519,
             "remaining_time": 51.45472999,
             "test": [
              0.274929915
             ]
            },
            {
             "iteration": 1317,
             "learn": [
              0.01058630623
             ],
             "passed_time": 370.6015499,
             "remaining_time": 51.17563132,
             "test": [
              0.2749937414
             ]
            },
            {
             "iteration": 1318,
             "learn": [
              0.01058141314
             ],
             "passed_time": 370.8954053,
             "remaining_time": 50.89618526,
             "test": [
              0.2750189866
             ]
            },
            {
             "iteration": 1319,
             "learn": [
              0.01057606525
             ],
             "passed_time": 371.1845796,
             "remaining_time": 50.61607903,
             "test": [
              0.2750014949
             ]
            },
            {
             "iteration": 1320,
             "learn": [
              0.01057472162
             ],
             "passed_time": 371.4352327,
             "remaining_time": 50.33073933,
             "test": [
              0.2750251894
             ]
            },
            {
             "iteration": 1321,
             "learn": [
              0.01057178743
             ],
             "passed_time": 371.7058334,
             "remaining_time": 50.04813793,
             "test": [
              0.2750138073
             ]
            },
            {
             "iteration": 1322,
             "learn": [
              0.01056733418
             ],
             "passed_time": 371.9785083,
             "remaining_time": 49.76583218,
             "test": [
              0.2749736445
             ]
            },
            {
             "iteration": 1323,
             "learn": [
              0.01056258161
             ],
             "passed_time": 372.2494507,
             "remaining_time": 49.48331066,
             "test": [
              0.2749105004
             ]
            },
            {
             "iteration": 1324,
             "learn": [
              0.0105586397
             ],
             "passed_time": 372.5305895,
             "remaining_time": 49.20215333,
             "test": [
              0.2749136018
             ]
            },
            {
             "iteration": 1325,
             "learn": [
              0.01055457889
             ],
             "passed_time": 372.8060419,
             "remaining_time": 48.92024984,
             "test": [
              0.274972652
             ]
            },
            {
             "iteration": 1326,
             "learn": [
              0.01055045157
             ],
             "passed_time": 373.0761505,
             "remaining_time": 48.63765941,
             "test": [
              0.2749699538
             ]
            },
            {
             "iteration": 1327,
             "learn": [
              0.01054528576
             ],
             "passed_time": 373.3486447,
             "remaining_time": 48.35539675,
             "test": [
              0.2748847899
             ]
            },
            {
             "iteration": 1328,
             "learn": [
              0.01054049993
             ],
             "passed_time": 373.6463705,
             "remaining_time": 48.0763953,
             "test": [
              0.2749123612
             ]
            },
            {
             "iteration": 1329,
             "learn": [
              0.01053596104
             ],
             "passed_time": 373.9371416,
             "remaining_time": 47.79647675,
             "test": [
              0.2749159278
             ]
            },
            {
             "iteration": 1330,
             "learn": [
              0.01053062728
             ],
             "passed_time": 374.2181683,
             "remaining_time": 47.51530462,
             "test": [
              0.2749430028
             ]
            },
            {
             "iteration": 1331,
             "learn": [
              0.01052576911
             ],
             "passed_time": 374.4851977,
             "remaining_time": 47.23236727,
             "test": [
              0.2749618592
             ]
            },
            {
             "iteration": 1332,
             "learn": [
              0.01052141896
             ],
             "passed_time": 374.7544639,
             "remaining_time": 46.94973404,
             "test": [
              0.2749571761
             ]
            },
            {
             "iteration": 1333,
             "learn": [
              0.01051683933
             ],
             "passed_time": 375.0488414,
             "remaining_time": 46.67024563,
             "test": [
              0.274999479
             ]
            },
            {
             "iteration": 1334,
             "learn": [
              0.01051242183
             ],
             "passed_time": 375.3282121,
             "remaining_time": 46.38888015,
             "test": [
              0.2749679689
             ]
            },
            {
             "iteration": 1335,
             "learn": [
              0.01050780312
             ],
             "passed_time": 375.6294815,
             "remaining_time": 46.11020581,
             "test": [
              0.2749519348
             ]
            },
            {
             "iteration": 1336,
             "learn": [
              0.01050345297
             ],
             "passed_time": 375.9015036,
             "remaining_time": 45.82793201,
             "test": [
              0.2749836619
             ]
            },
            {
             "iteration": 1337,
             "learn": [
              0.0104993032
             ],
             "passed_time": 376.2049191,
             "remaining_time": 45.54947451,
             "test": [
              0.2749992929
             ]
            },
            {
             "iteration": 1338,
             "learn": [
              0.01049547437
             ],
             "passed_time": 376.4743282,
             "remaining_time": 45.26689085,
             "test": [
              0.2749221306
             ]
            },
            {
             "iteration": 1339,
             "learn": [
              0.01049097123
             ],
             "passed_time": 376.7464128,
             "remaining_time": 44.9846463,
             "test": [
              0.2748738421
             ]
            },
            {
             "iteration": 1340,
             "learn": [
              0.01048690127
             ],
             "passed_time": 377.0176627,
             "remaining_time": 44.70231795,
             "test": [
              0.2747941676
             ]
            },
            {
             "iteration": 1341,
             "learn": [
              0.01048261431
             ],
             "passed_time": 377.3033764,
             "remaining_time": 44.42170899,
             "test": [
              0.2747803975
             ]
            },
            {
             "iteration": 1342,
             "learn": [
              0.01047765637
             ],
             "passed_time": 377.5681313,
             "remaining_time": 44.13864231,
             "test": [
              0.2747765518
             ]
            },
            {
             "iteration": 1343,
             "learn": [
              0.01047360471
             ],
             "passed_time": 377.8545575,
             "remaining_time": 43.85811828,
             "test": [
              0.2748055807
             ]
            },
            {
             "iteration": 1344,
             "learn": [
              0.01046933438
             ],
             "passed_time": 378.1268283,
             "remaining_time": 43.57595419,
             "test": [
              0.2747722098
             ]
            },
            {
             "iteration": 1345,
             "learn": [
              0.0104647165
             ],
             "passed_time": 378.4187991,
             "remaining_time": 43.29605873,
             "test": [
              0.2747898877
             ]
            },
            {
             "iteration": 1346,
             "learn": [
              0.01045923807
             ],
             "passed_time": 378.7100038,
             "remaining_time": 43.01605834,
             "test": [
              0.2748004014
             ]
            },
            {
             "iteration": 1347,
             "learn": [
              0.01045447718
             ],
             "passed_time": 378.9819394,
             "remaining_time": 42.73386854,
             "test": [
              0.2747639602
             ]
            },
            {
             "iteration": 1348,
             "learn": [
              0.0104499757
             ],
             "passed_time": 379.2728955,
             "remaining_time": 42.453823,
             "test": [
              0.2747833748
             ]
            },
            {
             "iteration": 1349,
             "learn": [
              0.01044737576
             ],
             "passed_time": 379.5380073,
             "remaining_time": 42.1708897,
             "test": [
              0.274777079
             ]
            },
            {
             "iteration": 1350,
             "learn": [
              0.01044288426
             ],
             "passed_time": 379.8260114,
             "remaining_time": 41.89050754,
             "test": [
              0.2748335551
             ]
            },
            {
             "iteration": 1351,
             "learn": [
              0.01043745072
             ],
             "passed_time": 380.1052084,
             "remaining_time": 41.60915003,
             "test": [
              0.2748829291
             ]
            },
            {
             "iteration": 1352,
             "learn": [
              0.01043330262
             ],
             "passed_time": 380.3868378,
             "remaining_time": 41.32805998,
             "test": [
              0.2749781415
             ]
            },
            {
             "iteration": 1353,
             "learn": [
              0.01042902314
             ],
             "passed_time": 380.6650767,
             "remaining_time": 41.04660355,
             "test": [
              0.2750034797
             ]
            },
            {
             "iteration": 1354,
             "learn": [
              0.01042503716
             ],
             "passed_time": 380.9435637,
             "remaining_time": 40.7651784,
             "test": [
              0.2750453794
             ]
            },
            {
             "iteration": 1355,
             "learn": [
              0.01041984974
             ],
             "passed_time": 381.2171193,
             "remaining_time": 40.48323391,
             "test": [
              0.2749695817
             ]
            },
            {
             "iteration": 1356,
             "learn": [
              0.01041532581
             ],
             "passed_time": 381.5136428,
             "remaining_time": 40.20372212,
             "test": [
              0.2750179942
             ]
            },
            {
             "iteration": 1357,
             "learn": [
              0.01041151444
             ],
             "passed_time": 381.7907237,
             "remaining_time": 39.92215226,
             "test": [
              0.2749484923
             ]
            },
            {
             "iteration": 1358,
             "learn": [
              0.01040607176
             ],
             "passed_time": 382.0771388,
             "remaining_time": 39.64155745,
             "test": [
              0.2749037084
             ]
            },
            {
             "iteration": 1359,
             "learn": [
              0.0104013566
             ],
             "passed_time": 382.375734,
             "remaining_time": 39.36220792,
             "test": [
              0.2748993354
             ]
            },
            {
             "iteration": 1360,
             "learn": [
              0.01039677448
             ],
             "passed_time": 382.6468163,
             "remaining_time": 39.08002019,
             "test": [
              0.274875889
             ]
            },
            {
             "iteration": 1361,
             "learn": [
              0.01039229379
             ],
             "passed_time": 382.9134303,
             "remaining_time": 38.79739602,
             "test": [
              0.2748461157
             ]
            },
            {
             "iteration": 1362,
             "learn": [
              0.01038851069
             ],
             "passed_time": 383.2165219,
             "remaining_time": 38.51846185,
             "test": [
              0.2748291202
             ]
            },
            {
             "iteration": 1363,
             "learn": [
              0.01038344964
             ],
             "passed_time": 383.4944634,
             "remaining_time": 38.23698463,
             "test": [
              0.2747529193
             ]
            },
            {
             "iteration": 1364,
             "learn": [
              0.01037961499
             ],
             "passed_time": 383.7745695,
             "remaining_time": 37.95572665,
             "test": [
              0.2747487634
             ]
            },
            {
             "iteration": 1365,
             "learn": [
              0.01037519999
             ],
             "passed_time": 384.0443497,
             "remaining_time": 37.67345744,
             "test": [
              0.2746925044
             ]
            },
            {
             "iteration": 1366,
             "learn": [
              0.01037143933
             ],
             "passed_time": 384.3404335,
             "remaining_time": 37.39376566,
             "test": [
              0.2746641578
             ]
            },
            {
             "iteration": 1367,
             "learn": [
              0.01036728125
             ],
             "passed_time": 384.6380166,
             "remaining_time": 37.11419458,
             "test": [
              0.274653427
             ]
            },
            {
             "iteration": 1368,
             "learn": [
              0.01036303087
             ],
             "passed_time": 384.9129226,
             "remaining_time": 36.83242721,
             "test": [
              0.2746479376
             ]
            },
            {
             "iteration": 1369,
             "learn": [
              0.01035854935
             ],
             "passed_time": 385.1925536,
             "remaining_time": 36.55111822,
             "test": [
              0.2746178232
             ]
            },
            {
             "iteration": 1370,
             "learn": [
              0.01035468476
             ],
             "passed_time": 385.4772916,
             "remaining_time": 36.2702922,
             "test": [
              0.2746340124
             ]
            },
            {
             "iteration": 1371,
             "learn": [
              0.01035067717
             ],
             "passed_time": 385.7449163,
             "remaining_time": 35.98786391,
             "test": [
              0.2746342605
             ]
            },
            {
             "iteration": 1372,
             "learn": [
              0.0103484389
             ],
             "passed_time": 386.0116131,
             "remaining_time": 35.70537135,
             "test": [
              0.2746045493
             ]
            },
            {
             "iteration": 1373,
             "learn": [
              0.01034447954
             ],
             "passed_time": 386.278338,
             "remaining_time": 35.42290436,
             "test": [
              0.274604084
             ]
            },
            {
             "iteration": 1374,
             "learn": [
              0.01034071639
             ],
             "passed_time": 386.5492758,
             "remaining_time": 35.14084325,
             "test": [
              0.2745351404
             ]
            },
            {
             "iteration": 1375,
             "learn": [
              0.01033629224
             ],
             "passed_time": 386.8486714,
             "remaining_time": 34.86136283,
             "test": [
              0.2744992884
             ]
            },
            {
             "iteration": 1376,
             "learn": [
              0.01033266129
             ],
             "passed_time": 387.1209379,
             "remaining_time": 34.57943018,
             "test": [
              0.274489426
             ]
            },
            {
             "iteration": 1377,
             "learn": [
              0.01032906277
             ],
             "passed_time": 387.411393,
             "remaining_time": 34.29912187,
             "test": [
              0.2745305193
             ]
            },
            {
             "iteration": 1378,
             "learn": [
              0.01032557566
             ],
             "passed_time": 387.6983045,
             "remaining_time": 34.01848792,
             "test": [
              0.2745155397
             ]
            },
            {
             "iteration": 1379,
             "learn": [
              0.01032122634
             ],
             "passed_time": 387.9902981,
             "remaining_time": 33.73828679,
             "test": [
              0.2745251539
             ]
            },
            {
             "iteration": 1380,
             "learn": [
              0.01031792465
             ],
             "passed_time": 388.264423,
             "remaining_time": 33.45652885,
             "test": [
              0.2745199436
             ]
            },
            {
             "iteration": 1381,
             "learn": [
              0.01031395946
             ],
             "passed_time": 388.5339933,
             "remaining_time": 33.17439306,
             "test": [
              0.2744928375
             ]
            },
            {
             "iteration": 1382,
             "learn": [
              0.01030973153
             ],
             "passed_time": 388.8109207,
             "remaining_time": 32.89289785,
             "test": [
              0.2743637891
             ]
            },
            {
             "iteration": 1383,
             "learn": [
              0.01030550444
             ],
             "passed_time": 389.1010489,
             "remaining_time": 32.61251566,
             "test": [
              0.2743587339
             ]
            },
            {
             "iteration": 1384,
             "learn": [
              0.01030130727
             ],
             "passed_time": 389.3884698,
             "remaining_time": 32.33189461,
             "test": [
              0.2744181563
             ]
            },
            {
             "iteration": 1385,
             "learn": [
              0.01029779689
             ],
             "passed_time": 389.6624986,
             "remaining_time": 32.05016223,
             "test": [
              0.2744002924
             ]
            },
            {
             "iteration": 1386,
             "learn": [
              0.0102972315
             ],
             "passed_time": 389.9128768,
             "remaining_time": 31.76651412,
             "test": [
              0.2744102168
             ]
            },
            {
             "iteration": 1387,
             "learn": [
              0.01029385248
             ],
             "passed_time": 390.1851255,
             "remaining_time": 31.48467872,
             "test": [
              0.2744134422
             ]
            },
            {
             "iteration": 1388,
             "learn": [
              0.01028977837
             ],
             "passed_time": 390.4567075,
             "remaining_time": 31.20280384,
             "test": [
              0.2744512791
             ]
            },
            {
             "iteration": 1389,
             "learn": [
              0.01028538914
             ],
             "passed_time": 390.7200553,
             "remaining_time": 30.92029214,
             "test": [
              0.2743866463
             ]
            },
            {
             "iteration": 1390,
             "learn": [
              0.01028162849
             ],
             "passed_time": 390.9910142,
             "remaining_time": 30.63840442,
             "test": [
              0.2743395053
             ]
            },
            {
             "iteration": 1391,
             "learn": [
              0.01027774728
             ],
             "passed_time": 391.2590298,
             "remaining_time": 30.35630404,
             "test": [
              0.2743530894
             ]
            },
            {
             "iteration": 1392,
             "learn": [
              0.01027643608
             ],
             "passed_time": 391.5150137,
             "remaining_time": 30.07329969,
             "test": [
              0.2744193348
             ]
            },
            {
             "iteration": 1393,
             "learn": [
              0.0102726139
             ],
             "passed_time": 391.8145801,
             "remaining_time": 29.79364813,
             "test": [
              0.2744417268
             ]
            },
            {
             "iteration": 1394,
             "learn": [
              0.01026833858
             ],
             "passed_time": 392.1112192,
             "remaining_time": 29.51374768,
             "test": [
              0.2744159233
             ]
            },
            {
             "iteration": 1395,
             "learn": [
              0.0102654551
             ],
             "passed_time": 392.3756803,
             "remaining_time": 29.23142604,
             "test": [
              0.2744122637
             ]
            },
            {
             "iteration": 1396,
             "learn": [
              0.01026161546
             ],
             "passed_time": 392.6452574,
             "remaining_time": 28.94950717,
             "test": [
              0.2743990828
             ]
            },
            {
             "iteration": 1397,
             "learn": [
              0.01025741996
             ],
             "passed_time": 392.9088857,
             "remaining_time": 28.66717192,
             "test": [
              0.2744431224
             ]
            },
            {
             "iteration": 1398,
             "learn": [
              0.01025352794
             ],
             "passed_time": 393.184258,
             "remaining_time": 28.38571126,
             "test": [
              0.2744679955
             ]
            },
            {
             "iteration": 1399,
             "learn": [
              0.01024853757
             ],
             "passed_time": 393.4502541,
             "remaining_time": 28.10358958,
             "test": [
              0.2745228589
             ]
            },
            {
             "iteration": 1400,
             "learn": [
              0.01024454577
             ],
             "passed_time": 393.7417306,
             "remaining_time": 27.82329145,
             "test": [
              0.2745405988
             ]
            },
            {
             "iteration": 1401,
             "learn": [
              0.01024012578
             ],
             "passed_time": 394.0391352,
             "remaining_time": 27.54339176,
             "test": [
              0.2745083444
             ]
            },
            {
             "iteration": 1402,
             "learn": [
              0.01023619219
             ],
             "passed_time": 394.3365293,
             "remaining_time": 27.26346639,
             "test": [
              0.2745151055
             ]
            },
            {
             "iteration": 1403,
             "learn": [
              0.01023248225
             ],
             "passed_time": 394.6300327,
             "remaining_time": 26.9832501,
             "test": [
              0.2745349543
             ]
            },
            {
             "iteration": 1404,
             "learn": [
              0.01022897769
             ],
             "passed_time": 394.8993705,
             "remaining_time": 26.70138092,
             "test": [
              0.2745541828
             ]
            },
            {
             "iteration": 1405,
             "learn": [
              0.0102246134
             ],
             "passed_time": 395.1877377,
             "remaining_time": 26.42080181,
             "test": [
              0.2745539657
             ]
            },
            {
             "iteration": 1406,
             "learn": [
              0.01022104481
             ],
             "passed_time": 395.4619356,
             "remaining_time": 26.13927506,
             "test": [
              0.2745428318
             ]
            },
            {
             "iteration": 1407,
             "learn": [
              0.01021627727
             ],
             "passed_time": 395.7478141,
             "remaining_time": 25.85852194,
             "test": [
              0.2745810408
             ]
            },
            {
             "iteration": 1408,
             "learn": [
              0.01021328654
             ],
             "passed_time": 396.0153317,
             "remaining_time": 25.57657572,
             "test": [
              0.2745958034
             ]
            },
            {
             "iteration": 1409,
             "learn": [
              0.0102097113
             ],
             "passed_time": 396.2915239,
             "remaining_time": 25.29520365,
             "test": [
              0.2745443515
             ]
            },
            {
             "iteration": 1410,
             "learn": [
              0.01020707643
             ],
             "passed_time": 396.5633548,
             "remaining_time": 25.01356384,
             "test": [
              0.2745601065
             ]
            },
            {
             "iteration": 1411,
             "learn": [
              0.01020359099
             ],
             "passed_time": 396.8300327,
             "remaining_time": 24.73161677,
             "test": [
              0.2745471737
             ]
            },
            {
             "iteration": 1412,
             "learn": [
              0.0102010401
             ],
             "passed_time": 397.1047861,
             "remaining_time": 24.45018853,
             "test": [
              0.2745226108
             ]
            },
            {
             "iteration": 1413,
             "learn": [
              0.01019681051
             ],
             "passed_time": 397.402584,
             "remaining_time": 24.17017131,
             "test": [
              0.2744962181
             ]
            },
            {
             "iteration": 1414,
             "learn": [
              0.01019252937
             ],
             "passed_time": 397.687154,
             "remaining_time": 23.88933434,
             "test": [
              0.2744707247
             ]
            },
            {
             "iteration": 1415,
             "learn": [
              0.01018869555
             ],
             "passed_time": 397.9835825,
             "remaining_time": 23.60919557,
             "test": [
              0.2744581641
             ]
            },
            {
             "iteration": 1416,
             "learn": [
              0.01018618789
             ],
             "passed_time": 398.2478912,
             "remaining_time": 23.32715242,
             "test": [
              0.2744728957
             ]
            },
            {
             "iteration": 1417,
             "learn": [
              0.01018193585
             ],
             "passed_time": 398.5283105,
             "remaining_time": 23.04606591,
             "test": [
              0.2744513101
             ]
            },
            {
             "iteration": 1418,
             "learn": [
              0.01017767051
             ],
             "passed_time": 398.831389,
             "remaining_time": 22.76627379,
             "test": [
              0.2744504107
             ]
            },
            {
             "iteration": 1419,
             "learn": [
              0.01017419005
             ],
             "passed_time": 399.1027731,
             "remaining_time": 22.48466327,
             "test": [
              0.2744933958
             ]
            },
            {
             "iteration": 1420,
             "learn": [
              0.01017006938
             ],
             "passed_time": 399.4047031,
             "remaining_time": 22.20476534,
             "test": [
              0.2745264875
             ]
            },
            {
             "iteration": 1421,
             "learn": [
              0.01016653073
             ],
             "passed_time": 399.6888026,
             "remaining_time": 21.92385837,
             "test": [
              0.2745333416
             ]
            },
            {
             "iteration": 1422,
             "learn": [
              0.01016423509
             ],
             "passed_time": 399.9607908,
             "remaining_time": 21.64229156,
             "test": [
              0.274534334
             ]
            },
            {
             "iteration": 1423,
             "learn": [
              0.01016086356
             ],
             "passed_time": 400.2274895,
             "remaining_time": 21.3604559,
             "test": [
              0.2745147953
             ]
            },
            {
             "iteration": 1424,
             "learn": [
              0.01015724674
             ],
             "passed_time": 400.5268484,
             "remaining_time": 21.08036044,
             "test": [
              0.2745438863
             ]
            },
            {
             "iteration": 1425,
             "learn": [
              0.0101540282
             ],
             "passed_time": 400.8192062,
             "remaining_time": 20.79987465,
             "test": [
              0.2745525391
             ]
            },
            {
             "iteration": 1426,
             "learn": [
              0.0101503773
             ],
             "passed_time": 401.0943599,
             "remaining_time": 20.51849213,
             "test": [
              0.2745232931
             ]
            },
            {
             "iteration": 1427,
             "learn": [
              0.01014690682
             ],
             "passed_time": 401.3659331,
             "remaining_time": 20.23693781,
             "test": [
              0.2745143921
             ]
            },
            {
             "iteration": 1428,
             "learn": [
              0.01014304639
             ],
             "passed_time": 401.6479435,
             "remaining_time": 19.95591602,
             "test": [
              0.2744801219
             ]
            },
            {
             "iteration": 1429,
             "learn": [
              0.01013950358
             ],
             "passed_time": 401.9266959,
             "remaining_time": 19.67473336,
             "test": [
              0.2745099882
             ]
            },
            {
             "iteration": 1430,
             "learn": [
              0.01013613953
             ],
             "passed_time": 402.2342656,
             "remaining_time": 19.39494363,
             "test": [
              0.2744958769
             ]
            },
            {
             "iteration": 1431,
             "learn": [
              0.01013223503
             ],
             "passed_time": 402.5379917,
             "remaining_time": 19.11493257,
             "test": [
              0.2744906046
             ]
            },
            {
             "iteration": 1432,
             "learn": [
              0.01012875458
             ],
             "passed_time": 402.8134013,
             "remaining_time": 18.83356447,
             "test": [
              0.2745325352
             ]
            },
            {
             "iteration": 1433,
             "learn": [
              0.01012609061
             ],
             "passed_time": 403.0794116,
             "remaining_time": 18.55177208,
             "test": [
              0.2745012423
             ]
            },
            {
             "iteration": 1434,
             "learn": [
              0.01012360624
             ],
             "passed_time": 403.3453126,
             "remaining_time": 18.26999674,
             "test": [
              0.2745773812
             ]
            },
            {
             "iteration": 1435,
             "learn": [
              0.01012041928
             ],
             "passed_time": 403.6153782,
             "remaining_time": 17.98842911,
             "test": [
              0.274592733
             ]
            },
            {
             "iteration": 1436,
             "learn": [
              0.01011678667
             ],
             "passed_time": 403.9079305,
             "remaining_time": 17.70786334,
             "test": [
              0.2745970439
             ]
            },
            {
             "iteration": 1437,
             "learn": [
              0.01011282814
             ],
             "passed_time": 404.1840398,
             "remaining_time": 17.42657195,
             "test": [
              0.2746093254
             ]
            },
            {
             "iteration": 1438,
             "learn": [
              0.01010913982
             ],
             "passed_time": 404.479333,
             "remaining_time": 17.14610098,
             "test": [
              0.274592826
             ]
            },
            {
             "iteration": 1439,
             "learn": [
              0.01010548809
             ],
             "passed_time": 404.7698772,
             "remaining_time": 16.86541155,
             "test": [
              0.2745976022
             ]
            },
            {
             "iteration": 1440,
             "learn": [
              0.01010179395
             ],
             "passed_time": 405.0541763,
             "remaining_time": 16.58445274,
             "test": [
              0.2746315933
             ]
            },
            {
             "iteration": 1441,
             "learn": [
              0.01009861614
             ],
             "passed_time": 405.3168294,
             "remaining_time": 16.30261866,
             "test": [
              0.2746233436
             ]
            },
            {
             "iteration": 1442,
             "learn": [
              0.01009511241
             ],
             "passed_time": 405.5955665,
             "remaining_time": 16.02144649,
             "test": [
              0.2746340434
             ]
            },
            {
             "iteration": 1443,
             "learn": [
              0.01009036067
             ],
             "passed_time": 405.8727894,
             "remaining_time": 15.74021898,
             "test": [
              0.2746643128
             ]
            },
            {
             "iteration": 1444,
             "learn": [
              0.01008725686
             ],
             "passed_time": 406.1426803,
             "remaining_time": 15.45871794,
             "test": [
              0.2746943652
             ]
            },
            {
             "iteration": 1445,
             "learn": [
              0.0100830996
             ],
             "passed_time": 406.42107,
             "remaining_time": 15.17755033,
             "test": [
              0.2748411845
             ]
            },
            {
             "iteration": 1446,
             "learn": [
              0.01007952686
             ],
             "passed_time": 406.7146138,
             "remaining_time": 14.89694163,
             "test": [
              0.2748179242
             ]
            },
            {
             "iteration": 1447,
             "learn": [
              0.01007605721
             ],
             "passed_time": 407.0165817,
             "remaining_time": 14.61661757,
             "test": [
              0.2747961835
             ]
            },
            {
             "iteration": 1448,
             "learn": [
              0.01007291932
             ],
             "passed_time": 407.3005129,
             "remaining_time": 14.33562882,
             "test": [
              0.2748244991
             ]
            },
            {
             "iteration": 1449,
             "learn": [
              0.01007043661
             ],
             "passed_time": 407.5732068,
             "remaining_time": 14.05424851,
             "test": [
              0.2748921712
             ]
            },
            {
             "iteration": 1450,
             "learn": [
              0.0100666718
             ],
             "passed_time": 407.8412047,
             "remaining_time": 13.77272159,
             "test": [
              0.2748761061
             ]
            },
            {
             "iteration": 1451,
             "learn": [
              0.01006208884
             ],
             "passed_time": 408.1316407,
             "remaining_time": 13.49195507,
             "test": [
              0.2748429213
             ]
            },
            {
             "iteration": 1452,
             "learn": [
              0.01006045088
             ],
             "passed_time": 408.3968665,
             "remaining_time": 13.21035976,
             "test": [
              0.2748879533
             ]
            },
            {
             "iteration": 1453,
             "learn": [
              0.01005621048
             ],
             "passed_time": 408.6821195,
             "remaining_time": 12.92942056,
             "test": [
              0.2748022312
             ]
            },
            {
             "iteration": 1454,
             "learn": [
              0.01005379179
             ],
             "passed_time": 408.9519382,
             "remaining_time": 12.64799809,
             "test": [
              0.2748204673
             ]
            },
            {
             "iteration": 1455,
             "learn": [
              0.01005019576
             ],
             "passed_time": 409.2446737,
             "remaining_time": 12.36728409,
             "test": [
              0.2748446891
             ]
            },
            {
             "iteration": 1456,
             "learn": [
              0.01004658144
             ],
             "passed_time": 409.5134074,
             "remaining_time": 12.08584524,
             "test": [
              0.2747853597
             ]
            },
            {
             "iteration": 1457,
             "learn": [
              0.01004312926
             ],
             "passed_time": 409.7937646,
             "remaining_time": 11.80475865,
             "test": [
              0.2747759005
             ]
            },
            {
             "iteration": 1458,
             "learn": [
              0.01003986997
             ],
             "passed_time": 410.0657942,
             "remaining_time": 11.52343904,
             "test": [
              0.2747426847
             ]
            },
            {
             "iteration": 1459,
             "learn": [
              0.01003619995
             ],
             "passed_time": 410.3443078,
             "remaining_time": 11.2423098,
             "test": [
              0.2747353034
             ]
            },
            {
             "iteration": 1460,
             "learn": [
              0.01003267792
             ],
             "passed_time": 410.6273102,
             "remaining_time": 10.96130397,
             "test": [
              0.2746321515
             ]
            },
            {
             "iteration": 1461,
             "learn": [
              0.01002940866
             ],
             "passed_time": 410.9035776,
             "remaining_time": 10.68012035,
             "test": [
              0.2745743418
             ]
            },
            {
             "iteration": 1462,
             "learn": [
              0.01002590742
             ],
             "passed_time": 411.1715705,
             "remaining_time": 10.39873418,
             "test": [
              0.2746523105
             ]
            },
            {
             "iteration": 1463,
             "learn": [
              0.01002255584
             ],
             "passed_time": 411.4431649,
             "remaining_time": 10.11745487,
             "test": [
              0.2746114343
             ]
            },
            {
             "iteration": 1464,
             "learn": [
              0.01001976549
             ],
             "passed_time": 411.7147329,
             "remaining_time": 9.836188159,
             "test": [
              0.2746339813
             ]
            },
            {
             "iteration": 1465,
             "learn": [
              0.01001658103
             ],
             "passed_time": 412.0133144,
             "remaining_time": 9.55556118,
             "test": [
              0.2746072164
             ]
            },
            {
             "iteration": 1466,
             "learn": [
              0.01001229573
             ],
             "passed_time": 412.29371,
             "remaining_time": 9.274500633,
             "test": [
              0.2746347567
             ]
            },
            {
             "iteration": 1467,
             "learn": [
              0.01000777679
             ],
             "passed_time": 412.5592641,
             "remaining_time": 8.993117473,
             "test": [
              0.2746302907
             ]
            },
            {
             "iteration": 1468,
             "learn": [
              0.01000500723
             ],
             "passed_time": 412.8243798,
             "remaining_time": 8.711746612,
             "test": [
              0.2747248828
             ]
            },
            {
             "iteration": 1469,
             "learn": [
              0.01000156835
             ],
             "passed_time": 413.1016479,
             "remaining_time": 8.430645875,
             "test": [
              0.2747262474
             ]
            },
            {
             "iteration": 1470,
             "learn": [
              0.009997972324
             ],
             "passed_time": 413.3676709,
             "remaining_time": 8.149328657,
             "test": [
              0.2747317368
             ]
            },
            {
             "iteration": 1471,
             "learn": [
              0.009994395422
             ],
             "passed_time": 413.6628174,
             "remaining_time": 7.868586201,
             "test": [
              0.2747801494
             ]
            },
            {
             "iteration": 1472,
             "learn": [
              0.009990673015
             ],
             "passed_time": 413.9486123,
             "remaining_time": 7.587652772,
             "test": [
              0.2747674958
             ]
            },
            {
             "iteration": 1473,
             "learn": [
              0.009987950013
             ],
             "passed_time": 414.2208917,
             "remaining_time": 7.306474346,
             "test": [
              0.2747583777
             ]
            },
            {
             "iteration": 1474,
             "learn": [
              0.009984833735
             ],
             "passed_time": 414.4925712,
             "remaining_time": 7.025297817,
             "test": [
              0.2747623475
             ]
            },
            {
             "iteration": 1475,
             "learn": [
              0.009982173923
             ],
             "passed_time": 414.7649738,
             "remaining_time": 6.744145915,
             "test": [
              0.2747105544
             ]
            },
            {
             "iteration": 1476,
             "learn": [
              0.009978770794
             ],
             "passed_time": 415.0406937,
             "remaining_time": 6.463057519,
             "test": [
              0.2747131286
             ]
            },
            {
             "iteration": 1477,
             "learn": [
              0.009975184746
             ],
             "passed_time": 415.3154785,
             "remaining_time": 6.181962468,
             "test": [
              0.274657862
             ]
            },
            {
             "iteration": 1478,
             "learn": [
              0.009971602023
             ],
             "passed_time": 415.5907024,
             "remaining_time": 5.900882184,
             "test": [
              0.2746288951
             ]
            },
            {
             "iteration": 1479,
             "learn": [
              0.009968812505
             ],
             "passed_time": 415.8584896,
             "remaining_time": 5.619709319,
             "test": [
              0.2746119926
             ]
            },
            {
             "iteration": 1480,
             "learn": [
              0.009966533498
             ],
             "passed_time": 416.1255268,
             "remaining_time": 5.338544909,
             "test": [
              0.2746143806
             ]
            },
            {
             "iteration": 1481,
             "learn": [
              0.009963023112
             ],
             "passed_time": 416.4120708,
             "remaining_time": 5.057636487,
             "test": [
              0.2745955242
             ]
            },
            {
             "iteration": 1482,
             "learn": [
              0.009960942821
             ],
             "passed_time": 416.6759313,
             "remaining_time": 4.77646044,
             "test": [
              0.2746320275
             ]
            },
            {
             "iteration": 1483,
             "learn": [
              0.00995824892
             ],
             "passed_time": 416.9533412,
             "remaining_time": 4.495453814,
             "test": [
              0.2746157142
             ]
            },
            {
             "iteration": 1484,
             "learn": [
              0.009955201652
             ],
             "passed_time": 417.2269306,
             "remaining_time": 4.214413441,
             "test": [
              0.2746034638
             ]
            },
            {
             "iteration": 1485,
             "learn": [
              0.009952188474
             ],
             "passed_time": 417.5152526,
             "remaining_time": 3.933521895,
             "test": [
              0.2745806996
             ]
            },
            {
             "iteration": 1486,
             "learn": [
              0.009950044993
             ],
             "passed_time": 417.7857581,
             "remaining_time": 3.652464597,
             "test": [
              0.2746166446
             ]
            },
            {
             "iteration": 1487,
             "learn": [
              0.009947025994
             ],
             "passed_time": 418.0478787,
             "remaining_time": 3.371353861,
             "test": [
              0.2746392537
             ]
            },
            {
             "iteration": 1488,
             "learn": [
              0.009943742594
             ],
             "passed_time": 418.3440071,
             "remaining_time": 3.090519864,
             "test": [
              0.2746208935
             ]
            },
            {
             "iteration": 1489,
             "learn": [
              0.009940470834
             ],
             "passed_time": 418.6410634,
             "remaining_time": 2.809671567,
             "test": [
              0.2746124268
             ]
            },
            {
             "iteration": 1490,
             "learn": [
              0.009937901651
             ],
             "passed_time": 418.9088733,
             "remaining_time": 2.52862499,
             "test": [
              0.2746092323
             ]
            },
            {
             "iteration": 1491,
             "learn": [
              0.009934948337
             ],
             "passed_time": 419.2082104,
             "remaining_time": 2.247765203,
             "test": [
              0.2745745589
             ]
            },
            {
             "iteration": 1492,
             "learn": [
              0.009932781575
             ],
             "passed_time": 419.4706201,
             "remaining_time": 1.966707529,
             "test": [
              0.2745987187
             ]
            },
            {
             "iteration": 1493,
             "learn": [
              0.009928723263
             ],
             "passed_time": 419.7372732,
             "remaining_time": 1.68569186,
             "test": [
              0.2745442894
             ]
            },
            {
             "iteration": 1494,
             "learn": [
              0.009925082339
             ],
             "passed_time": 420.0292156,
             "remaining_time": 1.404779985,
             "test": [
              0.274514144
             ]
            },
            {
             "iteration": 1495,
             "learn": [
              0.009922725175
             ],
             "passed_time": 420.3040997,
             "remaining_time": 1.123807753,
             "test": [
              0.2745061425
             ]
            },
            {
             "iteration": 1496,
             "learn": [
              0.009919817591
             ],
             "passed_time": 420.5718571,
             "remaining_time": 0.8428293729,
             "test": [
              0.2745059874
             ]
            },
            {
             "iteration": 1497,
             "learn": [
              0.009917069645
             ],
             "passed_time": 420.8378409,
             "remaining_time": 0.5618662763,
             "test": [
              0.2745296199
             ]
            },
            {
             "iteration": 1498,
             "learn": [
              0.009913319801
             ],
             "passed_time": 421.1123763,
             "remaining_time": 0.2809288701,
             "test": [
              0.2744876893
             ]
            },
            {
             "iteration": 1499,
             "learn": [
              0.009910616754
             ],
             "passed_time": 421.381313,
             "remaining_time": 0,
             "test": [
              0.2744121396
             ]
            }
           ],
           "meta": {
            "iteration_count": 1500,
            "launch_mode": "Train",
            "learn_metrics": [
             {
              "best_value": "Min",
              "name": "MultiClass"
             }
            ],
            "learn_sets": [
             "learn"
            ],
            "name": "experiment",
            "parameters": "",
            "test_metrics": [
             {
              "best_value": "Min",
              "name": "MultiClass"
             }
            ],
            "test_sets": [
             "test"
            ]
           }
          },
          "passed_iterations": 1499,
          "total_iterations": 1500
         },
         "name": "catboost_info",
         "path": "catboost_info"
        }
       },
       "layout": "IPY_MODEL_1c07e33c3b754d8da5e01a5ae447cd4c"
      }
     },
     "94502ddea20c403cac6ba1b7350ed70b": {
      "model_module": "catboost-widget",
      "model_module_version": "^1.0.0",
      "model_name": "CatboostWidgetModel",
      "state": {
       "_model_module_version": "^1.0.0",
       "_view_module_version": "^1.0.0",
       "data": {
        "catboost_info": {
         "content": {
          "data": {
           "iterations": [
            {
             "iteration": 0,
             "learn": [
              1.560645745
             ],
             "passed_time": 0.07381127419,
             "remaining_time": 110.6431,
             "test": [
              1.569159283
             ]
            },
            {
             "iteration": 1,
             "learn": [
              1.512159459
             ],
             "passed_time": 0.1268095095,
             "remaining_time": 94.98032261,
             "test": [
              1.53040965
             ]
            },
            {
             "iteration": 2,
             "learn": [
              1.473421132
             ],
             "passed_time": 0.1804484235,
             "remaining_time": 90.04376334,
             "test": [
              1.502404686
             ]
            },
            {
             "iteration": 3,
             "learn": [
              1.430696735
             ],
             "passed_time": 0.2320806315,
             "remaining_time": 86.79815619,
             "test": [
              1.467365048
             ]
            },
            {
             "iteration": 4,
             "learn": [
              1.393036181
             ],
             "passed_time": 0.2821773426,
             "remaining_time": 84.37102542,
             "test": [
              1.440041891
             ]
            },
            {
             "iteration": 5,
             "learn": [
              1.358184841
             ],
             "passed_time": 0.3315276751,
             "remaining_time": 82.55039109,
             "test": [
              1.416427612
             ]
            },
            {
             "iteration": 6,
             "learn": [
              1.326773393
             ],
             "passed_time": 0.3810522272,
             "remaining_time": 81.27299646,
             "test": [
              1.394293312
             ]
            },
            {
             "iteration": 7,
             "learn": [
              1.297854649
             ],
             "passed_time": 0.4306092693,
             "remaining_time": 80.30862873,
             "test": [
              1.374338041
             ]
            },
            {
             "iteration": 8,
             "learn": [
              1.272878978
             ],
             "passed_time": 0.4805233707,
             "remaining_time": 79.60670508,
             "test": [
              1.35741865
             ]
            },
            {
             "iteration": 9,
             "learn": [
              1.247983871
             ],
             "passed_time": 0.5309032312,
             "remaining_time": 79.10458145,
             "test": [
              1.341050559
             ]
            },
            {
             "iteration": 10,
             "learn": [
              1.228150585
             ],
             "passed_time": 0.5789410063,
             "remaining_time": 78.36755985,
             "test": [
              1.327073384
             ]
            },
            {
             "iteration": 11,
             "learn": [
              1.207114688
             ],
             "passed_time": 0.6279814894,
             "remaining_time": 77.86970469,
             "test": [
              1.310896214
             ]
            },
            {
             "iteration": 12,
             "learn": [
              1.186386042
             ],
             "passed_time": 0.6781347403,
             "remaining_time": 77.56818145,
             "test": [
              1.295869657
             ]
            },
            {
             "iteration": 13,
             "learn": [
              1.165751051
             ],
             "passed_time": 0.7267637843,
             "remaining_time": 77.14078453,
             "test": [
              1.280397369
             ]
            },
            {
             "iteration": 14,
             "learn": [
              1.145484292
             ],
             "passed_time": 0.7771407148,
             "remaining_time": 76.93693076,
             "test": [
              1.265061293
             ]
            },
            {
             "iteration": 15,
             "learn": [
              1.125946231
             ],
             "passed_time": 0.8273417056,
             "remaining_time": 76.73594319,
             "test": [
              1.255757898
             ]
            },
            {
             "iteration": 16,
             "learn": [
              1.109222066
             ],
             "passed_time": 0.8773900867,
             "remaining_time": 76.53938227,
             "test": [
              1.246018324
             ]
            },
            {
             "iteration": 17,
             "learn": [
              1.093706259
             ],
             "passed_time": 0.926854469,
             "remaining_time": 76.31101795,
             "test": [
              1.235165232
             ]
            },
            {
             "iteration": 18,
             "learn": [
              1.078828155
             ],
             "passed_time": 0.975978322,
             "remaining_time": 76.07494183,
             "test": [
              1.222726217
             ]
            },
            {
             "iteration": 19,
             "learn": [
              1.062650805
             ],
             "passed_time": 1.025759644,
             "remaining_time": 75.90621363,
             "test": [
              1.212733075
             ]
            },
            {
             "iteration": 20,
             "learn": [
              1.047830065
             ],
             "passed_time": 1.075244206,
             "remaining_time": 75.72791335,
             "test": [
              1.201527293
             ]
            },
            {
             "iteration": 21,
             "learn": [
              1.033618824
             ],
             "passed_time": 1.124812578,
             "remaining_time": 75.5669541,
             "test": [
              1.192909303
             ]
            },
            {
             "iteration": 22,
             "learn": [
              1.020653935
             ],
             "passed_time": 1.174677719,
             "remaining_time": 75.43473876,
             "test": [
              1.184588052
             ]
            },
            {
             "iteration": 23,
             "learn": [
              1.007055175
             ],
             "passed_time": 1.224370331,
             "remaining_time": 75.29877537,
             "test": [
              1.17667023
             ]
            },
            {
             "iteration": 24,
             "learn": [
              0.9951409204
             ],
             "passed_time": 1.273001505,
             "remaining_time": 75.10708881,
             "test": [
              1.169126681
             ]
            },
            {
             "iteration": 25,
             "learn": [
              0.9820072404
             ],
             "passed_time": 1.319441273,
             "remaining_time": 74.80217066,
             "test": [
              1.159489825
             ]
            },
            {
             "iteration": 26,
             "learn": [
              0.9727190412
             ],
             "passed_time": 1.365265863,
             "remaining_time": 74.48283763,
             "test": [
              1.154748436
             ]
            },
            {
             "iteration": 27,
             "learn": [
              0.9611773836
             ],
             "passed_time": 1.414789715,
             "remaining_time": 74.37751645,
             "test": [
              1.146961988
             ]
            },
            {
             "iteration": 28,
             "learn": [
              0.9476938821
             ],
             "passed_time": 1.464672287,
             "remaining_time": 74.29423909,
             "test": [
              1.137900128
             ]
            },
            {
             "iteration": 29,
             "learn": [
              0.9327554345
             ],
             "passed_time": 1.51364526,
             "remaining_time": 74.16861773,
             "test": [
              1.127335463
             ]
            },
            {
             "iteration": 30,
             "learn": [
              0.9220670984
             ],
             "passed_time": 1.562488233,
             "remaining_time": 74.04178112,
             "test": [
              1.120391101
             ]
            },
            {
             "iteration": 31,
             "learn": [
              0.9111030133
             ],
             "passed_time": 1.609456451,
             "remaining_time": 73.83381467,
             "test": [
              1.114722151
             ]
            },
            {
             "iteration": 32,
             "learn": [
              0.9032355976
             ],
             "passed_time": 1.656881057,
             "remaining_time": 73.65589425,
             "test": [
              1.108859799
             ]
            },
            {
             "iteration": 33,
             "learn": [
              0.8952941096
             ],
             "passed_time": 1.701667798,
             "remaining_time": 73.37191154,
             "test": [
              1.101951165
             ]
            },
            {
             "iteration": 34,
             "learn": [
              0.8836847653
             ],
             "passed_time": 1.751071381,
             "remaining_time": 73.29484494,
             "test": [
              1.09290382
             ]
            },
            {
             "iteration": 35,
             "learn": [
              0.8719680906
             ],
             "passed_time": 1.799675395,
             "remaining_time": 73.18679939,
             "test": [
              1.082867878
             ]
            },
            {
             "iteration": 36,
             "learn": [
              0.8632098383
             ],
             "passed_time": 1.847092001,
             "remaining_time": 73.03501615,
             "test": [
              1.076642292
             ]
            },
            {
             "iteration": 37,
             "learn": [
              0.852837906
             ],
             "passed_time": 1.896469974,
             "remaining_time": 72.96418688,
             "test": [
              1.06944523
             ]
            },
            {
             "iteration": 38,
             "learn": [
              0.8442135905
             ],
             "passed_time": 1.945719076,
             "remaining_time": 72.88963001,
             "test": [
              1.06256823
             ]
            },
            {
             "iteration": 39,
             "learn": [
              0.8353027769
             ],
             "passed_time": 1.995121649,
             "remaining_time": 72.82194017,
             "test": [
              1.056275158
             ]
            },
            {
             "iteration": 40,
             "learn": [
              0.8258035888
             ],
             "passed_time": 2.044450901,
             "remaining_time": 72.75253329,
             "test": [
              1.050252775
             ]
            },
            {
             "iteration": 41,
             "learn": [
              0.8164526516
             ],
             "passed_time": 2.092544286,
             "remaining_time": 72.64118022,
             "test": [
              1.042956841
             ]
            },
            {
             "iteration": 42,
             "learn": [
              0.8076091524
             ],
             "passed_time": 2.14123093,
             "remaining_time": 72.55287128,
             "test": [
              1.036337007
             ]
            },
            {
             "iteration": 43,
             "learn": [
              0.8009398243
             ],
             "passed_time": 2.188949256,
             "remaining_time": 72.43432083,
             "test": [
              1.030822568
             ]
            },
            {
             "iteration": 44,
             "learn": [
              0.7932757882
             ],
             "passed_time": 2.235045795,
             "remaining_time": 72.26648069,
             "test": [
              1.024882743
             ]
            },
            {
             "iteration": 45,
             "learn": [
              0.7816238736
             ],
             "passed_time": 2.285497695,
             "remaining_time": 72.24160105,
             "test": [
              1.015581953
             ]
            },
            {
             "iteration": 46,
             "learn": [
              0.7737639077
             ],
             "passed_time": 2.330625696,
             "remaining_time": 72.05104545,
             "test": [
              1.010084075
             ]
            },
            {
             "iteration": 47,
             "learn": [
              0.7663238446
             ],
             "passed_time": 2.379725529,
             "remaining_time": 71.98669725,
             "test": [
              1.005769683
             ]
            },
            {
             "iteration": 48,
             "learn": [
              0.7567265318
             ],
             "passed_time": 2.42977861,
             "remaining_time": 71.95119925,
             "test": [
              0.9996389994
             ]
            },
            {
             "iteration": 49,
             "learn": [
              0.750453959
             ],
             "passed_time": 2.477003327,
             "remaining_time": 71.83309647,
             "test": [
              0.9956724586
             ]
            },
            {
             "iteration": 50,
             "learn": [
              0.7431995023
             ],
             "passed_time": 2.525400991,
             "remaining_time": 71.75109875,
             "test": [
              0.9911845137
             ]
            },
            {
             "iteration": 51,
             "learn": [
              0.7344747741
             ],
             "passed_time": 2.574376094,
             "remaining_time": 71.68647278,
             "test": [
              0.9845087315
             ]
            },
            {
             "iteration": 52,
             "learn": [
              0.7271219269
             ],
             "passed_time": 2.623354848,
             "remaining_time": 71.62253706,
             "test": [
              0.9794586926
             ]
            },
            {
             "iteration": 53,
             "learn": [
              0.7227776818
             ],
             "passed_time": 2.668885158,
             "remaining_time": 71.46681366,
             "test": [
              0.9767302226
             ]
            },
            {
             "iteration": 54,
             "learn": [
              0.7184628634
             ],
             "passed_time": 2.714055278,
             "remaining_time": 71.30563413,
             "test": [
              0.9733727308
             ]
            },
            {
             "iteration": 55,
             "learn": [
              0.7136160228
             ],
             "passed_time": 2.758083561,
             "remaining_time": 71.11915469,
             "test": [
              0.969228667
             ]
            },
            {
             "iteration": 56,
             "learn": [
              0.7087391169
             ],
             "passed_time": 2.807055815,
             "remaining_time": 71.06283404,
             "test": [
              0.9655980676
             ]
            },
            {
             "iteration": 57,
             "learn": [
              0.7027550109
             ],
             "passed_time": 2.855912978,
             "remaining_time": 71.00390542,
             "test": [
              0.9608586629
             ]
            },
            {
             "iteration": 58,
             "learn": [
              0.6962452683
             ],
             "passed_time": 2.904610412,
             "remaining_time": 70.94141701,
             "test": [
              0.9566107029
             ]
            },
            {
             "iteration": 59,
             "learn": [
              0.6895663088
             ],
             "passed_time": 2.953586845,
             "remaining_time": 70.88608428,
             "test": [
              0.9528820379
             ]
            },
            {
             "iteration": 60,
             "learn": [
              0.6836820834
             ],
             "passed_time": 3.000069823,
             "remaining_time": 70.77213895,
             "test": [
              0.9478754183
             ]
            },
            {
             "iteration": 61,
             "learn": [
              0.6785589616
             ],
             "passed_time": 3.045534674,
             "remaining_time": 70.63675582,
             "test": [
              0.9434853531
             ]
            },
            {
             "iteration": 62,
             "learn": [
              0.6724326708
             ],
             "passed_time": 3.094507697,
             "remaining_time": 70.58424699,
             "test": [
              0.9389602537
             ]
            },
            {
             "iteration": 63,
             "learn": [
              0.6671628944
             ],
             "passed_time": 3.142826791,
             "remaining_time": 70.51717613,
             "test": [
              0.9349452693
             ]
            },
            {
             "iteration": 64,
             "learn": [
              0.6626288922
             ],
             "passed_time": 3.189881708,
             "remaining_time": 70.4227731,
             "test": [
              0.9306600927
             ]
            },
            {
             "iteration": 65,
             "learn": [
              0.6558009898
             ],
             "passed_time": 3.23978448,
             "remaining_time": 70.39168097,
             "test": [
              0.9261807698
             ]
            },
            {
             "iteration": 66,
             "learn": [
              0.6519130983
             ],
             "passed_time": 3.281931997,
             "remaining_time": 70.19415748,
             "test": [
              0.922454896
             ]
            },
            {
             "iteration": 67,
             "learn": [
              0.6481421154
             ],
             "passed_time": 3.32557289,
             "remaining_time": 70.03265263,
             "test": [
              0.9210016514
             ]
            },
            {
             "iteration": 68,
             "learn": [
              0.6414778958
             ],
             "passed_time": 3.373700805,
             "remaining_time": 69.96762105,
             "test": [
              0.9150608962
             ]
            },
            {
             "iteration": 69,
             "learn": [
              0.6369280894
             ],
             "passed_time": 3.418756616,
             "remaining_time": 69.84031373,
             "test": [
              0.9125501431
             ]
            },
            {
             "iteration": 70,
             "learn": [
              0.6307988188
             ],
             "passed_time": 3.468849487,
             "remaining_time": 69.81670306,
             "test": [
              0.907135568
             ]
            },
            {
             "iteration": 71,
             "learn": [
              0.6266520466
             ],
             "passed_time": 3.514581547,
             "remaining_time": 69.70586735,
             "test": [
              0.9037222513
             ]
            },
            {
             "iteration": 72,
             "learn": [
              0.621461983
             ],
             "passed_time": 3.56345502,
             "remaining_time": 69.65822348,
             "test": [
              0.8991142211
             ]
            },
            {
             "iteration": 73,
             "learn": [
              0.6172572089
             ],
             "passed_time": 3.607382604,
             "remaining_time": 69.51523774,
             "test": [
              0.8967846506
             ]
            },
            {
             "iteration": 74,
             "learn": [
              0.6099079268
             ],
             "passed_time": 3.657038826,
             "remaining_time": 69.48373768,
             "test": [
              0.8907487451
             ]
            },
            {
             "iteration": 75,
             "learn": [
              0.6064015715
             ],
             "passed_time": 3.701807017,
             "remaining_time": 69.36017358,
             "test": [
              0.8882905293
             ]
            },
            {
             "iteration": 76,
             "learn": [
              0.600482066
             ],
             "passed_time": 3.750492351,
             "remaining_time": 69.31104695,
             "test": [
              0.8839502102
             ]
            },
            {
             "iteration": 77,
             "learn": [
              0.5962522818
             ],
             "passed_time": 3.794949933,
             "remaining_time": 69.18485647,
             "test": [
              0.8814491334
             ]
            },
            {
             "iteration": 78,
             "learn": [
              0.5929261584
             ],
             "passed_time": 3.840339323,
             "remaining_time": 69.07749593,
             "test": [
              0.8784166041
             ]
            },
            {
             "iteration": 79,
             "learn": [
              0.5870856208
             ],
             "passed_time": 3.890628674,
             "remaining_time": 69.05865896,
             "test": [
              0.8743134165
             ]
            },
            {
             "iteration": 80,
             "learn": [
              0.5812580139
             ],
             "passed_time": 3.941086994,
             "remaining_time": 69.04200549,
             "test": [
              0.8699751443
             ]
            },
            {
             "iteration": 81,
             "learn": [
              0.5777441555
             ],
             "passed_time": 3.987097193,
             "remaining_time": 68.94760757,
             "test": [
              0.8680476987
             ]
            },
            {
             "iteration": 82,
             "learn": [
              0.5741951767
             ],
             "passed_time": 4.035653538,
             "remaining_time": 68.89784413,
             "test": [
              0.8653559491
             ]
            },
            {
             "iteration": 83,
             "learn": [
              0.5712935324
             ],
             "passed_time": 4.082638215,
             "remaining_time": 68.82161562,
             "test": [
              0.8629352601
             ]
            },
            {
             "iteration": 84,
             "learn": [
              0.5674991358
             ],
             "passed_time": 4.128981843,
             "remaining_time": 68.73540362,
             "test": [
              0.8595026528
             ]
            },
            {
             "iteration": 85,
             "learn": [
              0.5633823757
             ],
             "passed_time": 4.177413358,
             "remaining_time": 68.68444753,
             "test": [
              0.8564677045
             ]
            },
            {
             "iteration": 86,
             "learn": [
              0.5584130923
             ],
             "passed_time": 4.227353259,
             "remaining_time": 68.65804776,
             "test": [
              0.8538041154
             ]
            },
            {
             "iteration": 87,
             "learn": [
              0.5551130965
             ],
             "passed_time": 4.273645477,
             "remaining_time": 68.57258425,
             "test": [
              0.8516503311
             ]
            },
            {
             "iteration": 88,
             "learn": [
              0.5515699179
             ],
             "passed_time": 4.319137638,
             "remaining_time": 68.47531693,
             "test": [
              0.8484471639
             ]
            },
            {
             "iteration": 89,
             "learn": [
              0.5476936799
             ],
             "passed_time": 4.363986079,
             "remaining_time": 68.36911524,
             "test": [
              0.8452521844
             ]
            },
            {
             "iteration": 90,
             "learn": [
              0.5428124106
             ],
             "passed_time": 4.41391287,
             "remaining_time": 68.34289268,
             "test": [
              0.840729318
             ]
            },
            {
             "iteration": 91,
             "learn": [
              0.5390772932
             ],
             "passed_time": 4.463023673,
             "remaining_time": 68.30366665,
             "test": [
              0.8380768939
             ]
            },
            {
             "iteration": 92,
             "learn": [
              0.534071559
             ],
             "passed_time": 4.513159034,
             "remaining_time": 68.27972861,
             "test": [
              0.834624872
             ]
            },
            {
             "iteration": 93,
             "learn": [
              0.5316231818
             ],
             "passed_time": 4.557943636,
             "remaining_time": 68.17519949,
             "test": [
              0.832671747
             ]
            },
            {
             "iteration": 94,
             "learn": [
              0.5274962581
             ],
             "passed_time": 4.608074277,
             "remaining_time": 68.15099325,
             "test": [
              0.8289459973
             ]
            },
            {
             "iteration": 95,
             "learn": [
              0.5246503276
             ],
             "passed_time": 4.652834558,
             "remaining_time": 68.04770542,
             "test": [
              0.8266893712
             ]
            },
            {
             "iteration": 96,
             "learn": [
              0.5194623926
             ],
             "passed_time": 4.703405278,
             "remaining_time": 68.02966604,
             "test": [
              0.8231743913
             ]
            },
            {
             "iteration": 97,
             "learn": [
              0.5153921937
             ],
             "passed_time": 4.749066678,
             "remaining_time": 67.94072942,
             "test": [
              0.8197144299
             ]
            },
            {
             "iteration": 98,
             "learn": [
              0.5127706619
             ],
             "passed_time": 4.794251329,
             "remaining_time": 67.84592032,
             "test": [
              0.8177887211
             ]
            },
            {
             "iteration": 99,
             "learn": [
              0.5107554375
             ],
             "passed_time": 4.837446624,
             "remaining_time": 67.72425273,
             "test": [
              0.8157896957
             ]
            },
            {
             "iteration": 100,
             "learn": [
              0.5062366542
             ],
             "passed_time": 4.885761248,
             "remaining_time": 67.67504937,
             "test": [
              0.8113513729
             ]
            },
            {
             "iteration": 101,
             "learn": [
              0.5036440702
             ],
             "passed_time": 4.930900129,
             "remaining_time": 67.58233706,
             "test": [
              0.8081730788
             ]
            },
            {
             "iteration": 102,
             "learn": [
              0.4989112648
             ],
             "passed_time": 4.98085094,
             "remaining_time": 67.55581324,
             "test": [
              0.8042984009
             ]
            },
            {
             "iteration": 103,
             "learn": [
              0.4961089689
             ],
             "passed_time": 5.026035871,
             "remaining_time": 67.46486612,
             "test": [
              0.8016766804
             ]
            },
            {
             "iteration": 104,
             "learn": [
              0.4944618711
             ],
             "passed_time": 5.068074938,
             "remaining_time": 67.3329956,
             "test": [
              0.7997153678
             ]
            },
            {
             "iteration": 105,
             "learn": [
              0.4896805355
             ],
             "passed_time": 5.116577712,
             "remaining_time": 67.28782388,
             "test": [
              0.7956521879
             ]
            },
            {
             "iteration": 106,
             "learn": [
              0.4867839996
             ],
             "passed_time": 5.160751365,
             "remaining_time": 67.18623039,
             "test": [
              0.7930377247
             ]
            },
            {
             "iteration": 107,
             "learn": [
              0.4851163084
             ],
             "passed_time": 5.202271193,
             "remaining_time": 67.05149538,
             "test": [
              0.7914265578
             ]
            },
            {
             "iteration": 108,
             "learn": [
              0.4813458044
             ],
             "passed_time": 5.24931134,
             "remaining_time": 66.98891811,
             "test": [
              0.7883480661
             ]
            },
            {
             "iteration": 109,
             "learn": [
              0.4793801744
             ],
             "passed_time": 5.292559795,
             "remaining_time": 66.87871013,
             "test": [
              0.7858601392
             ]
            },
            {
             "iteration": 110,
             "learn": [
              0.4778250816
             ],
             "passed_time": 5.334117572,
             "remaining_time": 66.74855233,
             "test": [
              0.7848353192
             ]
            },
            {
             "iteration": 111,
             "learn": [
              0.4740047172
             ],
             "passed_time": 5.381779498,
             "remaining_time": 66.6956245,
             "test": [
              0.7804077893
             ]
            },
            {
             "iteration": 112,
             "learn": [
              0.4707152575
             ],
             "passed_time": 5.427137929,
             "remaining_time": 66.61451599,
             "test": [
              0.7771283902
             ]
            },
            {
             "iteration": 113,
             "learn": [
              0.4671352556
             ],
             "passed_time": 5.474735555,
             "remaining_time": 66.56125859,
             "test": [
              0.773064342
             ]
            },
            {
             "iteration": 114,
             "learn": [
              0.4654086578
             ],
             "passed_time": 5.516949041,
             "remaining_time": 66.44325584,
             "test": [
              0.7714768076
             ]
            },
            {
             "iteration": 115,
             "learn": [
              0.4617934289
             ],
             "passed_time": 5.565941234,
             "remaining_time": 66.4074368,
             "test": [
              0.7676917596
             ]
            },
            {
             "iteration": 116,
             "learn": [
              0.4572642691
             ],
             "passed_time": 5.615541486,
             "remaining_time": 66.37858014,
             "test": [
              0.7641893712
             ]
            },
            {
             "iteration": 117,
             "learn": [
              0.4545760616
             ],
             "passed_time": 5.660643797,
             "remaining_time": 66.29669261,
             "test": [
              0.7621442593
             ]
            },
            {
             "iteration": 118,
             "learn": [
              0.4518534786
             ],
             "passed_time": 5.705676928,
             "remaining_time": 66.21462049,
             "test": [
              0.7597339909
             ]
            },
            {
             "iteration": 119,
             "learn": [
              0.4481530027
             ],
             "passed_time": 5.754389442,
             "remaining_time": 66.17547859,
             "test": [
              0.7561974254
             ]
            },
            {
             "iteration": 120,
             "learn": [
              0.4447737996
             ],
             "passed_time": 5.802778047,
             "remaining_time": 66.13248699,
             "test": [
              0.7532367241
             ]
            },
            {
             "iteration": 121,
             "learn": [
              0.4431226842
             ],
             "passed_time": 5.845465302,
             "remaining_time": 66.02500973,
             "test": [
              0.7515781061
             ]
            },
            {
             "iteration": 122,
             "learn": [
              0.4386905314
             ],
             "passed_time": 5.895643063,
             "remaining_time": 66.00244307,
             "test": [
              0.7471034973
             ]
            },
            {
             "iteration": 123,
             "learn": [
              0.4365059837
             ],
             "passed_time": 5.941067783,
             "remaining_time": 65.92668766,
             "test": [
              0.7450744505
             ]
            },
            {
             "iteration": 124,
             "learn": [
              0.4334494633
             ],
             "passed_time": 5.990551406,
             "remaining_time": 65.89606546,
             "test": [
              0.7423442437
             ]
            },
            {
             "iteration": 125,
             "learn": [
              0.4305920655
             ],
             "passed_time": 6.036132156,
             "remaining_time": 65.82258398,
             "test": [
              0.7398835469
             ]
            },
            {
             "iteration": 126,
             "learn": [
              0.427689756
             ],
             "passed_time": 6.082765023,
             "remaining_time": 65.76091636,
             "test": [
              0.7373598921
             ]
            },
            {
             "iteration": 127,
             "learn": [
              0.4239402445
             ],
             "passed_time": 6.131223818,
             "remaining_time": 65.7190553,
             "test": [
              0.7336516962
             ]
            },
            {
             "iteration": 128,
             "learn": [
              0.4207870364
             ],
             "passed_time": 6.179983301,
             "remaining_time": 65.68028765,
             "test": [
              0.7303345843
             ]
            },
            {
             "iteration": 129,
             "learn": [
              0.417348288
             ],
             "passed_time": 6.227010739,
             "remaining_time": 65.62311317,
             "test": [
              0.7274647534
             ]
            },
            {
             "iteration": 130,
             "learn": [
              0.4148929666
             ],
             "passed_time": 6.272906718,
             "remaining_time": 65.55426944,
             "test": [
              0.7254257202
             ]
            },
            {
             "iteration": 131,
             "learn": [
              0.4130337091
             ],
             "passed_time": 6.315028455,
             "remaining_time": 65.44665853,
             "test": [
              0.7239415859
             ]
            },
            {
             "iteration": 132,
             "learn": [
              0.4106950569
             ],
             "passed_time": 6.359094838,
             "remaining_time": 65.36001987,
             "test": [
              0.7212704294
             ]
            },
            {
             "iteration": 133,
             "learn": [
              0.4101579262
             ],
             "passed_time": 6.400481786,
             "remaining_time": 65.24670238,
             "test": [
              0.720660512
             ]
            },
            {
             "iteration": 134,
             "learn": [
              0.407590299
             ],
             "passed_time": 6.446173746,
             "remaining_time": 65.17797898,
             "test": [
              0.7183283364
             ]
            },
            {
             "iteration": 135,
             "learn": [
              0.4065721507
             ],
             "passed_time": 6.489146891,
             "remaining_time": 65.08232617,
             "test": [
              0.7169342041
             ]
            },
            {
             "iteration": 136,
             "learn": [
              0.4026421677
             ],
             "passed_time": 6.539245112,
             "remaining_time": 65.0583291,
             "test": [
              0.7130784446
             ]
            },
            {
             "iteration": 137,
             "learn": [
              0.4008889369
             ],
             "passed_time": 6.583331575,
             "remaining_time": 64.97462032,
             "test": [
              0.7111759341
             ]
            },
            {
             "iteration": 138,
             "learn": [
              0.3989759344
             ],
             "passed_time": 6.625564821,
             "remaining_time": 64.87333613,
             "test": [
              0.7092432162
             ]
            },
            {
             "iteration": 139,
             "learn": [
              0.3966622656
             ],
             "passed_time": 6.669406545,
             "remaining_time": 64.78852072,
             "test": [
              0.7070018489
             ]
            },
            {
             "iteration": 140,
             "learn": [
              0.3958828302
             ],
             "passed_time": 6.711816181,
             "remaining_time": 64.69048361,
             "test": [
              0.7060097795
             ]
            },
            {
             "iteration": 141,
             "learn": [
              0.394803221
             ],
             "passed_time": 6.754133557,
             "remaining_time": 64.59234768,
             "test": [
              0.7052348687
             ]
            },
            {
             "iteration": 142,
             "learn": [
              0.3938115992
             ],
             "passed_time": 6.795132996,
             "remaining_time": 64.48248584,
             "test": [
              0.7044292543
             ]
            },
            {
             "iteration": 143,
             "learn": [
              0.3906575397
             ],
             "passed_time": 6.84370069,
             "remaining_time": 64.44484817,
             "test": [
              0.7010834857
             ]
            },
            {
             "iteration": 144,
             "learn": [
              0.389371571
             ],
             "passed_time": 6.885125308,
             "remaining_time": 64.34030892,
             "test": [
              0.6991473562
             ]
            },
            {
             "iteration": 145,
             "learn": [
              0.387464209
             ],
             "passed_time": 6.929298521,
             "remaining_time": 64.26212464,
             "test": [
              0.6971838726
             ]
            },
            {
             "iteration": 146,
             "learn": [
              0.3854989249
             ],
             "passed_time": 6.976170639,
             "remaining_time": 64.20924404,
             "test": [
              0.6953081581
             ]
            },
            {
             "iteration": 147,
             "learn": [
              0.3826346094
             ],
             "passed_time": 7.021921668,
             "remaining_time": 64.14620335,
             "test": [
              0.6932812823
             ]
            },
            {
             "iteration": 148,
             "learn": [
              0.3807465105
             ],
             "passed_time": 7.066126921,
             "remaining_time": 64.06937899,
             "test": [
              0.6912341234
             ]
            },
            {
             "iteration": 149,
             "learn": [
              0.380415287
             ],
             "passed_time": 7.10714731,
             "remaining_time": 63.96432579,
             "test": [
              0.6908172359
             ]
            },
            {
             "iteration": 150,
             "learn": [
              0.3784306334
             ],
             "passed_time": 7.155767604,
             "remaining_time": 63.92801654,
             "test": [
              0.6889982146
             ]
            },
            {
             "iteration": 151,
             "learn": [
              0.3759085565
             ],
             "passed_time": 7.20311826,
             "remaining_time": 63.88028562,
             "test": [
              0.6862182617
             ]
            },
            {
             "iteration": 152,
             "learn": [
              0.3745574818
             ],
             "passed_time": 7.244237749,
             "remaining_time": 63.77770097,
             "test": [
              0.6843479436
             ]
            },
            {
             "iteration": 153,
             "learn": [
              0.37279877
             ],
             "passed_time": 7.287617923,
             "remaining_time": 63.69567354,
             "test": [
              0.6831810184
             ]
            },
            {
             "iteration": 154,
             "learn": [
              0.3695376728
             ],
             "passed_time": 7.336500557,
             "remaining_time": 63.66189193,
             "test": [
              0.6798070892
             ]
            },
            {
             "iteration": 155,
             "learn": [
              0.368492918
             ],
             "passed_time": 7.379157412,
             "remaining_time": 63.57427925,
             "test": [
              0.6789537135
             ]
            },
            {
             "iteration": 156,
             "learn": [
              0.3670800898
             ],
             "passed_time": 7.422348597,
             "remaining_time": 63.49180997,
             "test": [
              0.677437697
             ]
            },
            {
             "iteration": 157,
             "learn": [
              0.3653615804
             ],
             "passed_time": 7.467923387,
             "remaining_time": 63.43008345,
             "test": [
              0.6760892791
             ]
            },
            {
             "iteration": 158,
             "learn": [
              0.3629446254
             ],
             "passed_time": 7.516559621,
             "remaining_time": 63.3943802,
             "test": [
              0.6739312149
             ]
            },
            {
             "iteration": 159,
             "learn": [
              0.3611197434
             ],
             "passed_time": 7.559581266,
             "remaining_time": 63.3114931,
             "test": [
              0.6728308453
             ]
            },
            {
             "iteration": 160,
             "learn": [
              0.3596091366
             ],
             "passed_time": 7.60329134,
             "remaining_time": 63.23482673,
             "test": [
              0.671501904
             ]
            },
            {
             "iteration": 161,
             "learn": [
              0.357956345
             ],
             "passed_time": 7.648080601,
             "remaining_time": 63.16748052,
             "test": [
              0.6698489305
             ]
            },
            {
             "iteration": 162,
             "learn": [
              0.3554519347
             ],
             "passed_time": 7.696155676,
             "remaining_time": 63.12736282,
             "test": [
              0.6677577321
             ]
            },
            {
             "iteration": 163,
             "learn": [
              0.3547206569
             ],
             "passed_time": 7.737358475,
             "remaining_time": 63.03116416,
             "test": [
              0.6666024061
             ]
            },
            {
             "iteration": 164,
             "learn": [
              0.3519276467
             ],
             "passed_time": 7.787032437,
             "remaining_time": 63.00417153,
             "test": [
              0.6635159128
             ]
            },
            {
             "iteration": 165,
             "learn": [
              0.3503084324
             ],
             "passed_time": 7.829930882,
             "remaining_time": 62.92245661,
             "test": [
              0.6619415283
             ]
            },
            {
             "iteration": 166,
             "learn": [
              0.3492727504
             ],
             "passed_time": 7.871743419,
             "remaining_time": 62.83253879,
             "test": [
              0.6606922925
             ]
            },
            {
             "iteration": 167,
             "learn": [
              0.3477197596
             ],
             "passed_time": 7.916467291,
             "remaining_time": 62.76627638,
             "test": [
              0.6583449821
             ]
            },
            {
             "iteration": 168,
             "learn": [
              0.3448378572
             ],
             "passed_time": 7.965689074,
             "remaining_time": 62.73569324,
             "test": [
              0.6552870836
             ]
            },
            {
             "iteration": 169,
             "learn": [
              0.3428953216
             ],
             "passed_time": 8.01328714,
             "remaining_time": 62.69218762,
             "test": [
              0.6532865695
             ]
            },
            {
             "iteration": 170,
             "learn": [
              0.3417433429
             ],
             "passed_time": 8.055921305,
             "remaining_time": 62.61005506,
             "test": [
              0.652076287
             ]
            },
            {
             "iteration": 171,
             "learn": [
              0.339220042
             ],
             "passed_time": 8.105977407,
             "remaining_time": 62.58568602,
             "test": [
              0.6492312672
             ]
            },
            {
             "iteration": 172,
             "learn": [
              0.337784625
             ],
             "passed_time": 8.14981763,
             "remaining_time": 62.51334101,
             "test": [
              0.6478302498
             ]
            },
            {
             "iteration": 173,
             "learn": [
              0.3373449537
             ],
             "passed_time": 8.190904639,
             "remaining_time": 62.42034225,
             "test": [
              0.6475167623
             ]
            },
            {
             "iteration": 174,
             "learn": [
              0.3364137019
             ],
             "passed_time": 8.234707522,
             "remaining_time": 62.34849981,
             "test": [
              0.6466219522
             ]
            },
            {
             "iteration": 175,
             "learn": [
              0.3355057042
             ],
             "passed_time": 8.2763099,
             "remaining_time": 62.2604222,
             "test": [
              0.6453761899
             ]
            },
            {
             "iteration": 176,
             "learn": [
              0.3352533156
             ],
             "passed_time": 8.31707549,
             "remaining_time": 62.1666151,
             "test": [
              0.6451007254
             ]
            },
            {
             "iteration": 177,
             "learn": [
              0.3330472698
             ],
             "passed_time": 8.366643272,
             "remaining_time": 62.13877756,
             "test": [
              0.6430773231
             ]
            },
            {
             "iteration": 178,
             "learn": [
              0.3304602466
             ],
             "passed_time": 8.415215626,
             "remaining_time": 62.10335107,
             "test": [
              0.6405217861
             ]
            },
            {
             "iteration": 179,
             "learn": [
              0.3283045934
             ],
             "passed_time": 8.464221399,
             "remaining_time": 62.07095693,
             "test": [
              0.6378675011
             ]
            },
            {
             "iteration": 180,
             "learn": [
              0.3266634821
             ],
             "passed_time": 8.509600849,
             "remaining_time": 62.01195315,
             "test": [
              0.6362996915
             ]
            },
            {
             "iteration": 181,
             "learn": [
              0.3253826484
             ],
             "passed_time": 8.553966092,
             "remaining_time": 61.94575444,
             "test": [
              0.6350479746
             ]
            },
            {
             "iteration": 182,
             "learn": [
              0.3240645391
             ],
             "passed_time": 8.597495846,
             "remaining_time": 61.87378158,
             "test": [
              0.6334492753
             ]
            },
            {
             "iteration": 183,
             "learn": [
              0.3220351867
             ],
             "passed_time": 8.641805358,
             "remaining_time": 61.80769484,
             "test": [
              0.631455026
             ]
            },
            {
             "iteration": 184,
             "learn": [
              0.321314924
             ],
             "passed_time": 8.683228996,
             "remaining_time": 61.72133043,
             "test": [
              0.6303719001
             ]
            },
            {
             "iteration": 185,
             "learn": [
              0.3186569946
             ],
             "passed_time": 8.732258449,
             "remaining_time": 61.68918066,
             "test": [
              0.6273332921
             ]
            },
            {
             "iteration": 186,
             "learn": [
              0.3181237218
             ],
             "passed_time": 8.773542878,
             "remaining_time": 61.60246951,
             "test": [
              0.6265190559
             ]
            },
            {
             "iteration": 187,
             "learn": [
              0.3159854161
             ],
             "passed_time": 8.822031822,
             "remaining_time": 61.56651995,
             "test": [
              0.6245016083
             ]
            },
            {
             "iteration": 188,
             "learn": [
              0.3139186816
             ],
             "passed_time": 8.870442586,
             "remaining_time": 61.5298954,
             "test": [
              0.6220566664
             ]
            },
            {
             "iteration": 189,
             "learn": [
              0.3119378859
             ],
             "passed_time": 8.915705467,
             "remaining_time": 61.47144296,
             "test": [
              0.6206112993
             ]
            },
            {
             "iteration": 190,
             "learn": [
              0.3095116453
             ],
             "passed_time": 8.96475242,
             "remaining_time": 61.4390624,
             "test": [
              0.617807838
             ]
            },
            {
             "iteration": 191,
             "learn": [
              0.3086672636
             ],
             "passed_time": 9.006501278,
             "remaining_time": 61.35678995,
             "test": [
              0.6168636539
             ]
            },
            {
             "iteration": 192,
             "learn": [
              0.3078917393
             ],
             "passed_time": 9.048970714,
             "remaining_time": 61.27981722,
             "test": [
              0.6160154885
             ]
            },
            {
             "iteration": 193,
             "learn": [
              0.3065575331
             ],
             "passed_time": 9.093022987,
             "remaining_time": 61.21385578,
             "test": [
              0.614566834
             ]
            },
            {
             "iteration": 194,
             "learn": [
              0.3056151865
             ],
             "passed_time": 9.136098262,
             "remaining_time": 61.14158067,
             "test": [
              0.6133719343
             ]
            },
            {
             "iteration": 195,
             "learn": [
              0.3054361784
             ],
             "passed_time": 9.176343702,
             "remaining_time": 61.05077647,
             "test": [
              0.6130316509
             ]
            },
            {
             "iteration": 196,
             "learn": [
              0.3035912352
             ],
             "passed_time": 9.223264169,
             "remaining_time": 61.0046356,
             "test": [
              0.6113345759
             ]
            },
            {
             "iteration": 197,
             "learn": [
              0.3023319527
             ],
             "passed_time": 9.265973305,
             "remaining_time": 60.93079416,
             "test": [
              0.6102049293
             ]
            },
            {
             "iteration": 198,
             "learn": [
              0.3020989868
             ],
             "passed_time": 9.306117676,
             "remaining_time": 60.84049797,
             "test": [
              0.609892
             ]
            },
            {
             "iteration": 199,
             "learn": [
              0.3005512108
             ],
             "passed_time": 9.351614626,
             "remaining_time": 60.78549507,
             "test": [
              0.608127625
             ]
            },
            {
             "iteration": 200,
             "learn": [
              0.2989887214
             ],
             "passed_time": 9.394660781,
             "remaining_time": 60.71474803,
             "test": [
              0.6067276621
             ]
            },
            {
             "iteration": 201,
             "learn": [
              0.2986859668
             ],
             "passed_time": 9.436030139,
             "remaining_time": 60.6335006,
             "test": [
              0.606068743
             ]
            },
            {
             "iteration": 202,
             "learn": [
              0.2971618173
             ],
             "passed_time": 9.482369018,
             "remaining_time": 60.58439712,
             "test": [
              0.6044991966
             ]
            },
            {
             "iteration": 203,
             "learn": [
              0.2951205718
             ],
             "passed_time": 9.527901628,
             "remaining_time": 60.53019858,
             "test": [
              0.6014047638
             ]
            },
            {
             "iteration": 204,
             "learn": [
              0.2932700146
             ],
             "passed_time": 9.572680949,
             "remaining_time": 60.471326,
             "test": [
              0.5998438393
             ]
            },
            {
             "iteration": 205,
             "learn": [
              0.2922314059
             ],
             "passed_time": 9.613891788,
             "remaining_time": 60.39017463,
             "test": [
              0.5985478347
             ]
            },
            {
             "iteration": 206,
             "learn": [
              0.2910215316
             ],
             "passed_time": 9.659731307,
             "remaining_time": 60.33832164,
             "test": [
              0.5971039563
             ]
            },
            {
             "iteration": 207,
             "learn": [
              0.2894993244
             ],
             "passed_time": 9.703459681,
             "remaining_time": 60.27341302,
             "test": [
              0.5955492345
             ]
            },
            {
             "iteration": 208,
             "learn": [
              0.2889294678
             ],
             "passed_time": 9.744045761,
             "remaining_time": 60.18929702,
             "test": [
              0.5949473807
             ]
            },
            {
             "iteration": 209,
             "learn": [
              0.2873247541
             ],
             "passed_time": 9.790518729,
             "remaining_time": 60.14175791,
             "test": [
              0.5938318764
             ]
            },
            {
             "iteration": 210,
             "learn": [
              0.2854425884
             ],
             "passed_time": 9.834501182,
             "remaining_time": 60.07901433,
             "test": [
              0.5922155613
             ]
            },
            {
             "iteration": 211,
             "learn": [
              0.2836289876
             ],
             "passed_time": 9.879602763,
             "remaining_time": 60.02324697,
             "test": [
              0.5903819014
             ]
            },
            {
             "iteration": 212,
             "learn": [
              0.2822874912
             ],
             "passed_time": 9.922606288,
             "remaining_time": 59.95490278,
             "test": [
              0.5888969607
             ]
            },
            {
             "iteration": 213,
             "learn": [
              0.2792929639
             ],
             "passed_time": 9.97233764,
             "remaining_time": 59.92722525,
             "test": [
              0.5860522511
             ]
            },
            {
             "iteration": 214,
             "learn": [
              0.277713473
             ],
             "passed_time": 10.0156687,
             "remaining_time": 59.8610897,
             "test": [
              0.5841133924
             ]
            },
            {
             "iteration": 215,
             "learn": [
              0.2755085181
             ],
             "passed_time": 10.06388573,
             "remaining_time": 59.82420961,
             "test": [
              0.5823461641
             ]
            },
            {
             "iteration": 216,
             "learn": [
              0.2749781189
             ],
             "passed_time": 10.10580446,
             "remaining_time": 59.74998671,
             "test": [
              0.5817521258
             ]
            },
            {
             "iteration": 217,
             "learn": [
              0.2743987372
             ],
             "passed_time": 10.14682609,
             "remaining_time": 59.67078465,
             "test": [
              0.5814314431
             ]
            },
            {
             "iteration": 218,
             "learn": [
              0.2726040801
             ],
             "passed_time": 10.19537922,
             "remaining_time": 59.63598529,
             "test": [
              0.5789242876
             ]
            },
            {
             "iteration": 219,
             "learn": [
              0.271960976
             ],
             "passed_time": 10.2363205,
             "remaining_time": 59.55677381,
             "test": [
              0.5778273916
             ]
            },
            {
             "iteration": 220,
             "learn": [
              0.2709618779
             ],
             "passed_time": 10.27869865,
             "remaining_time": 59.48622434,
             "test": [
              0.5761389383
             ]
            },
            {
             "iteration": 221,
             "learn": [
              0.2704697919
             ],
             "passed_time": 10.31967631,
             "remaining_time": 59.40786634,
             "test": [
              0.5756131924
             ]
            },
            {
             "iteration": 222,
             "learn": [
              0.269500493
             ],
             "passed_time": 10.36343693,
             "remaining_time": 59.34578007,
             "test": [
              0.5746431428
             ]
            },
            {
             "iteration": 223,
             "learn": [
              0.2692073167
             ],
             "passed_time": 10.40392845,
             "remaining_time": 59.26523526,
             "test": [
              0.5743056507
             ]
            },
            {
             "iteration": 224,
             "learn": [
              0.2676029754
             ],
             "passed_time": 10.45226931,
             "remaining_time": 59.2295261,
             "test": [
              0.5724688894
             ]
            },
            {
             "iteration": 225,
             "learn": [
              0.2665149852
             ],
             "passed_time": 10.49531007,
             "remaining_time": 59.16382754,
             "test": [
              0.5709539274
             ]
            },
            {
             "iteration": 226,
             "learn": [
              0.2653429984
             ],
             "passed_time": 10.53741487,
             "remaining_time": 59.09307988,
             "test": [
              0.5694026792
             ]
            },
            {
             "iteration": 227,
             "learn": [
              0.2643967939
             ],
             "passed_time": 10.58214751,
             "remaining_time": 59.03724403,
             "test": [
              0.5682278765
             ]
            },
            {
             "iteration": 228,
             "learn": [
              0.263574389
             ],
             "passed_time": 10.62446814,
             "remaining_time": 58.96811794,
             "test": [
              0.5673401375
             ]
            },
            {
             "iteration": 229,
             "learn": [
              0.2631622022
             ],
             "passed_time": 10.66477722,
             "remaining_time": 58.8881177,
             "test": [
              0.5669035873
             ]
            },
            {
             "iteration": 230,
             "learn": [
              0.2622310835
             ],
             "passed_time": 10.71020193,
             "remaining_time": 58.83656386,
             "test": [
              0.5654659116
             ]
            },
            {
             "iteration": 231,
             "learn": [
              0.2601742466
             ],
             "passed_time": 10.76021991,
             "remaining_time": 58.81016746,
             "test": [
              0.5631971902
             ]
            },
            {
             "iteration": 232,
             "learn": [
              0.2593103091
             ],
             "passed_time": 10.80428849,
             "remaining_time": 58.75121679,
             "test": [
              0.5624185578
             ]
            },
            {
             "iteration": 233,
             "learn": [
              0.2580121813
             ],
             "passed_time": 10.85363439,
             "remaining_time": 58.72094503,
             "test": [
              0.5614775991
             ]
            },
            {
             "iteration": 234,
             "learn": [
              0.2578505738
             ],
             "passed_time": 10.8997472,
             "remaining_time": 58.67310725,
             "test": [
              0.5613466588
             ]
            },
            {
             "iteration": 235,
             "learn": [
              0.2567347266
             ],
             "passed_time": 10.95024491,
             "remaining_time": 58.64876934,
             "test": [
              0.5601507668
             ]
            },
            {
             "iteration": 236,
             "learn": [
              0.2554069326
             ],
             "passed_time": 11.00188585,
             "remaining_time": 58.63030305,
             "test": [
              0.5585266982
             ]
            },
            {
             "iteration": 237,
             "learn": [
              0.2552078633
             ],
             "passed_time": 11.05030204,
             "remaining_time": 58.59445872,
             "test": [
              0.558175808
             ]
            },
            {
             "iteration": 238,
             "learn": [
              0.255034682
             ],
             "passed_time": 11.0973865,
             "remaining_time": 58.55148273,
             "test": [
              0.5577586104
             ]
            },
            {
             "iteration": 239,
             "learn": [
              0.2549084079
             ],
             "passed_time": 11.14564433,
             "remaining_time": 58.51463274,
             "test": [
              0.5576584979
             ]
            },
            {
             "iteration": 240,
             "learn": [
              0.2540193273
             ],
             "passed_time": 11.19608634,
             "remaining_time": 58.48909836,
             "test": [
              0.5568217456
             ]
            },
            {
             "iteration": 241,
             "learn": [
              0.2519610803
             ],
             "passed_time": 11.25124933,
             "remaining_time": 58.48789943,
             "test": [
              0.5546654182
             ]
            },
            {
             "iteration": 242,
             "learn": [
              0.2503709469
             ],
             "passed_time": 11.30426828,
             "remaining_time": 58.47516554,
             "test": [
              0.5526847529
             ]
            },
            {
             "iteration": 243,
             "learn": [
              0.250202475
             ],
             "passed_time": 11.35152213,
             "remaining_time": 58.43242536,
             "test": [
              0.5523741807
             ]
            },
            {
             "iteration": 244,
             "learn": [
              0.2491015008
             ],
             "passed_time": 11.40154821,
             "remaining_time": 58.40384897,
             "test": [
              0.5511290387
             ]
            },
            {
             "iteration": 245,
             "learn": [
              0.2486461583
             ],
             "passed_time": 11.44947028,
             "remaining_time": 58.3643729,
             "test": [
              0.5508146829
             ]
            },
            {
             "iteration": 246,
             "learn": [
              0.2474007378
             ],
             "passed_time": 11.49971905,
             "remaining_time": 58.33663147,
             "test": [
              0.5489345023
             ]
            },
            {
             "iteration": 247,
             "learn": [
              0.2463784654
             ],
             "passed_time": 11.54981801,
             "remaining_time": 58.30795223,
             "test": [
              0.5477842005
             ]
            },
            {
             "iteration": 248,
             "learn": [
              0.2452250766
             ],
             "passed_time": 11.60044105,
             "remaining_time": 58.28173397,
             "test": [
              0.5463609773
             ]
            },
            {
             "iteration": 249,
             "learn": [
              0.2435028688
             ],
             "passed_time": 11.6543684,
             "remaining_time": 58.27184198,
             "test": [
              0.5446420065
             ]
            },
            {
             "iteration": 250,
             "learn": [
              0.2428331051
             ],
             "passed_time": 11.70393141,
             "remaining_time": 58.23988179,
             "test": [
              0.5440531165
             ]
            },
            {
             "iteration": 251,
             "learn": [
              0.2420754071
             ],
             "passed_time": 11.75184416,
             "remaining_time": 58.19960919,
             "test": [
              0.5432444627
             ]
            },
            {
             "iteration": 252,
             "learn": [
              0.2417839602
             ],
             "passed_time": 11.79676846,
             "remaining_time": 58.1445465,
             "test": [
              0.5426892536
             ]
            },
            {
             "iteration": 253,
             "learn": [
              0.2407212461
             ],
             "passed_time": 11.84524705,
             "remaining_time": 58.10699931,
             "test": [
              0.5416486787
             ]
            },
            {
             "iteration": 254,
             "learn": [
              0.2397363824
             ],
             "passed_time": 11.89529692,
             "remaining_time": 58.07703791,
             "test": [
              0.5406025212
             ]
            },
            {
             "iteration": 255,
             "learn": [
              0.2387409293
             ],
             "passed_time": 11.94600308,
             "remaining_time": 58.05010872,
             "test": [
              0.5394758519
             ]
            },
            {
             "iteration": 256,
             "learn": [
              0.2373087583
             ],
             "passed_time": 11.99999626,
             "remaining_time": 58.03889244,
             "test": [
              0.5379381257
             ]
            },
            {
             "iteration": 257,
             "learn": [
              0.2371669726
             ],
             "passed_time": 12.04725874,
             "remaining_time": 57.99494324,
             "test": [
              0.5376367957
             ]
            },
            {
             "iteration": 258,
             "learn": [
              0.2361205416
             ],
             "passed_time": 12.09908639,
             "remaining_time": 57.9728425,
             "test": [
              0.5360288542
             ]
            },
            {
             "iteration": 259,
             "learn": [
              0.2359597057
             ],
             "passed_time": 12.14607105,
             "remaining_time": 57.92741575,
             "test": [
              0.535900209
             ]
            },
            {
             "iteration": 260,
             "learn": [
              0.2356882669
             ],
             "passed_time": 12.1941977,
             "remaining_time": 57.88739828,
             "test": [
              0.5355511797
             ]
            },
            {
             "iteration": 261,
             "learn": [
              0.2344394674
             ],
             "passed_time": 12.2451601,
             "remaining_time": 57.86071833,
             "test": [
              0.5342675186
             ]
            },
            {
             "iteration": 262,
             "learn": [
              0.234195513
             ],
             "passed_time": 12.29348976,
             "remaining_time": 57.82147087,
             "test": [
              0.5339482005
             ]
            },
            {
             "iteration": 263,
             "learn": [
              0.2332033857
             ],
             "passed_time": 12.34417183,
             "remaining_time": 57.79316813,
             "test": [
              0.5331095874
             ]
            },
            {
             "iteration": 264,
             "learn": [
              0.2319474291
             ],
             "passed_time": 12.39549781,
             "remaining_time": 57.76769735,
             "test": [
              0.5317392117
             ]
            },
            {
             "iteration": 265,
             "learn": [
              0.2316845043
             ],
             "passed_time": 12.44328615,
             "remaining_time": 57.7256207,
             "test": [
              0.5315244721
             ]
            },
            {
             "iteration": 266,
             "learn": [
              0.2311793812
             ],
             "passed_time": 12.49277185,
             "remaining_time": 57.69133967,
             "test": [
              0.5305252695
             ]
            },
            {
             "iteration": 267,
             "learn": [
              0.2301985883
             ],
             "passed_time": 12.54063578,
             "remaining_time": 57.64948984,
             "test": [
              0.5292599686
             ]
            },
            {
             "iteration": 268,
             "learn": [
              0.2290582366
             ],
             "passed_time": 12.59229311,
             "remaining_time": 57.62495473,
             "test": [
              0.5279397112
             ]
            },
            {
             "iteration": 269,
             "learn": [
              0.2281531124
             ],
             "passed_time": 12.63821256,
             "remaining_time": 57.57407945,
             "test": [
              0.5268647109
             ]
            },
            {
             "iteration": 270,
             "learn": [
              0.2273271157
             ],
             "passed_time": 12.68047881,
             "remaining_time": 57.50667327,
             "test": [
              0.5257557194
             ]
            },
            {
             "iteration": 271,
             "learn": [
              0.227170457
             ],
             "passed_time": 12.72113624,
             "remaining_time": 57.43218861,
             "test": [
              0.5256133661
             ]
            },
            {
             "iteration": 272,
             "learn": [
              0.2267275397
             ],
             "passed_time": 12.76348859,
             "remaining_time": 57.36556958,
             "test": [
              0.5252792234
             ]
            },
            {
             "iteration": 273,
             "learn": [
              0.2263537193
             ],
             "passed_time": 12.80507495,
             "remaining_time": 57.29570034,
             "test": [
              0.525069198
             ]
            },
            {
             "iteration": 274,
             "learn": [
              0.2262214854
             ],
             "passed_time": 12.84643074,
             "remaining_time": 57.22500967,
             "test": [
              0.5249106554
             ]
            },
            {
             "iteration": 275,
             "learn": [
              0.2251692542
             ],
             "passed_time": 12.89319866,
             "remaining_time": 57.17853319,
             "test": [
              0.5237214623
             ]
            },
            {
             "iteration": 276,
             "learn": [
              0.2240779913
             ],
             "passed_time": 12.93975558,
             "remaining_time": 57.131123,
             "test": [
              0.5225282374
             ]
            },
            {
             "iteration": 277,
             "learn": [
              0.2233035845
             ],
             "passed_time": 12.981903,
             "remaining_time": 57.06433623,
             "test": [
              0.5213779356
             ]
            },
            {
             "iteration": 278,
             "learn": [
              0.2222304939
             ],
             "passed_time": 13.02720426,
             "remaining_time": 57.01152834,
             "test": [
              0.519969506
             ]
            },
            {
             "iteration": 279,
             "learn": [
              0.2214109359
             ],
             "passed_time": 13.06972249,
             "remaining_time": 56.946648,
             "test": [
              0.5185570135
             ]
            },
            {
             "iteration": 280,
             "learn": [
              0.2200902857
             ],
             "passed_time": 13.11736157,
             "remaining_time": 56.90414146,
             "test": [
              0.5169184615
             ]
            },
            {
             "iteration": 281,
             "learn": [
              0.2197856687
             ],
             "passed_time": 13.15820568,
             "remaining_time": 56.83225005,
             "test": [
              0.51642956
             ]
            },
            {
             "iteration": 282,
             "learn": [
              0.2189317219
             ],
             "passed_time": 13.20157777,
             "remaining_time": 56.77144928,
             "test": [
              0.5155975218
             ]
            },
            {
             "iteration": 283,
             "learn": [
              0.2187002327
             ],
             "passed_time": 13.2427764,
             "remaining_time": 56.70146514,
             "test": [
              0.5152583239
             ]
            },
            {
             "iteration": 284,
             "learn": [
              0.2179672521
             ],
             "passed_time": 13.28849699,
             "remaining_time": 56.65096085,
             "test": [
              0.5144777065
             ]
            },
            {
             "iteration": 285,
             "learn": [
              0.2171859542
             ],
             "passed_time": 13.33292516,
             "remaining_time": 56.595004,
             "test": [
              0.5132283777
             ]
            },
            {
             "iteration": 286,
             "learn": [
              0.2161444853
             ],
             "passed_time": 13.38224919,
             "remaining_time": 56.55981976,
             "test": [
              0.5122235926
             ]
            },
            {
             "iteration": 287,
             "learn": [
              0.2159743238
             ],
             "passed_time": 13.42295054,
             "remaining_time": 56.4882502,
             "test": [
              0.5118750285
             ]
            },
            {
             "iteration": 288,
             "learn": [
              0.2158262058
             ],
             "passed_time": 13.46397447,
             "remaining_time": 56.41824597,
             "test": [
              0.5116971644
             ]
            },
            {
             "iteration": 289,
             "learn": [
              0.2156330697
             ],
             "passed_time": 13.50561015,
             "remaining_time": 56.35099407,
             "test": [
              0.5112897361
             ]
            },
            {
             "iteration": 290,
             "learn": [
              0.2144955782
             ],
             "passed_time": 13.55512054,
             "remaining_time": 56.31663483,
             "test": [
              0.5104610164
             ]
            },
            {
             "iteration": 291,
             "learn": [
              0.2139025208
             ],
             "passed_time": 13.5987647,
             "remaining_time": 56.25790326,
             "test": [
              0.5098431905
             ]
            },
            {
             "iteration": 292,
             "learn": [
              0.2129541479
             ],
             "passed_time": 13.64465434,
             "remaining_time": 56.2085249,
             "test": [
              0.509082391
             ]
            },
            {
             "iteration": 293,
             "learn": [
              0.2127022781
             ],
             "passed_time": 13.68485321,
             "remaining_time": 56.13582641,
             "test": [
              0.5088012819
             ]
            },
            {
             "iteration": 294,
             "learn": [
              0.2113490616
             ],
             "passed_time": 13.73318065,
             "remaining_time": 56.09655147,
             "test": [
              0.5068284011
             ]
            },
            {
             "iteration": 295,
             "learn": [
              0.2108224139
             ],
             "passed_time": 13.77614619,
             "remaining_time": 56.03540543,
             "test": [
              0.5058809606
             ]
            },
            {
             "iteration": 296,
             "learn": [
              0.2100071396
             ],
             "passed_time": 13.81915495,
             "remaining_time": 55.97455692,
             "test": [
              0.5045829091
             ]
            },
            {
             "iteration": 297,
             "learn": [
              0.2091343821
             ],
             "passed_time": 13.86311981,
             "remaining_time": 55.91768462,
             "test": [
              0.5037888318
             ]
            },
            {
             "iteration": 298,
             "learn": [
              0.2090576358
             ],
             "passed_time": 13.90381268,
             "remaining_time": 55.84775596,
             "test": [
              0.5036866413
             ]
            },
            {
             "iteration": 299,
             "learn": [
              0.2076645363
             ],
             "passed_time": 13.95182695,
             "remaining_time": 55.80730779,
             "test": [
              0.5022271009
             ]
            },
            {
             "iteration": 300,
             "learn": [
              0.2071126923
             ],
             "passed_time": 13.99595504,
             "remaining_time": 55.75132922,
             "test": [
              0.5013469293
             ]
            },
            {
             "iteration": 301,
             "learn": [
              0.2065209519
             ],
             "passed_time": 14.03885342,
             "remaining_time": 55.69055097,
             "test": [
              0.5008867776
             ]
            },
            {
             "iteration": 302,
             "learn": [
              0.2053408635
             ],
             "passed_time": 14.08607962,
             "remaining_time": 55.64698782,
             "test": [
              0.4997228917
             ]
            },
            {
             "iteration": 303,
             "learn": [
              0.2045004993
             ],
             "passed_time": 14.13070764,
             "remaining_time": 55.59317876,
             "test": [
              0.498350376
             ]
            },
            {
             "iteration": 304,
             "learn": [
              0.2044312162
             ],
             "passed_time": 14.17114195,
             "remaining_time": 55.52299881,
             "test": [
              0.4982499534
             ]
            },
            {
             "iteration": 305,
             "learn": [
              0.2040700339
             ],
             "passed_time": 14.2123118,
             "remaining_time": 55.45588331,
             "test": [
              0.4977736124
             ]
            },
            {
             "iteration": 306,
             "learn": [
              0.202966439
             ],
             "passed_time": 14.259777,
             "remaining_time": 55.41340052,
             "test": [
              0.4966188136
             ]
            },
            {
             "iteration": 307,
             "learn": [
              0.2022242392
             ],
             "passed_time": 14.30293546,
             "remaining_time": 55.35421777,
             "test": [
              0.4960370258
             ]
            },
            {
             "iteration": 308,
             "learn": [
              0.2010702118
             ],
             "passed_time": 14.349772,
             "remaining_time": 55.30931539,
             "test": [
              0.4946053978
             ]
            },
            {
             "iteration": 309,
             "learn": [
              0.2009977758
             ],
             "passed_time": 14.3904807,
             "remaining_time": 55.24087753,
             "test": [
              0.4944959501
             ]
            },
            {
             "iteration": 310,
             "learn": [
              0.2007602735
             ],
             "passed_time": 14.43268359,
             "remaining_time": 55.1783305,
             "test": [
              0.4942094136
             ]
            },
            {
             "iteration": 311,
             "learn": [
              0.1993725884
             ],
             "passed_time": 14.4825346,
             "remaining_time": 55.14503559,
             "test": [
              0.4932642991
             ]
            },
            {
             "iteration": 312,
             "learn": [
              0.1990953361
             ],
             "passed_time": 14.52511644,
             "remaining_time": 55.08406776,
             "test": [
              0.4928667952
             ]
            },
            {
             "iteration": 313,
             "learn": [
              0.198989775
             ],
             "passed_time": 14.56710675,
             "remaining_time": 55.02098283,
             "test": [
              0.4926016273
             ]
            },
            {
             "iteration": 314,
             "learn": [
              0.198155251
             ],
             "passed_time": 14.6103169,
             "remaining_time": 54.96262071,
             "test": [
              0.491836827
             ]
            },
            {
             "iteration": 315,
             "learn": [
              0.1979740745
             ],
             "passed_time": 14.65156993,
             "remaining_time": 54.89702149,
             "test": [
              0.4916536905
             ]
            },
            {
             "iteration": 316,
             "learn": [
              0.1967851394
             ],
             "passed_time": 14.7011056,
             "remaining_time": 54.86248556,
             "test": [
              0.4902457261
             ]
            },
            {
             "iteration": 317,
             "learn": [
              0.1961228255
             ],
             "passed_time": 14.74634312,
             "remaining_time": 54.81187914,
             "test": [
              0.4897471792
             ]
            },
            {
             "iteration": 318,
             "learn": [
              0.1960525978
             ],
             "passed_time": 14.78733528,
             "remaining_time": 54.74558923,
             "test": [
              0.4896488345
             ]
            },
            {
             "iteration": 319,
             "learn": [
              0.1951946335
             ],
             "passed_time": 14.83464294,
             "remaining_time": 54.70274586,
             "test": [
              0.4883485189
             ]
            },
            {
             "iteration": 320,
             "learn": [
              0.1944802242
             ],
             "passed_time": 14.88192511,
             "remaining_time": 54.65978101,
             "test": [
              0.4872906693
             ]
            },
            {
             "iteration": 321,
             "learn": [
              0.1939318656
             ],
             "passed_time": 14.92448865,
             "remaining_time": 54.59952679,
             "test": [
              0.487051863
             ]
            },
            {
             "iteration": 322,
             "learn": [
              0.1930827612
             ],
             "passed_time": 14.97094995,
             "remaining_time": 54.55358544,
             "test": [
              0.4858652441
             ]
            },
            {
             "iteration": 323,
             "learn": [
              0.1922600238
             ],
             "passed_time": 15.01518662,
             "remaining_time": 54.49956624,
             "test": [
              0.4842890918
             ]
            },
            {
             "iteration": 324,
             "learn": [
              0.1917223078
             ],
             "passed_time": 15.05856358,
             "remaining_time": 54.4424991,
             "test": [
              0.4835943207
             ]
            },
            {
             "iteration": 325,
             "learn": [
              0.1915916303
             ],
             "passed_time": 15.0992656,
             "remaining_time": 54.37588287,
             "test": [
              0.4834214497
             ]
            },
            {
             "iteration": 326,
             "learn": [
              0.1908057295
             ],
             "passed_time": 15.14724478,
             "remaining_time": 54.33552943,
             "test": [
              0.4824830032
             ]
            },
            {
             "iteration": 327,
             "learn": [
              0.190505742
             ],
             "passed_time": 15.18800223,
             "remaining_time": 54.26932503,
             "test": [
              0.481767918
             ]
            },
            {
             "iteration": 328,
             "learn": [
              0.1894281682
             ],
             "passed_time": 15.23611836,
             "remaining_time": 54.22946687,
             "test": [
              0.4810560893
             ]
            },
            {
             "iteration": 329,
             "learn": [
              0.1888247875
             ],
             "passed_time": 15.28152764,
             "remaining_time": 54.17996164,
             "test": [
              0.4805671258
             ]
            },
            {
             "iteration": 330,
             "learn": [
              0.1883116425
             ],
             "passed_time": 15.32349332,
             "remaining_time": 54.1183193,
             "test": [
              0.4796853414
             ]
            },
            {
             "iteration": 331,
             "learn": [
              0.1877655322
             ],
             "passed_time": 15.36580113,
             "remaining_time": 54.05799917,
             "test": [
              0.4791024061
             ]
            },
            {
             "iteration": 332,
             "learn": [
              0.1870199135
             ],
             "passed_time": 15.41102943,
             "remaining_time": 54.00802204,
             "test": [
              0.4784061153
             ]
            },
            {
             "iteration": 333,
             "learn": [
              0.1859366326
             ],
             "passed_time": 15.45491261,
             "remaining_time": 53.95337755,
             "test": [
              0.4770295058
             ]
            },
            {
             "iteration": 334,
             "learn": [
              0.1852304713
             ],
             "passed_time": 15.50085697,
             "remaining_time": 53.90596528,
             "test": [
              0.4760535015
             ]
            },
            {
             "iteration": 335,
             "learn": [
              0.1849535516
             ],
             "passed_time": 15.54240526,
             "remaining_time": 53.84333249,
             "test": [
              0.4757678334
             ]
            },
            {
             "iteration": 336,
             "learn": [
              0.1843723872
             ],
             "passed_time": 15.58501446,
             "remaining_time": 53.78448611,
             "test": [
              0.4756348152
             ]
            },
            {
             "iteration": 337,
             "learn": [
              0.1842282868
             ],
             "passed_time": 15.62680437,
             "remaining_time": 53.72291916,
             "test": [
              0.4754758075
             ]
            },
            {
             "iteration": 338,
             "learn": [
              0.1840009881
             ],
             "passed_time": 15.66983398,
             "remaining_time": 53.66571462,
             "test": [
              0.4751514342
             ]
            },
            {
             "iteration": 339,
             "learn": [
              0.183567383
             ],
             "passed_time": 15.71168481,
             "remaining_time": 53.60457171,
             "test": [
              0.4749885187
             ]
            },
            {
             "iteration": 340,
             "learn": [
              0.1834629262
             ],
             "passed_time": 15.7526591,
             "remaining_time": 53.54056275,
             "test": [
              0.4749820678
             ]
            },
            {
             "iteration": 341,
             "learn": [
              0.1825821468
             ],
             "passed_time": 15.80003868,
             "remaining_time": 53.49837657,
             "test": [
              0.4739797949
             ]
            },
            {
             "iteration": 342,
             "learn": [
              0.1816461192
             ],
             "passed_time": 15.84740032,
             "remaining_time": 53.45609963,
             "test": [
              0.4728926992
             ]
            },
            {
             "iteration": 343,
             "learn": [
              0.1811896992
             ],
             "passed_time": 15.88851715,
             "remaining_time": 53.39280764,
             "test": [
              0.4725857866
             ]
            },
            {
             "iteration": 344,
             "learn": [
              0.1803903222
             ],
             "passed_time": 15.93723469,
             "remaining_time": 53.35509004,
             "test": [
              0.4720311669
             ]
            },
            {
             "iteration": 345,
             "learn": [
              0.1798691687
             ],
             "passed_time": 15.97983829,
             "remaining_time": 53.29691731,
             "test": [
              0.4716665066
             ]
            },
            {
             "iteration": 346,
             "learn": [
              0.1798198138
             ],
             "passed_time": 16.02059768,
             "remaining_time": 53.23270642,
             "test": [
              0.4716256304
             ]
            },
            {
             "iteration": 347,
             "learn": [
              0.1790911966
             ],
             "passed_time": 16.06902388,
             "remaining_time": 53.19401007,
             "test": [
              0.4710104097
             ]
            },
            {
             "iteration": 348,
             "learn": [
              0.1786814177
             ],
             "passed_time": 16.11406446,
             "remaining_time": 53.14409223,
             "test": [
              0.4702224421
             ]
            },
            {
             "iteration": 349,
             "learn": [
              0.1784965429
             ],
             "passed_time": 16.15431169,
             "remaining_time": 53.07845269,
             "test": [
              0.4699046127
             ]
            },
            {
             "iteration": 350,
             "learn": [
              0.1781564195
             ],
             "passed_time": 16.19689211,
             "remaining_time": 53.02059555,
             "test": [
              0.4694598438
             ]
            },
            {
             "iteration": 351,
             "learn": [
              0.1779482242
             ],
             "passed_time": 16.23798732,
             "remaining_time": 52.95798138,
             "test": [
              0.4691968468
             ]
            },
            {
             "iteration": 352,
             "learn": [
              0.1771191279
             ],
             "passed_time": 16.28377613,
             "remaining_time": 52.91074001,
             "test": [
              0.4679169383
             ]
            },
            {
             "iteration": 353,
             "learn": [
              0.1770328166
             ],
             "passed_time": 16.32484434,
             "remaining_time": 52.8482249,
             "test": [
              0.4677210242
             ]
            },
            {
             "iteration": 354,
             "learn": [
              0.1769059305
             ],
             "passed_time": 16.36590703,
             "remaining_time": 52.78581281,
             "test": [
              0.4674507699
             ]
            },
            {
             "iteration": 355,
             "learn": [
              0.1759172089
             ],
             "passed_time": 16.4144242,
             "remaining_time": 52.74747553,
             "test": [
              0.4659871047
             ]
            },
            {
             "iteration": 356,
             "learn": [
              0.1753175797
             ],
             "passed_time": 16.45696992,
             "remaining_time": 52.68996251,
             "test": [
              0.465345026
             ]
            },
            {
             "iteration": 357,
             "learn": [
              0.1751682378
             ],
             "passed_time": 16.49846494,
             "remaining_time": 52.62918145,
             "test": [
              0.4652274527
             ]
            },
            {
             "iteration": 358,
             "learn": [
              0.1740722656
             ],
             "passed_time": 16.54648267,
             "remaining_time": 52.5892388,
             "test": [
              0.4642044626
             ]
            },
            {
             "iteration": 359,
             "learn": [
              0.1739954396
             ],
             "passed_time": 16.58738862,
             "remaining_time": 52.52673063,
             "test": [
              0.4641409773
             ]
            },
            {
             "iteration": 360,
             "learn": [
              0.1732107094
             ],
             "passed_time": 16.6339874,
             "remaining_time": 52.48230373,
             "test": [
              0.4629929085
             ]
            },
            {
             "iteration": 361,
             "learn": [
              0.1723621904
             ],
             "passed_time": 16.67997699,
             "remaining_time": 52.43594976,
             "test": [
              0.4620719538
             ]
            },
            {
             "iteration": 362,
             "learn": [
              0.17204286
             ],
             "passed_time": 16.72276942,
             "remaining_time": 52.37958357,
             "test": [
              0.4615678865
             ]
            },
            {
             "iteration": 363,
             "learn": [
              0.1712661783
             ],
             "passed_time": 16.76624329,
             "remaining_time": 52.32541861,
             "test": [
              0.4603291333
             ]
            },
            {
             "iteration": 364,
             "learn": [
              0.1705944989
             ],
             "passed_time": 16.81194185,
             "remaining_time": 52.27823013,
             "test": [
              0.4593966724
             ]
            },
            {
             "iteration": 365,
             "learn": [
              0.1705046889
             ],
             "passed_time": 16.85243705,
             "remaining_time": 52.2149279,
             "test": [
              0.4593164397
             ]
            },
            {
             "iteration": 366,
             "learn": [
              0.1703981035
             ],
             "passed_time": 16.89351736,
             "remaining_time": 52.15355631,
             "test": [
              0.459087837
             ]
            },
            {
             "iteration": 367,
             "learn": [
              0.1697528177
             ],
             "passed_time": 16.94082303,
             "remaining_time": 52.11144477,
             "test": [
              0.4583242773
             ]
            },
            {
             "iteration": 368,
             "learn": [
              0.169132981
             ],
             "passed_time": 16.98713372,
             "remaining_time": 52.06625539,
             "test": [
              0.4578704834
             ]
            },
            {
             "iteration": 369,
             "learn": [
              0.1681405743
             ],
             "passed_time": 17.03437012,
             "remaining_time": 52.02388712,
             "test": [
              0.4564703965
             ]
            },
            {
             "iteration": 370,
             "learn": [
              0.1681128903
             ],
             "passed_time": 17.07540638,
             "remaining_time": 51.9626248,
             "test": [
              0.4564555719
             ]
            },
            {
             "iteration": 371,
             "learn": [
              0.1673895014
             ],
             "passed_time": 17.12408638,
             "remaining_time": 51.92464903,
             "test": [
              0.4557782925
             ]
            },
            {
             "iteration": 372,
             "learn": [
              0.1662585417
             ],
             "passed_time": 17.17291881,
             "remaining_time": 51.88707642,
             "test": [
              0.4546563373
             ]
            },
            {
             "iteration": 373,
             "learn": [
              0.1653734521
             ],
             "passed_time": 17.22083695,
             "remaining_time": 51.84669092,
             "test": [
              0.4539187051
             ]
            },
            {
             "iteration": 374,
             "learn": [
              0.1647840798
             ],
             "passed_time": 17.26561901,
             "remaining_time": 51.79685704,
             "test": [
              0.4531420886
             ]
            },
            {
             "iteration": 375,
             "learn": [
              0.1638156721
             ],
             "passed_time": 17.31412618,
             "remaining_time": 51.7581857,
             "test": [
              0.4525463135
             ]
            },
            {
             "iteration": 376,
             "learn": [
              0.1633001193
             ],
             "passed_time": 17.3601146,
             "remaining_time": 51.71195939,
             "test": [
              0.4517512128
             ]
            },
            {
             "iteration": 377,
             "learn": [
              0.1629788067
             ],
             "passed_time": 17.40238773,
             "remaining_time": 51.65470644,
             "test": [
              0.4512317626
             ]
            },
            {
             "iteration": 378,
             "learn": [
              0.1627013947
             ],
             "passed_time": 17.44389757,
             "remaining_time": 51.59527487,
             "test": [
              0.4510961393
             ]
            },
            {
             "iteration": 379,
             "learn": [
              0.1626561372
             ],
             "passed_time": 17.48463638,
             "remaining_time": 51.53366512,
             "test": [
              0.4510507971
             ]
            },
            {
             "iteration": 380,
             "learn": [
              0.1618993571
             ],
             "passed_time": 17.53148803,
             "remaining_time": 51.49011838,
             "test": [
              0.4504353283
             ]
            },
            {
             "iteration": 381,
             "learn": [
              0.1618201365
             ],
             "passed_time": 17.57229271,
             "remaining_time": 51.42885666,
             "test": [
              0.4503354639
             ]
            },
            {
             "iteration": 382,
             "learn": [
              0.1617132717
             ],
             "passed_time": 17.61322767,
             "remaining_time": 51.36808173,
             "test": [
              0.4501931415
             ]
            },
            {
             "iteration": 383,
             "learn": [
              0.1611412467
             ],
             "passed_time": 17.65859824,
             "remaining_time": 51.32030112,
             "test": [
              0.4493166295
             ]
            },
            {
             "iteration": 384,
             "learn": [
              0.1601437583
             ],
             "passed_time": 17.70881694,
             "remaining_time": 51.28657372,
             "test": [
              0.4485205053
             ]
            },
            {
             "iteration": 385,
             "learn": [
              0.1598665725
             ],
             "passed_time": 17.75121111,
             "remaining_time": 51.23017922,
             "test": [
              0.4482330384
             ]
            },
            {
             "iteration": 386,
             "learn": [
              0.1591669829
             ],
             "passed_time": 17.79909801,
             "remaining_time": 51.18965396,
             "test": [
              0.4471971465
             ]
            },
            {
             "iteration": 387,
             "learn": [
              0.1590738205
             ],
             "passed_time": 17.84012787,
             "remaining_time": 51.12943863,
             "test": [
              0.4470180729
             ]
            },
            {
             "iteration": 388,
             "learn": [
              0.1590283767
             ],
             "passed_time": 17.8814706,
             "remaining_time": 51.0702155,
             "test": [
              0.4469135564
             ]
            },
            {
             "iteration": 389,
             "learn": [
              0.1583023005
             ],
             "passed_time": 17.92715894,
             "remaining_time": 51.02345238,
             "test": [
              0.4459535242
             ]
            },
            {
             "iteration": 390,
             "learn": [
              0.1577035094
             ],
             "passed_time": 17.97274343,
             "remaining_time": 50.97640018,
             "test": [
              0.445478889
             ]
            },
            {
             "iteration": 391,
             "learn": [
              0.157303628
             ],
             "passed_time": 18.01708476,
             "remaining_time": 50.92584161,
             "test": [
              0.444901226
             ]
            },
            {
             "iteration": 392,
             "learn": [
              0.1572203366
             ],
             "passed_time": 18.05764196,
             "remaining_time": 50.86465559,
             "test": [
              0.4447741005
             ]
            },
            {
             "iteration": 393,
             "learn": [
              0.1571472886
             ],
             "passed_time": 18.09908588,
             "remaining_time": 50.8060634,
             "test": [
              0.4446335459
             ]
            },
            {
             "iteration": 394,
             "learn": [
              0.1570221586
             ],
             "passed_time": 18.14047594,
             "remaining_time": 50.74740739,
             "test": [
              0.4443737123
             ]
            },
            {
             "iteration": 395,
             "learn": [
              0.1569482592
             ],
             "passed_time": 18.18124584,
             "remaining_time": 50.68710962,
             "test": [
              0.444229188
             ]
            },
            {
             "iteration": 396,
             "learn": [
              0.1564044903
             ],
             "passed_time": 18.22812104,
             "remaining_time": 50.64387281,
             "test": [
              0.4436013447
             ]
            },
            {
             "iteration": 397,
             "learn": [
              0.1561397429
             ],
             "passed_time": 18.26995888,
             "remaining_time": 50.58667006,
             "test": [
              0.4433244845
             ]
            },
            {
             "iteration": 398,
             "learn": [
              0.1555362958
             ],
             "passed_time": 18.31762354,
             "remaining_time": 50.54562286,
             "test": [
              0.4428758389
             ]
            },
            {
             "iteration": 399,
             "learn": [
              0.1550271018
             ],
             "passed_time": 18.36966333,
             "remaining_time": 50.51657416,
             "test": [
              0.4423012772
             ]
            },
            {
             "iteration": 400,
             "learn": [
              0.1545255307
             ],
             "passed_time": 18.41266217,
             "remaining_time": 50.46263272,
             "test": [
              0.4416703635
             ]
            },
            {
             "iteration": 401,
             "learn": [
              0.1542031938
             ],
             "passed_time": 18.45840374,
             "remaining_time": 50.41623707,
             "test": [
              0.4415715846
             ]
            },
            {
             "iteration": 402,
             "learn": [
              0.1538845285
             ],
             "passed_time": 18.49973518,
             "remaining_time": 50.35783994,
             "test": [
              0.4410483197
             ]
            },
            {
             "iteration": 403,
             "learn": [
              0.153853665
             ],
             "passed_time": 18.54022859,
             "remaining_time": 50.29725381,
             "test": [
              0.4410217409
             ]
            },
            {
             "iteration": 404,
             "learn": [
              0.1531725271
             ],
             "passed_time": 18.58740677,
             "remaining_time": 50.25484053,
             "test": [
              0.4406662608
             ]
            },
            {
             "iteration": 405,
             "learn": [
              0.1526686545
             ],
             "passed_time": 18.63320098,
             "remaining_time": 50.20867456,
             "test": [
              0.4402957079
             ]
            },
            {
             "iteration": 406,
             "learn": [
              0.1517562667
             ],
             "passed_time": 18.68224575,
             "remaining_time": 50.17123982,
             "test": [
              0.4389883522
             ]
            },
            {
             "iteration": 407,
             "learn": [
              0.1516283429
             ],
             "passed_time": 18.72314969,
             "remaining_time": 50.11195947,
             "test": [
              0.4388487591
             ]
            },
            {
             "iteration": 408,
             "learn": [
              0.15157223
             ],
             "passed_time": 18.76361508,
             "remaining_time": 50.05159916,
             "test": [
              0.4387702942
             ]
            },
            {
             "iteration": 409,
             "learn": [
              0.1507950694
             ],
             "passed_time": 18.80909114,
             "remaining_time": 50.00465694,
             "test": [
              0.4380665601
             ]
            },
            {
             "iteration": 410,
             "learn": [
              0.1501112708
             ],
             "passed_time": 18.85552803,
             "remaining_time": 49.9602677,
             "test": [
              0.4370688462
             ]
            },
            {
             "iteration": 411,
             "learn": [
              0.1497668239
             ],
             "passed_time": 18.8985917,
             "remaining_time": 49.90696059,
             "test": [
              0.4365594755
             ]
            },
            {
             "iteration": 412,
             "learn": [
              0.1496785837
             ],
             "passed_time": 18.93946561,
             "remaining_time": 49.84793974,
             "test": [
              0.4364307062
             ]
            },
            {
             "iteration": 413,
             "learn": [
              0.1490028734
             ],
             "passed_time": 18.98533574,
             "remaining_time": 49.8021126,
             "test": [
              0.4355295073
             ]
            },
            {
             "iteration": 414,
             "learn": [
              0.1489180255
             ],
             "passed_time": 19.02675329,
             "remaining_time": 49.74464415,
             "test": [
              0.435430077
             ]
            },
            {
             "iteration": 415,
             "learn": [
              0.1488560192
             ],
             "passed_time": 19.06731733,
             "remaining_time": 49.68502882,
             "test": [
              0.435313217
             ]
            },
            {
             "iteration": 416,
             "learn": [
              0.1482110793
             ],
             "passed_time": 19.11400779,
             "remaining_time": 49.64141592,
             "test": [
              0.4347082309
             ]
            },
            {
             "iteration": 417,
             "learn": [
              0.1477471429
             ],
             "passed_time": 19.15983665,
             "remaining_time": 49.59555803,
             "test": [
              0.4340041556
             ]
            },
            {
             "iteration": 418,
             "learn": [
              0.1476818906
             ],
             "passed_time": 19.20108699,
             "remaining_time": 49.53788791,
             "test": [
              0.4339210076
             ]
            },
            {
             "iteration": 419,
             "learn": [
              0.147647249
             ],
             "passed_time": 19.24177271,
             "remaining_time": 49.47884411,
             "test": [
              0.4338288346
             ]
            },
            {
             "iteration": 420,
             "learn": [
              0.1470320152
             ],
             "passed_time": 19.28661423,
             "remaining_time": 49.43053861,
             "test": [
              0.4330741448
             ]
            },
            {
             "iteration": 421,
             "learn": [
              0.1465245507
             ],
             "passed_time": 19.33114566,
             "remaining_time": 49.3814574,
             "test": [
              0.4325557802
             ]
            },
            {
             "iteration": 422,
             "learn": [
              0.1464344081
             ],
             "passed_time": 19.37192253,
             "remaining_time": 49.32283822,
             "test": [
              0.4324508295
             ]
            },
            {
             "iteration": 423,
             "learn": [
              0.146179758
             ],
             "passed_time": 19.4133562,
             "remaining_time": 49.26596998,
             "test": [
              0.432368922
             ]
            },
            {
             "iteration": 424,
             "learn": [
              0.1454742751
             ],
             "passed_time": 19.46052593,
             "remaining_time": 49.22368322,
             "test": [
              0.4315672774
             ]
            },
            {
             "iteration": 425,
             "learn": [
              0.1447434762
             ],
             "passed_time": 19.50837093,
             "remaining_time": 49.18307601,
             "test": [
              0.4306783288
             ]
            },
            {
             "iteration": 426,
             "learn": [
              0.1446850618
             ],
             "passed_time": 19.54924847,
             "remaining_time": 49.12492648,
             "test": [
              0.4305246245
             ]
            },
            {
             "iteration": 427,
             "learn": [
              0.1446598921
             ],
             "passed_time": 19.59061522,
             "remaining_time": 49.06808298,
             "test": [
              0.4304848958
             ]
            },
            {
             "iteration": 428,
             "learn": [
              0.1446259955
             ],
             "passed_time": 19.63194865,
             "remaining_time": 49.01122844,
             "test": [
              0.4303809065
             ]
            },
            {
             "iteration": 429,
             "learn": [
              0.1441861912
             ],
             "passed_time": 19.67466365,
             "remaining_time": 48.95788397,
             "test": [
              0.4296601768
             ]
            },
            {
             "iteration": 430,
             "learn": [
              0.1438468128
             ],
             "passed_time": 19.71705805,
             "remaining_time": 48.90379363,
             "test": [
              0.4290770864
             ]
            },
            {
             "iteration": 431,
             "learn": [
              0.1433827966
             ],
             "passed_time": 19.76305091,
             "remaining_time": 48.85865363,
             "test": [
              0.4284841646
             ]
            },
            {
             "iteration": 432,
             "learn": [
              0.1433264309
             ],
             "passed_time": 19.80406037,
             "remaining_time": 48.80122959,
             "test": [
              0.4284144456
             ]
            },
            {
             "iteration": 433,
             "learn": [
              0.1428823696
             ],
             "passed_time": 19.84999412,
             "remaining_time": 48.75597633,
             "test": [
              0.4278425511
             ]
            },
            {
             "iteration": 434,
             "learn": [
              0.1422117544
             ],
             "passed_time": 19.89652408,
             "remaining_time": 48.71217965,
             "test": [
              0.4272064581
             ]
            },
            {
             "iteration": 435,
             "learn": [
              0.1421940212
             ],
             "passed_time": 19.93747767,
             "remaining_time": 48.65476203,
             "test": [
              0.4271891214
             ]
            },
            {
             "iteration": 436,
             "learn": [
              0.1421697695
             ],
             "passed_time": 19.97869084,
             "remaining_time": 48.59805118,
             "test": [
              0.4271220386
             ]
            },
            {
             "iteration": 437,
             "learn": [
              0.1414889375
             ],
             "passed_time": 20.0269265,
             "remaining_time": 48.55843822,
             "test": [
              0.4260049215
             ]
            },
            {
             "iteration": 438,
             "learn": [
              0.1411411249
             ],
             "passed_time": 20.07089475,
             "remaining_time": 48.50847228,
             "test": [
              0.4254678866
             ]
            },
            {
             "iteration": 439,
             "learn": [
              0.1405783456
             ],
             "passed_time": 20.11743696,
             "remaining_time": 48.46473449,
             "test": [
              0.4250031448
             ]
            },
            {
             "iteration": 440,
             "learn": [
              0.1398885073
             ],
             "passed_time": 20.1659401,
             "remaining_time": 48.4256929,
             "test": [
              0.4243789611
             ]
            },
            {
             "iteration": 441,
             "learn": [
              0.139358454
             ],
             "passed_time": 20.21222461,
             "remaining_time": 48.38129782,
             "test": [
              0.4239379759
             ]
            },
            {
             "iteration": 442,
             "learn": [
              0.1387803095
             ],
             "passed_time": 20.25847459,
             "remaining_time": 48.33681183,
             "test": [
              0.4230112215
             ]
            },
            {
             "iteration": 443,
             "learn": [
              0.1387217621
             ],
             "passed_time": 20.29940268,
             "remaining_time": 48.27966042,
             "test": [
              0.4229114501
             ]
            },
            {
             "iteration": 444,
             "learn": [
              0.1383346385
             ],
             "passed_time": 20.34367364,
             "remaining_time": 48.23050717,
             "test": [
              0.4227165284
             ]
            },
            {
             "iteration": 445,
             "learn": [
              0.1383028837
             ],
             "passed_time": 20.38557497,
             "remaining_time": 48.17577582,
             "test": [
              0.4226477708
             ]
            },
            {
             "iteration": 446,
             "learn": [
              0.1379752654
             ],
             "passed_time": 20.42795554,
             "remaining_time": 48.12223085,
             "test": [
              0.4225577378
             ]
            },
            {
             "iteration": 447,
             "learn": [
              0.1372329193
             ],
             "passed_time": 20.47244412,
             "remaining_time": 48.07368574,
             "test": [
              0.4217193728
             ]
            },
            {
             "iteration": 448,
             "learn": [
              0.1371940872
             ],
             "passed_time": 20.5138673,
             "remaining_time": 48.01798338,
             "test": [
              0.421643451
             ]
            },
            {
             "iteration": 449,
             "learn": [
              0.1365204922
             ],
             "passed_time": 20.56357503,
             "remaining_time": 47.98167506,
             "test": [
              0.4211811283
             ]
            },
            {
             "iteration": 450,
             "learn": [
              0.1359238961
             ],
             "passed_time": 20.61022976,
             "remaining_time": 47.93820626,
             "test": [
              0.4203237828
             ]
            },
            {
             "iteration": 451,
             "learn": [
              0.1358901991
             ],
             "passed_time": 20.65144511,
             "remaining_time": 47.88211168,
             "test": [
              0.4202669345
             ]
            },
            {
             "iteration": 452,
             "learn": [
              0.1358484669
             ],
             "passed_time": 20.6923397,
             "remaining_time": 47.82534143,
             "test": [
              0.4201998207
             ]
            },
            {
             "iteration": 453,
             "learn": [
              0.1351115618
             ],
             "passed_time": 20.74115259,
             "remaining_time": 47.78688459,
             "test": [
              0.4197098647
             ]
            },
            {
             "iteration": 454,
             "learn": [
              0.1350754835
             ],
             "passed_time": 20.78302242,
             "remaining_time": 47.73243611,
             "test": [
              0.4196831308
             ]
            },
            {
             "iteration": 455,
             "learn": [
              0.1350335784
             ],
             "passed_time": 20.82351327,
             "remaining_time": 47.67488565,
             "test": [
              0.4196302833
             ]
            },
            {
             "iteration": 456,
             "learn": [
              0.1347269792
             ],
             "passed_time": 20.86526312,
             "remaining_time": 47.62028323,
             "test": [
              0.4194599555
             ]
            },
            {
             "iteration": 457,
             "learn": [
              0.1343064645
             ],
             "passed_time": 20.90812241,
             "remaining_time": 47.56826102,
             "test": [
              0.4189739382
             ]
            },
            {
             "iteration": 458,
             "learn": [
              0.1337105868
             ],
             "passed_time": 20.95645599,
             "remaining_time": 47.52869431,
             "test": [
              0.4189386755
             ]
            },
            {
             "iteration": 459,
             "learn": [
              0.1331996103
             ],
             "passed_time": 21.00190493,
             "remaining_time": 47.48256767,
             "test": [
              0.4187664559
             ]
            },
            {
             "iteration": 460,
             "learn": [
              0.1329108374
             ],
             "passed_time": 21.04350076,
             "remaining_time": 47.42775984,
             "test": [
              0.4180841834
             ]
            },
            {
             "iteration": 461,
             "learn": [
              0.1326259357
             ],
             "passed_time": 21.08705938,
             "remaining_time": 47.37741913,
             "test": [
              0.4176732505
             ]
            },
            {
             "iteration": 462,
             "learn": [
              0.132584004
             ],
             "passed_time": 21.12886295,
             "remaining_time": 47.32317684,
             "test": [
              0.4175818839
             ]
            },
            {
             "iteration": 463,
             "learn": [
              0.1325084018
             ],
             "passed_time": 21.16942891,
             "remaining_time": 47.26622489,
             "test": [
              0.4174962858
             ]
            },
            {
             "iteration": 464,
             "learn": [
              0.1319594978
             ],
             "passed_time": 21.2157965,
             "remaining_time": 47.22225672,
             "test": [
              0.4167654766
             ]
            },
            {
             "iteration": 465,
             "learn": [
              0.1319108878
             ],
             "passed_time": 21.25680069,
             "remaining_time": 47.16637749,
             "test": [
              0.4167184597
             ]
            },
            {
             "iteration": 466,
             "learn": [
              0.1317898552
             ],
             "passed_time": 21.29768943,
             "remaining_time": 47.11030659,
             "test": [
              0.4165147611
             ]
            },
            {
             "iteration": 467,
             "learn": [
              0.1314424949
             ],
             "passed_time": 21.34312359,
             "remaining_time": 47.06432381,
             "test": [
              0.4162092441
             ]
            },
            {
             "iteration": 468,
             "learn": [
              0.131392528
             ],
             "passed_time": 21.38450077,
             "remaining_time": 47.00942494,
             "test": [
              0.4160905233
             ]
            },
            {
             "iteration": 469,
             "learn": [
              0.1313673716
             ],
             "passed_time": 21.42455742,
             "remaining_time": 46.95168966,
             "test": [
              0.4160722562
             ]
            },
            {
             "iteration": 470,
             "learn": [
              0.1313401266
             ],
             "passed_time": 21.46501558,
             "remaining_time": 46.89490664,
             "test": [
              0.4159855416
             ]
            },
            {
             "iteration": 471,
             "learn": [
              0.130930055
             ],
             "passed_time": 21.51088505,
             "remaining_time": 46.84997845,
             "test": [
              0.4157156595
             ]
            },
            {
             "iteration": 472,
             "learn": [
              0.1308448878
             ],
             "passed_time": 21.55265656,
             "remaining_time": 46.7961486,
             "test": [
              0.4154449401
             ]
            },
            {
             "iteration": 473,
             "learn": [
              0.1302773593
             ],
             "passed_time": 21.60245918,
             "remaining_time": 46.75975342,
             "test": [
              0.4143170613
             ]
            },
            {
             "iteration": 474,
             "learn": [
              0.1295982301
             ],
             "passed_time": 21.65235758,
             "remaining_time": 46.72350845,
             "test": [
              0.4135896636
             ]
            },
            {
             "iteration": 475,
             "learn": [
              0.1288310602
             ],
             "passed_time": 21.7021186,
             "remaining_time": 46.6869106,
             "test": [
              0.4126931788
             ]
            },
            {
             "iteration": 476,
             "learn": [
              0.1280875036
             ],
             "passed_time": 21.75222058,
             "remaining_time": 46.65098879,
             "test": [
              0.4114344837
             ]
            },
            {
             "iteration": 477,
             "learn": [
              0.1280498555
             ],
             "passed_time": 21.79328273,
             "remaining_time": 46.59567981,
             "test": [
              0.4113861952
             ]
            },
            {
             "iteration": 478,
             "learn": [
              0.1279926516
             ],
             "passed_time": 21.83381595,
             "remaining_time": 46.53930289,
             "test": [
              0.411273305
             ]
            },
            {
             "iteration": 479,
             "learn": [
              0.1276736804
             ],
             "passed_time": 21.87529799,
             "remaining_time": 46.48500822,
             "test": [
              0.4107028372
             ]
            },
            {
             "iteration": 480,
             "learn": [
              0.1270331838
             ],
             "passed_time": 21.9219721,
             "remaining_time": 46.44176626,
             "test": [
              0.4099466587
             ]
            },
            {
             "iteration": 481,
             "learn": [
              0.1265711764
             ],
             "passed_time": 21.97059796,
             "remaining_time": 46.4026322,
             "test": [
              0.4092165939
             ]
            },
            {
             "iteration": 482,
             "learn": [
              0.126534832
             ],
             "passed_time": 22.01168648,
             "remaining_time": 46.34758829,
             "test": [
              0.4092196023
             ]
            },
            {
             "iteration": 483,
             "learn": [
              0.1264365877
             ],
             "passed_time": 22.05286928,
             "remaining_time": 46.29279999,
             "test": [
              0.409147061
             ]
            },
            {
             "iteration": 484,
             "learn": [
              0.1264139057
             ],
             "passed_time": 22.09311739,
             "remaining_time": 46.23611166,
             "test": [
              0.4091233664
             ]
            },
            {
             "iteration": 485,
             "learn": [
              0.1261397531
             ],
             "passed_time": 22.13634069,
             "remaining_time": 46.18569848,
             "test": [
              0.4089370976
             ]
            },
            {
             "iteration": 486,
             "learn": [
              0.1260038208
             ],
             "passed_time": 22.17846101,
             "remaining_time": 46.13302053,
             "test": [
              0.4087908055
             ]
            },
            {
             "iteration": 487,
             "learn": [
              0.1255572318
             ],
             "passed_time": 22.22580572,
             "remaining_time": 46.09122006,
             "test": [
              0.4085862074
             ]
            },
            {
             "iteration": 488,
             "learn": [
              0.1254928975
             ],
             "passed_time": 22.2671122,
             "remaining_time": 46.03691296,
             "test": [
              0.4084765116
             ]
            },
            {
             "iteration": 489,
             "learn": [
              0.1250214049
             ],
             "passed_time": 22.31403298,
             "remaining_time": 45.99423124,
             "test": [
              0.4083973644
             ]
            },
            {
             "iteration": 490,
             "learn": [
              0.1249755487
             ],
             "passed_time": 22.35624336,
             "remaining_time": 45.94185243,
             "test": [
              0.4084664322
             ]
            },
            {
             "iteration": 491,
             "learn": [
              0.1249407475
             ],
             "passed_time": 22.39744397,
             "remaining_time": 45.88744619,
             "test": [
              0.4084414971
             ]
            },
            {
             "iteration": 492,
             "learn": [
              0.1248999066
             ],
             "passed_time": 22.43811974,
             "remaining_time": 45.83202146,
             "test": [
              0.408383005
             ]
            },
            {
             "iteration": 493,
             "learn": [
              0.1243066763
             ],
             "passed_time": 22.4882639,
             "remaining_time": 45.79593823,
             "test": [
              0.4077885946
             ]
            },
            {
             "iteration": 494,
             "learn": [
              0.123753901
             ],
             "passed_time": 22.53776586,
             "remaining_time": 45.75849431,
             "test": [
              0.4071951765
             ]
            },
            {
             "iteration": 495,
             "learn": [
              0.1237183548
             ],
             "passed_time": 22.57893825,
             "remaining_time": 45.70414113,
             "test": [
              0.4071569675
             ]
            },
            {
             "iteration": 496,
             "learn": [
              0.123494475
             ],
             "passed_time": 22.62097908,
             "remaining_time": 45.6515936,
             "test": [
              0.4069079888
             ]
            },
            {
             "iteration": 497,
             "learn": [
              0.1232566534
             ],
             "passed_time": 22.66360953,
             "remaining_time": 45.60027459,
             "test": [
              0.4065937259
             ]
            },
            {
             "iteration": 498,
             "learn": [
              0.1225790009
             ],
             "passed_time": 22.71338567,
             "remaining_time": 45.56332476,
             "test": [
              0.406043138
             ]
            },
            {
             "iteration": 499,
             "learn": [
              0.122478402
             ],
             "passed_time": 22.75477543,
             "remaining_time": 45.50955086,
             "test": [
              0.405903979
             ]
            },
            {
             "iteration": 500,
             "learn": [
              0.1224503854
             ],
             "passed_time": 22.7951031,
             "remaining_time": 45.45370857,
             "test": [
              0.4058360278
             ]
            },
            {
             "iteration": 501,
             "learn": [
              0.1220483223
             ],
             "passed_time": 22.84101378,
             "remaining_time": 45.40902739,
             "test": [
              0.4053811484
             ]
            },
            {
             "iteration": 502,
             "learn": [
              0.1213692463
             ],
             "passed_time": 22.88980264,
             "remaining_time": 45.37004619,
             "test": [
              0.4046203799
             ]
            },
            {
             "iteration": 503,
             "learn": [
              0.1208647085
             ],
             "passed_time": 22.9383838,
             "remaining_time": 45.3306156,
             "test": [
              0.4042218216
             ]
            },
            {
             "iteration": 504,
             "learn": [
              0.1207922991
             ],
             "passed_time": 22.97946854,
             "remaining_time": 45.27637862,
             "test": [
              0.4040343122
             ]
            },
            {
             "iteration": 505,
             "learn": [
              0.120768646
             ],
             "passed_time": 23.02139918,
             "remaining_time": 45.22385531,
             "test": [
              0.4040281404
             ]
            },
            {
             "iteration": 506,
             "learn": [
              0.1207448998
             ],
             "passed_time": 23.06258533,
             "remaining_time": 45.16991565,
             "test": [
              0.4039932499
             ]
            },
            {
             "iteration": 507,
             "learn": [
              0.1203885598
             ],
             "passed_time": 23.1076657,
             "remaining_time": 45.12363066,
             "test": [
              0.4033883878
             ]
            },
            {
             "iteration": 508,
             "learn": [
              0.119740161
             ],
             "passed_time": 23.15736207,
             "remaining_time": 45.08633755,
             "test": [
              0.4024014357
             ]
            },
            {
             "iteration": 509,
             "learn": [
              0.1197229334
             ],
             "passed_time": 23.19831129,
             "remaining_time": 45.03201604,
             "test": [
              0.4023816489
             ]
            },
            {
             "iteration": 510,
             "learn": [
              0.1192640389
             ],
             "passed_time": 23.24670644,
             "remaining_time": 44.99215786,
             "test": [
              0.4017107584
             ]
            },
            {
             "iteration": 511,
             "learn": [
              0.1189656079
             ],
             "passed_time": 23.28935095,
             "remaining_time": 44.94116941,
             "test": [
              0.4014543053
             ]
            },
            {
             "iteration": 512,
             "learn": [
              0.1184304727
             ],
             "passed_time": 23.33881288,
             "remaining_time": 44.90333005,
             "test": [
              0.4007393442
             ]
            },
            {
             "iteration": 513,
             "learn": [
              0.1183760626
             ],
             "passed_time": 23.38082806,
             "remaining_time": 44.85116044,
             "test": [
              0.4006960799
             ]
            },
            {
             "iteration": 514,
             "learn": [
              0.1183160784
             ],
             "passed_time": 23.42236442,
             "remaining_time": 44.79811447,
             "test": [
              0.4005386539
             ]
            },
            {
             "iteration": 515,
             "learn": [
              0.1182950327
             ],
             "passed_time": 23.46346601,
             "remaining_time": 44.74428401,
             "test": [
              0.4004949864
             ]
            },
            {
             "iteration": 516,
             "learn": [
              0.1182668964
             ],
             "passed_time": 23.50394975,
             "remaining_time": 44.68932805,
             "test": [
              0.4004314392
             ]
            },
            {
             "iteration": 517,
             "learn": [
              0.1180071511
             ],
             "passed_time": 23.55216503,
             "remaining_time": 44.64908506,
             "test": [
              0.3999535165
             ]
            },
            {
             "iteration": 518,
             "learn": [
              0.1177121389
             ],
             "passed_time": 23.59650356,
             "remaining_time": 44.6014836,
             "test": [
              0.3996603431
             ]
            },
            {
             "iteration": 519,
             "learn": [
              0.1176351665
             ],
             "passed_time": 23.64077097,
             "remaining_time": 44.55376067,
             "test": [
              0.3995588349
             ]
            },
            {
             "iteration": 520,
             "learn": [
              0.1172635545
             ],
             "passed_time": 23.68815142,
             "remaining_time": 44.51190066,
             "test": [
              0.3992876192
             ]
            },
            {
             "iteration": 521,
             "learn": [
              0.1170212896
             ],
             "passed_time": 23.73468322,
             "remaining_time": 44.46842948,
             "test": [
              0.3989170974
             ]
            },
            {
             "iteration": 522,
             "learn": [
              0.1169607334
             ],
             "passed_time": 23.77581341,
             "remaining_time": 44.41485603,
             "test": [
              0.3987819703
             ]
            },
            {
             "iteration": 523,
             "learn": [
              0.1169399671
             ],
             "passed_time": 23.81701045,
             "remaining_time": 44.36145458,
             "test": [
              0.3987806367
             ]
            },
            {
             "iteration": 524,
             "learn": [
              0.1165843455
             ],
             "passed_time": 23.86335095,
             "remaining_time": 44.31765176,
             "test": [
              0.3986273975
             ]
            },
            {
             "iteration": 525,
             "learn": [
              0.1160911287
             ],
             "passed_time": 23.91166002,
             "remaining_time": 44.27748453,
             "test": [
              0.3979927001
             ]
            },
            {
             "iteration": 526,
             "learn": [
              0.1159195572
             ],
             "passed_time": 23.9536811,
             "remaining_time": 44.22567687,
             "test": [
              0.3978520215
             ]
            },
            {
             "iteration": 527,
             "learn": [
              0.1154645872
             ],
             "passed_time": 24.0023397,
             "remaining_time": 44.18612536,
             "test": [
              0.397601492
             ]
            },
            {
             "iteration": 528,
             "learn": [
              0.1152172139
             ],
             "passed_time": 24.0443081,
             "remaining_time": 44.13425929,
             "test": [
              0.397554103
             ]
            },
            {
             "iteration": 529,
             "learn": [
              0.1151842485
             ],
             "passed_time": 24.08563458,
             "remaining_time": 44.08125574,
             "test": [
              0.3975193055
             ]
            },
            {
             "iteration": 530,
             "learn": [
              0.1151462811
             ],
             "passed_time": 24.12661186,
             "remaining_time": 44.02765893,
             "test": [
              0.3974488731
             ]
            },
            {
             "iteration": 531,
             "learn": [
              0.1150711711
             ],
             "passed_time": 24.16788893,
             "remaining_time": 43.97465504,
             "test": [
              0.3973892956
             ]
            },
            {
             "iteration": 532,
             "learn": [
              0.1148071821
             ],
             "passed_time": 24.21372553,
             "remaining_time": 43.92996732,
             "test": [
              0.3970085082
             ]
            },
            {
             "iteration": 533,
             "learn": [
              0.114514232
             ],
             "passed_time": 24.257991,
             "remaining_time": 43.88243315,
             "test": [
              0.3966573079
             ]
            },
            {
             "iteration": 534,
             "learn": [
              0.1144661941
             ],
             "passed_time": 24.30077,
             "remaining_time": 43.83223001,
             "test": [
              0.3965782538
             ]
            },
            {
             "iteration": 535,
             "learn": [
              0.1144536491
             ],
             "passed_time": 24.34332715,
             "remaining_time": 43.78165555,
             "test": [
              0.3965776025
             ]
            },
            {
             "iteration": 536,
             "learn": [
              0.113962694
             ],
             "passed_time": 24.39234654,
             "remaining_time": 43.74269967,
             "test": [
              0.3961818044
             ]
            },
            {
             "iteration": 537,
             "learn": [
              0.1139317507
             ],
             "passed_time": 24.43424181,
             "remaining_time": 43.6909677,
             "test": [
              0.3961515659
             ]
            },
            {
             "iteration": 538,
             "learn": [
              0.1133824343
             ],
             "passed_time": 24.48112153,
             "remaining_time": 43.64815916,
             "test": [
              0.3959680573
             ]
            },
            {
             "iteration": 539,
             "learn": [
              0.1133655791
             ],
             "passed_time": 24.52254689,
             "remaining_time": 43.59563891,
             "test": [
              0.3959095032
             ]
            },
            {
             "iteration": 540,
             "learn": [
              0.1133391988
             ],
             "passed_time": 24.56360672,
             "remaining_time": 43.54251174,
             "test": [
              0.3958000555
             ]
            },
            {
             "iteration": 541,
             "learn": [
              0.1132928504
             ],
             "passed_time": 24.60422918,
             "remaining_time": 43.48865601,
             "test": [
              0.3957335619
             ]
            },
            {
             "iteration": 542,
             "learn": [
              0.1127396894
             ],
             "passed_time": 24.65628012,
             "remaining_time": 43.45499093,
             "test": [
              0.3953850289
             ]
            },
            {
             "iteration": 543,
             "learn": [
              0.1123788662
             ],
             "passed_time": 24.70377007,
             "remaining_time": 43.41324299,
             "test": [
              0.3950489944
             ]
            },
            {
             "iteration": 544,
             "learn": [
              0.1123652171
             ],
             "passed_time": 24.74472846,
             "remaining_time": 43.36002876,
             "test": [
              0.3950329912
             ]
            },
            {
             "iteration": 545,
             "learn": [
              0.1119435983
             ],
             "passed_time": 24.7930899,
             "remaining_time": 43.31979444,
             "test": [
              0.394223438
             ]
            },
            {
             "iteration": 546,
             "learn": [
              0.111926517
             ],
             "passed_time": 24.83353593,
             "remaining_time": 43.26573993,
             "test": [
              0.3941822207
             ]
            },
            {
             "iteration": 547,
             "learn": [
              0.1119106861
             ],
             "passed_time": 24.87451064,
             "remaining_time": 43.21265352,
             "test": [
              0.3941668379
             ]
            },
            {
             "iteration": 548,
             "learn": [
              0.111452091
             ],
             "passed_time": 24.91914253,
             "remaining_time": 43.16594635,
             "test": [
              0.3934648715
             ]
            },
            {
             "iteration": 549,
             "learn": [
              0.11143046
             ],
             "passed_time": 24.96059098,
             "remaining_time": 43.11374806,
             "test": [
              0.3934381066
             ]
            },
            {
             "iteration": 550,
             "learn": [
              0.1114118754
             ],
             "passed_time": 25.00152288,
             "remaining_time": 43.06069912,
             "test": [
              0.3934161799
             ]
            },
            {
             "iteration": 551,
             "learn": [
              0.1110613157
             ],
             "passed_time": 25.04683909,
             "remaining_time": 43.01522365,
             "test": [
              0.393000595
             ]
            },
            {
             "iteration": 552,
             "learn": [
              0.1110212131
             ],
             "passed_time": 25.08769704,
             "remaining_time": 42.9621141,
             "test": [
              0.392906375
             ]
            },
            {
             "iteration": 553,
             "learn": [
              0.1105139682
             ],
             "passed_time": 25.13601668,
             "remaining_time": 42.92179022,
             "test": [
              0.3922248158
             ]
            },
            {
             "iteration": 554,
             "learn": [
              0.110489896
             ],
             "passed_time": 25.17737976,
             "remaining_time": 42.86959257,
             "test": [
              0.3922788729
             ]
            },
            {
             "iteration": 555,
             "learn": [
              0.1099279149
             ],
             "passed_time": 25.22642063,
             "remaining_time": 42.83046955,
             "test": [
              0.3915221672
             ]
            },
            {
             "iteration": 556,
             "learn": [
              0.1095119234
             ],
             "passed_time": 25.27286039,
             "remaining_time": 42.78690727,
             "test": [
              0.3905234298
             ]
            },
            {
             "iteration": 557,
             "learn": [
              0.1094610585
             ],
             "passed_time": 25.31374,
             "remaining_time": 42.73394818,
             "test": [
              0.3904974713
             ]
            },
            {
             "iteration": 558,
             "learn": [
              0.1090376437
             ],
             "passed_time": 25.36264348,
             "remaining_time": 42.69453938,
             "test": [
              0.3899827663
             ]
            },
            {
             "iteration": 559,
             "learn": [
              0.1086401702
             ],
             "passed_time": 25.41074618,
             "remaining_time": 42.65375252,
             "test": [
              0.3892129417
             ]
            },
            {
             "iteration": 560,
             "learn": [
              0.1081794732
             ],
             "passed_time": 25.45734253,
             "remaining_time": 42.61041824,
             "test": [
              0.3881698857
             ]
            },
            {
             "iteration": 561,
             "learn": [
              0.1079465805
             ],
             "passed_time": 25.50131609,
             "remaining_time": 42.56269483,
             "test": [
              0.387777406
             ]
            },
            {
             "iteration": 562,
             "learn": [
              0.1075772433
             ],
             "passed_time": 25.54532038,
             "remaining_time": 42.51503586,
             "test": [
              0.3872729666
             ]
            },
            {
             "iteration": 563,
             "learn": [
              0.1075632749
             ],
             "passed_time": 25.58579058,
             "remaining_time": 42.46152478,
             "test": [
              0.387273959
             ]
            },
            {
             "iteration": 564,
             "learn": [
              0.1074487009
             ],
             "passed_time": 25.62813005,
             "remaining_time": 42.41115327,
             "test": [
              0.3871125012
             ]
            },
            {
             "iteration": 565,
             "learn": [
              0.1074369209
             ],
             "passed_time": 25.66860974,
             "remaining_time": 42.35774116,
             "test": [
              0.3870915669
             ]
            },
            {
             "iteration": 566,
             "learn": [
              0.1074078401
             ],
             "passed_time": 25.70910292,
             "remaining_time": 42.30439687,
             "test": [
              0.3870508458
             ]
            },
            {
             "iteration": 567,
             "learn": [
              0.107383728
             ],
             "passed_time": 25.74955744,
             "remaining_time": 42.25103439,
             "test": [
              0.3870038288
             ]
            },
            {
             "iteration": 568,
             "learn": [
              0.1069568478
             ],
             "passed_time": 25.79719967,
             "remaining_time": 42.20947784,
             "test": [
              0.3860685767
             ]
            },
            {
             "iteration": 569,
             "learn": [
              0.1065157663
             ],
             "passed_time": 25.84393619,
             "remaining_time": 42.1664222,
             "test": [
              0.3857674327
             ]
            },
            {
             "iteration": 570,
             "learn": [
              0.1064955188
             ],
             "passed_time": 25.8842081,
             "remaining_time": 42.11283594,
             "test": [
              0.3857192993
             ]
            },
            {
             "iteration": 571,
             "learn": [
              0.1064666376
             ],
             "passed_time": 25.92543911,
             "remaining_time": 42.06085227,
             "test": [
              0.3856906736
             ]
            },
            {
             "iteration": 572,
             "learn": [
              0.1060437483
             ],
             "passed_time": 25.97168541,
             "remaining_time": 42.01701986,
             "test": [
              0.385080291
             ]
            },
            {
             "iteration": 573,
             "learn": [
              0.1057960424
             ],
             "passed_time": 26.01781459,
             "remaining_time": 41.97299009,
             "test": [
              0.3847461483
             ]
            },
            {
             "iteration": 574,
             "learn": [
              0.1057632633
             ],
             "passed_time": 26.0584943,
             "remaining_time": 41.92018648,
             "test": [
              0.3846887728
             ]
            },
            {
             "iteration": 575,
             "learn": [
              0.1057331115
             ],
             "passed_time": 26.09973984,
             "remaining_time": 41.86833266,
             "test": [
              0.3846455086
             ]
            },
            {
             "iteration": 576,
             "learn": [
              0.1057162231
             ],
             "passed_time": 26.14086779,
             "remaining_time": 41.8163275,
             "test": [
              0.3846139055
             ]
            },
            {
             "iteration": 577,
             "learn": [
              0.1056681253
             ],
             "passed_time": 26.18210933,
             "remaining_time": 41.76454118,
             "test": [
              0.3845721299
             ]
            },
            {
             "iteration": 578,
             "learn": [
              0.1054302106
             ],
             "passed_time": 26.22561432,
             "remaining_time": 41.71639169,
             "test": [
              0.384374603
             ]
            },
            {
             "iteration": 579,
             "learn": [
              0.1050471844
             ],
             "passed_time": 26.2716143,
             "remaining_time": 41.67221579,
             "test": [
              0.3834872982
             ]
            },
            {
             "iteration": 580,
             "learn": [
              0.1050260389
             ],
             "passed_time": 26.31231584,
             "remaining_time": 41.61965277,
             "test": [
              0.3834511361
             ]
            },
            {
             "iteration": 581,
             "learn": [
              0.1048337941
             ],
             "passed_time": 26.35515578,
             "remaining_time": 41.57050344,
             "test": [
              0.3831772223
             ]
            },
            {
             "iteration": 582,
             "learn": [
              0.1044661398
             ],
             "passed_time": 26.40270886,
             "remaining_time": 41.52878907,
             "test": [
              0.3827178769
             ]
            },
            {
             "iteration": 583,
             "learn": [
              0.104347668
             ],
             "passed_time": 26.44359777,
             "remaining_time": 41.47660198,
             "test": [
              0.3825753685
             ]
            },
            {
             "iteration": 584,
             "learn": [
              0.1038845831
             ],
             "passed_time": 26.48937324,
             "remaining_time": 41.43209661,
             "test": [
              0.3817819425
             ]
            },
            {
             "iteration": 585,
             "learn": [
              0.103701737
             ],
             "passed_time": 26.5313543,
             "remaining_time": 41.38166865,
             "test": [
              0.3818028148
             ]
            },
            {
             "iteration": 586,
             "learn": [
              0.1034747309
             ],
             "passed_time": 26.57453419,
             "remaining_time": 41.3331341,
             "test": [
              0.3813591314
             ]
            },
            {
             "iteration": 587,
             "learn": [
              0.103189031
             ],
             "passed_time": 26.62033326,
             "remaining_time": 41.28868016,
             "test": [
              0.3809409103
             ]
            },
            {
             "iteration": 588,
             "learn": [
              0.1031690629
             ],
             "passed_time": 26.6611582,
             "remaining_time": 41.23652822,
             "test": [
              0.3808942655
             ]
            },
            {
             "iteration": 589,
             "learn": [
              0.102833476
             ],
             "passed_time": 26.7094291,
             "remaining_time": 41.19589911,
             "test": [
              0.3802845963
             ]
            },
            {
             "iteration": 590,
             "learn": [
              0.1025484679
             ],
             "passed_time": 26.75311038,
             "remaining_time": 41.148185,
             "test": [
              0.3798768268
             ]
            },
            {
             "iteration": 591,
             "learn": [
              0.1025156688
             ],
             "passed_time": 26.79471796,
             "remaining_time": 41.09730389,
             "test": [
              0.3798130935
             ]
            },
            {
             "iteration": 592,
             "learn": [
              0.102183421
             ],
             "passed_time": 26.83946181,
             "remaining_time": 41.05125103,
             "test": [
              0.379418753
             ]
            },
            {
             "iteration": 593,
             "learn": [
              0.1020379636
             ],
             "passed_time": 26.88118525,
             "remaining_time": 41.00059568,
             "test": [
              0.3792261573
             ]
            },
            {
             "iteration": 594,
             "learn": [
              0.1015712269
             ],
             "passed_time": 26.92987156,
             "remaining_time": 40.96056094,
             "test": [
              0.3784876568
             ]
            },
            {
             "iteration": 595,
             "learn": [
              0.1013849686
             ],
             "passed_time": 26.97166219,
             "remaining_time": 40.91003795,
             "test": [
              0.3784772051
             ]
            },
            {
             "iteration": 596,
             "learn": [
              0.1013623265
             ],
             "passed_time": 27.01203138,
             "remaining_time": 40.85739419,
             "test": [
              0.3784493237
             ]
            },
            {
             "iteration": 597,
             "learn": [
              0.1010444395
             ],
             "passed_time": 27.05730019,
             "remaining_time": 40.81218189,
             "test": [
              0.3783171429
             ]
            },
            {
             "iteration": 598,
             "learn": [
              0.1007160829
             ],
             "passed_time": 27.10504959,
             "remaining_time": 40.77070064,
             "test": [
              0.3778913544
             ]
            },
            {
             "iteration": 599,
             "learn": [
              0.1005783813
             ],
             "passed_time": 27.14870974,
             "remaining_time": 40.72306461,
             "test": [
              0.3775845349
             ]
            },
            {
             "iteration": 600,
             "learn": [
              0.1002116449
             ],
             "passed_time": 27.19412236,
             "remaining_time": 40.67806323,
             "test": [
              0.3772983396
             ]
            },
            {
             "iteration": 601,
             "learn": [
              0.1001926545
             ],
             "passed_time": 27.23561935,
             "remaining_time": 40.62721956,
             "test": [
              0.3772406849
             ]
            },
            {
             "iteration": 602,
             "learn": [
              0.09987084306
             ],
             "passed_time": 27.28378917,
             "remaining_time": 40.58633314,
             "test": [
              0.3769155363
             ]
            },
            {
             "iteration": 603,
             "learn": [
              0.09971018677
             ],
             "passed_time": 27.32805318,
             "remaining_time": 40.53962856,
             "test": [
              0.3766538108
             ]
            },
            {
             "iteration": 604,
             "learn": [
              0.09968097291
             ],
             "passed_time": 27.3689323,
             "remaining_time": 40.48792465,
             "test": [
              0.3766351095
             ]
            },
            {
             "iteration": 605,
             "learn": [
              0.09966618639
             ],
             "passed_time": 27.40946903,
             "remaining_time": 40.43575134,
             "test": [
              0.3765926826
             ]
            },
            {
             "iteration": 606,
             "learn": [
              0.09965596286
             ],
             "passed_time": 27.44998981,
             "remaining_time": 40.38359292,
             "test": [
              0.3765770517
             ]
            },
            {
             "iteration": 607,
             "learn": [
              0.09923886712
             ],
             "passed_time": 27.49679282,
             "remaining_time": 40.34068947,
             "test": [
              0.3759408656
             ]
            },
            {
             "iteration": 608,
             "learn": [
              0.09922517811
             ],
             "passed_time": 27.53715935,
             "remaining_time": 40.28835629,
             "test": [
              0.3758986558
             ]
            },
            {
             "iteration": 609,
             "learn": [
              0.09921360432
             ],
             "passed_time": 27.57798784,
             "remaining_time": 40.23673636,
             "test": [
              0.3759111854
             ]
            },
            {
             "iteration": 610,
             "learn": [
              0.09885424453
             ],
             "passed_time": 27.62615105,
             "remaining_time": 40.19582371,
             "test": [
              0.3751002366
             ]
            },
            {
             "iteration": 611,
             "learn": [
              0.09883435623
             ],
             "passed_time": 27.66643403,
             "remaining_time": 40.14345331,
             "test": [
              0.3750052103
             ]
            },
            {
             "iteration": 612,
             "learn": [
              0.0987107893
             ],
             "passed_time": 27.7076236,
             "remaining_time": 40.09243415,
             "test": [
              0.374660709
             ]
            },
            {
             "iteration": 613,
             "learn": [
              0.09869477888
             ],
             "passed_time": 27.74880667,
             "remaining_time": 40.04143764,
             "test": [
              0.3746461636
             ]
            },
            {
             "iteration": 614,
             "learn": [
              0.09866602398
             ],
             "passed_time": 27.78961801,
             "remaining_time": 39.98993811,
             "test": [
              0.3746162973
             ]
            },
            {
             "iteration": 615,
             "learn": [
              0.09830129635
             ],
             "passed_time": 27.83458193,
             "remaining_time": 39.94443251,
             "test": [
              0.374114494
             ]
            },
            {
             "iteration": 616,
             "learn": [
              0.09807949183
             ],
             "passed_time": 27.87994903,
             "remaining_time": 39.89950567,
             "test": [
              0.3736938228
             ]
            },
            {
             "iteration": 617,
             "learn": [
              0.09781620122
             ],
             "passed_time": 27.92277121,
             "remaining_time": 39.85094532,
             "test": [
              0.3735769008
             ]
            },
            {
             "iteration": 618,
             "learn": [
              0.09758754554
             ],
             "passed_time": 27.96660551,
             "remaining_time": 39.80384403,
             "test": [
              0.3732950784
             ]
            },
            {
             "iteration": 619,
             "learn": [
              0.0972074527
             ],
             "passed_time": 28.01466438,
             "remaining_time": 39.76274944,
             "test": [
              0.3723887932
             ]
            },
            {
             "iteration": 620,
             "learn": [
              0.09694843908
             ],
             "passed_time": 28.05812453,
             "remaining_time": 39.71512313,
             "test": [
              0.3717720838
             ]
            },
            {
             "iteration": 621,
             "learn": [
              0.09673216869
             ],
             "passed_time": 28.10304051,
             "remaining_time": 39.66956522,
             "test": [
              0.371576945
             ]
            },
            {
             "iteration": 622,
             "learn": [
              0.09636872482
             ],
             "passed_time": 28.14918107,
             "remaining_time": 39.62573323,
             "test": [
              0.3708693652
             ]
            },
            {
             "iteration": 623,
             "learn": [
              0.09613756813
             ],
             "passed_time": 28.19238977,
             "remaining_time": 39.57777794,
             "test": [
              0.3707351064
             ]
            },
            {
             "iteration": 624,
             "learn": [
              0.09584379321
             ],
             "passed_time": 28.23845641,
             "remaining_time": 39.53383898,
             "test": [
              0.3706106791
             ]
            },
            {
             "iteration": 625,
             "learn": [
              0.09546739201
             ],
             "passed_time": 28.2866931,
             "remaining_time": 39.49292295,
             "test": [
              0.3702873912
             ]
            },
            {
             "iteration": 626,
             "learn": [
              0.09544752365
             ],
             "passed_time": 28.3273344,
             "remaining_time": 39.44140818,
             "test": [
              0.3702390717
             ]
            },
            {
             "iteration": 627,
             "learn": [
              0.09499039189
             ],
             "passed_time": 28.37652428,
             "remaining_time": 39.40179805,
             "test": [
              0.3696301158
             ]
            },
            {
             "iteration": 628,
             "learn": [
              0.09497953646
             ],
             "passed_time": 28.41737867,
             "remaining_time": 39.35061498,
             "test": [
              0.3696348609
             ]
            },
            {
             "iteration": 629,
             "learn": [
              0.09467103488
             ],
             "passed_time": 28.46602024,
             "remaining_time": 39.31021842,
             "test": [
              0.3691318171
             ]
            },
            {
             "iteration": 630,
             "learn": [
              0.09439323711
             ],
             "passed_time": 28.51327359,
             "remaining_time": 39.26788392,
             "test": [
              0.3687499132
             ]
            },
            {
             "iteration": 631,
             "learn": [
              0.09404297673
             ],
             "passed_time": 28.56293859,
             "remaining_time": 39.22884604,
             "test": [
              0.3684893973
             ]
            },
            {
             "iteration": 632,
             "learn": [
              0.09376803916
             ],
             "passed_time": 28.60991964,
             "remaining_time": 39.18609847,
             "test": [
              0.3683210854
             ]
            },
            {
             "iteration": 633,
             "learn": [
              0.09343048335
             ],
             "passed_time": 28.65630174,
             "remaining_time": 39.14251941,
             "test": [
              0.3679935796
             ]
            },
            {
             "iteration": 634,
             "learn": [
              0.09296352716
             ],
             "passed_time": 28.70611927,
             "remaining_time": 39.10361129,
             "test": [
              0.3675888806
             ]
            },
            {
             "iteration": 635,
             "learn": [
              0.09265758644
             ],
             "passed_time": 28.75210749,
             "remaining_time": 39.05946678,
             "test": [
              0.3671252863
             ]
            },
            {
             "iteration": 636,
             "learn": [
              0.09263194449
             ],
             "passed_time": 28.79292658,
             "remaining_time": 39.0083134,
             "test": [
              0.3670264143
             ]
            },
            {
             "iteration": 637,
             "learn": [
              0.09259836052
             ],
             "passed_time": 28.83401422,
             "remaining_time": 38.95755526,
             "test": [
              0.3670011691
             ]
            },
            {
             "iteration": 638,
             "learn": [
              0.09259031208
             ],
             "passed_time": 28.87442614,
             "remaining_time": 38.90591691,
             "test": [
              0.367005542
             ]
            },
            {
             "iteration": 639,
             "learn": [
              0.09226789533
             ],
             "passed_time": 28.92150064,
             "remaining_time": 38.86326648,
             "test": [
              0.3665011956
             ]
            },
            {
             "iteration": 640,
             "learn": [
              0.09211670427
             ],
             "passed_time": 28.96382746,
             "remaining_time": 38.81423992,
             "test": [
              0.3661017689
             ]
            },
            {
             "iteration": 641,
             "learn": [
              0.09188142359
             ],
             "passed_time": 29.00910513,
             "remaining_time": 38.76917789,
             "test": [
              0.3657058468
             ]
            },
            {
             "iteration": 642,
             "learn": [
              0.09170528901
             ],
             "passed_time": 29.05147523,
             "remaining_time": 38.72023992,
             "test": [
              0.36534007
             ]
            },
            {
             "iteration": 643,
             "learn": [
              0.09169074859
             ],
             "passed_time": 29.09244414,
             "remaining_time": 38.66945991,
             "test": [
              0.3653351698
             ]
            },
            {
             "iteration": 644,
             "learn": [
              0.09140768941
             ],
             "passed_time": 29.13841281,
             "remaining_time": 38.62533791,
             "test": [
              0.3647795266
             ]
            },
            {
             "iteration": 645,
             "learn": [
              0.09122611381
             ],
             "passed_time": 29.18094009,
             "remaining_time": 38.57666074,
             "test": [
              0.3645210886
             ]
            },
            {
             "iteration": 646,
             "learn": [
              0.09092260093
             ],
             "passed_time": 29.2311044,
             "remaining_time": 38.53807118,
             "test": [
              0.363863441
             ]
            },
            {
             "iteration": 647,
             "learn": [
              0.09067527418
             ],
             "passed_time": 29.27256897,
             "remaining_time": 38.48800735,
             "test": [
              0.3635773077
             ]
            },
            {
             "iteration": 648,
             "learn": [
              0.09038229745
             ],
             "passed_time": 29.32177371,
             "remaining_time": 38.44811931,
             "test": [
              0.3631693212
             ]
            },
            {
             "iteration": 649,
             "learn": [
              0.09014730279
             ],
             "passed_time": 29.36790312,
             "remaining_time": 38.40418101,
             "test": [
              0.362845289
             ]
            },
            {
             "iteration": 650,
             "learn": [
              0.09012728145
             ],
             "passed_time": 29.40915729,
             "remaining_time": 38.35387794,
             "test": [
              0.3628084136
             ]
            },
            {
             "iteration": 651,
             "learn": [
              0.08987700139
             ],
             "passed_time": 29.45339786,
             "remaining_time": 38.30748679,
             "test": [
              0.3623736002
             ]
            },
            {
             "iteration": 652,
             "learn": [
              0.08986430347
             ],
             "passed_time": 29.49397833,
             "remaining_time": 38.25635475,
             "test": [
              0.3623631175
             ]
            },
            {
             "iteration": 653,
             "learn": [
              0.08955600143
             ],
             "passed_time": 29.54234209,
             "remaining_time": 38.21532325,
             "test": [
              0.3617899825
             ]
            },
            {
             "iteration": 654,
             "learn": [
              0.08954102201
             ],
             "passed_time": 29.58293696,
             "remaining_time": 38.16424692,
             "test": [
              0.3617378173
             ]
            },
            {
             "iteration": 655,
             "learn": [
              0.08929416088
             ],
             "passed_time": 29.62980211,
             "remaining_time": 38.12126978,
             "test": [
              0.3615607285
             ]
            },
            {
             "iteration": 656,
             "learn": [
              0.08926849232
             ],
             "passed_time": 29.67053582,
             "remaining_time": 38.07041354,
             "test": [
              0.3615295906
             ]
            },
            {
             "iteration": 657,
             "learn": [
              0.08924934899
             ],
             "passed_time": 29.71238862,
             "remaining_time": 38.02102009,
             "test": [
              0.3614390303
             ]
            },
            {
             "iteration": 658,
             "learn": [
              0.08922452519
             ],
             "passed_time": 29.75351153,
             "remaining_time": 37.97071806,
             "test": [
              0.3614372315
             ]
            },
            {
             "iteration": 659,
             "learn": [
              0.08906383564
             ],
             "passed_time": 29.79584413,
             "remaining_time": 37.92198344,
             "test": [
              0.3610980646
             ]
            },
            {
             "iteration": 660,
             "learn": [
              0.08887212299
             ],
             "passed_time": 29.83876501,
             "remaining_time": 37.8740149,
             "test": [
              0.3607772579
             ]
            },
            {
             "iteration": 661,
             "learn": [
              0.08885202849
             ],
             "passed_time": 29.87941032,
             "remaining_time": 37.82318104,
             "test": [
              0.3607697836
             ]
            },
            {
             "iteration": 662,
             "learn": [
              0.08883444163
             ],
             "passed_time": 29.919887,
             "remaining_time": 37.77216504,
             "test": [
              0.3607368779
             ]
            },
            {
             "iteration": 663,
             "learn": [
              0.08881675501
             ],
             "passed_time": 29.96062462,
             "remaining_time": 37.72150931,
             "test": [
              0.3607061122
             ]
            },
            {
             "iteration": 664,
             "learn": [
              0.08870673741
             ],
             "passed_time": 30.00296206,
             "remaining_time": 37.67289221,
             "test": [
              0.3606781998
             ]
            },
            {
             "iteration": 665,
             "learn": [
              0.08861815794
             ],
             "passed_time": 30.04437926,
             "remaining_time": 37.62314159,
             "test": [
              0.3604232664
             ]
            },
            {
             "iteration": 666,
             "learn": [
              0.08861159281
             ],
             "passed_time": 30.08511244,
             "remaining_time": 37.57256171,
             "test": [
              0.3604108299
             ]
            },
            {
             "iteration": 667,
             "learn": [
              0.08859884832
             ],
             "passed_time": 30.12565196,
             "remaining_time": 37.5217701,
             "test": [
              0.3604104577
             ]
            },
            {
             "iteration": 668,
             "learn": [
              0.08841651444
             ],
             "passed_time": 30.17146408,
             "remaining_time": 37.47755852,
             "test": [
              0.3602048052
             ]
            },
            {
             "iteration": 669,
             "learn": [
              0.08839349323
             ],
             "passed_time": 30.21269219,
             "remaining_time": 37.42766347,
             "test": [
              0.3601720856
             ]
            },
            {
             "iteration": 670,
             "learn": [
              0.08837504832
             ],
             "passed_time": 30.25330486,
             "remaining_time": 37.37703388,
             "test": [
              0.3601404826
             ]
            },
            {
             "iteration": 671,
             "learn": [
              0.08836179166
             ],
             "passed_time": 30.29413294,
             "remaining_time": 37.32669952,
             "test": [
              0.3601453828
             ]
            },
            {
             "iteration": 672,
             "learn": [
              0.08834331349
             ],
             "passed_time": 30.33488262,
             "remaining_time": 37.27629707,
             "test": [
              0.3601461581
             ]
            },
            {
             "iteration": 673,
             "learn": [
              0.08833104793
             ],
             "passed_time": 30.37578231,
             "remaining_time": 37.22610711,
             "test": [
              0.3601194552
             ]
            },
            {
             "iteration": 674,
             "learn": [
              0.08831743874
             ],
             "passed_time": 30.41675209,
             "remaining_time": 37.17603033,
             "test": [
              0.3600937758
             ]
            },
            {
             "iteration": 675,
             "learn": [
              0.0880908251
             ],
             "passed_time": 30.46240313,
             "remaining_time": 37.13168666,
             "test": [
              0.3600094493
             ]
            },
            {
             "iteration": 676,
             "learn": [
              0.08807631129
             ],
             "passed_time": 30.50370487,
             "remaining_time": 37.08205186,
             "test": [
              0.3600002692
             ]
            },
            {
             "iteration": 677,
             "learn": [
              0.0880604339
             ],
             "passed_time": 30.54502881,
             "remaining_time": 37.03246856,
             "test": [
              0.3599622773
             ]
            },
            {
             "iteration": 678,
             "learn": [
              0.08787436182
             ],
             "passed_time": 30.58711404,
             "remaining_time": 36.98383008,
             "test": [
              0.3599012421
             ]
            },
            {
             "iteration": 679,
             "learn": [
              0.0878350109
             ],
             "passed_time": 30.62761624,
             "remaining_time": 36.93330193,
             "test": [
              0.3598554658
             ]
            },
            {
             "iteration": 680,
             "learn": [
              0.08751343891
             ],
             "passed_time": 30.67385321,
             "remaining_time": 36.88970012,
             "test": [
              0.3590447341
             ]
            },
            {
             "iteration": 681,
             "learn": [
              0.08747777964
             ],
             "passed_time": 30.71541588,
             "remaining_time": 36.84048415,
             "test": [
              0.358981683
             ]
            },
            {
             "iteration": 682,
             "learn": [
              0.08746492873
             ],
             "passed_time": 30.75621999,
             "remaining_time": 36.79038321,
             "test": [
              0.3589621443
             ]
            },
            {
             "iteration": 683,
             "learn": [
              0.08730026152
             ],
             "passed_time": 30.80076182,
             "remaining_time": 36.74476849,
             "test": [
              0.3587952901
             ]
            },
            {
             "iteration": 684,
             "learn": [
              0.08706549301
             ],
             "passed_time": 30.84385637,
             "remaining_time": 36.69743495,
             "test": [
              0.3584809342
             ]
            },
            {
             "iteration": 685,
             "learn": [
              0.08705484379
             ],
             "passed_time": 30.88500476,
             "remaining_time": 36.64780448,
             "test": [
              0.358449114
             ]
            },
            {
             "iteration": 686,
             "learn": [
              0.08703921251
             ],
             "passed_time": 30.92553474,
             "remaining_time": 36.59746687,
             "test": [
              0.3584201472
             ]
            },
            {
             "iteration": 687,
             "learn": [
              0.08703546765
             ],
             "passed_time": 30.96616852,
             "remaining_time": 36.54728028,
             "test": [
              0.3584246442
             ]
            },
            {
             "iteration": 688,
             "learn": [
              0.08688266691
             ],
             "passed_time": 31.00901279,
             "remaining_time": 36.49972333,
             "test": [
              0.3580359172
             ]
            },
            {
             "iteration": 689,
             "learn": [
              0.08687181149
             ],
             "passed_time": 31.05026293,
             "remaining_time": 36.45030866,
             "test": [
              0.3580093694
             ]
            },
            {
             "iteration": 690,
             "learn": [
              0.0868631777
             ],
             "passed_time": 31.09142121,
             "remaining_time": 36.40081007,
             "test": [
              0.3579822943
             ]
            },
            {
             "iteration": 691,
             "learn": [
              0.08684488578
             ],
             "passed_time": 31.13206115,
             "remaining_time": 36.35073036,
             "test": [
              0.3579729282
             ]
            },
            {
             "iteration": 692,
             "learn": [
              0.08659414676
             ],
             "passed_time": 31.17931895,
             "remaining_time": 36.3083844,
             "test": [
              0.3575348583
             ]
            },
            {
             "iteration": 693,
             "learn": [
              0.08643073005
             ],
             "passed_time": 31.22400063,
             "remaining_time": 36.26303243,
             "test": [
              0.3574057788
             ]
            },
            {
             "iteration": 694,
             "learn": [
              0.08642198983
             ],
             "passed_time": 31.26438641,
             "remaining_time": 36.21270656,
             "test": [
              0.3573872636
             ]
            },
            {
             "iteration": 695,
             "learn": [
              0.08641489257
             ],
             "passed_time": 31.30503717,
             "remaining_time": 36.16271535,
             "test": [
              0.357358886
             ]
            },
            {
             "iteration": 696,
             "learn": [
              0.08632086543
             ],
             "passed_time": 31.34820372,
             "remaining_time": 36.11564934,
             "test": [
              0.3571935204
             ]
            },
            {
             "iteration": 697,
             "learn": [
              0.08599629356
             ],
             "passed_time": 31.39795481,
             "remaining_time": 36.07616011,
             "test": [
              0.3566943223
             ]
            },
            {
             "iteration": 698,
             "learn": [
              0.08569019986
             ],
             "passed_time": 31.44630573,
             "remaining_time": 36.03503704,
             "test": [
              0.3563347483
             ]
            },
            {
             "iteration": 699,
             "learn": [
              0.08553552337
             ],
             "passed_time": 31.48993714,
             "remaining_time": 35.98849959,
             "test": [
              0.3561468357
             ]
            },
            {
             "iteration": 700,
             "learn": [
              0.08519082373
             ],
             "passed_time": 31.53811681,
             "remaining_time": 35.94715453,
             "test": [
              0.3559418345
             ]
            },
            {
             "iteration": 701,
             "learn": [
              0.08517637644
             ],
             "passed_time": 31.57875033,
             "remaining_time": 35.89721191,
             "test": [
              0.3559143252
             ]
            },
            {
             "iteration": 702,
             "learn": [
              0.08516720387
             ],
             "passed_time": 31.61994999,
             "remaining_time": 35.84793762,
             "test": [
              0.3558909719
             ]
            },
            {
             "iteration": 703,
             "learn": [
              0.0851476814
             ],
             "passed_time": 31.66058805,
             "remaining_time": 35.79805127,
             "test": [
              0.3558888629
             ]
            },
            {
             "iteration": 704,
             "learn": [
              0.08502904332
             ],
             "passed_time": 31.70314165,
             "remaining_time": 35.75035122,
             "test": [
              0.3557965038
             ]
            },
            {
             "iteration": 705,
             "learn": [
              0.08478834157
             ],
             "passed_time": 31.74954576,
             "remaining_time": 35.70699622,
             "test": [
              0.3555594343
             ]
            },
            {
             "iteration": 706,
             "learn": [
              0.08457466531
             ],
             "passed_time": 31.79760011,
             "remaining_time": 35.66548358,
             "test": [
              0.3553853849
             ]
            },
            {
             "iteration": 707,
             "learn": [
              0.08442995958
             ],
             "passed_time": 31.84107218,
             "remaining_time": 35.6188265,
             "test": [
              0.3552949487
             ]
            },
            {
             "iteration": 708,
             "learn": [
              0.08441785365
             ],
             "passed_time": 31.88217595,
             "remaining_time": 35.56953621,
             "test": [
              0.3552711611
             ]
            },
            {
             "iteration": 709,
             "learn": [
              0.08420909958
             ],
             "passed_time": 31.92614224,
             "remaining_time": 35.52345404,
             "test": [
              0.3550988174
             ]
            },
            {
             "iteration": 710,
             "learn": [
              0.08404044806
             ],
             "passed_time": 31.9733478,
             "remaining_time": 35.48097245,
             "test": [
              0.3545892297
             ]
            },
            {
             "iteration": 711,
             "learn": [
              0.08402807607
             ],
             "passed_time": 32.01425054,
             "remaining_time": 35.431502,
             "test": [
              0.3546001775
             ]
            },
            {
             "iteration": 712,
             "learn": [
              0.08401016328
             ],
             "passed_time": 32.05502714,
             "remaining_time": 35.38191635,
             "test": [
              0.354574157
             ]
            },
            {
             "iteration": 713,
             "learn": [
              0.08376358152
             ],
             "passed_time": 32.10183771,
             "remaining_time": 35.33899782,
             "test": [
              0.3540046196
             ]
            },
            {
             "iteration": 714,
             "learn": [
              0.08374181081
             ],
             "passed_time": 32.14286165,
             "remaining_time": 35.28971524,
             "test": [
              0.353915641
             ]
            },
            {
             "iteration": 715,
             "learn": [
              0.08373277127
             ],
             "passed_time": 32.18437286,
             "remaining_time": 35.24098928,
             "test": [
              0.3538516285
             ]
            },
            {
             "iteration": 716,
             "learn": [
              0.08342068447
             ],
             "passed_time": 32.23028238,
             "remaining_time": 35.19708661,
             "test": [
              0.3533002652
             ]
            },
            {
             "iteration": 717,
             "learn": [
              0.08340155444
             ],
             "passed_time": 32.2716393,
             "remaining_time": 35.14821996,
             "test": [
              0.3532829595
             ]
            },
            {
             "iteration": 718,
             "learn": [
              0.08339469664
             ],
             "passed_time": 32.31340777,
             "remaining_time": 35.09982124,
             "test": [
              0.3532553882
             ]
            },
            {
             "iteration": 719,
             "learn": [
              0.08337996998
             ],
             "passed_time": 32.35495686,
             "remaining_time": 35.05120327,
             "test": [
              0.3532340507
             ]
            },
            {
             "iteration": 720,
             "learn": [
              0.08309359164
             ],
             "passed_time": 32.40500295,
             "remaining_time": 35.01178544,
             "test": [
              0.3533860183
             ]
            },
            {
             "iteration": 721,
             "learn": [
              0.08273786364
             ],
             "passed_time": 32.45506334,
             "remaining_time": 34.97235358,
             "test": [
              0.3525911657
             ]
            },
            {
             "iteration": 722,
             "learn": [
              0.08272764011
             ],
             "passed_time": 32.4955398,
             "remaining_time": 34.92259257,
             "test": [
              0.3525793184
             ]
            },
            {
             "iteration": 723,
             "learn": [
              0.08251130986
             ],
             "passed_time": 32.54341471,
             "remaining_time": 34.88078704,
             "test": [
              0.3523354259
             ]
            },
            {
             "iteration": 724,
             "learn": [
              0.08249876493
             ],
             "passed_time": 32.58469991,
             "remaining_time": 34.83192059,
             "test": [
              0.3523309289
             ]
            },
            {
             "iteration": 725,
             "learn": [
              0.08220606757
             ],
             "passed_time": 32.63330238,
             "remaining_time": 34.79087609,
             "test": [
              0.351868234
             ]
            },
            {
             "iteration": 726,
             "learn": [
              0.0820808843
             ],
             "passed_time": 32.67753529,
             "remaining_time": 34.74516475,
             "test": [
              0.351820876
             ]
            },
            {
             "iteration": 727,
             "learn": [
              0.08198428299
             ],
             "passed_time": 32.72015169,
             "remaining_time": 34.69774328,
             "test": [
              0.351661465
             ]
            },
            {
             "iteration": 728,
             "learn": [
              0.08180907299
             ],
             "passed_time": 32.76267995,
             "remaining_time": 34.65024175,
             "test": [
              0.351241073
             ]
            },
            {
             "iteration": 729,
             "learn": [
              0.08179845702
             ],
             "passed_time": 32.80364486,
             "remaining_time": 34.60110485,
             "test": [
              0.3512336917
             ]
            },
            {
             "iteration": 730,
             "learn": [
              0.08153639031
             ],
             "passed_time": 32.85057141,
             "remaining_time": 34.55826186,
             "test": [
              0.3509026504
             ]
            },
            {
             "iteration": 731,
             "learn": [
              0.08152663905
             ],
             "passed_time": 32.89226906,
             "remaining_time": 34.50992164,
             "test": [
              0.3509051935
             ]
            },
            {
             "iteration": 732,
             "learn": [
              0.08151372828
             ],
             "passed_time": 32.93383331,
             "remaining_time": 34.46145996,
             "test": [
              0.3509004174
             ]
            },
            {
             "iteration": 733,
             "learn": [
              0.0814935473
             ],
             "passed_time": 32.97602295,
             "remaining_time": 34.41366972,
             "test": [
              0.3508687213
             ]
            },
            {
             "iteration": 734,
             "learn": [
              0.08123014362
             ],
             "passed_time": 33.02410466,
             "remaining_time": 34.3720273,
             "test": [
              0.3506340709
             ]
            },
            {
             "iteration": 735,
             "learn": [
              0.08122156304
             ],
             "passed_time": 33.06473713,
             "remaining_time": 34.32263474,
             "test": [
              0.3505820918
             ]
            },
            {
             "iteration": 736,
             "learn": [
              0.08098137348
             ],
             "passed_time": 33.10926599,
             "remaining_time": 34.2772998,
             "test": [
              0.3503122717
             ]
            },
            {
             "iteration": 737,
             "learn": [
              0.0808393949
             ],
             "passed_time": 33.15298324,
             "remaining_time": 34.23112903,
             "test": [
              0.3501293524
             ]
            },
            {
             "iteration": 738,
             "learn": [
              0.08062265225
             ],
             "passed_time": 33.19705847,
             "remaining_time": 34.18533355,
             "test": [
              0.3500687824
             ]
            },
            {
             "iteration": 739,
             "learn": [
              0.08049766188
             ],
             "passed_time": 33.23936537,
             "remaining_time": 34.13772659,
             "test": [
              0.3500099182
             ]
            },
            {
             "iteration": 740,
             "learn": [
              0.08037124142
             ],
             "passed_time": 33.2828747,
             "remaining_time": 34.09136558,
             "test": [
              0.3497680106
             ]
            },
            {
             "iteration": 741,
             "learn": [
              0.08020133274
             ],
             "passed_time": 33.32443823,
             "remaining_time": 34.0430245,
             "test": [
              0.3495738332
             ]
            },
            {
             "iteration": 742,
             "learn": [
              0.0801238149
             ],
             "passed_time": 33.36773756,
             "remaining_time": 33.99647017,
             "test": [
              0.3494241296
             ]
            },
            {
             "iteration": 743,
             "learn": [
              0.08006196824
             ],
             "passed_time": 33.40888111,
             "remaining_time": 33.94773403,
             "test": [
              0.3492996092
             ]
            },
            {
             "iteration": 744,
             "learn": [
              0.07973158952
             ],
             "passed_time": 33.45831323,
             "remaining_time": 33.90741811,
             "test": [
              0.348964412
             ]
            },
            {
             "iteration": 745,
             "learn": [
              0.07972293578
             ],
             "passed_time": 33.49920587,
             "remaining_time": 33.85844669,
             "test": [
              0.348939632
             ]
            },
            {
             "iteration": 746,
             "learn": [
              0.07951027721
             ],
             "passed_time": 33.55026882,
             "remaining_time": 33.81974889,
             "test": [
              0.3487470053
             ]
            },
            {
             "iteration": 747,
             "learn": [
              0.0794953377
             ],
             "passed_time": 33.59100769,
             "remaining_time": 33.77063875,
             "test": [
              0.3487060051
             ]
            },
            {
             "iteration": 748,
             "learn": [
              0.07931434744
             ],
             "passed_time": 33.63838999,
             "remaining_time": 33.72821212,
             "test": [
              0.3483587125
             ]
            },
            {
             "iteration": 749,
             "learn": [
              0.07914156527
             ],
             "passed_time": 33.68386333,
             "remaining_time": 33.68386333,
             "test": [
              0.3482764019
             ]
            },
            {
             "iteration": 750,
             "learn": [
              0.07890776125
             ],
             "passed_time": 33.72620315,
             "remaining_time": 33.63638637,
             "test": [
              0.3480125985
             ]
            },
            {
             "iteration": 751,
             "learn": [
              0.07862522754
             ],
             "passed_time": 33.77167516,
             "remaining_time": 33.59203859,
             "test": [
              0.3477054379
             ]
            },
            {
             "iteration": 752,
             "learn": [
              0.07844651213
             ],
             "passed_time": 33.8162717,
             "remaining_time": 33.54681933,
             "test": [
              0.3475098028
             ]
            },
            {
             "iteration": 753,
             "learn": [
              0.07843539064
             ],
             "passed_time": 33.85686095,
             "remaining_time": 33.49763696,
             "test": [
              0.3474875039
             ]
            },
            {
             "iteration": 754,
             "learn": [
              0.07813805711
             ],
             "passed_time": 33.9055454,
             "remaining_time": 33.45646533,
             "test": [
              0.3469709071
             ]
            },
            {
             "iteration": 755,
             "learn": [
              0.07812765399
             ],
             "passed_time": 33.94628953,
             "remaining_time": 33.40745954,
             "test": [
              0.3469854215
             ]
            },
            {
             "iteration": 756,
             "learn": [
              0.07790846355
             ],
             "passed_time": 33.99440771,
             "remaining_time": 33.36571325,
             "test": [
              0.3467449405
             ]
            },
            {
             "iteration": 757,
             "learn": [
              0.07790009583
             ],
             "passed_time": 34.03566223,
             "remaining_time": 33.31723137,
             "test": [
              0.3467404745
             ]
            },
            {
             "iteration": 758,
             "learn": [
              0.07789368368
             ],
             "passed_time": 34.07634482,
             "remaining_time": 33.26821016,
             "test": [
              0.3467203466
             ]
            },
            {
             "iteration": 759,
             "learn": [
              0.07786945187
             ],
             "passed_time": 34.11709212,
             "remaining_time": 33.21927391,
             "test": [
              0.3466553727
             ]
            },
            {
             "iteration": 760,
             "learn": [
              0.07751135589
             ],
             "passed_time": 34.1648877,
             "remaining_time": 33.17720369,
             "test": [
              0.3460770584
             ]
            },
            {
             "iteration": 761,
             "learn": [
              0.07750070667
             ],
             "passed_time": 34.20640018,
             "remaining_time": 33.12903324,
             "test": [
              0.3460620167
             ]
            },
            {
             "iteration": 762,
             "learn": [
              0.07733403067
             ],
             "passed_time": 34.25062638,
             "remaining_time": 33.08350149,
             "test": [
              0.3455773951
             ]
            },
            {
             "iteration": 763,
             "learn": [
              0.07726255914
             ],
             "passed_time": 34.29237751,
             "remaining_time": 33.0355888,
             "test": [
              0.3453470246
             ]
            },
            {
             "iteration": 764,
             "learn": [
              0.07702439166
             ],
             "passed_time": 34.33704195,
             "remaining_time": 32.99049128,
             "test": [
              0.3451620893
             ]
            },
            {
             "iteration": 765,
             "learn": [
              0.07676731366
             ],
             "passed_time": 34.38686839,
             "remaining_time": 32.95034125,
             "test": [
              0.344983915
             ]
            },
            {
             "iteration": 766,
             "learn": [
              0.0767261136
             ],
             "passed_time": 34.427764,
             "remaining_time": 32.90163104,
             "test": [
              0.3449269427
             ]
            },
            {
             "iteration": 767,
             "learn": [
              0.0766074356
             ],
             "passed_time": 34.47070908,
             "remaining_time": 32.85489459,
             "test": [
              0.3445387429
             ]
            },
            {
             "iteration": 768,
             "learn": [
              0.07653412158
             ],
             "passed_time": 34.51214924,
             "remaining_time": 32.80673745,
             "test": [
              0.3444834453
             ]
            },
            {
             "iteration": 769,
             "learn": [
              0.07627200166
             ],
             "passed_time": 34.56024476,
             "remaining_time": 32.76490737,
             "test": [
              0.344316374
             ]
            },
            {
             "iteration": 770,
             "learn": [
              0.07611117242
             ],
             "passed_time": 34.60853284,
             "remaining_time": 32.72324311,
             "test": [
              0.3439533265
             ]
            },
            {
             "iteration": 771,
             "learn": [
              0.07581355952
             ],
             "passed_time": 34.65850804,
             "remaining_time": 32.68315266,
             "test": [
              0.343837552
             ]
            },
            {
             "iteration": 772,
             "learn": [
              0.07561693798
             ],
             "passed_time": 34.70308896,
             "remaining_time": 32.63796336,
             "test": [
              0.3436226573
             ]
            },
            {
             "iteration": 773,
             "learn": [
              0.07560906248
             ],
             "passed_time": 34.74426329,
             "remaining_time": 32.5895803,
             "test": [
              0.3436271854
             ]
            },
            {
             "iteration": 774,
             "learn": [
              0.07560256386
             ],
             "passed_time": 34.78576149,
             "remaining_time": 32.54151881,
             "test": [
              0.3436116164
             ]
            },
            {
             "iteration": 775,
             "learn": [
              0.07552263148
             ],
             "passed_time": 34.82623247,
             "remaining_time": 32.49251586,
             "test": [
              0.3437194514
             ]
            },
            {
             "iteration": 776,
             "learn": [
              0.07551481585
             ],
             "passed_time": 34.8669574,
             "remaining_time": 32.44377117,
             "test": [
              0.3437245687
             ]
            },
            {
             "iteration": 777,
             "learn": [
              0.07521551343
             ],
             "passed_time": 34.9159797,
             "remaining_time": 32.40274723,
             "test": [
              0.3432992765
             ]
            },
            {
             "iteration": 778,
             "learn": [
              0.07520521009
             ],
             "passed_time": 34.95651121,
             "remaining_time": 32.35384414,
             "test": [
              0.3433133877
             ]
            },
            {
             "iteration": 779,
             "learn": [
              0.07499416787
             ],
             "passed_time": 35.00440874,
             "remaining_time": 32.31176191,
             "test": [
              0.34299928
             ]
            },
            {
             "iteration": 780,
             "learn": [
              0.07497539703
             ],
             "passed_time": 35.04470517,
             "remaining_time": 32.26266711,
             "test": [
              0.3429584968
             ]
            },
            {
             "iteration": 781,
             "learn": [
              0.07480689849
             ],
             "passed_time": 35.090163,
             "remaining_time": 32.2183338,
             "test": [
              0.3425246758
             ]
            },
            {
             "iteration": 782,
             "learn": [
              0.07480228893
             ],
             "passed_time": 35.13097191,
             "remaining_time": 32.16974056,
             "test": [
              0.3425081455
             ]
            },
            {
             "iteration": 783,
             "learn": [
              0.07455700423
             ],
             "passed_time": 35.17993866,
             "remaining_time": 32.12861745,
             "test": [
              0.3424000314
             ]
            },
            {
             "iteration": 784,
             "learn": [
              0.07450699079
             ],
             "passed_time": 35.22270773,
             "remaining_time": 32.08182933,
             "test": [
              0.3423063387
             ]
            },
            {
             "iteration": 785,
             "learn": [
              0.0744995942
             ],
             "passed_time": 35.26429519,
             "remaining_time": 32.03397807,
             "test": [
              0.3423049431
             ]
            },
            {
             "iteration": 786,
             "learn": [
              0.07442691208
             ],
             "passed_time": 35.30635543,
             "remaining_time": 31.98657106,
             "test": [
              0.342345292
             ]
            },
            {
             "iteration": 787,
             "learn": [
              0.0744179058
             ],
             "passed_time": 35.34744535,
             "remaining_time": 31.93830088,
             "test": [
              0.3423420356
             ]
            },
            {
             "iteration": 788,
             "learn": [
              0.07440539412
             ],
             "passed_time": 35.38845952,
             "remaining_time": 31.88998063,
             "test": [
              0.3423131927
             ]
            },
            {
             "iteration": 789,
             "learn": [
              0.07439072733
             ],
             "passed_time": 35.42893333,
             "remaining_time": 31.84119325,
             "test": [
              0.34228007
             ]
            },
            {
             "iteration": 790,
             "learn": [
              0.07420663742
             ],
             "passed_time": 35.47146809,
             "remaining_time": 31.79427418,
             "test": [
              0.3419846325
             ]
            },
            {
             "iteration": 791,
             "learn": [
              0.07402367164
             ],
             "passed_time": 35.51541428,
             "remaining_time": 31.74862792,
             "test": [
              0.3416280049
             ]
            },
            {
             "iteration": 792,
             "learn": [
              0.0740125435
             ],
             "passed_time": 35.55592503,
             "remaining_time": 31.69992307,
             "test": [
              0.3416513272
             ]
            },
            {
             "iteration": 793,
             "learn": [
              0.074004076
             ],
             "passed_time": 35.59657797,
             "remaining_time": 31.6513653,
             "test": [
              0.341639635
             ]
            },
            {
             "iteration": 794,
             "learn": [
              0.07373702058
             ],
             "passed_time": 35.64559246,
             "remaining_time": 31.61024237,
             "test": [
              0.3413899429
             ]
            },
            {
             "iteration": 795,
             "learn": [
              0.0737254867
             ],
             "passed_time": 35.68660355,
             "remaining_time": 31.56202123,
             "test": [
              0.3413644806
             ]
            },
            {
             "iteration": 796,
             "learn": [
              0.0736287191
             ],
             "passed_time": 35.72989543,
             "remaining_time": 31.51582997,
             "test": [
              0.3411674189
             ]
            },
            {
             "iteration": 797,
             "learn": [
              0.07345989463
             ],
             "passed_time": 35.77393729,
             "remaining_time": 31.47030573,
             "test": [
              0.3408896594
             ]
            },
            {
             "iteration": 798,
             "learn": [
              0.07338189123
             ],
             "passed_time": 35.81604121,
             "remaining_time": 31.42308496,
             "test": [
              0.3408687871
             ]
            },
            {
             "iteration": 799,
             "learn": [
              0.0733724792
             ],
             "passed_time": 35.85651884,
             "remaining_time": 31.37445398,
             "test": [
              0.3408500547
             ]
            },
            {
             "iteration": 800,
             "learn": [
              0.07336782307
             ],
             "passed_time": 35.8973033,
             "remaining_time": 31.32611112,
             "test": [
              0.340834951
             ]
            },
            {
             "iteration": 801,
             "learn": [
              0.07315294953
             ],
             "passed_time": 35.94512086,
             "remaining_time": 31.28390818,
             "test": [
              0.3405400098
             ]
            },
            {
             "iteration": 802,
             "learn": [
              0.07314108306
             ],
             "passed_time": 35.98572985,
             "remaining_time": 31.23543425,
             "test": [
              0.3405353577
             ]
            },
            {
             "iteration": 803,
             "learn": [
              0.07297445362
             ],
             "passed_time": 36.03451718,
             "remaining_time": 31.19405965,
             "test": [
              0.3401339771
             ]
            },
            {
             "iteration": 804,
             "learn": [
              0.07296625219
             ],
             "passed_time": 36.07509282,
             "remaining_time": 31.14557703,
             "test": [
              0.3401203311
             ]
            },
            {
             "iteration": 805,
             "learn": [
              0.07275526318
             ],
             "passed_time": 36.12389318,
             "remaining_time": 31.10419586,
             "test": [
              0.3396734842
             ]
            },
            {
             "iteration": 806,
             "learn": [
              0.07273864081
             ],
             "passed_time": 36.16434117,
             "remaining_time": 31.05562383,
             "test": [
              0.3396012841
             ]
            },
            {
             "iteration": 807,
             "learn": [
              0.07272763905
             ],
             "passed_time": 36.2050327,
             "remaining_time": 31.00728048,
             "test": [
              0.3396218773
             ]
            },
            {
             "iteration": 808,
             "learn": [
              0.07256856584
             ],
             "passed_time": 36.25275498,
             "remaining_time": 30.9649613,
             "test": [
              0.339340334
             ]
            },
            {
             "iteration": 809,
             "learn": [
              0.07254716097
             ],
             "passed_time": 36.29418086,
             "remaining_time": 30.91726518,
             "test": [
              0.3393225941
             ]
            },
            {
             "iteration": 810,
             "learn": [
              0.07253754274
             ],
             "passed_time": 36.33510213,
             "remaining_time": 30.86915582,
             "test": [
              0.339326874
             ]
            },
            {
             "iteration": 811,
             "learn": [
              0.07228079067
             ],
             "passed_time": 36.38494734,
             "remaining_time": 30.82862533,
             "test": [
              0.3393107469
             ]
            },
            {
             "iteration": 812,
             "learn": [
              0.07226876456
             ],
             "passed_time": 36.42636445,
             "remaining_time": 30.78095003,
             "test": [
              0.3393002022
             ]
            },
            {
             "iteration": 813,
             "learn": [
              0.07224565022
             ],
             "passed_time": 36.46718625,
             "remaining_time": 30.73278841,
             "test": [
              0.3392682269
             ]
            },
            {
             "iteration": 814,
             "learn": [
              0.07203639728
             ],
             "passed_time": 36.51183648,
             "remaining_time": 30.68786256,
             "test": [
              0.3390216362
             ]
            },
            {
             "iteration": 815,
             "learn": [
              0.07187437741
             ],
             "passed_time": 36.55659969,
             "remaining_time": 30.6430321,
             "test": [
              0.338897581
             ]
            },
            {
             "iteration": 816,
             "learn": [
              0.07185431616
             ],
             "passed_time": 36.59762992,
             "remaining_time": 30.59508107,
             "test": [
              0.3388362978
             ]
            },
            {
             "iteration": 817,
             "learn": [
              0.07173249861
             ],
             "passed_time": 36.64069438,
             "remaining_time": 30.54884299,
             "test": [
              0.3386641091
             ]
            },
            {
             "iteration": 818,
             "learn": [
              0.07153252466
             ],
             "passed_time": 36.6897146,
             "remaining_time": 30.50756489,
             "test": [
              0.3384669544
             ]
            },
            {
             "iteration": 819,
             "learn": [
              0.07152232775
             ],
             "passed_time": 36.72996527,
             "remaining_time": 30.45899559,
             "test": [
              0.3384575262
             ]
            },
            {
             "iteration": 820,
             "learn": [
              0.07151231708
             ],
             "passed_time": 36.77111048,
             "remaining_time": 30.41118638,
             "test": [
              0.33844571
             ]
            },
            {
             "iteration": 821,
             "learn": [
              0.07125491314
             ],
             "passed_time": 36.82004895,
             "remaining_time": 30.3698214,
             "test": [
              0.3381425811
             ]
            },
            {
             "iteration": 822,
             "learn": [
              0.07109015281
             ],
             "passed_time": 36.86508819,
             "remaining_time": 30.32523051,
             "test": [
              0.3379492101
             ]
            },
            {
             "iteration": 823,
             "learn": [
              0.07106552856
             ],
             "passed_time": 36.9054542,
             "remaining_time": 30.27680466,
             "test": [
              0.3379008285
             ]
            },
            {
             "iteration": 824,
             "learn": [
              0.0710574402
             ],
             "passed_time": 36.9461412,
             "remaining_time": 30.22866098,
             "test": [
              0.3379229724
             ]
            },
            {
             "iteration": 825,
             "learn": [
              0.07085157293
             ],
             "passed_time": 36.99403742,
             "remaining_time": 30.18641794,
             "test": [
              0.3373717641
             ]
            },
            {
             "iteration": 826,
             "learn": [
              0.07080582317
             ],
             "passed_time": 37.03512719,
             "remaining_time": 30.13862225,
             "test": [
              0.3372509344
             ]
            },
            {
             "iteration": 827,
             "learn": [
              0.07073692581
             ],
             "passed_time": 37.07709932,
             "remaining_time": 30.09155887,
             "test": [
              0.3373882635
             ]
            },
            {
             "iteration": 828,
             "learn": [
              0.07070525751
             ],
             "passed_time": 37.1182219,
             "remaining_time": 30.04382014,
             "test": [
              0.3372640842
             ]
            },
            {
             "iteration": 829,
             "learn": [
              0.07069521358
             ],
             "passed_time": 37.15962758,
             "remaining_time": 29.99632588,
             "test": [
              0.3372604246
             ]
            },
            {
             "iteration": 830,
             "learn": [
              0.07068475725
             ],
             "passed_time": 37.20075888,
             "remaining_time": 29.94862538,
             "test": [
              0.337270225
             ]
            },
            {
             "iteration": 831,
             "learn": [
              0.07059379651
             ],
             "passed_time": 37.24258378,
             "remaining_time": 29.90149755,
             "test": [
              0.3371214828
             ]
            },
            {
             "iteration": 832,
             "learn": [
              0.07058612055
             ],
             "passed_time": 37.28358254,
             "remaining_time": 29.85372095,
             "test": [
              0.3371105969
             ]
            },
            {
             "iteration": 833,
             "learn": [
              0.07057642251
             ],
             "passed_time": 37.32398832,
             "remaining_time": 29.80548707,
             "test": [
              0.3370920197
             ]
            },
            {
             "iteration": 834,
             "learn": [
              0.07038609339
             ],
             "passed_time": 37.37216746,
             "remaining_time": 29.76346271,
             "test": [
              0.336834295
             ]
            },
            {
             "iteration": 835,
             "learn": [
              0.07014691487
             ],
             "passed_time": 37.4190196,
             "remaining_time": 29.72036963,
             "test": [
              0.3364579426
             ]
            },
            {
             "iteration": 836,
             "learn": [
              0.07001725507
             ],
             "passed_time": 37.46075243,
             "remaining_time": 29.6732125,
             "test": [
              0.3362526622
             ]
            },
            {
             "iteration": 837,
             "learn": [
              0.06977750451
             ],
             "passed_time": 37.50910533,
             "remaining_time": 29.63129801,
             "test": [
              0.3358695178
             ]
            },
            {
             "iteration": 838,
             "learn": [
              0.06972023416
             ],
             "passed_time": 37.55033513,
             "remaining_time": 29.58375628,
             "test": [
              0.3357182945
             ]
            },
            {
             "iteration": 839,
             "learn": [
              0.06969948779
             ],
             "passed_time": 37.59163596,
             "remaining_time": 29.5362854,
             "test": [
              0.335672301
             ]
            },
            {
             "iteration": 840,
             "learn": [
              0.06953730163
             ],
             "passed_time": 37.63597234,
             "remaining_time": 29.49120781,
             "test": [
              0.3353994416
             ]
            },
            {
             "iteration": 841,
             "learn": [
              0.06945045159
             ],
             "passed_time": 37.67689744,
             "remaining_time": 29.44346617,
             "test": [
              0.3351610385
             ]
            },
            {
             "iteration": 842,
             "learn": [
              0.06944562917
             ],
             "passed_time": 37.71805683,
             "remaining_time": 29.39592329,
             "test": [
              0.3351504938
             ]
            },
            {
             "iteration": 843,
             "learn": [
              0.06930051104
             ],
             "passed_time": 37.76793852,
             "remaining_time": 29.35517496,
             "test": [
              0.3348794332
             ]
            },
            {
             "iteration": 844,
             "learn": [
              0.06906648085
             ],
             "passed_time": 37.81622809,
             "remaining_time": 29.31317089,
             "test": [
              0.3344439995
             ]
            },
            {
             "iteration": 845,
             "learn": [
              0.06887733573
             ],
             "passed_time": 37.86066821,
             "remaining_time": 29.26817613,
             "test": [
              0.3344750133
             ]
            },
            {
             "iteration": 846,
             "learn": [
              0.06886411233
             ],
             "passed_time": 37.90159019,
             "remaining_time": 29.22047036,
             "test": [
              0.3344539239
             ]
            },
            {
             "iteration": 847,
             "learn": [
              0.06882305195
             ],
             "passed_time": 37.94241247,
             "remaining_time": 29.17270393,
             "test": [
              0.3344940558
             ]
            },
            {
             "iteration": 848,
             "learn": [
              0.06868410651
             ],
             "passed_time": 37.98430552,
             "remaining_time": 29.12577491,
             "test": [
              0.3343451585
             ]
            },
            {
             "iteration": 849,
             "learn": [
              0.06852096917
             ],
             "passed_time": 38.03316414,
             "remaining_time": 29.08418434,
             "test": [
              0.3339894613
             ]
            },
            {
             "iteration": 850,
             "learn": [
              0.06832287763
             ],
             "passed_time": 38.07821243,
             "remaining_time": 29.03967082,
             "test": [
              0.3340155749
             ]
            },
            {
             "iteration": 851,
             "learn": [
              0.06831338578
             ],
             "passed_time": 38.11846829,
             "remaining_time": 28.99151109,
             "test": [
              0.3340051232
             ]
            },
            {
             "iteration": 852,
             "learn": [
              0.06814893142
             ],
             "passed_time": 38.16240853,
             "remaining_time": 28.9461645,
             "test": [
              0.3338888525
             ]
            },
            {
             "iteration": 853,
             "learn": [
              0.06814275208
             ],
             "passed_time": 38.20371151,
             "remaining_time": 28.89882627,
             "test": [
              0.3338868056
             ]
            },
            {
             "iteration": 854,
             "learn": [
              0.06805739864
             ],
             "passed_time": 38.24674944,
             "remaining_time": 28.85281098,
             "test": [
              0.3336863324
             ]
            },
            {
             "iteration": 855,
             "learn": [
              0.06801160232
             ],
             "passed_time": 38.28787415,
             "remaining_time": 28.80536326,
             "test": [
              0.3337008469
             ]
            },
            {
             "iteration": 856,
             "learn": [
              0.06795070685
             ],
             "passed_time": 38.32879395,
             "remaining_time": 28.75777656,
             "test": [
              0.3338147295
             ]
            },
            {
             "iteration": 857,
             "learn": [
              0.06771565897
             ],
             "passed_time": 38.37657145,
             "remaining_time": 28.71533668,
             "test": [
              0.3336216376
             ]
            },
            {
             "iteration": 858,
             "learn": [
              0.0677091803
             ],
             "passed_time": 38.41713623,
             "remaining_time": 28.66750212,
             "test": [
              0.3336259175
             ]
            },
            {
             "iteration": 859,
             "learn": [
              0.0677021429
             ],
             "passed_time": 38.45828795,
             "remaining_time": 28.62012126,
             "test": [
              0.3335988115
             ]
            },
            {
             "iteration": 860,
             "learn": [
              0.06768193532
             ],
             "passed_time": 38.49890335,
             "remaining_time": 28.57235684,
             "test": [
              0.333552787
             ]
            },
            {
             "iteration": 861,
             "learn": [
              0.06764568405
             ],
             "passed_time": 38.53975591,
             "remaining_time": 28.52478454,
             "test": [
              0.333489953
             ]
            },
            {
             "iteration": 862,
             "learn": [
              0.06750155036
             ],
             "passed_time": 38.58205856,
             "remaining_time": 28.47829815,
             "test": [
              0.333231422
             ]
            },
            {
             "iteration": 863,
             "learn": [
              0.06749306956
             ],
             "passed_time": 38.62272287,
             "remaining_time": 28.43061545,
             "test": [
              0.3332328796
             ]
            },
            {
             "iteration": 864,
             "learn": [
              0.06748633148
             ],
             "passed_time": 38.66377298,
             "remaining_time": 28.38323219,
             "test": [
              0.3332289409
             ]
            },
            {
             "iteration": 865,
             "learn": [
              0.06740098469
             ],
             "passed_time": 38.70518028,
             "remaining_time": 28.33612505,
             "test": [
              0.3330932865
             ]
            },
            {
             "iteration": 866,
             "learn": [
              0.06720136328
             ],
             "passed_time": 38.75394811,
             "remaining_time": 28.29440502,
             "test": [
              0.3329695105
             ]
            },
            {
             "iteration": 867,
             "learn": [
              0.06719622824
             ],
             "passed_time": 38.79530756,
             "remaining_time": 28.24727463,
             "test": [
              0.3329699136
             ]
            },
            {
             "iteration": 868,
             "learn": [
              0.06701481893
             ],
             "passed_time": 38.84227847,
             "remaining_time": 28.20423212,
             "test": [
              0.3327070097
             ]
            },
            {
             "iteration": 869,
             "learn": [
              0.06700250015
             ],
             "passed_time": 38.88518904,
             "remaining_time": 28.15824034,
             "test": [
              0.3326454473
             ]
            },
            {
             "iteration": 870,
             "learn": [
              0.06699538293
             ],
             "passed_time": 38.92685442,
             "remaining_time": 28.11135641,
             "test": [
              0.3326323595
             ]
            },
            {
             "iteration": 871,
             "learn": [
              0.06687349221
             ],
             "passed_time": 38.9721756,
             "remaining_time": 28.06711729,
             "test": [
              0.3325135146
             ]
            },
            {
             "iteration": 872,
             "learn": [
              0.06680935076
             ],
             "passed_time": 39.01361736,
             "remaining_time": 28.02008944,
             "test": [
              0.3326202641
             ]
            },
            {
             "iteration": 873,
             "learn": [
              0.06679502319
             ],
             "passed_time": 39.05460114,
             "remaining_time": 27.97274635,
             "test": [
              0.3325912972
             ]
            },
            {
             "iteration": 874,
             "learn": [
              0.06668887683
             ],
             "passed_time": 39.09759871,
             "remaining_time": 27.92685622,
             "test": [
              0.3322516651
             ]
            },
            {
             "iteration": 875,
             "learn": [
              0.06653245096
             ],
             "passed_time": 39.14364155,
             "remaining_time": 27.88314193,
             "test": [
              0.3320059427
             ]
            },
            {
             "iteration": 876,
             "learn": [
              0.06651318125
             ],
             "passed_time": 39.18432381,
             "remaining_time": 27.83561429,
             "test": [
              0.331952661
             ]
            },
            {
             "iteration": 877,
             "learn": [
              0.06650306416
             ],
             "passed_time": 39.22510898,
             "remaining_time": 27.78817515,
             "test": [
              0.331948195
             ]
            },
            {
             "iteration": 878,
             "learn": [
              0.06648998044
             ],
             "passed_time": 39.26557501,
             "remaining_time": 27.74052569,
             "test": [
              0.3319403175
             ]
            },
            {
             "iteration": 879,
             "learn": [
              0.06639103112
             ],
             "passed_time": 39.3083321,
             "remaining_time": 27.6945067,
             "test": [
              0.3321089396
             ]
            },
            {
             "iteration": 880,
             "learn": [
              0.06638590938
             ],
             "passed_time": 39.34912354,
             "remaining_time": 27.64711404,
             "test": [
              0.3321044736
             ]
            },
            {
             "iteration": 881,
             "learn": [
              0.06636395908
             ],
             "passed_time": 39.39066731,
             "remaining_time": 27.60026349,
             "test": [
              0.3320376078
             ]
            },
            {
             "iteration": 882,
             "learn": [
              0.0663584715
             ],
             "passed_time": 39.43215286,
             "remaining_time": 27.55338428,
             "test": [
              0.3320421669
             ]
            },
            {
             "iteration": 883,
             "learn": [
              0.06624466248
             ],
             "passed_time": 39.48000558,
             "remaining_time": 27.51095411,
             "test": [
              0.332062698
             ]
            },
            {
             "iteration": 884,
             "learn": [
              0.06623490457
             ],
             "passed_time": 39.52112953,
             "remaining_time": 27.46383577,
             "test": [
              0.3320603409
             ]
            },
            {
             "iteration": 885,
             "learn": [
              0.06622800021
             ],
             "passed_time": 39.56264939,
             "remaining_time": 27.41700534,
             "test": [
              0.3320663576
             ]
            },
            {
             "iteration": 886,
             "learn": [
              0.06612404887
             ],
             "passed_time": 39.60487017,
             "remaining_time": 27.37067127,
             "test": [
              0.3319046517
             ]
            },
            {
             "iteration": 887,
             "learn": [
              0.06593779054
             ],
             "passed_time": 39.65294052,
             "remaining_time": 27.32837792,
             "test": [
              0.3317460161
             ]
            },
            {
             "iteration": 888,
             "learn": [
              0.06593117884
             ],
             "passed_time": 39.69363368,
             "remaining_time": 27.28100132,
             "test": [
              0.3317986465
             ]
            },
            {
             "iteration": 889,
             "learn": [
              0.06592524561
             ],
             "passed_time": 39.7347656,
             "remaining_time": 27.23394047,
             "test": [
              0.3317818991
             ]
            },
            {
             "iteration": 890,
             "learn": [
              0.06583906072
             ],
             "passed_time": 39.77587335,
             "remaining_time": 27.1868764,
             "test": [
              0.3315175684
             ]
            },
            {
             "iteration": 891,
             "learn": [
              0.06570774467
             ],
             "passed_time": 39.8223716,
             "remaining_time": 27.14349993,
             "test": [
              0.3313418133
             ]
            },
            {
             "iteration": 892,
             "learn": [
              0.06562541772
             ],
             "passed_time": 39.86426578,
             "remaining_time": 27.09698693,
             "test": [
              0.3311204368
             ]
            },
            {
             "iteration": 893,
             "learn": [
              0.06561603895
             ],
             "passed_time": 39.90507237,
             "remaining_time": 27.04974704,
             "test": [
              0.3311298029
             ]
            },
            {
             "iteration": 894,
             "learn": [
              0.06561012567
             ],
             "passed_time": 39.94622354,
             "remaining_time": 27.00275446,
             "test": [
              0.3311236002
             ]
            },
            {
             "iteration": 895,
             "learn": [
              0.06559996867
             ],
             "passed_time": 39.98652167,
             "remaining_time": 26.95519987,
             "test": [
              0.3310659765
             ]
            },
            {
             "iteration": 896,
             "learn": [
              0.06544008396
             ],
             "passed_time": 40.03382889,
             "remaining_time": 26.91237327,
             "test": [
              0.3307380676
             ]
            },
            {
             "iteration": 897,
             "learn": [
              0.06543040587
             ],
             "passed_time": 40.07499539,
             "remaining_time": 26.86542007,
             "test": [
              0.3307000757
             ]
            },
            {
             "iteration": 898,
             "learn": [
              0.06541875226
             ],
             "passed_time": 40.11645901,
             "remaining_time": 26.81867838,
             "test": [
              0.3307315857
             ]
            },
            {
             "iteration": 899,
             "learn": [
              0.06541206739
             ],
             "passed_time": 40.15754953,
             "remaining_time": 26.77169969,
             "test": [
              0.3307462553
             ]
            },
            {
             "iteration": 900,
             "learn": [
              0.06533236782
             ],
             "passed_time": 40.20152039,
             "remaining_time": 26.72664896,
             "test": [
              0.3306275034
             ]
            },
            {
             "iteration": 901,
             "learn": [
              0.06531917768
             ],
             "passed_time": 40.2433203,
             "remaining_time": 26.68016135,
             "test": [
              0.3305910932
             ]
            },
            {
             "iteration": 902,
             "learn": [
              0.06527787785
             ],
             "passed_time": 40.2848992,
             "remaining_time": 26.63353801,
             "test": [
              0.3306019481
             ]
            },
            {
             "iteration": 903,
             "learn": [
              0.06527296896
             ],
             "passed_time": 40.32702181,
             "remaining_time": 26.58728429,
             "test": [
              0.3305990328
             ]
            },
            {
             "iteration": 904,
             "learn": [
              0.06526483404
             ],
             "passed_time": 40.36764885,
             "remaining_time": 26.54005643,
             "test": [
              0.3305845803
             ]
            },
            {
             "iteration": 905,
             "learn": [
              0.06525995842
             ],
             "passed_time": 40.40839183,
             "remaining_time": 26.49291915,
             "test": [
              0.3305645144
             ]
            },
            {
             "iteration": 906,
             "learn": [
              0.06512521679
             ],
             "passed_time": 40.45629404,
             "remaining_time": 26.4504767,
             "test": [
              0.3302599589
             ]
            },
            {
             "iteration": 907,
             "learn": [
              0.06500594015
             ],
             "passed_time": 40.50361189,
             "remaining_time": 26.40764124,
             "test": [
              0.3301996371
             ]
            },
            {
             "iteration": 908,
             "learn": [
              0.06483072349
             ],
             "passed_time": 40.55091029,
             "remaining_time": 26.36478326,
             "test": [
              0.3298142906
             ]
            },
            {
             "iteration": 909,
             "learn": [
              0.06482648642
             ],
             "passed_time": 40.59157327,
             "remaining_time": 26.31761344,
             "test": [
              0.3297602336
             ]
            },
            {
             "iteration": 910,
             "learn": [
              0.06473039063
             ],
             "passed_time": 40.63416637,
             "remaining_time": 26.27170581,
             "test": [
              0.3295333986
             ]
            },
            {
             "iteration": 911,
             "learn": [
              0.0646216701
             ],
             "passed_time": 40.67608899,
             "remaining_time": 26.22537317,
             "test": [
              0.3295669246
             ]
            },
            {
             "iteration": 912,
             "learn": [
              0.06452015326
             ],
             "passed_time": 40.71996847,
             "remaining_time": 26.18030831,
             "test": [
              0.329410708
             ]
            },
            {
             "iteration": 913,
             "learn": [
              0.06430023779
             ],
             "passed_time": 40.76904439,
             "remaining_time": 26.13857769,
             "test": [
              0.3291995351
             ]
            },
            {
             "iteration": 914,
             "learn": [
              0.06419818216
             ],
             "passed_time": 40.8160864,
             "remaining_time": 26.09553065,
             "test": [
              0.3292256797
             ]
            },
            {
             "iteration": 915,
             "learn": [
              0.06406352701
             ],
             "passed_time": 40.86238561,
             "remaining_time": 26.0520013,
             "test": [
              0.3289169063
             ]
            },
            {
             "iteration": 916,
             "learn": [
              0.06389423693
             ],
             "passed_time": 40.90817541,
             "remaining_time": 26.00814205,
             "test": [
              0.3287975652
             ]
            },
            {
             "iteration": 917,
             "learn": [
              0.06377885813
             ],
             "passed_time": 40.95113192,
             "remaining_time": 25.96248233,
             "test": [
              0.3285753514
             ]
            },
            {
             "iteration": 918,
             "learn": [
              0.06365852389
             ],
             "passed_time": 40.99878774,
             "remaining_time": 25.91979943,
             "test": [
              0.3284670512
             ]
            },
            {
             "iteration": 919,
             "learn": [
              0.06364938458
             ],
             "passed_time": 41.03960784,
             "remaining_time": 25.87279624,
             "test": [
              0.3284495594
             ]
            },
            {
             "iteration": 920,
             "learn": [
              0.06361226861
             ],
             "passed_time": 41.081074,
             "remaining_time": 25.82621265,
             "test": [
              0.3282915751
             ]
            },
            {
             "iteration": 921,
             "learn": [
              0.06348228288
             ],
             "passed_time": 41.12617096,
             "remaining_time": 25.78191628,
             "test": [
              0.3280138776
             ]
            },
            {
             "iteration": 922,
             "learn": [
              0.06330163186
             ],
             "passed_time": 41.17246622,
             "remaining_time": 25.73836729,
             "test": [
              0.3280322067
             ]
            },
            {
             "iteration": 923,
             "learn": [
              0.06313403129
             ],
             "passed_time": 41.22219071,
             "remaining_time": 25.69695005,
             "test": [
              0.3277529585
             ]
            },
            {
             "iteration": 924,
             "learn": [
              0.06303702423
             ],
             "passed_time": 41.26370517,
             "remaining_time": 25.65041132,
             "test": [
              0.3277867635
             ]
            },
            {
             "iteration": 925,
             "learn": [
              0.06288346521
             ],
             "passed_time": 41.30790922,
             "remaining_time": 25.60555064,
             "test": [
              0.3277368933
             ]
            },
            {
             "iteration": 926,
             "learn": [
              0.06284249795
             ],
             "passed_time": 41.34951136,
             "remaining_time": 25.55908308,
             "test": [
              0.3277849957
             ]
            },
            {
             "iteration": 927,
             "learn": [
              0.06283771545
             ],
             "passed_time": 41.39032199,
             "remaining_time": 25.51213813,
             "test": [
              0.3277898649
             ]
            },
            {
             "iteration": 928,
             "learn": [
              0.06283397059
             ],
             "passed_time": 41.43186258,
             "remaining_time": 25.46565504,
             "test": [
              0.3278037901
             ]
            },
            {
             "iteration": 929,
             "learn": [
              0.06282994637
             ],
             "passed_time": 41.47238745,
             "remaining_time": 25.41856005,
             "test": [
              0.3278025185
             ]
            },
            {
             "iteration": 930,
             "learn": [
              0.06277123928
             ],
             "passed_time": 41.51341613,
             "remaining_time": 25.37178709,
             "test": [
              0.3276769126
             ]
            },
            {
             "iteration": 931,
             "learn": [
              0.06276469409
             ],
             "passed_time": 41.55447282,
             "remaining_time": 25.32504352,
             "test": [
              0.3276668021
             ]
            },
            {
             "iteration": 932,
             "learn": [
              0.06260378504
             ],
             "passed_time": 41.60364528,
             "remaining_time": 25.28324424,
             "test": [
              0.3274266623
             ]
            },
            {
             "iteration": 933,
             "learn": [
              0.06259326885
             ],
             "passed_time": 41.64420726,
             "remaining_time": 25.23621125,
             "test": [
              0.3274313454
             ]
            },
            {
             "iteration": 934,
             "learn": [
              0.06249925502
             ],
             "passed_time": 41.69134668,
             "remaining_time": 25.19316671,
             "test": [
              0.3273370324
             ]
            },
            {
             "iteration": 935,
             "learn": [
              0.06237208958
             ],
             "passed_time": 41.73777427,
             "remaining_time": 25.14968449,
             "test": [
              0.3273311708
             ]
            },
            {
             "iteration": 936,
             "learn": [
              0.06235415684
             ],
             "passed_time": 41.77884395,
             "remaining_time": 25.10297667,
             "test": [
              0.3272241112
             ]
            },
            {
             "iteration": 937,
             "learn": [
              0.06220440253
             ],
             "passed_time": 41.82477541,
             "remaining_time": 25.0591938,
             "test": [
              0.3270121629
             ]
            },
            {
             "iteration": 938,
             "learn": [
              0.06218880451
             ],
             "passed_time": 41.86647209,
             "remaining_time": 25.0128763,
             "test": [
              0.3269927792
             ]
            },
            {
             "iteration": 939,
             "learn": [
              0.06218595763
             ],
             "passed_time": 41.90804425,
             "remaining_time": 24.96649445,
             "test": [
              0.3269883753
             ]
            },
            {
             "iteration": 940,
             "learn": [
              0.06218085584
             ],
             "passed_time": 41.94906836,
             "remaining_time": 24.91979725,
             "test": [
              0.3269889025
             ]
            },
            {
             "iteration": 941,
             "learn": [
              0.06197937863
             ],
             "passed_time": 41.99693374,
             "remaining_time": 24.87716458,
             "test": [
              0.3269800326
             ]
            },
            {
             "iteration": 942,
             "learn": [
              0.0619736516
             ],
             "passed_time": 42.0375737,
             "remaining_time": 24.83025297,
             "test": [
              0.3269955705
             ]
            },
            {
             "iteration": 943,
             "learn": [
              0.06196149246
             ],
             "passed_time": 42.07863767,
             "remaining_time": 24.78360439,
             "test": [
              0.3269662624
             ]
            },
            {
             "iteration": 944,
             "learn": [
              0.06187828749
             ],
             "passed_time": 42.1231526,
             "remaining_time": 24.73899438,
             "test": [
              0.3269425679
             ]
            },
            {
             "iteration": 945,
             "learn": [
              0.06186927456
             ],
             "passed_time": 42.16478481,
             "remaining_time": 24.69269639,
             "test": [
              0.3269356208
             ]
            },
            {
             "iteration": 946,
             "learn": [
              0.06176488422
             ],
             "passed_time": 42.20837676,
             "remaining_time": 24.64755264,
             "test": [
              0.3265890106
             ]
            },
            {
             "iteration": 947,
             "learn": [
              0.06158988707
             ],
             "passed_time": 42.25651582,
             "remaining_time": 24.60505985,
             "test": [
              0.3263954225
             ]
            },
            {
             "iteration": 948,
             "learn": [
              0.06158259025
             ],
             "passed_time": 42.29709658,
             "remaining_time": 24.55816672,
             "test": [
              0.3263883203
             ]
            },
            {
             "iteration": 949,
             "learn": [
              0.06149105747
             ],
             "passed_time": 42.34326674,
             "remaining_time": 24.51452285,
             "test": [
              0.3263482815
             ]
            },
            {
             "iteration": 950,
             "learn": [
              0.06148036834
             ],
             "passed_time": 42.38394885,
             "remaining_time": 24.46770549,
             "test": [
              0.326320245
             ]
            },
            {
             "iteration": 951,
             "learn": [
              0.06139176892
             ],
             "passed_time": 42.42862652,
             "remaining_time": 24.42320098,
             "test": [
              0.3259939488
             ]
            },
            {
             "iteration": 952,
             "learn": [
              0.06122225268
             ],
             "passed_time": 42.47702351,
             "remaining_time": 24.38083091,
             "test": [
              0.3259952204
             ]
            },
            {
             "iteration": 953,
             "learn": [
              0.0610951471
             ],
             "passed_time": 42.52053016,
             "remaining_time": 24.33564934,
             "test": [
              0.3259386202
             ]
            },
            {
             "iteration": 954,
             "learn": [
              0.0610895531
             ],
             "passed_time": 42.56088694,
             "remaining_time": 24.2886737,
             "test": [
              0.3259229582
             ]
            },
            {
             "iteration": 955,
             "learn": [
              0.06098178375
             ],
             "passed_time": 42.60461999,
             "remaining_time": 24.24363313,
             "test": [
              0.3258631016
             ]
            },
            {
             "iteration": 956,
             "learn": [
              0.06090510401
             ],
             "passed_time": 42.64731675,
             "remaining_time": 24.19800731,
             "test": [
              0.3259023651
             ]
            },
            {
             "iteration": 957,
             "learn": [
              0.06073076536
             ],
             "passed_time": 42.69661439,
             "remaining_time": 24.15612213,
             "test": [
              0.3255529016
             ]
            },
            {
             "iteration": 958,
             "learn": [
              0.0607261691
             ],
             "passed_time": 42.73701391,
             "remaining_time": 24.1092018,
             "test": [
              0.3255475052
             ]
            },
            {
             "iteration": 959,
             "learn": [
              0.06072088772
             ],
             "passed_time": 42.77812054,
             "remaining_time": 24.0626928,
             "test": [
              0.3255239037
             ]
            },
            {
             "iteration": 960,
             "learn": [
              0.06070439838
             ],
             "passed_time": 42.81947041,
             "remaining_time": 24.01633148,
             "test": [
              0.3255310989
             ]
            },
            {
             "iteration": 961,
             "learn": [
              0.06069497971
             ],
             "passed_time": 42.86019645,
             "remaining_time": 23.96963169,
             "test": [
              0.3255491179
             ]
            },
            {
             "iteration": 962,
             "learn": [
              0.06056456828
             ],
             "passed_time": 42.90842719,
             "remaining_time": 23.92712918,
             "test": [
              0.3252763205
             ]
            },
            {
             "iteration": 963,
             "learn": [
              0.0604947663
             ],
             "passed_time": 42.95277793,
             "remaining_time": 23.88245744,
             "test": [
              0.3251469
             ]
            },
            {
             "iteration": 964,
             "learn": [
              0.06047021522
             ],
             "passed_time": 42.993711,
             "remaining_time": 23.83589159,
             "test": [
              0.3250844692
             ]
            },
            {
             "iteration": 965,
             "learn": [
              0.06038566663
             ],
             "passed_time": 43.03818945,
             "remaining_time": 23.79129727,
             "test": [
              0.3249385182
             ]
            },
            {
             "iteration": 966,
             "learn": [
              0.06038010588
             ],
             "passed_time": 43.07952848,
             "remaining_time": 23.74497278,
             "test": [
              0.3249364713
             ]
            },
            {
             "iteration": 967,
             "learn": [
              0.06026072282
             ],
             "passed_time": 43.12582842,
             "remaining_time": 23.70138504,
             "test": [
              0.3247756338
             ]
            },
            {
             "iteration": 968,
             "learn": [
              0.06025256795
             ],
             "passed_time": 43.16777258,
             "remaining_time": 23.65540479,
             "test": [
              0.3247538001
             ]
            },
            {
             "iteration": 969,
             "learn": [
              0.06024346855
             ],
             "passed_time": 43.20857272,
             "remaining_time": 23.60880778,
             "test": [
              0.3247342614
             ]
            },
            {
             "iteration": 970,
             "learn": [
              0.06013746852
             ],
             "passed_time": 43.25261434,
             "remaining_time": 23.56398866,
             "test": [
              0.3247129859
             ]
            },
            {
             "iteration": 971,
             "learn": [
              0.06000270694
             ],
             "passed_time": 43.29983083,
             "remaining_time": 23.52089576,
             "test": [
              0.3246072288
             ]
            },
            {
             "iteration": 972,
             "learn": [
              0.05999848317
             ],
             "passed_time": 43.34215942,
             "remaining_time": 23.47514698,
             "test": [
              0.32460084
             ]
            },
            {
             "iteration": 973,
             "learn": [
              0.05978114187
             ],
             "passed_time": 43.39165379,
             "remaining_time": 23.43327504,
             "test": [
              0.3244691554
             ]
            },
            {
             "iteration": 974,
             "learn": [
              0.05965460833
             ],
             "passed_time": 43.43616801,
             "remaining_time": 23.38870585,
             "test": [
              0.3244685351
             ]
            },
            {
             "iteration": 975,
             "learn": [
              0.0596487017
             ],
             "passed_time": 43.47689624,
             "remaining_time": 23.34210413,
             "test": [
              0.3244593551
             ]
            },
            {
             "iteration": 976,
             "learn": [
              0.05964336046
             ],
             "passed_time": 43.52173122,
             "remaining_time": 23.29771282,
             "test": [
              0.3244668604
             ]
            },
            {
             "iteration": 977,
             "learn": [
              0.05946046784
             ],
             "passed_time": 43.56968716,
             "remaining_time": 23.2549864,
             "test": [
              0.3241070073
             ]
            },
            {
             "iteration": 978,
             "learn": [
              0.05929945237
             ],
             "passed_time": 43.61779204,
             "remaining_time": 23.21232855,
             "test": [
              0.3238490035
             ]
            },
            {
             "iteration": 979,
             "learn": [
              0.05914737665
             ],
             "passed_time": 43.66523892,
             "remaining_time": 23.16931045,
             "test": [
              0.3234983615
             ]
            },
            {
             "iteration": 980,
             "learn": [
              0.05901049986
             ],
             "passed_time": 43.71391184,
             "remaining_time": 23.12693195,
             "test": [
              0.3235763922
             ]
            },
            {
             "iteration": 981,
             "learn": [
              0.05896510928
             ],
             "passed_time": 43.75592075,
             "remaining_time": 23.08102541,
             "test": [
              0.3235205053
             ]
            },
            {
             "iteration": 982,
             "learn": [
              0.05893117278
             ],
             "passed_time": 43.79709446,
             "remaining_time": 23.03468752,
             "test": [
              0.3234721238
             ]
            },
            {
             "iteration": 983,
             "learn": [
              0.05876822833
             ],
             "passed_time": 43.84542668,
             "remaining_time": 22.99211399,
             "test": [
              0.3234345351
             ]
            },
            {
             "iteration": 984,
             "learn": [
              0.05875418679
             ],
             "passed_time": 43.88721982,
             "remaining_time": 22.94610986,
             "test": [
              0.3233744614
             ]
            },
            {
             "iteration": 985,
             "learn": [
              0.05868543577
             ],
             "passed_time": 43.92995992,
             "remaining_time": 22.90060791,
             "test": [
              0.3233217069
             ]
            },
            {
             "iteration": 986,
             "learn": [
              0.05867767999
             ],
             "passed_time": 43.97136998,
             "remaining_time": 22.85442027,
             "test": [
              0.3233034708
             ]
            },
            {
             "iteration": 987,
             "learn": [
              0.05866549425
             ],
             "passed_time": 44.01276828,
             "remaining_time": 22.8082362,
             "test": [
              0.3233026954
             ]
            },
            {
             "iteration": 988,
             "learn": [
              0.05866052549
             ],
             "passed_time": 44.05393941,
             "remaining_time": 22.76194443,
             "test": [
              0.3233217689
             ]
            },
            {
             "iteration": 989,
             "learn": [
              0.0586276732
             ],
             "passed_time": 44.09506244,
             "remaining_time": 22.71563823,
             "test": [
              0.3233719492
             ]
            },
            {
             "iteration": 990,
             "learn": [
              0.0585418209
             ],
             "passed_time": 44.1389289,
             "remaining_time": 22.67075158,
             "test": [
              0.3233656844
             ]
            },
            {
             "iteration": 991,
             "learn": [
              0.05853889419
             ],
             "passed_time": 44.18033844,
             "remaining_time": 22.6246088,
             "test": [
              0.3233798578
             ]
            },
            {
             "iteration": 992,
             "learn": [
              0.05845049432
             ],
             "passed_time": 44.22174806,
             "remaining_time": 22.5784756,
             "test": [
              0.3234081734
             ]
            },
            {
             "iteration": 993,
             "learn": [
              0.05825154472
             ],
             "passed_time": 44.27116919,
             "remaining_time": 22.53643019,
             "test": [
              0.3231596598
             ]
            },
            {
             "iteration": 994,
             "learn": [
              0.05821660382
             ],
             "passed_time": 44.31261102,
             "remaining_time": 22.49032017,
             "test": [
              0.3229270873
             ]
            },
            {
             "iteration": 995,
             "learn": [
              0.05810102548
             ],
             "passed_time": 44.35825196,
             "remaining_time": 22.44634437,
             "test": [
              0.3228979653
             ]
            },
            {
             "iteration": 996,
             "learn": [
              0.05808039219
             ],
             "passed_time": 44.39893447,
             "remaining_time": 22.39986363,
             "test": [
              0.3228924139
             ]
            },
            {
             "iteration": 997,
             "learn": [
              0.05795373227
             ],
             "passed_time": 44.44161982,
             "remaining_time": 22.35440195,
             "test": [
              0.3227103629
             ]
            },
            {
             "iteration": 998,
             "learn": [
              0.05794961492
             ],
             "passed_time": 44.482522,
             "remaining_time": 22.30805158,
             "test": [
              0.3226810238
             ]
            },
            {
             "iteration": 999,
             "learn": [
              0.05794369499
             ],
             "passed_time": 44.52369563,
             "remaining_time": 22.26184782,
             "test": [
              0.3226736425
             ]
            },
            {
             "iteration": 1000,
             "learn": [
              0.05784575006
             ],
             "passed_time": 44.57100583,
             "remaining_time": 22.2187132,
             "test": [
              0.3225145107
             ]
            },
            {
             "iteration": 1001,
             "learn": [
              0.05784136665
             ],
             "passed_time": 44.61182668,
             "remaining_time": 22.172345,
             "test": [
              0.3225114404
             ]
            },
            {
             "iteration": 1002,
             "learn": [
              0.05774954785
             ],
             "passed_time": 44.65973722,
             "remaining_time": 22.1295009,
             "test": [
              0.3223332041
             ]
            },
            {
             "iteration": 1003,
             "learn": [
              0.05770119731
             ],
             "passed_time": 44.70393606,
             "remaining_time": 22.08481303,
             "test": [
              0.3222149174
             ]
            },
            {
             "iteration": 1004,
             "learn": [
              0.05769313556
             ],
             "passed_time": 44.74494619,
             "remaining_time": 22.03855558,
             "test": [
              0.3221975497
             ]
            },
            {
             "iteration": 1005,
             "learn": [
              0.05768842622
             ],
             "passed_time": 44.78720788,
             "remaining_time": 21.99292316,
             "test": [
              0.3222063266
             ]
            },
            {
             "iteration": 1006,
             "learn": [
              0.05768466806
             ],
             "passed_time": 44.83590228,
             "remaining_time": 21.9504467,
             "test": [
              0.3221935489
             ]
            },
            {
             "iteration": 1007,
             "learn": [
              0.05767486359
             ],
             "passed_time": 44.88361804,
             "remaining_time": 21.90748023,
             "test": [
              0.3221380032
             ]
            },
            {
             "iteration": 1008,
             "learn": [
              0.05767002122
             ],
             "passed_time": 44.9302104,
             "remaining_time": 21.86395769,
             "test": [
              0.3221202013
             ]
            },
            {
             "iteration": 1009,
             "learn": [
              0.05766560456
             ],
             "passed_time": 44.97835866,
             "remaining_time": 21.8211839,
             "test": [
              0.3220856829
             ]
            },
            {
             "iteration": 1010,
             "learn": [
              0.05765955159
             ],
             "passed_time": 45.025949,
             "remaining_time": 21.77812964,
             "test": [
              0.3220560337
             ]
            },
            {
             "iteration": 1011,
             "learn": [
              0.05761233848
             ],
             "passed_time": 45.07561115,
             "remaining_time": 21.73606546,
             "test": [
              0.3219290012
             ]
            },
            {
             "iteration": 1012,
             "learn": [
              0.05757786984
             ],
             "passed_time": 45.12452733,
             "remaining_time": 21.69362765,
             "test": [
              0.321879131
             ]
            },
            {
             "iteration": 1013,
             "learn": [
              0.05752519576
             ],
             "passed_time": 45.17436401,
             "remaining_time": 21.65161825,
             "test": [
              0.3217895632
             ]
            },
            {
             "iteration": 1014,
             "learn": [
              0.05749180469
             ],
             "passed_time": 45.22362114,
             "remaining_time": 21.60931651,
             "test": [
              0.3216871866
             ]
            },
            {
             "iteration": 1015,
             "learn": [
              0.05739381985
             ],
             "passed_time": 45.27290354,
             "remaining_time": 21.56701311,
             "test": [
              0.321769001
             ]
            },
            {
             "iteration": 1016,
             "learn": [
              0.05738748086
             ],
             "passed_time": 45.32254935,
             "remaining_time": 21.52486857,
             "test": [
              0.3217727537
             ]
            },
            {
             "iteration": 1017,
             "learn": [
              0.05736688749
             ],
             "passed_time": 45.37108433,
             "remaining_time": 21.48218335,
             "test": [
              0.3217415538
             ]
            },
            {
             "iteration": 1018,
             "learn": [
              0.0573011829
             ],
             "passed_time": 45.42126146,
             "remaining_time": 21.44026179,
             "test": [
              0.3216324783
             ]
            },
            {
             "iteration": 1019,
             "learn": [
              0.05729542261
             ],
             "passed_time": 45.46953105,
             "remaining_time": 21.39742638,
             "test": [
              0.3216111718
             ]
            },
            {
             "iteration": 1020,
             "learn": [
              0.05718423433
             ],
             "passed_time": 45.51999638,
             "remaining_time": 21.35561044,
             "test": [
              0.3215608364
             ]
            },
            {
             "iteration": 1021,
             "learn": [
              0.05718045621
             ],
             "passed_time": 45.56860293,
             "remaining_time": 21.31290822,
             "test": [
              0.321577863
             ]
            },
            {
             "iteration": 1022,
             "learn": [
              0.0571183435
             ],
             "passed_time": 45.6166327,
             "remaining_time": 21.26992551,
             "test": [
              0.3215218521
             ]
            },
            {
             "iteration": 1023,
             "learn": [
              0.05711378049
             ],
             "passed_time": 45.66374651,
             "remaining_time": 21.22650717,
             "test": [
              0.3215084541
             ]
            },
            {
             "iteration": 1024,
             "learn": [
              0.05697635162
             ],
             "passed_time": 45.71575971,
             "remaining_time": 21.18535206,
             "test": [
              0.3213370098
             ]
            },
            {
             "iteration": 1025,
             "learn": [
              0.05696686642
             ],
             "passed_time": 45.76424735,
             "remaining_time": 21.14254702,
             "test": [
              0.3213302798
             ]
            },
            {
             "iteration": 1026,
             "learn": [
              0.05695486692
             ],
             "passed_time": 45.80889691,
             "remaining_time": 21.09796323,
             "test": [
              0.3213120747
             ]
            },
            {
             "iteration": 1027,
             "learn": [
              0.05694955894
             ],
             "passed_time": 45.85504405,
             "remaining_time": 21.05406692,
             "test": [
              0.3213108032
             ]
            },
            {
             "iteration": 1028,
             "learn": [
              0.05683073461
             ],
             "passed_time": 45.90916183,
             "remaining_time": 21.0138146,
             "test": [
              0.3214096442
             ]
            },
            {
             "iteration": 1029,
             "learn": [
              0.05682546654
             ],
             "passed_time": 45.95525468,
             "remaining_time": 20.96987349,
             "test": [
              0.3213955639
             ]
            },
            {
             "iteration": 1030,
             "learn": [
              0.05676338708
             ],
             "passed_time": 46.00461722,
             "remaining_time": 20.92741559,
             "test": [
              0.3213586575
             ]
            },
            {
             "iteration": 1031,
             "learn": [
              0.05661111181
             ],
             "passed_time": 46.05415937,
             "remaining_time": 20.88502576,
             "test": [
              0.3210739508
             ]
            },
            {
             "iteration": 1032,
             "learn": [
              0.05660722728
             ],
             "passed_time": 46.10214093,
             "remaining_time": 20.84191657,
             "test": [
              0.3210734236
             ]
            },
            {
             "iteration": 1033,
             "learn": [
              0.05660007015
             ],
             "passed_time": 46.15000167,
             "remaining_time": 20.7987435,
             "test": [
              0.3210513727
             ]
            },
            {
             "iteration": 1034,
             "learn": [
              0.05644848665
             ],
             "passed_time": 46.20419015,
             "remaining_time": 20.75840427,
             "test": [
              0.3207940202
             ]
            },
            {
             "iteration": 1035,
             "learn": [
              0.05644334495
             ],
             "passed_time": 46.25240025,
             "remaining_time": 20.71536073,
             "test": [
              0.3207749778
             ]
            },
            {
             "iteration": 1036,
             "learn": [
              0.05643950032
             ],
             "passed_time": 46.29638541,
             "remaining_time": 20.67042087,
             "test": [
              0.3207644951
             ]
            },
            {
             "iteration": 1037,
             "learn": [
              0.05639862619
             ],
             "passed_time": 46.33769294,
             "remaining_time": 20.62429108,
             "test": [
              0.3206658712
             ]
            },
            {
             "iteration": 1038,
             "learn": [
              0.05624330449
             ],
             "passed_time": 46.38610656,
             "remaining_time": 20.58132351,
             "test": [
              0.3208616303
             ]
            },
            {
             "iteration": 1039,
             "learn": [
              0.05613504957
             ],
             "passed_time": 46.43096699,
             "remaining_time": 20.53677386,
             "test": [
              0.3205366677
             ]
            },
            {
             "iteration": 1040,
             "learn": [
              0.05612819176
             ],
             "passed_time": 46.47241082,
             "remaining_time": 20.49071716,
             "test": [
              0.3205257509
             ]
            },
            {
             "iteration": 1041,
             "learn": [
              0.05602188576
             ],
             "passed_time": 46.51537755,
             "remaining_time": 20.44533869,
             "test": [
              0.3201939032
             ]
            },
            {
             "iteration": 1042,
             "learn": [
              0.05587423336
             ],
             "passed_time": 46.5600952,
             "remaining_time": 20.40073203,
             "test": [
              0.3199152753
             ]
            },
            {
             "iteration": 1043,
             "learn": [
              0.0557915572
             ],
             "passed_time": 46.60450962,
             "remaining_time": 20.35599271,
             "test": [
              0.3200401058
             ]
            },
            {
             "iteration": 1044,
             "learn": [
              0.05561408897
             ],
             "passed_time": 46.65416941,
             "remaining_time": 20.31353788,
             "test": [
              0.319752949
             ]
            },
            {
             "iteration": 1045,
             "learn": [
              0.05561199039
             ],
             "passed_time": 46.69568762,
             "remaining_time": 20.26753555,
             "test": [
              0.3197504679
             ]
            },
            {
             "iteration": 1046,
             "learn": [
              0.05559936231
             ],
             "passed_time": 46.73740463,
             "remaining_time": 20.22162779,
             "test": [
              0.3196962868
             ]
            },
            {
             "iteration": 1047,
             "learn": [
              0.05553196489
             ],
             "passed_time": 46.78013158,
             "remaining_time": 20.17616362,
             "test": [
              0.3196260406
             ]
            },
            {
             "iteration": 1048,
             "learn": [
              0.05545260123
             ],
             "passed_time": 46.82321792,
             "remaining_time": 20.13085918,
             "test": [
              0.3193945536
             ]
            },
            {
             "iteration": 1049,
             "learn": [
              0.05536212273
             ],
             "passed_time": 46.87112979,
             "remaining_time": 20.08762705,
             "test": [
              0.319339318
             ]
            },
            {
             "iteration": 1050,
             "learn": [
              0.05532008124
             ],
             "passed_time": 46.91333601,
             "remaining_time": 20.0419485,
             "test": [
              0.3191900486
             ]
            },
            {
             "iteration": 1051,
             "learn": [
              0.05531451052
             ],
             "passed_time": 46.95476548,
             "remaining_time": 19.99594576,
             "test": [
              0.3191712232
             ]
            },
            {
             "iteration": 1052,
             "learn": [
              0.05518051054
             ],
             "passed_time": 47.00328038,
             "remaining_time": 19.95295948,
             "test": [
              0.3191989806
             ]
            },
            {
             "iteration": 1053,
             "learn": [
              0.05517355296
             ],
             "passed_time": 47.04433412,
             "remaining_time": 19.90680552,
             "test": [
              0.3192130608
             ]
            },
            {
             "iteration": 1054,
             "learn": [
              0.05511053895
             ],
             "passed_time": 47.08610515,
             "remaining_time": 19.86096378,
             "test": [
              0.3191798761
             ]
            },
            {
             "iteration": 1055,
             "learn": [
              0.05501775567
             ],
             "passed_time": 47.13332818,
             "remaining_time": 19.81742207,
             "test": [
              0.3190347935
             ]
            },
            {
             "iteration": 1056,
             "learn": [
              0.05501527129
             ],
             "passed_time": 47.17405609,
             "remaining_time": 19.77115123,
             "test": [
              0.3190310408
             ]
            },
            {
             "iteration": 1057,
             "learn": [
              0.05495438912
             ],
             "passed_time": 47.21776326,
             "remaining_time": 19.7261355,
             "test": [
              0.3189108003
             ]
            },
            {
             "iteration": 1058,
             "learn": [
              0.0548802503
             ],
             "passed_time": 47.26248218,
             "remaining_time": 19.68154357,
             "test": [
              0.3189961813
             ]
            },
            {
             "iteration": 1059,
             "learn": [
              0.05487563408
             ],
             "passed_time": 47.3038329,
             "remaining_time": 19.63555328,
             "test": [
              0.3190003372
             ]
            },
            {
             "iteration": 1060,
             "learn": [
              0.0547884315
             ],
             "passed_time": 47.3502784,
             "remaining_time": 19.59167975,
             "test": [
              0.3187519167
             ]
            },
            {
             "iteration": 1061,
             "learn": [
              0.05478571765
             ],
             "passed_time": 47.3918304,
             "remaining_time": 19.54578316,
             "test": [
              0.3187384877
             ]
            },
            {
             "iteration": 1062,
             "learn": [
              0.05478038638
             ],
             "passed_time": 47.43274534,
             "remaining_time": 19.49963284,
             "test": [
              0.3187498077
             ]
            },
            {
             "iteration": 1063,
             "learn": [
              0.05477826119
             ],
             "passed_time": 47.47328472,
             "remaining_time": 19.45333847,
             "test": [
              0.3187440391
             ]
            },
            {
             "iteration": 1064,
             "learn": [
              0.0547085091
             ],
             "passed_time": 47.51839368,
             "remaining_time": 19.40892136,
             "test": [
              0.3185124591
             ]
            },
            {
             "iteration": 1065,
             "learn": [
              0.05467901255
             ],
             "passed_time": 47.55915312,
             "remaining_time": 19.36273213,
             "test": [
              0.318660643
             ]
            },
            {
             "iteration": 1066,
             "learn": [
              0.05467272013
             ],
             "passed_time": 47.60055794,
             "remaining_time": 19.31681499,
             "test": [
              0.3186292261
             ]
            },
            {
             "iteration": 1067,
             "learn": [
              0.05463956519
             ],
             "passed_time": 47.64252102,
             "remaining_time": 19.2711321,
             "test": [
              0.3184526335
             ]
            },
            {
             "iteration": 1068,
             "learn": [
              0.05454624645
             ],
             "passed_time": 47.68671587,
             "remaining_time": 19.22635598,
             "test": [
              0.3185445894
             ]
            },
            {
             "iteration": 1069,
             "learn": [
              0.05435409147
             ],
             "passed_time": 47.73328435,
             "remaining_time": 19.18253483,
             "test": [
              0.3182151918
             ]
            },
            {
             "iteration": 1070,
             "learn": [
              0.05435065259
             ],
             "passed_time": 47.7740572,
             "remaining_time": 19.13638706,
             "test": [
              0.3182162153
             ]
            },
            {
             "iteration": 1071,
             "learn": [
              0.0543442105
             ],
             "passed_time": 47.81482332,
             "remaining_time": 19.09024662,
             "test": [
              0.3181856977
             ]
            },
            {
             "iteration": 1072,
             "learn": [
              0.05432885527
             ],
             "passed_time": 47.85589774,
             "remaining_time": 19.0442389,
             "test": [
              0.318136944
             ]
            },
            {
             "iteration": 1073,
             "learn": [
              0.05432530331
             ],
             "passed_time": 47.89721301,
             "remaining_time": 18.99833589,
             "test": [
              0.3181249727
             ]
            },
            {
             "iteration": 1074,
             "learn": [
              0.05432237993
             ],
             "passed_time": 47.93864493,
             "remaining_time": 18.95248753,
             "test": [
              0.3181204447
             ]
            },
            {
             "iteration": 1075,
             "learn": [
              0.05422689609
             ],
             "passed_time": 47.98186831,
             "remaining_time": 18.90735331,
             "test": [
              0.3179535284
             ]
            },
            {
             "iteration": 1076,
             "learn": [
              0.05422297497
             ],
             "passed_time": 48.02263129,
             "remaining_time": 18.8612563,
             "test": [
              0.3179273218
             ]
            },
            {
             "iteration": 1077,
             "learn": [
              0.05421984539
             ],
             "passed_time": 48.06344529,
             "remaining_time": 18.81518916,
             "test": [
              0.3178998125
             ]
            },
            {
             "iteration": 1078,
             "learn": [
              0.05421055642
             ],
             "passed_time": 48.10458027,
             "remaining_time": 18.76925699,
             "test": [
              0.3178433054
             ]
            },
            {
             "iteration": 1079,
             "learn": [
              0.05410599646
             ],
             "passed_time": 48.1517801,
             "remaining_time": 18.72569226,
             "test": [
              0.3179240653
             ]
            },
            {
             "iteration": 1080,
             "learn": [
              0.05402009759
             ],
             "passed_time": 48.19626549,
             "remaining_time": 18.68106868,
             "test": [
              0.3177893104
             ]
            },
            {
             "iteration": 1081,
             "learn": [
              0.05393893467
             ],
             "passed_time": 48.24113044,
             "remaining_time": 18.63659198,
             "test": [
              0.3175807426
             ]
            },
            {
             "iteration": 1082,
             "learn": [
              0.05390831067
             ],
             "passed_time": 48.28805302,
             "remaining_time": 18.59290684,
             "test": [
              0.3174946793
             ]
            },
            {
             "iteration": 1083,
             "learn": [
              0.05385538715
             ],
             "passed_time": 48.33046412,
             "remaining_time": 18.54748439,
             "test": [
              0.317462642
             ]
            },
            {
             "iteration": 1084,
             "learn": [
              0.05385171546
             ],
             "passed_time": 48.37131595,
             "remaining_time": 18.50147108,
             "test": [
              0.3174659295
             ]
            },
            {
             "iteration": 1085,
             "learn": [
              0.05371979079
             ],
             "passed_time": 48.41795971,
             "remaining_time": 18.45767525,
             "test": [
              0.317305216
             ]
            },
            {
             "iteration": 1086,
             "learn": [
              0.05363085879
             ],
             "passed_time": 48.46559818,
             "remaining_time": 18.41425211,
             "test": [
              0.3173032621
             ]
            },
            {
             "iteration": 1087,
             "learn": [
              0.05362302652
             ],
             "passed_time": 48.50681835,
             "remaining_time": 18.36839077,
             "test": [
              0.3172687437
             ]
            },
            {
             "iteration": 1088,
             "learn": [
              0.0536183837
             ],
             "passed_time": 48.5485431,
             "remaining_time": 18.32272839,
             "test": [
              0.3172836924
             ]
            },
            {
             "iteration": 1089,
             "learn": [
              0.05361428631
             ],
             "passed_time": 48.58932467,
             "remaining_time": 18.27671845,
             "test": [
              0.3172673171
             ]
            },
            {
             "iteration": 1090,
             "learn": [
              0.05361139618
             ],
             "passed_time": 48.63018699,
             "remaining_time": 18.23074838,
             "test": [
              0.3172700153
             ]
            },
            {
             "iteration": 1091,
             "learn": [
              0.05346770149
             ],
             "passed_time": 48.67797402,
             "remaining_time": 18.18737491,
             "test": [
              0.3169346631
             ]
            },
            {
             "iteration": 1092,
             "learn": [
              0.05344847169
             ],
             "passed_time": 48.71900704,
             "remaining_time": 18.14147837,
             "test": [
              0.3169475648
             ]
            },
            {
             "iteration": 1093,
             "learn": [
              0.05344526229
             ],
             "passed_time": 48.76001332,
             "remaining_time": 18.09558081,
             "test": [
              0.3169678169
             ]
            },
            {
             "iteration": 1094,
             "learn": [
              0.05344198305
             ],
             "passed_time": 48.80084309,
             "remaining_time": 18.0496269,
             "test": [
              0.3169683441
             ]
            },
            {
             "iteration": 1095,
             "learn": [
              0.05334988156
             ],
             "passed_time": 48.8444119,
             "remaining_time": 18.00469198,
             "test": [
              0.3169045177
             ]
            },
            {
             "iteration": 1096,
             "learn": [
              0.05327204444
             ],
             "passed_time": 48.89268025,
             "remaining_time": 17.961486,
             "test": [
              0.3169832307
             ]
            },
            {
             "iteration": 1097,
             "learn": [
              0.05321883158
             ],
             "passed_time": 48.9360266,
             "remaining_time": 17.91646875,
             "test": [
              0.3168920191
             ]
            },
            {
             "iteration": 1098,
             "learn": [
              0.05316457108
             ],
             "passed_time": 48.97783493,
             "remaining_time": 17.87089337,
             "test": [
              0.3168975086
             ]
            },
            {
             "iteration": 1099,
             "learn": [
              0.05315922651
             ],
             "passed_time": 49.01903112,
             "remaining_time": 17.82510223,
             "test": [
              0.3168823738
             ]
            },
            {
             "iteration": 1100,
             "learn": [
              0.05303801093
             ],
             "passed_time": 49.06700706,
             "remaining_time": 17.7817764,
             "test": [
              0.3169082393
             ]
            },
            {
             "iteration": 1101,
             "learn": [
              0.05298262299
             ],
             "passed_time": 49.11065803,
             "remaining_time": 17.73688012,
             "test": [
              0.3168358531
             ]
            },
            {
             "iteration": 1102,
             "learn": [
              0.05289415328
             ],
             "passed_time": 49.15908106,
             "remaining_time": 17.6937037,
             "test": [
              0.3166075916
             ]
            },
            {
             "iteration": 1103,
             "learn": [
              0.05285999727
             ],
             "passed_time": 49.19968439,
             "remaining_time": 17.64771288,
             "test": [
              0.3166435676
             ]
            },
            {
             "iteration": 1104,
             "learn": [
              0.05285672801
             ],
             "passed_time": 49.23991824,
             "remaining_time": 17.60159973,
             "test": [
              0.3166143526
             ]
            },
            {
             "iteration": 1105,
             "learn": [
              0.0527174267
             ],
             "passed_time": 49.28745702,
             "remaining_time": 17.55809952,
             "test": [
              0.3167126663
             ]
            },
            {
             "iteration": 1106,
             "learn": [
              0.05270361796
             ],
             "passed_time": 49.32927579,
             "remaining_time": 17.51256132,
             "test": [
              0.316633333
             ]
            },
            {
             "iteration": 1107,
             "learn": [
              0.0525464704
             ],
             "passed_time": 49.37703296,
             "remaining_time": 17.46913079,
             "test": [
              0.3163683201
             ]
            },
            {
             "iteration": 1108,
             "learn": [
              0.05247694779
             ],
             "passed_time": 49.42041834,
             "remaining_time": 17.4241511,
             "test": [
              0.316309549
             ]
            },
            {
             "iteration": 1109,
             "learn": [
              0.05247560749
             ],
             "passed_time": 49.46080956,
             "remaining_time": 17.37812228,
             "test": [
              0.3163090217
             ]
            },
            {
             "iteration": 1110,
             "learn": [
              0.05245766478
             ],
             "passed_time": 49.5017178,
             "remaining_time": 17.33228463,
             "test": [
              0.3163174575
             ]
            },
            {
             "iteration": 1111,
             "learn": [
              0.05245006531
             ],
             "passed_time": 49.54278308,
             "remaining_time": 17.28651064,
             "test": [
              0.3162950035
             ]
            },
            {
             "iteration": 1112,
             "learn": [
              0.05231698326
             ],
             "passed_time": 49.58923185,
             "remaining_time": 17.242617,
             "test": [
              0.3162684557
             ]
            },
            {
             "iteration": 1113,
             "learn": [
              0.05223150677
             ],
             "passed_time": 49.63614014,
             "remaining_time": 17.198878,
             "test": [
              0.3161422605
             ]
            },
            {
             "iteration": 1114,
             "learn": [
              0.05207833022
             ],
             "passed_time": 49.68297805,
             "remaining_time": 17.15510901,
             "test": [
              0.3160462108
             ]
            },
            {
             "iteration": 1115,
             "learn": [
              0.05207584251
             ],
             "passed_time": 49.7242707,
             "remaining_time": 17.10942648,
             "test": [
              0.3160581511
             ]
            },
            {
             "iteration": 1116,
             "learn": [
              0.05207149236
             ],
             "passed_time": 49.76508589,
             "remaining_time": 17.06358809,
             "test": [
              0.3160320685
             ]
            },
            {
             "iteration": 1117,
             "learn": [
              0.05204058234
             ],
             "passed_time": 49.80841009,
             "remaining_time": 17.01861597,
             "test": [
              0.3161166742
             ]
            },
            {
             "iteration": 1118,
             "learn": [
              0.05187165477
             ],
             "passed_time": 49.85755264,
             "remaining_time": 16.97562784,
             "test": [
              0.3159022137
             ]
            },
            {
             "iteration": 1119,
             "learn": [
              0.05186448101
             ],
             "passed_time": 49.89914075,
             "remaining_time": 16.93006561,
             "test": [
              0.315896042
             ]
            },
            {
             "iteration": 1120,
             "learn": [
              0.0518591697
             ],
             "passed_time": 49.93955257,
             "remaining_time": 16.88411278,
             "test": [
              0.3158984921
             ]
            },
            {
             "iteration": 1121,
             "learn": [
              0.05178921807
             ],
             "passed_time": 49.98720447,
             "remaining_time": 16.84060899,
             "test": [
              0.315815189
             ]
            },
            {
             "iteration": 1122,
             "learn": [
              0.05166184975
             ],
             "passed_time": 50.03545124,
             "remaining_time": 16.79729752,
             "test": [
              0.3156408915
             ]
            },
            {
             "iteration": 1123,
             "learn": [
              0.0516572036
             ],
             "passed_time": 50.07589011,
             "remaining_time": 16.75136538,
             "test": [
              0.3156372008
             ]
            },
            {
             "iteration": 1124,
             "learn": [
              0.05147182993
             ],
             "passed_time": 50.12347237,
             "remaining_time": 16.70782412,
             "test": [
              0.3156525527
             ]
            },
            {
             "iteration": 1125,
             "learn": [
              0.05145779172
             ],
             "passed_time": 50.1643017,
             "remaining_time": 16.66203271,
             "test": [
              0.315655623
             ]
            },
            {
             "iteration": 1126,
             "learn": [
              0.05139282213
             ],
             "passed_time": 50.20754427,
             "remaining_time": 16.61704881,
             "test": [
              0.3155587359
             ]
            },
            {
             "iteration": 1127,
             "learn": [
              0.0513050841
             ],
             "passed_time": 50.24976584,
             "remaining_time": 16.57173129,
             "test": [
              0.3154108931
             ]
            },
            {
             "iteration": 1128,
             "learn": [
              0.05128998827
             ],
             "passed_time": 50.29143872,
             "remaining_time": 16.52623894,
             "test": [
              0.315372343
             ]
            },
            {
             "iteration": 1129,
             "learn": [
              0.0512813312
             ],
             "passed_time": 50.33278359,
             "remaining_time": 16.48064595,
             "test": [
              0.3153357777
             ]
            },
            {
             "iteration": 1130,
             "learn": [
              0.05112399406
             ],
             "passed_time": 50.37945365,
             "remaining_time": 16.43679787,
             "test": [
              0.3151333196
             ]
            },
            {
             "iteration": 1131,
             "learn": [
              0.0510716958
             ],
             "passed_time": 50.42136668,
             "remaining_time": 16.39139836,
             "test": [
              0.3149707453
             ]
            },
            {
             "iteration": 1132,
             "learn": [
              0.05095159103
             ],
             "passed_time": 50.46832084,
             "remaining_time": 16.34763791,
             "test": [
              0.3147347303
             ]
            },
            {
             "iteration": 1133,
             "learn": [
              0.05084206898
             ],
             "passed_time": 50.51806629,
             "remaining_time": 16.30477272,
             "test": [
              0.3147121212
             ]
            },
            {
             "iteration": 1134,
             "learn": [
              0.05083549054
             ],
             "passed_time": 50.55842549,
             "remaining_time": 16.25887692,
             "test": [
              0.3146919002
             ]
            },
            {
             "iteration": 1135,
             "learn": [
              0.05083273012
             ],
             "passed_time": 50.59951946,
             "remaining_time": 16.21322631,
             "test": [
              0.3147020418
             ]
            },
            {
             "iteration": 1136,
             "learn": [
              0.05082964045
             ],
             "passed_time": 50.63996818,
             "remaining_time": 16.1673777,
             "test": [
              0.3147012354
             ]
            },
            {
             "iteration": 1137,
             "learn": [
              0.05082390011
             ],
             "passed_time": 50.68103597,
             "remaining_time": 16.12173552,
             "test": [
              0.3146952187
             ]
            },
            {
             "iteration": 1138,
             "learn": [
              0.05082125942
             ],
             "passed_time": 50.72200012,
             "remaining_time": 16.07606852,
             "test": [
              0.3146914971
             ]
            },
            {
             "iteration": 1139,
             "learn": [
              0.05081528628
             ],
             "passed_time": 50.7624337,
             "remaining_time": 16.03024222,
             "test": [
              0.3146611966
             ]
            },
            {
             "iteration": 1140,
             "learn": [
              0.05081058027
             ],
             "passed_time": 50.80342152,
             "remaining_time": 15.98459976,
             "test": [
              0.3146514272
             ]
            },
            {
             "iteration": 1141,
             "learn": [
              0.05075808245
             ],
             "passed_time": 50.84514529,
             "remaining_time": 15.93919616,
             "test": [
              0.3144420221
             ]
            },
            {
             "iteration": 1142,
             "learn": [
              0.05063123296
             ],
             "passed_time": 50.89148606,
             "remaining_time": 15.89524105,
             "test": [
              0.3142411767
             ]
            },
            {
             "iteration": 1143,
             "learn": [
              0.0505418819
             ],
             "passed_time": 50.93531242,
             "remaining_time": 15.85049932,
             "test": [
              0.3143008472
             ]
            },
            {
             "iteration": 1144,
             "learn": [
              0.05053894189
             ],
             "passed_time": 50.9758132,
             "remaining_time": 15.80472811,
             "test": [
              0.3142983661
             ]
            },
            {
             "iteration": 1145,
             "learn": [
              0.05053334124
             ],
             "passed_time": 51.01706172,
             "remaining_time": 15.75919707,
             "test": [
              0.3142502327
             ]
            },
            {
             "iteration": 1146,
             "learn": [
              0.05049059468
             ],
             "passed_time": 51.05827098,
             "remaining_time": 15.71366143,
             "test": [
              0.3142030918
             ]
            },
            {
             "iteration": 1147,
             "learn": [
              0.05034133592
             ],
             "passed_time": 51.10614504,
             "remaining_time": 15.67017688,
             "test": [
              0.3139400947
             ]
            },
            {
             "iteration": 1148,
             "learn": [
              0.05022095844
             ],
             "passed_time": 51.15141103,
             "remaining_time": 15.62588796,
             "test": [
              0.3138422462
             ]
            },
            {
             "iteration": 1149,
             "learn": [
              0.05018065302
             ],
             "passed_time": 51.19292968,
             "remaining_time": 15.58045686,
             "test": [
              0.3137729924
             ]
            },
            {
             "iteration": 1150,
             "learn": [
              0.05017249482
             ],
             "passed_time": 51.23359097,
             "remaining_time": 15.53477259,
             "test": [
              0.3137718139
             ]
            },
            {
             "iteration": 1151,
             "learn": [
              0.05016809478
             ],
             "passed_time": 51.27445954,
             "remaining_time": 15.48915965,
             "test": [
              0.3137707904
             ]
            },
            {
             "iteration": 1152,
             "learn": [
              0.05016585652
             ],
             "passed_time": 51.31617425,
             "remaining_time": 15.4438096,
             "test": [
              0.3137679682
             ]
            },
            {
             "iteration": 1153,
             "learn": [
              0.05007680811
             ],
             "passed_time": 51.36313945,
             "remaining_time": 15.40004008,
             "test": [
              0.3135549034
             ]
            },
            {
             "iteration": 1154,
             "learn": [
              0.05004900439
             ],
             "passed_time": 51.4050337,
             "remaining_time": 15.35475033,
             "test": [
              0.3134399352
             ]
            },
            {
             "iteration": 1155,
             "learn": [
              0.0499857609
             ],
             "passed_time": 51.44737693,
             "remaining_time": 15.30960005,
             "test": [
              0.3133350775
             ]
            },
            {
             "iteration": 1156,
             "learn": [
              0.04989534892
             ],
             "passed_time": 51.49242665,
             "remaining_time": 15.26525699,
             "test": [
              0.3131800086
             ]
            },
            {
             "iteration": 1157,
             "learn": [
              0.04989176038
             ],
             "passed_time": 51.53250947,
             "remaining_time": 15.2194458,
             "test": [
              0.3131679752
             ]
            },
            {
             "iteration": 1158,
             "learn": [
              0.04988687477
             ],
             "passed_time": 51.5728488,
             "remaining_time": 15.17371997,
             "test": [
              0.3131838543
             ]
            },
            {
             "iteration": 1159,
             "learn": [
              0.04985261899
             ],
             "passed_time": 51.61524204,
             "remaining_time": 15.12860543,
             "test": [
              0.3131837922
             ]
            },
            {
             "iteration": 1160,
             "learn": [
              0.04981469484
             ],
             "passed_time": 51.65810206,
             "remaining_time": 15.08363187,
             "test": [
              0.313212449
             ]
            },
            {
             "iteration": 1161,
             "learn": [
              0.04981195771
             ],
             "passed_time": 51.69917228,
             "remaining_time": 15.03814133,
             "test": [
              0.3132112395
             ]
            },
            {
             "iteration": 1162,
             "learn": [
              0.04980946335
             ],
             "passed_time": 51.73908093,
             "remaining_time": 14.99232182,
             "test": [
              0.3132015321
             ]
            },
            {
             "iteration": 1163,
             "learn": [
              0.04980329731
             ],
             "passed_time": 51.7799587,
             "remaining_time": 14.9467922,
             "test": [
              0.313212542
             ]
            },
            {
             "iteration": 1164,
             "learn": [
              0.0497305653
             ],
             "passed_time": 51.82489083,
             "remaining_time": 14.90243642,
             "test": [
              0.3129751934
             ]
            },
            {
             "iteration": 1165,
             "learn": [
              0.04966648704
             ],
             "passed_time": 51.87091254,
             "remaining_time": 14.85839176,
             "test": [
              0.3129224079
             ]
            },
            {
             "iteration": 1166,
             "learn": [
              0.04958399047
             ],
             "passed_time": 51.91838325,
             "remaining_time": 14.81475717,
             "test": [
              0.3127490408
             ]
            },
            {
             "iteration": 1167,
             "learn": [
              0.04956028746
             ],
             "passed_time": 51.96035217,
             "remaining_time": 14.76955216,
             "test": [
              0.3126584805
             ]
            },
            {
             "iteration": 1168,
             "learn": [
              0.04955535197
             ],
             "passed_time": 52.00150879,
             "remaining_time": 14.72412268,
             "test": [
              0.3126395001
             ]
            },
            {
             "iteration": 1169,
             "learn": [
              0.0495007988
             ],
             "passed_time": 52.04472305,
             "remaining_time": 14.67928086,
             "test": [
              0.3124084783
             ]
            },
            {
             "iteration": 1170,
             "learn": [
              0.04942045403
             ],
             "passed_time": 52.09209078,
             "remaining_time": 14.63560877,
             "test": [
              0.3122963014
             ]
            },
            {
             "iteration": 1171,
             "learn": [
              0.04941306742
             ],
             "passed_time": 52.13243199,
             "remaining_time": 14.5899639,
             "test": [
              0.3123184452
             ]
            },
            {
             "iteration": 1172,
             "learn": [
              0.04940432721
             ],
             "passed_time": 52.17238258,
             "remaining_time": 14.54421919,
             "test": [
              0.3122839269
             ]
            },
            {
             "iteration": 1173,
             "learn": [
              0.04940161002
             ],
             "passed_time": 52.21355268,
             "remaining_time": 14.49882298,
             "test": [
              0.3122902847
             ]
            },
            {
             "iteration": 1174,
             "learn": [
              0.04939710023
             ],
             "passed_time": 52.25372574,
             "remaining_time": 14.45315818,
             "test": [
              0.3122894163
             ]
            },
            {
             "iteration": 1175,
             "learn": [
              0.04936399518
             ],
             "passed_time": 52.29556804,
             "remaining_time": 14.40796262,
             "test": [
              0.312165113
             ]
            },
            {
             "iteration": 1176,
             "learn": [
              0.04935835129
             ],
             "passed_time": 52.33633082,
             "remaining_time": 14.36247651,
             "test": [
              0.3121520872
             ]
            },
            {
             "iteration": 1177,
             "learn": [
              0.04926714777
             ],
             "passed_time": 52.38289438,
             "remaining_time": 14.31858403,
             "test": [
              0.3122469274
             ]
            },
            {
             "iteration": 1178,
             "learn": [
              0.04913033749
             ],
             "passed_time": 52.43218052,
             "remaining_time": 14.27542828,
             "test": [
              0.3119884584
             ]
            },
            {
             "iteration": 1179,
             "learn": [
              0.04908909419
             ],
             "passed_time": 52.47706795,
             "remaining_time": 14.23106927,
             "test": [
              0.31202797
             ]
            },
            {
             "iteration": 1180,
             "learn": [
              0.04908711201
             ],
             "passed_time": 52.51732706,
             "remaining_time": 14.18545921,
             "test": [
              0.3120224805
             ]
            },
            {
             "iteration": 1181,
             "learn": [
              0.04905343492
             ],
             "passed_time": 52.56038562,
             "remaining_time": 14.14061136,
             "test": [
              0.3119980107
             ]
            },
            {
             "iteration": 1182,
             "learn": [
              0.04893357294
             ],
             "passed_time": 52.60615985,
             "remaining_time": 14.09649423,
             "test": [
              0.3121275553
             ]
            },
            {
             "iteration": 1183,
             "learn": [
              0.04893068947
             ],
             "passed_time": 52.64663715,
             "remaining_time": 14.05096059,
             "test": [
              0.312126842
             ]
            },
            {
             "iteration": 1184,
             "learn": [
              0.04892900329
             ],
             "passed_time": 52.68727815,
             "remaining_time": 14.005479,
             "test": [
              0.3121195847
             ]
            },
            {
             "iteration": 1185,
             "learn": [
              0.04884950659
             ],
             "passed_time": 52.73294046,
             "remaining_time": 13.96133499,
             "test": [
              0.3118176344
             ]
            },
            {
             "iteration": 1186,
             "learn": [
              0.0488469424
             ],
             "passed_time": 52.77330363,
             "remaining_time": 13.9157911,
             "test": [
              0.3118247366
             ]
            },
            {
             "iteration": 1187,
             "learn": [
              0.04877656173
             ],
             "passed_time": 52.81956966,
             "remaining_time": 13.87180617,
             "test": [
              0.3115625769
             ]
            },
            {
             "iteration": 1188,
             "learn": [
              0.04868353234
             ],
             "passed_time": 52.86585805,
             "remaining_time": 13.82782326,
             "test": [
              0.3114936953
             ]
            },
            {
             "iteration": 1189,
             "learn": [
              0.04867944493
             ],
             "passed_time": 52.90689819,
             "remaining_time": 13.78246928,
             "test": [
              0.3114834917
             ]
            },
            {
             "iteration": 1190,
             "learn": [
              0.04867491186
             ],
             "passed_time": 52.9479435,
             "remaining_time": 13.73712388,
             "test": [
              0.311486407
             ]
            },
            {
             "iteration": 1191,
             "learn": [
              0.04864943952
             ],
             "passed_time": 52.99122257,
             "remaining_time": 13.69236288,
             "test": [
              0.3114949668
             ]
            },
            {
             "iteration": 1192,
             "learn": [
              0.04855960291
             ],
             "passed_time": 53.03848346,
             "remaining_time": 13.64862902,
             "test": [
              0.3114044996
             ]
            },
            {
             "iteration": 1193,
             "learn": [
              0.0484876059
             ],
             "passed_time": 53.08478281,
             "remaining_time": 13.60464283,
             "test": [
              0.3114116017
             ]
            },
            {
             "iteration": 1194,
             "learn": [
              0.04848518804
             ],
             "passed_time": 53.12512864,
             "remaining_time": 13.55913325,
             "test": [
              0.3114117878
             ]
            },
            {
             "iteration": 1195,
             "learn": [
              0.04845189674
             ],
             "passed_time": 53.16649044,
             "remaining_time": 13.51389055,
             "test": [
              0.3114225496
             ]
            },
            {
             "iteration": 1196,
             "learn": [
              0.04841655342
             ],
             "passed_time": 53.21036114,
             "remaining_time": 13.46928941,
             "test": [
              0.3114320708
             ]
            },
            {
             "iteration": 1197,
             "learn": [
              0.04829975451
             ],
             "passed_time": 53.25879064,
             "remaining_time": 13.42583871,
             "test": [
              0.3112420493
             ]
            },
            {
             "iteration": 1198,
             "learn": [
              0.04829499196
             ],
             "passed_time": 53.29909822,
             "remaining_time": 13.38034075,
             "test": [
              0.3112456779
             ]
            },
            {
             "iteration": 1199,
             "learn": [
              0.04828750225
             ],
             "passed_time": 53.33979006,
             "remaining_time": 13.33494751,
             "test": [
              0.3112312875
             ]
            },
            {
             "iteration": 1200,
             "learn": [
              0.04827305495
             ],
             "passed_time": 53.38094915,
             "remaining_time": 13.28967843,
             "test": [
              0.3111722993
             ]
            },
            {
             "iteration": 1201,
             "learn": [
              0.04816082237
             ],
             "passed_time": 53.42864152,
             "remaining_time": 13.24603592,
             "test": [
              0.3111846428
             ]
            },
            {
             "iteration": 1202,
             "learn": [
              0.04805883659
             ],
             "passed_time": 53.47648853,
             "remaining_time": 13.20242485,
             "test": [
              0.3110217583
             ]
            },
            {
             "iteration": 1203,
             "learn": [
              0.04800124364
             ],
             "passed_time": 53.52008409,
             "remaining_time": 13.15776154,
             "test": [
              0.3112374903
             ]
            },
            {
             "iteration": 1204,
             "learn": [
              0.04791404438
             ],
             "passed_time": 53.56809198,
             "remaining_time": 13.11418019,
             "test": [
              0.3110104072
             ]
            },
            {
             "iteration": 1205,
             "learn": [
              0.04784102303
             ],
             "passed_time": 53.61379603,
             "remaining_time": 13.07002988,
             "test": [
              0.3108176565
             ]
            },
            {
             "iteration": 1206,
             "learn": [
              0.04783736132
             ],
             "passed_time": 53.6545139,
             "remaining_time": 13.02466659,
             "test": [
              0.3107938069
             ]
            },
            {
             "iteration": 1207,
             "learn": [
              0.04777574082
             ],
             "passed_time": 53.69791775,
             "remaining_time": 12.97996025,
             "test": [
              0.3106366289
             ]
            },
            {
             "iteration": 1208,
             "learn": [
              0.04776621572
             ],
             "passed_time": 53.7382315,
             "remaining_time": 12.9345123,
             "test": [
              0.3105877202
             ]
            },
            {
             "iteration": 1209,
             "learn": [
              0.04762917929
             ],
             "passed_time": 53.78591703,
             "remaining_time": 12.89083962,
             "test": [
              0.3102616721
             ]
            },
            {
             "iteration": 1210,
             "learn": [
              0.04762606633
             ],
             "passed_time": 53.8263439,
             "remaining_time": 12.84542806,
             "test": [
              0.3102795671
             ]
            },
            {
             "iteration": 1211,
             "learn": [
              0.04762012645
             ],
             "passed_time": 53.8672282,
             "remaining_time": 12.80013343,
             "test": [
              0.3103088751
             ]
            },
            {
             "iteration": 1212,
             "learn": [
              0.0476147719
             ],
             "passed_time": 53.90788307,
             "remaining_time": 12.75479179,
             "test": [
              0.3102858008
             ]
            },
            {
             "iteration": 1213,
             "learn": [
              0.04761244051
             ],
             "passed_time": 53.94819773,
             "remaining_time": 12.70937772,
             "test": [
              0.3102926859
             ]
            },
            {
             "iteration": 1214,
             "learn": [
              0.04760810034
             ],
             "passed_time": 53.98815774,
             "remaining_time": 12.66388885,
             "test": [
              0.3102874756
             ]
            },
            {
             "iteration": 1215,
             "learn": [
              0.04746596212
             ],
             "passed_time": 54.03557661,
             "remaining_time": 12.62015112,
             "test": [
              0.3101076266
             ]
            },
            {
             "iteration": 1216,
             "learn": [
              0.04746249996
             ],
             "passed_time": 54.0763285,
             "remaining_time": 12.574857,
             "test": [
              0.310110883
             ]
            },
            {
             "iteration": 1217,
             "learn": [
              0.04745670974
             ],
             "passed_time": 54.11798729,
             "remaining_time": 12.52978031,
             "test": [
              0.3101071614
             ]
            },
            {
             "iteration": 1218,
             "learn": [
              0.04745229972
             ],
             "passed_time": 54.15861925,
             "remaining_time": 12.48447253,
             "test": [
              0.3100862581
             ]
            },
            {
             "iteration": 1219,
             "learn": [
              0.04736469472
             ],
             "passed_time": 54.20593576,
             "remaining_time": 12.44070657,
             "test": [
              0.3100767988
             ]
            },
            {
             "iteration": 1220,
             "learn": [
              0.04727008889
             ],
             "passed_time": 54.25287491,
             "remaining_time": 12.39684857,
             "test": [
              0.3099703905
             ]
            },
            {
             "iteration": 1221,
             "learn": [
              0.04726755463
             ],
             "passed_time": 54.29379207,
             "remaining_time": 12.35161555,
             "test": [
              0.3099716931
             ]
            },
            {
             "iteration": 1222,
             "learn": [
              0.04726228988
             ],
             "passed_time": 54.33422987,
             "remaining_time": 12.30628101,
             "test": [
              0.3099456415
             ]
            },
            {
             "iteration": 1223,
             "learn": [
              0.04726044074
             ],
             "passed_time": 54.37463489,
             "remaining_time": 12.26094708,
             "test": [
              0.3099484948
             ]
            },
            {
             "iteration": 1224,
             "learn": [
              0.04718357475
             ],
             "passed_time": 54.42278191,
             "remaining_time": 12.2173592,
             "test": [
              0.3095823148
             ]
            },
            {
             "iteration": 1225,
             "learn": [
              0.04711205334
             ],
             "passed_time": 54.47002138,
             "remaining_time": 12.17356106,
             "test": [
              0.3095718322
             ]
            },
            {
             "iteration": 1226,
             "learn": [
              0.04702138527
             ],
             "passed_time": 54.51733918,
             "remaining_time": 12.12977473,
             "test": [
              0.309488343
             ]
            },
            {
             "iteration": 1227,
             "learn": [
              0.04701863483
             ],
             "passed_time": 54.55789831,
             "remaining_time": 12.08448562,
             "test": [
              0.3094819852
             ]
            },
            {
             "iteration": 1228,
             "learn": [
              0.04701440773
             ],
             "passed_time": 54.59839989,
             "remaining_time": 12.03919151,
             "test": [
              0.3094874436
             ]
            },
            {
             "iteration": 1229,
             "learn": [
              0.04700832483
             ],
             "passed_time": 54.63977604,
             "remaining_time": 11.99409718,
             "test": [
              0.3094828536
             ]
            },
            {
             "iteration": 1230,
             "learn": [
              0.04692446136
             ],
             "passed_time": 54.68397196,
             "remaining_time": 11.94962507,
             "test": [
              0.3093546425
             ]
            },
            {
             "iteration": 1231,
             "learn": [
              0.04692114886
             ],
             "passed_time": 54.72410438,
             "remaining_time": 11.90426946,
             "test": [
              0.3093632334
             ]
            },
            {
             "iteration": 1232,
             "learn": [
              0.04691420125
             ],
             "passed_time": 54.76454522,
             "remaining_time": 11.85898911,
             "test": [
              0.3093520684
             ]
            },
            {
             "iteration": 1233,
             "learn": [
              0.04681607008
             ],
             "passed_time": 54.80983072,
             "remaining_time": 11.81476092,
             "test": [
              0.3092552123
             ]
            },
            {
             "iteration": 1234,
             "learn": [
              0.04681277753
             ],
             "passed_time": 54.85006013,
             "remaining_time": 11.7694461,
             "test": [
              0.3092560807
             ]
            },
            {
             "iteration": 1235,
             "learn": [
              0.04680793516
             ],
             "passed_time": 54.89049452,
             "remaining_time": 11.7241833,
             "test": [
              0.3092330374
             ]
            },
            {
             "iteration": 1236,
             "learn": [
              0.04675308933
             ],
             "passed_time": 54.93747702,
             "remaining_time": 11.6803205,
             "test": [
              0.3090736575
             ]
            },
            {
             "iteration": 1237,
             "learn": [
              0.04664194761
             ],
             "passed_time": 54.98672273,
             "remaining_time": 11.63693163,
             "test": [
              0.3091763752
             ]
            },
            {
             "iteration": 1238,
             "learn": [
              0.04660174861
             ],
             "passed_time": 55.02938676,
             "remaining_time": 11.59214685,
             "test": [
              0.3092085986
             ]
            },
            {
             "iteration": 1239,
             "learn": [
              0.04655411977
             ],
             "passed_time": 55.0732493,
             "remaining_time": 11.54761679,
             "test": [
              0.3090888543
             ]
            },
            {
             "iteration": 1240,
             "learn": [
              0.04655165868
             ],
             "passed_time": 55.11404916,
             "remaining_time": 11.50244862,
             "test": [
              0.3090823414
             ]
            },
            {
             "iteration": 1241,
             "learn": [
              0.04646553365
             ],
             "passed_time": 55.16111269,
             "remaining_time": 11.45858863,
             "test": [
              0.3088053882
             ]
            },
            {
             "iteration": 1242,
             "learn": [
              0.04632368811
             ],
             "passed_time": 55.20933819,
             "remaining_time": 11.41496373,
             "test": [
              0.3086675939
             ]
            },
            {
             "iteration": 1243,
             "learn": [
              0.04628657546
             ],
             "passed_time": 55.25466828,
             "remaining_time": 11.3707356,
             "test": [
              0.3086123583
             ]
            },
            {
             "iteration": 1244,
             "learn": [
              0.04622713004
             ],
             "passed_time": 55.29898098,
             "remaining_time": 11.32629731,
             "test": [
              0.3083267522
             ]
            },
            {
             "iteration": 1245,
             "learn": [
              0.04618742327
             ],
             "passed_time": 55.34488371,
             "remaining_time": 11.28218336,
             "test": [
              0.3083096946
             ]
            },
            {
             "iteration": 1246,
             "learn": [
              0.04614354926
             ],
             "passed_time": 55.3851328,
             "remaining_time": 11.23691948,
             "test": [
              0.3081367307
             ]
            },
            {
             "iteration": 1247,
             "learn": [
              0.04611822659
             ],
             "passed_time": 55.42841303,
             "remaining_time": 11.19227571,
             "test": [
              0.3080840072
             ]
            },
            {
             "iteration": 1248,
             "learn": [
              0.04611329775
             ],
             "passed_time": 55.46890738,
             "remaining_time": 11.14707426,
             "test": [
              0.3080809678
             ]
            },
            {
             "iteration": 1249,
             "learn": [
              0.04604305344
             ],
             "passed_time": 55.51532199,
             "remaining_time": 11.1030644,
             "test": [
              0.3080518149
             ]
            },
            {
             "iteration": 1250,
             "learn": [
              0.04597700297
             ],
             "passed_time": 55.55865298,
             "remaining_time": 11.05843692,
             "test": [
              0.3078582267
             ]
            },
            {
             "iteration": 1251,
             "learn": [
              0.04595627323
             ],
             "passed_time": 55.60015622,
             "remaining_time": 11.01344948,
             "test": [
              0.3078534816
             ]
            },
            {
             "iteration": 1252,
             "learn": [
              0.04595353942
             ],
             "passed_time": 55.64043664,
             "remaining_time": 10.96822654,
             "test": [
              0.3078440224
             ]
            },
            {
             "iteration": 1253,
             "learn": [
              0.04587216365
             ],
             "passed_time": 55.68701794,
             "remaining_time": 10.92424754,
             "test": [
              0.3076711515
             ]
            },
            {
             "iteration": 1254,
             "learn": [
              0.04586841547
             ],
             "passed_time": 55.7278664,
             "remaining_time": 10.87914523,
             "test": [
              0.3076731054
             ]
            },
            {
             "iteration": 1255,
             "learn": [
              0.04586586125
             ],
             "passed_time": 55.76895664,
             "remaining_time": 10.83409667,
             "test": [
              0.30766101
             ]
            },
            {
             "iteration": 1256,
             "learn": [
              0.045767321
             ],
             "passed_time": 55.81746666,
             "remaining_time": 10.79048878,
             "test": [
              0.3075893991
             ]
            },
            {
             "iteration": 1257,
             "learn": [
              0.04575676822
             ],
             "passed_time": 55.85895903,
             "remaining_time": 10.74552312,
             "test": [
              0.3075809634
             ]
            },
            {
             "iteration": 1258,
             "learn": [
              0.04573239008
             ],
             "passed_time": 55.90030137,
             "remaining_time": 10.70053426,
             "test": [
              0.3075952297
             ]
            },
            {
             "iteration": 1259,
             "learn": [
              0.04570100447
             ],
             "passed_time": 55.94379345,
             "remaining_time": 10.65596066,
             "test": [
              0.30761604
             ]
            },
            {
             "iteration": 1260,
             "learn": [
              0.045696498
             ],
             "passed_time": 55.98449119,
             "remaining_time": 10.61085916,
             "test": [
              0.3076264916
             ]
            },
            {
             "iteration": 1261,
             "learn": [
              0.04566924969
             ],
             "passed_time": 56.02693323,
             "remaining_time": 10.56609359,
             "test": [
              0.307555284
             ]
            },
            {
             "iteration": 1262,
             "learn": [
              0.04562409192
             ],
             "passed_time": 56.06889948,
             "remaining_time": 10.52124242,
             "test": [
              0.3075803741
             ]
            },
            {
             "iteration": 1263,
             "learn": [
              0.04554920147
             ],
             "passed_time": 56.11490164,
             "remaining_time": 10.47714936,
             "test": [
              0.3075314654
             ]
            },
            {
             "iteration": 1264,
             "learn": [
              0.04554740221
             ],
             "passed_time": 56.15585717,
             "remaining_time": 10.43211576,
             "test": [
              0.3075218511
             ]
            },
            {
             "iteration": 1265,
             "learn": [
              0.04548897781
             ],
             "passed_time": 56.19966828,
             "remaining_time": 10.38761641,
             "test": [
              0.3074192574
             ]
            },
            {
             "iteration": 1266,
             "learn": [
              0.04548640363
             ],
             "passed_time": 56.24006326,
             "remaining_time": 10.34248993,
             "test": [
              0.3074123724
             ]
            },
            {
             "iteration": 1267,
             "learn": [
              0.04540650452
             ],
             "passed_time": 56.28684532,
             "remaining_time": 10.29853952,
             "test": [
              0.307143979
             ]
            },
            {
             "iteration": 1268,
             "learn": [
              0.04540337161
             ],
             "passed_time": 56.32749382,
             "remaining_time": 10.25346814,
             "test": [
              0.3071335893
             ]
            },
            {
             "iteration": 1269,
             "learn": [
              0.04535180834
             ],
             "passed_time": 56.36986431,
             "remaining_time": 10.20871558,
             "test": [
              0.3071027926
             ]
            },
            {
             "iteration": 1270,
             "learn": [
              0.0453496765
             ],
             "passed_time": 56.40989301,
             "remaining_time": 10.16354485,
             "test": [
              0.3071040022
             ]
            },
            {
             "iteration": 1271,
             "learn": [
              0.04524085952
             ],
             "passed_time": 56.45334144,
             "remaining_time": 10.11899516,
             "test": [
              0.3070082936
             ]
            },
            {
             "iteration": 1272,
             "learn": [
              0.04523789955
             ],
             "passed_time": 56.49386933,
             "remaining_time": 10.07392642,
             "test": [
              0.3069837927
             ]
            },
            {
             "iteration": 1273,
             "learn": [
              0.04511375061
             ],
             "passed_time": 56.54116743,
             "remaining_time": 10.03006581,
             "test": [
              0.3067602452
             ]
            },
            {
             "iteration": 1274,
             "learn": [
              0.04511042148
             ],
             "passed_time": 56.58169408,
             "remaining_time": 9.985004838,
             "test": [
              0.3067890881
             ]
            },
            {
             "iteration": 1275,
             "learn": [
              0.04505376309
             ],
             "passed_time": 56.62729099,
             "remaining_time": 9.940841052,
             "test": [
              0.3066615903
             ]
            },
            {
             "iteration": 1276,
             "learn": [
              0.04496721901
             ],
             "passed_time": 56.67526526,
             "remaining_time": 9.897090174,
             "test": [
              0.3063422723
             ]
            },
            {
             "iteration": 1277,
             "learn": [
              0.04489984155
             ],
             "passed_time": 56.72133199,
             "remaining_time": 9.853001331,
             "test": [
              0.3064011985
             ]
            },
            {
             "iteration": 1278,
             "learn": [
              0.0448271694
             ],
             "passed_time": 56.76638158,
             "remaining_time": 9.808733642,
             "test": [
              0.3063250286
             ]
            },
            {
             "iteration": 1279,
             "learn": [
              0.0448258158
             ],
             "passed_time": 56.80653573,
             "remaining_time": 9.763623328,
             "test": [
              0.3063333093
             ]
            },
            {
             "iteration": 1280,
             "learn": [
              0.04475377556
             ],
             "passed_time": 56.85228712,
             "remaining_time": 9.719477657,
             "test": [
              0.3060339951
             ]
            },
            {
             "iteration": 1281,
             "learn": [
              0.04474605304
             ],
             "passed_time": 56.89373952,
             "remaining_time": 9.674598451,
             "test": [
              0.3060262416
             ]
            },
            {
             "iteration": 1282,
             "learn": [
              0.04473234408
             ],
             "passed_time": 56.93462018,
             "remaining_time": 9.629627886,
             "test": [
              0.3060100214
             ]
            },
            {
             "iteration": 1283,
             "learn": [
              0.04472894511
             ],
             "passed_time": 56.97476271,
             "remaining_time": 9.584539521,
             "test": [
              0.3060154488
             ]
            },
            {
             "iteration": 1284,
             "learn": [
              0.04472534659
             ],
             "passed_time": 57.01480229,
             "remaining_time": 9.539441628,
             "test": [
              0.3059900796
             ]
            },
            {
             "iteration": 1285,
             "learn": [
              0.04465445042
             ],
             "passed_time": 57.05768746,
             "remaining_time": 9.49482513,
             "test": [
              0.3059042023
             ]
            },
            {
             "iteration": 1286,
             "learn": [
              0.04463067425
             ],
             "passed_time": 57.10458506,
             "remaining_time": 9.450875383,
             "test": [
              0.3058725683
             ]
            },
            {
             "iteration": 1287,
             "learn": [
              0.04451087546
             ],
             "passed_time": 57.15289467,
             "remaining_time": 9.407153471,
             "test": [
              0.3058781818
             ]
            },
            {
             "iteration": 1288,
             "learn": [
              0.04447994548
             ],
             "passed_time": 57.19371087,
             "remaining_time": 9.362197823,
             "test": [
              0.3059676876
             ]
            },
            {
             "iteration": 1289,
             "learn": [
              0.04443311816
             ],
             "passed_time": 57.2370428,
             "remaining_time": 9.31765813,
             "test": [
              0.3060081916
             ]
            },
            {
             "iteration": 1290,
             "learn": [
              0.04436675839
             ],
             "passed_time": 57.2826336,
             "remaining_time": 9.273485997,
             "test": [
              0.3057878076
             ]
            },
            {
             "iteration": 1291,
             "learn": [
              0.04435596948
             ],
             "passed_time": 57.32394742,
             "remaining_time": 9.228623113,
             "test": [
              0.3057612597
             ]
            },
            {
             "iteration": 1292,
             "learn": [
              0.0443278997
             ],
             "passed_time": 57.3650073,
             "remaining_time": 9.183725066,
             "test": [
              0.3057696955
             ]
            },
            {
             "iteration": 1293,
             "learn": [
              0.04432545856
             ],
             "passed_time": 57.40608637,
             "remaining_time": 9.138836007,
             "test": [
              0.3057614458
             ]
            },
            {
             "iteration": 1294,
             "learn": [
              0.04422140745
             ],
             "passed_time": 57.45102371,
             "remaining_time": 9.094563598,
             "test": [
              0.30556854
             ]
            },
            {
             "iteration": 1295,
             "learn": [
              0.04413215617
             ],
             "passed_time": 57.49422757,
             "remaining_time": 9.050017303,
             "test": [
              0.3054361111
             ]
            },
            {
             "iteration": 1296,
             "learn": [
              0.04409045392
             ],
             "passed_time": 57.54068036,
             "remaining_time": 9.005981583,
             "test": [
              0.3053495516
             ]
            },
            {
             "iteration": 1297,
             "learn": [
              0.04399001131
             ],
             "passed_time": 57.58788167,
             "remaining_time": 8.962058627,
             "test": [
              0.3052752425
             ]
            },
            {
             "iteration": 1298,
             "learn": [
              0.04398599374
             ],
             "passed_time": 57.6284308,
             "remaining_time": 8.917101302,
             "test": [
              0.3052593945
             ]
            },
            {
             "iteration": 1299,
             "learn": [
              0.04398379205
             ],
             "passed_time": 57.66861993,
             "remaining_time": 8.872095373,
             "test": [
              0.3052551145
             ]
            },
            {
             "iteration": 1300,
             "learn": [
              0.04398182983
             ],
             "passed_time": 57.70878317,
             "remaining_time": 8.82709289,
             "test": [
              0.3052502144
             ]
            },
            {
             "iteration": 1301,
             "learn": [
              0.04389895412
             ],
             "passed_time": 57.75504489,
             "remaining_time": 8.78302526,
             "test": [
              0.3050436004
             ]
            },
            {
             "iteration": 1302,
             "learn": [
              0.04384436437
             ],
             "passed_time": 57.79876712,
             "remaining_time": 8.738570316,
             "test": [
              0.3050092992
             ]
            },
            {
             "iteration": 1303,
             "learn": [
              0.0438395353
             ],
             "passed_time": 57.83972836,
             "remaining_time": 8.693701502,
             "test": [
              0.3049725168
             ]
            },
            {
             "iteration": 1304,
             "learn": [
              0.04381814373
             ],
             "passed_time": 57.88006056,
             "remaining_time": 8.648744681,
             "test": [
              0.3048371106
             ]
            },
            {
             "iteration": 1305,
             "learn": [
              0.04381640101
             ],
             "passed_time": 57.92075123,
             "remaining_time": 8.603848192,
             "test": [
              0.3048459185
             ]
            },
            {
             "iteration": 1306,
             "learn": [
              0.04378972473
             ],
             "passed_time": 57.96346273,
             "remaining_time": 8.559256547,
             "test": [
              0.3049115747
             ]
            },
            {
             "iteration": 1307,
             "learn": [
              0.04378826471
             ],
             "passed_time": 58.00417999,
             "remaining_time": 8.514375045,
             "test": [
              0.304909931
             ]
            },
            {
             "iteration": 1308,
             "learn": [
              0.04374315017
             ],
             "passed_time": 58.046809,
             "remaining_time": 8.469778853,
             "test": [
              0.3048235885
             ]
            },
            {
             "iteration": 1309,
             "learn": [
              0.04373997403
             ],
             "passed_time": 58.08799443,
             "remaining_time": 8.424976291,
             "test": [
              0.3048149977
             ]
            },
            {
             "iteration": 1310,
             "learn": [
              0.04365485673
             ],
             "passed_time": 58.13211523,
             "remaining_time": 8.380602424,
             "test": [
              0.3047467674
             ]
            },
            {
             "iteration": 1311,
             "learn": [
              0.04364620964
             ],
             "passed_time": 58.17465469,
             "remaining_time": 8.336002348,
             "test": [
              0.3047555133
             ]
            },
            {
             "iteration": 1312,
             "learn": [
              0.04357133914
             ],
             "passed_time": 58.22350214,
             "remaining_time": 8.292303808,
             "test": [
              0.3044902522
             ]
            },
            {
             "iteration": 1313,
             "learn": [
              0.04353953447
             ],
             "passed_time": 58.26414262,
             "remaining_time": 8.247435713,
             "test": [
              0.3045262903
             ]
            },
            {
             "iteration": 1314,
             "learn": [
              0.04343105339
             ],
             "passed_time": 58.31361949,
             "remaining_time": 8.203817191,
             "test": [
              0.3042543613
             ]
            },
            {
             "iteration": 1315,
             "learn": [
              0.04339008947
             ],
             "passed_time": 58.35668347,
             "remaining_time": 8.159293129,
             "test": [
              0.3042096394
             ]
            },
            {
             "iteration": 1316,
             "learn": [
              0.04333742868
             ],
             "passed_time": 58.40205338,
             "remaining_time": 8.115091699,
             "test": [
              0.3040752876
             ]
            },
            {
             "iteration": 1317,
             "learn": [
              0.04333364392
             ],
             "passed_time": 58.4422935,
             "remaining_time": 8.070180134,
             "test": [
              0.3040877862
             ]
            },
            {
             "iteration": 1318,
             "learn": [
              0.04333101321
             ],
             "passed_time": 58.4823748,
             "remaining_time": 8.025253858,
             "test": [
              0.3040899261
             ]
            },
            {
             "iteration": 1319,
             "learn": [
              0.04327514968
             ],
             "passed_time": 58.52751625,
             "remaining_time": 7.981024943,
             "test": [
              0.3041236071
             ]
            },
            {
             "iteration": 1320,
             "learn": [
              0.04320129355
             ],
             "passed_time": 58.57317275,
             "remaining_time": 7.936864438,
             "test": [
              0.3041018354
             ]
            },
            {
             "iteration": 1321,
             "learn": [
              0.04316587041
             ],
             "passed_time": 58.61472603,
             "remaining_time": 7.892149193,
             "test": [
              0.3040079567
             ]
            },
            {
             "iteration": 1322,
             "learn": [
              0.04309101653
             ],
             "passed_time": 58.66071842,
             "remaining_time": 7.848032622,
             "test": [
              0.3040063129
             ]
            },
            {
             "iteration": 1323,
             "learn": [
              0.04304483775
             ],
             "passed_time": 58.70245256,
             "remaining_time": 7.803347169,
             "test": [
              0.3039994279
             ]
            },
            {
             "iteration": 1324,
             "learn": [
              0.04301932883
             ],
             "passed_time": 58.74587597,
             "remaining_time": 7.758889279,
             "test": [
              0.3040184083
             ]
            },
            {
             "iteration": 1325,
             "learn": [
              0.04301533454
             ],
             "passed_time": 58.78648957,
             "remaining_time": 7.714064242,
             "test": [
              0.3039963265
             ]
            },
            {
             "iteration": 1326,
             "learn": [
              0.04289716872
             ],
             "passed_time": 58.83613745,
             "remaining_time": 7.670423345,
             "test": [
              0.3039425486
             ]
            },
            {
             "iteration": 1327,
             "learn": [
              0.04286714003
             ],
             "passed_time": 58.87926584,
             "remaining_time": 7.62592901,
             "test": [
              0.3039386718
             ]
            },
            {
             "iteration": 1328,
             "learn": [
              0.04286549709
             ],
             "passed_time": 58.92002544,
             "remaining_time": 7.581131942,
             "test": [
              0.3039431998
             ]
            },
            {
             "iteration": 1329,
             "learn": [
              0.04280547963
             ],
             "passed_time": 58.9673978,
             "remaining_time": 7.537186185,
             "test": [
              0.3039733142
             ]
            },
            {
             "iteration": 1330,
             "learn": [
              0.04280239328
             ],
             "passed_time": 59.00736982,
             "remaining_time": 7.492295642,
             "test": [
              0.3039702749
             ]
            },
            {
             "iteration": 1331,
             "learn": [
              0.04276080077
             ],
             "passed_time": 59.05115692,
             "remaining_time": 7.447893666,
             "test": [
              0.3038634013
             ]
            },
            {
             "iteration": 1332,
             "learn": [
              0.0427517047
             ],
             "passed_time": 59.09245911,
             "remaining_time": 7.403181299,
             "test": [
              0.3038637115
             ]
            },
            {
             "iteration": 1333,
             "learn": [
              0.04266008212
             ],
             "passed_time": 59.14158822,
             "remaining_time": 7.359448009,
             "test": [
              0.3036262698
             ]
            },
            {
             "iteration": 1334,
             "learn": [
              0.04261360734
             ],
             "passed_time": 59.1839988,
             "remaining_time": 7.314876256,
             "test": [
              0.3036659055
             ]
            },
            {
             "iteration": 1335,
             "learn": [
              0.0426108436
             ],
             "passed_time": 59.22452437,
             "remaining_time": 7.270076345,
             "test": [
              0.3036640756
             ]
            },
            {
             "iteration": 1336,
             "learn": [
              0.04252524405
             ],
             "passed_time": 59.27359689,
             "remaining_time": 7.226324827,
             "test": [
              0.303604188
             ]
            },
            {
             "iteration": 1337,
             "learn": [
              0.04244105132
             ],
             "passed_time": 59.32139129,
             "remaining_time": 7.182410605,
             "test": [
              0.3035567369
             ]
            },
            {
             "iteration": 1338,
             "learn": [
              0.04243774215
             ],
             "passed_time": 59.36191905,
             "remaining_time": 7.137616854,
             "test": [
              0.3035460061
             ]
            },
            {
             "iteration": 1339,
             "learn": [
              0.04240535547
             ],
             "passed_time": 59.40486641,
             "remaining_time": 7.093118377,
             "test": [
              0.3034876692
             ]
            },
            {
             "iteration": 1340,
             "learn": [
              0.04236783042
             ],
             "passed_time": 59.44810844,
             "remaining_time": 7.048657153,
             "test": [
              0.3034249282
             ]
            },
            {
             "iteration": 1341,
             "learn": [
              0.04232425573
             ],
             "passed_time": 59.4915814,
             "remaining_time": 7.004224934,
             "test": [
              0.3032876922
             ]
            },
            {
             "iteration": 1342,
             "learn": [
              0.04225053263
             ],
             "passed_time": 59.53437037,
             "remaining_time": 6.959714183,
             "test": [
              0.3031332125
             ]
            },
            {
             "iteration": 1343,
             "learn": [
              0.04222606802
             ],
             "passed_time": 59.57861996,
             "remaining_time": 6.915375531,
             "test": [
              0.3031759495
             ]
            },
            {
             "iteration": 1344,
             "learn": [
              0.04221881444
             ],
             "passed_time": 59.61959875,
             "remaining_time": 6.870660079,
             "test": [
              0.3031757324
             ]
            },
            {
             "iteration": 1345,
             "learn": [
              0.04221717815
             ],
             "passed_time": 59.65995459,
             "remaining_time": 6.825878906,
             "test": [
              0.303188417
             ]
            },
            {
             "iteration": 1346,
             "learn": [
              0.04214406034
             ],
             "passed_time": 59.70484544,
             "remaining_time": 6.781619416,
             "test": [
              0.3030593996
             ]
            },
            {
             "iteration": 1347,
             "learn": [
              0.04203559589
             ],
             "passed_time": 59.75168586,
             "remaining_time": 6.737578821,
             "test": [
              0.3029675988
             ]
            },
            {
             "iteration": 1348,
             "learn": [
              0.04193456462
             ],
             "passed_time": 59.80059801,
             "remaining_time": 6.693765975,
             "test": [
              0.3027773601
             ]
            },
            {
             "iteration": 1349,
             "learn": [
              0.04193185076
             ],
             "passed_time": 59.84213781,
             "remaining_time": 6.649126424,
             "test": [
              0.3027594341
             ]
            },
            {
             "iteration": 1350,
             "learn": [
              0.04191580043
             ],
             "passed_time": 59.883396,
             "remaining_time": 6.604460403,
             "test": [
              0.3027171313
             ]
            },
            {
             "iteration": 1351,
             "learn": [
              0.04185954778
             ],
             "passed_time": 59.92605735,
             "remaining_time": 6.559953023,
             "test": [
              0.3028542123
             ]
            },
            {
             "iteration": 1352,
             "learn": [
              0.04184583882
             ],
             "passed_time": 59.96680533,
             "remaining_time": 6.51524049,
             "test": [
              0.3028023572
             ]
            },
            {
             "iteration": 1353,
             "learn": [
              0.04184234672
             ],
             "passed_time": 60.00666563,
             "remaining_time": 6.470438096,
             "test": [
              0.3028053966
             ]
            },
            {
             "iteration": 1354,
             "learn": [
              0.04178700534
             ],
             "passed_time": 60.05016409,
             "remaining_time": 6.42603232,
             "test": [
              0.3026967863
             ]
            },
            {
             "iteration": 1355,
             "learn": [
              0.04176642527
             ],
             "passed_time": 60.09231047,
             "remaining_time": 6.381484297,
             "test": [
              0.302642233
             ]
            },
            {
             "iteration": 1356,
             "learn": [
              0.04176454951
             ],
             "passed_time": 60.13243253,
             "remaining_time": 6.336726493,
             "test": [
              0.3026382322
             ]
            },
            {
             "iteration": 1357,
             "learn": [
              0.04174103275
             ],
             "passed_time": 60.17449228,
             "remaining_time": 6.292178132,
             "test": [
              0.3026495212
             ]
            },
            {
             "iteration": 1358,
             "learn": [
              0.04169080314
             ],
             "passed_time": 60.22109756,
             "remaining_time": 6.248105045,
             "test": [
              0.3024673152
             ]
            },
            {
             "iteration": 1359,
             "learn": [
              0.0415805095
             ],
             "passed_time": 60.26465833,
             "remaining_time": 6.203714828,
             "test": [
              0.3022718352
             ]
            },
            {
             "iteration": 1360,
             "learn": [
              0.04155778095
             ],
             "passed_time": 60.3075268,
             "remaining_time": 6.159255125,
             "test": [
              0.302278162
             ]
            },
            {
             "iteration": 1361,
             "learn": [
              0.0415560216
             ],
             "passed_time": 60.34859213,
             "remaining_time": 6.114615062,
             "test": [
              0.3022856363
             ]
            },
            {
             "iteration": 1362,
             "learn": [
              0.04150042081
             ],
             "passed_time": 60.39535134,
             "remaining_time": 6.070552556,
             "test": [
              0.3023539908
             ]
            },
            {
             "iteration": 1363,
             "learn": [
              0.04139674884
             ],
             "passed_time": 60.44318327,
             "remaining_time": 6.026593054,
             "test": [
              0.3021327693
             ]
            },
            {
             "iteration": 1364,
             "learn": [
              0.04130996864
             ],
             "passed_time": 60.49036999,
             "remaining_time": 5.982564065,
             "test": [
              0.3019772041
             ]
            },
            {
             "iteration": 1365,
             "learn": [
              0.04130812947
             ],
             "passed_time": 60.53096163,
             "remaining_time": 5.937883498,
             "test": [
              0.3019751572
             ]
            },
            {
             "iteration": 1366,
             "learn": [
              0.04124115443
             ],
             "passed_time": 60.57622898,
             "remaining_time": 5.893663829,
             "test": [
              0.3018703616
             ]
            },
            {
             "iteration": 1367,
             "learn": [
              0.04116428844
             ],
             "passed_time": 60.62480347,
             "remaining_time": 5.849761738,
             "test": [
              0.3018729357
             ]
            },
            {
             "iteration": 1368,
             "learn": [
              0.04106451099
             ],
             "passed_time": 60.67046787,
             "remaining_time": 5.805574354,
             "test": [
              0.301648706
             ]
            },
            {
             "iteration": 1369,
             "learn": [
              0.04106196343
             ],
             "passed_time": 60.71086149,
             "remaining_time": 5.760884667,
             "test": [
              0.3016508769
             ]
            },
            {
             "iteration": 1370,
             "learn": [
              0.04096282121
             ],
             "passed_time": 60.75973421,
             "remaining_time": 5.716999061,
             "test": [
              0.3015001499
             ]
            },
            {
             "iteration": 1371,
             "learn": [
              0.04096084901
             ],
             "passed_time": 60.80012308,
             "remaining_time": 5.67231469,
             "test": [
              0.3015013904
             ]
            },
            {
             "iteration": 1372,
             "learn": [
              0.04095786909
             ],
             "passed_time": 60.84101324,
             "remaining_time": 5.627682943,
             "test": [
              0.3015007081
             ]
            },
            {
             "iteration": 1373,
             "learn": [
              0.04095398122
             ],
             "passed_time": 60.88089342,
             "remaining_time": 5.582964025,
             "test": [
              0.3014975447
             ]
            },
            {
             "iteration": 1374,
             "learn": [
              0.04094877966
             ],
             "passed_time": 60.92132066,
             "remaining_time": 5.538301878,
             "test": [
              0.301491528
             ]
            },
            {
             "iteration": 1375,
             "learn": [
              0.04094693384
             ],
             "passed_time": 60.9612902,
             "remaining_time": 5.49360464,
             "test": [
              0.3014785643
             ]
            },
            {
             "iteration": 1376,
             "learn": [
              0.04094555363
             ],
             "passed_time": 61.00161465,
             "remaining_time": 5.448945971,
             "test": [
              0.3014698184
             ]
            },
            {
             "iteration": 1377,
             "learn": [
              0.04091244858
             ],
             "passed_time": 61.04541385,
             "remaining_time": 5.404601227,
             "test": [
              0.3013019097
             ]
            },
            {
             "iteration": 1378,
             "learn": [
              0.04084353792
             ],
             "passed_time": 61.09065578,
             "remaining_time": 5.360383864,
             "test": [
              0.3012098297
             ]
            },
            {
             "iteration": 1379,
             "learn": [
              0.04082217628
             ],
             "passed_time": 61.13255564,
             "remaining_time": 5.315874404,
             "test": [
              0.3012231966
             ]
            },
            {
             "iteration": 1380,
             "learn": [
              0.04081861102
             ],
             "passed_time": 61.17340829,
             "remaining_time": 5.271278484,
             "test": [
              0.3012290272
             ]
            },
            {
             "iteration": 1381,
             "learn": [
              0.04081578741
             ],
             "passed_time": 61.21361945,
             "remaining_time": 5.226633209,
             "test": [
              0.3012308881
             ]
            },
            {
             "iteration": 1382,
             "learn": [
              0.04079450559
             ],
             "passed_time": 61.25546186,
             "remaining_time": 5.182132348,
             "test": [
              0.3012025414
             ]
            },
            {
             "iteration": 1383,
             "learn": [
              0.04079241366
             ],
             "passed_time": 61.29612141,
             "remaining_time": 5.137536187,
             "test": [
              0.3011994091
             ]
            },
            {
             "iteration": 1384,
             "learn": [
              0.04072394533
             ],
             "passed_time": 61.34288622,
             "remaining_time": 5.093452646,
             "test": [
              0.3010684998
             ]
            },
            {
             "iteration": 1385,
             "learn": [
              0.04064315157
             ],
             "passed_time": 61.38932095,
             "remaining_time": 5.049338086,
             "test": [
              0.3010378582
             ]
            },
            {
             "iteration": 1386,
             "learn": [
              0.04064186449
             ],
             "passed_time": 61.42980764,
             "remaining_time": 5.00473559,
             "test": [
              0.301037486
             ]
            },
            {
             "iteration": 1387,
             "learn": [
              0.04064002199
             ],
             "passed_time": 61.46981397,
             "remaining_time": 4.960100262,
             "test": [
              0.3010431615
             ]
            },
            {
             "iteration": 1388,
             "learn": [
              0.04063763074
             ],
             "passed_time": 61.51005213,
             "remaining_time": 4.915490127,
             "test": [
              0.3010471623
             ]
            },
            {
             "iteration": 1389,
             "learn": [
              0.04062053943
             ],
             "passed_time": 61.55075277,
             "remaining_time": 4.870922881,
             "test": [
              0.3011212233
             ]
            },
            {
             "iteration": 1390,
             "learn": [
              0.04051526776
             ],
             "passed_time": 61.59925684,
             "remaining_time": 4.826972678,
             "test": [
              0.300882355
             ]
            },
            {
             "iteration": 1391,
             "learn": [
              0.0405129796
             ],
             "passed_time": 61.64000213,
             "remaining_time": 4.782413958,
             "test": [
              0.300886821
             ]
            },
            {
             "iteration": 1392,
             "learn": [
              0.04051120362
             ],
             "passed_time": 61.68049648,
             "remaining_time": 4.737841438,
             "test": [
              0.3008876894
             ]
            },
            {
             "iteration": 1393,
             "learn": [
              0.04040844293
             ],
             "passed_time": 61.7300296,
             "remaining_time": 4.693962079,
             "test": [
              0.3005961286
             ]
            },
            {
             "iteration": 1394,
             "learn": [
              0.04040639423
             ],
             "passed_time": 61.77049257,
             "remaining_time": 4.649391914,
             "test": [
              0.3006023004
             ]
            },
            {
             "iteration": 1395,
             "learn": [
              0.04040420918
             ],
             "passed_time": 61.81118435,
             "remaining_time": 4.60484468,
             "test": [
              0.3005979274
             ]
            },
            {
             "iteration": 1396,
             "learn": [
              0.04040021156
             ],
             "passed_time": 61.85153906,
             "remaining_time": 4.560278113,
             "test": [
              0.3005749462
             ]
            },
            {
             "iteration": 1397,
             "learn": [
              0.04036711981
             ],
             "passed_time": 61.89327271,
             "remaining_time": 4.515818181,
             "test": [
              0.3004447193
             ]
            },
            {
             "iteration": 1398,
             "learn": [
              0.04036526069
             ],
             "passed_time": 61.9335956,
             "remaining_time": 4.471260297,
             "test": [
              0.3004410907
             ]
            },
            {
             "iteration": 1399,
             "learn": [
              0.04035966003
             ],
             "passed_time": 61.97371261,
             "remaining_time": 4.426693758,
             "test": [
              0.3004130542
             ]
            },
            {
             "iteration": 1400,
             "learn": [
              0.04030896813
             ],
             "passed_time": 62.01745899,
             "remaining_time": 4.382390036,
             "test": [
              0.3003444517
             ]
            },
            {
             "iteration": 1401,
             "learn": [
              0.04028436716
             ],
             "passed_time": 62.06090929,
             "remaining_time": 4.338066412,
             "test": [
              0.3002705458
             ]
            },
            {
             "iteration": 1402,
             "learn": [
              0.04019420128
             ],
             "passed_time": 62.10993216,
             "remaining_time": 4.294129308,
             "test": [
              0.3001352326
             ]
            },
            {
             "iteration": 1403,
             "learn": [
              0.04015614411
             ],
             "passed_time": 62.15664709,
             "remaining_time": 4.250027151,
             "test": [
              0.299943009
             ]
            },
            {
             "iteration": 1404,
             "learn": [
              0.04011096638
             ],
             "passed_time": 62.19984106,
             "remaining_time": 4.205683204,
             "test": [
              0.2998829043
             ]
            },
            {
             "iteration": 1405,
             "learn": [
              0.04003805811
             ],
             "passed_time": 62.24529578,
             "remaining_time": 4.161492037,
             "test": [
              0.2998562324
             ]
            },
            {
             "iteration": 1406,
             "learn": [
              0.04003619898
             ],
             "passed_time": 62.28620949,
             "remaining_time": 4.116998922,
             "test": [
              0.2998378723
             ]
            },
            {
             "iteration": 1407,
             "learn": [
              0.03994670825
             ],
             "passed_time": 62.33098566,
             "remaining_time": 4.072763268,
             "test": [
              0.2999228811
             ]
            },
            {
             "iteration": 1408,
             "learn": [
              0.03994577037
             ],
             "passed_time": 62.37145614,
             "remaining_time": 4.028248765,
             "test": [
              0.2999253932
             ]
            },
            {
             "iteration": 1409,
             "learn": [
              0.03989596645
             ],
             "passed_time": 62.41863035,
             "remaining_time": 3.984167895,
             "test": [
              0.2999931894
             ]
            },
            {
             "iteration": 1410,
             "learn": [
              0.0398927371
             ],
             "passed_time": 62.45914293,
             "remaining_time": 3.939662453,
             "test": [
              0.2999792332
             ]
            },
            {
             "iteration": 1411,
             "learn": [
              0.0398891286
             ],
             "passed_time": 62.49953747,
             "remaining_time": 3.89515531,
             "test": [
              0.299956407
             ]
            },
            {
             "iteration": 1412,
             "learn": [
              0.03988693024
             ],
             "passed_time": 62.53981532,
             "remaining_time": 3.850646803,
             "test": [
              0.2999353796
             ]
            },
            {
             "iteration": 1413,
             "learn": [
              0.03981840205
             ],
             "passed_time": 62.5862268,
             "remaining_time": 3.80651733,
             "test": [
              0.2999088008
             ]
            },
            {
             "iteration": 1414,
             "learn": [
              0.03980943901
             ],
             "passed_time": 62.62670679,
             "remaining_time": 3.762028323,
             "test": [
              0.2999209272
             ]
            },
            {
             "iteration": 1415,
             "learn": [
              0.03980771292
             ],
             "passed_time": 62.6678533,
             "remaining_time": 3.717584518,
             "test": [
              0.2999015746
             ]
            },
            {
             "iteration": 1416,
             "learn": [
              0.03980504562
             ],
             "passed_time": 62.70775667,
             "remaining_time": 3.67307255,
             "test": [
              0.2999206791
             ]
            },
            {
             "iteration": 1417,
             "learn": [
              0.03975774604
             ],
             "passed_time": 62.75700439,
             "remaining_time": 3.629107447,
             "test": [
              0.2998969846
             ]
            },
            {
             "iteration": 1418,
             "learn": [
              0.03971559812
             ],
             "passed_time": 62.80348045,
             "remaining_time": 3.584976685,
             "test": [
              0.2997762789
             ]
            },
            {
             "iteration": 1419,
             "learn": [
              0.03965448647
             ],
             "passed_time": 62.8512496,
             "remaining_time": 3.54091547,
             "test": [
              0.2995834351
             ]
            },
            {
             "iteration": 1420,
             "learn": [
              0.03965046558
             ],
             "passed_time": 62.89132423,
             "remaining_time": 3.496421262,
             "test": [
              0.2995700371
             ]
            },
            {
             "iteration": 1421,
             "learn": [
              0.03964841355
             ],
             "passed_time": 62.93131711,
             "remaining_time": 3.451928787,
             "test": [
              0.2995856681
             ]
            },
            {
             "iteration": 1422,
             "learn": [
              0.03958705247
             ],
             "passed_time": 62.97653011,
             "remaining_time": 3.407725101,
             "test": [
              0.2995050012
             ]
            },
            {
             "iteration": 1423,
             "learn": [
              0.03958202385
             ],
             "passed_time": 63.01721096,
             "remaining_time": 3.363278113,
             "test": [
              0.299491262
             ]
            },
            {
             "iteration": 1424,
             "learn": [
              0.03950704027
             ],
             "passed_time": 63.06521733,
             "remaining_time": 3.319221965,
             "test": [
              0.2993417445
             ]
            },
            {
             "iteration": 1425,
             "learn": [
              0.039503924
             ],
             "passed_time": 63.10604247,
             "remaining_time": 3.274787618,
             "test": [
              0.2993412793
             ]
            },
            {
             "iteration": 1426,
             "learn": [
              0.03950171899
             ],
             "passed_time": 63.14661337,
             "remaining_time": 3.230345323,
             "test": [
              0.2993398527
             ]
            },
            {
             "iteration": 1427,
             "learn": [
              0.03944613815
             ],
             "passed_time": 63.19495936,
             "remaining_time": 3.186300472,
             "test": [
              0.2992772668
             ]
            },
            {
             "iteration": 1428,
             "learn": [
              0.03944287554
             ],
             "passed_time": 63.23525474,
             "remaining_time": 3.141849606,
             "test": [
              0.2992851443
             ]
            },
            {
             "iteration": 1429,
             "learn": [
              0.03943958632
             ],
             "passed_time": 63.27553304,
             "remaining_time": 3.097403715,
             "test": [
              0.2992947276
             ]
            },
            {
             "iteration": 1430,
             "learn": [
              0.03939451169
             ],
             "passed_time": 63.32280306,
             "remaining_time": 3.053300776,
             "test": [
              0.2991267879
             ]
            },
            {
             "iteration": 1431,
             "learn": [
              0.03935265978
             ],
             "passed_time": 63.36960237,
             "remaining_time": 3.009171062,
             "test": [
              0.2990803602
             ]
            },
            {
             "iteration": 1432,
             "learn": [
              0.03931702046
             ],
             "passed_time": 63.41341719,
             "remaining_time": 2.964898082,
             "test": [
              0.2989820155
             ]
            },
            {
             "iteration": 1433,
             "learn": [
              0.03931514471
             ],
             "passed_time": 63.45374074,
             "remaining_time": 2.920465055,
             "test": [
              0.2989934596
             ]
            },
            {
             "iteration": 1434,
             "learn": [
              0.03931246078
             ],
             "passed_time": 63.49418533,
             "remaining_time": 2.876043238,
             "test": [
              0.2989670668
             ]
            },
            {
             "iteration": 1435,
             "learn": [
              0.03931038881
             ],
             "passed_time": 63.53480902,
             "remaining_time": 2.831634942,
             "test": [
              0.2989552816
             ]
            },
            {
             "iteration": 1436,
             "learn": [
              0.03924846899
             ],
             "passed_time": 63.57987423,
             "remaining_time": 2.787426636,
             "test": [
              0.2990049037
             ]
            },
            {
             "iteration": 1437,
             "learn": [
              0.0392268047
             ],
             "passed_time": 63.6219219,
             "remaining_time": 2.743087036,
             "test": [
              0.2990781893
             ]
            },
            {
             "iteration": 1438,
             "learn": [
              0.0391610602
             ],
             "passed_time": 63.66905903,
             "remaining_time": 2.698966366,
             "test": [
              0.2990367858
             ]
            },
            {
             "iteration": 1439,
             "learn": [
              0.03907692734
             ],
             "passed_time": 63.7148158,
             "remaining_time": 2.654783992,
             "test": [
              0.298900015
             ]
            },
            {
             "iteration": 1440,
             "learn": [
              0.03905435843
             ],
             "passed_time": 63.75629382,
             "remaining_time": 2.610424244,
             "test": [
              0.2989395266
             ]
            },
            {
             "iteration": 1441,
             "learn": [
              0.03905236628
             ],
             "passed_time": 63.79624975,
             "remaining_time": 2.566007272,
             "test": [
              0.2989418216
             ]
            },
            {
             "iteration": 1442,
             "learn": [
              0.03904949611
             ],
             "passed_time": 63.83654876,
             "remaining_time": 2.521610034,
             "test": [
              0.2989342542
             ]
            },
            {
             "iteration": 1443,
             "learn": [
              0.03898933896
             ],
             "passed_time": 63.87837982,
             "remaining_time": 2.477277888,
             "test": [
              0.2989389373
             ]
            },
            {
             "iteration": 1444,
             "learn": [
              0.03898582359
             ],
             "passed_time": 63.91937173,
             "remaining_time": 2.432917263,
             "test": [
              0.2989352467
             ]
            },
            {
             "iteration": 1445,
             "learn": [
              0.03898353543
             ],
             "passed_time": 63.95961044,
             "remaining_time": 2.38853317,
             "test": [
              0.2989222829
             ]
            },
            {
             "iteration": 1446,
             "learn": [
              0.03898085151
             ],
             "passed_time": 63.99982938,
             "remaining_time": 2.344154082,
             "test": [
              0.2989367974
             ]
            },
            {
             "iteration": 1447,
             "learn": [
              0.03893097775
             ],
             "passed_time": 64.0480085,
             "remaining_time": 2.300066604,
             "test": [
              0.2988673575
             ]
            },
            {
             "iteration": 1448,
             "learn": [
              0.03890498992
             ],
             "passed_time": 64.09113514,
             "remaining_time": 2.255795647,
             "test": [
              0.2988683189
             ]
            },
            {
             "iteration": 1449,
             "learn": [
              0.03890000786
             ],
             "passed_time": 64.13188447,
             "remaining_time": 2.211444292,
             "test": [
              0.2988578052
             ]
            },
            {
             "iteration": 1450,
             "learn": [
              0.03889799908
             ],
             "passed_time": 64.17171186,
             "remaining_time": 2.167066768,
             "test": [
              0.2988647213
             ]
            },
            {
             "iteration": 1451,
             "learn": [
              0.03889688161
             ],
             "passed_time": 64.21254429,
             "remaining_time": 2.122728737,
             "test": [
              0.298859604
             ]
            },
            {
             "iteration": 1452,
             "learn": [
              0.0388936589
             ],
             "passed_time": 64.25300435,
             "remaining_time": 2.078383485,
             "test": [
              0.2988635117
             ]
            },
            {
             "iteration": 1453,
             "learn": [
              0.0388052158
             ],
             "passed_time": 64.29969968,
             "remaining_time": 2.034240843,
             "test": [
              0.2988814687
             ]
            },
            {
             "iteration": 1454,
             "learn": [
              0.03873881279
             ],
             "passed_time": 64.34482927,
             "remaining_time": 1.990046266,
             "test": [
              0.2989815813
             ]
            },
            {
             "iteration": 1455,
             "learn": [
              0.0387371
             ],
             "passed_time": 64.38520436,
             "remaining_time": 1.945706725,
             "test": [
              0.2989920639
             ]
            },
            {
             "iteration": 1456,
             "learn": [
              0.03873524753
             ],
             "passed_time": 64.42562389,
             "remaining_time": 1.901373938,
             "test": [
              0.2989941419
             ]
            },
            {
             "iteration": 1457,
             "learn": [
              0.03873092066
             ],
             "passed_time": 64.46609005,
             "remaining_time": 1.857047861,
             "test": [
              0.298976464
             ]
            },
            {
             "iteration": 1458,
             "learn": [
              0.03871819281
             ],
             "passed_time": 64.50647751,
             "remaining_time": 1.812724865,
             "test": [
              0.2989655471
             ]
            },
            {
             "iteration": 1459,
             "learn": [
              0.03868481171
             ],
             "passed_time": 64.5490685,
             "remaining_time": 1.76846763,
             "test": [
              0.298958507
             ]
            },
            {
             "iteration": 1460,
             "learn": [
              0.03866308423
             ],
             "passed_time": 64.58959036,
             "remaining_time": 1.724157443,
             "test": [
              0.298983132
             ]
            },
            {
             "iteration": 1461,
             "learn": [
              0.03861636999
             ],
             "passed_time": 64.63209797,
             "remaining_time": 1.679904051,
             "test": [
              0.2988463921
             ]
            },
            {
             "iteration": 1462,
             "learn": [
              0.03861408516
             ],
             "passed_time": 64.67227372,
             "remaining_time": 1.635594072,
             "test": [
              0.298821302
             ]
            },
            {
             "iteration": 1463,
             "learn": [
              0.03860757324
             ],
             "passed_time": 64.71225168,
             "remaining_time": 1.591284877,
             "test": [
              0.2987717729
             ]
            },
            {
             "iteration": 1464,
             "learn": [
              0.03860552122
             ],
             "passed_time": 64.75316986,
             "remaining_time": 1.547004058,
             "test": [
              0.2987650429
             ]
            },
            {
             "iteration": 1465,
             "learn": [
              0.03854363798
             ],
             "passed_time": 64.79942594,
             "remaining_time": 1.502851625,
             "test": [
              0.2984813287
             ]
            },
            {
             "iteration": 1466,
             "learn": [
              0.03849838377
             ],
             "passed_time": 64.84656728,
             "remaining_time": 1.458716237,
             "test": [
              0.298468551
             ]
            },
            {
             "iteration": 1467,
             "learn": [
              0.03843117592
             ],
             "passed_time": 64.89398245,
             "remaining_time": 1.414582724,
             "test": [
              0.2983091401
             ]
            },
            {
             "iteration": 1468,
             "learn": [
              0.03843032451
             ],
             "passed_time": 64.93395473,
             "remaining_time": 1.370287676,
             "test": [
              0.2983164593
             ]
            },
            {
             "iteration": 1469,
             "learn": [
              0.03842798315
             ],
             "passed_time": 64.97460654,
             "remaining_time": 1.326012378,
             "test": [
              0.2983069691
             ]
            },
            {
             "iteration": 1470,
             "learn": [
              0.0383691796
             ],
             "passed_time": 65.01687242,
             "remaining_time": 1.281773827,
             "test": [
              0.298333734
             ]
            },
            {
             "iteration": 1471,
             "learn": [
              0.03836213888
             ],
             "passed_time": 65.0583031,
             "remaining_time": 1.23752207,
             "test": [
              0.2983613053
             ]
            },
            {
             "iteration": 1472,
             "learn": [
              0.0383610081
             ],
             "passed_time": 65.0987558,
             "remaining_time": 1.193256216,
             "test": [
              0.2983632282
             ]
            },
            {
             "iteration": 1473,
             "learn": [
              0.0383595647
             ],
             "passed_time": 65.13885271,
             "remaining_time": 1.148989261,
             "test": [
              0.2983657403
             ]
            },
            {
             "iteration": 1474,
             "learn": [
              0.03835692734
             ],
             "passed_time": 65.17942056,
             "remaining_time": 1.104735942,
             "test": [
              0.2983704544
             ]
            },
            {
             "iteration": 1475,
             "learn": [
              0.03832788309
             ],
             "passed_time": 65.22276678,
             "remaining_time": 1.060532793,
             "test": [
              0.2982244414
             ]
            },
            {
             "iteration": 1476,
             "learn": [
              0.03832572132
             ],
             "passed_time": 65.26300302,
             "remaining_time": 1.016282376,
             "test": [
              0.2982214641
             ]
            },
            {
             "iteration": 1477,
             "learn": [
              0.03832170042
             ],
             "passed_time": 65.30386829,
             "remaining_time": 0.972046754,
             "test": [
              0.298228132
             ]
            },
            {
             "iteration": 1478,
             "learn": [
              0.03827170694
             ],
             "passed_time": 65.34746038,
             "remaining_time": 0.927854407,
             "test": [
              0.2982839569
             ]
            },
            {
             "iteration": 1479,
             "learn": [
              0.03823658645
             ],
             "passed_time": 65.39077892,
             "remaining_time": 0.8836591746,
             "test": [
              0.2982806694
             ]
            },
            {
             "iteration": 1480,
             "learn": [
              0.03823362316
             ],
             "passed_time": 65.43179463,
             "remaining_time": 0.8394355827,
             "test": [
              0.2982386147
             ]
            },
            {
             "iteration": 1481,
             "learn": [
              0.03823259548
             ],
             "passed_time": 65.47269241,
             "remaining_time": 0.7952148876,
             "test": [
              0.298243701
             ]
            },
            {
             "iteration": 1482,
             "learn": [
              0.03822876748
             ],
             "passed_time": 65.51344814,
             "remaining_time": 0.7509970454,
             "test": [
              0.2982252167
             ]
            },
            {
             "iteration": 1483,
             "learn": [
              0.03822644274
             ],
             "passed_time": 65.55428528,
             "remaining_time": 0.7067847469,
             "test": [
              0.2982305511
             ]
            },
            {
             "iteration": 1484,
             "learn": [
              0.03820188168
             ],
             "passed_time": 65.59499579,
             "remaining_time": 0.662575715,
             "test": [
              0.2981609562
             ]
            },
            {
             "iteration": 1485,
             "learn": [
              0.03818299111
             ],
             "passed_time": 65.63897567,
             "remaining_time": 0.6184021934,
             "test": [
              0.2983100085
             ]
            },
            {
             "iteration": 1486,
             "learn": [
              0.03817786938
             ],
             "passed_time": 65.67934112,
             "remaining_time": 0.5741973333,
             "test": [
              0.2982940674
             ]
            },
            {
             "iteration": 1487,
             "learn": [
              0.03817299042
             ],
             "passed_time": 65.71983143,
             "remaining_time": 0.5299986406,
             "test": [
              0.2982791187
             ]
            },
            {
             "iteration": 1488,
             "learn": [
              0.03811277341
             ],
             "passed_time": 65.76652833,
             "remaining_time": 0.4858507801,
             "test": [
              0.2983534278
             ]
            },
            {
             "iteration": 1489,
             "learn": [
              0.03804922062
             ],
             "passed_time": 65.81230429,
             "remaining_time": 0.4416933174,
             "test": [
              0.2984508732
             ]
            },
            {
             "iteration": 1490,
             "learn": [
              0.03804675953
             ],
             "passed_time": 65.85473423,
             "remaining_time": 0.3975134863,
             "test": [
              0.2984523308
             ]
            },
            {
             "iteration": 1491,
             "learn": [
              0.0380449902
             ],
             "passed_time": 65.89645642,
             "remaining_time": 0.353332206,
             "test": [
              0.2984521137
             ]
            },
            {
             "iteration": 1492,
             "learn": [
              0.03795281554
             ],
             "passed_time": 65.94581927,
             "remaining_time": 0.3091900435,
             "test": [
              0.2982634257
             ]
            },
            {
             "iteration": 1493,
             "learn": [
              0.03793109139
             ],
             "passed_time": 65.99101792,
             "remaining_time": 0.2650241684,
             "test": [
              0.2982285042
             ]
            },
            {
             "iteration": 1494,
             "learn": [
              0.03784929989
             ],
             "passed_time": 66.03979161,
             "remaining_time": 0.2208688683,
             "test": [
              0.2980986804
             ]
            },
            {
             "iteration": 1495,
             "learn": [
              0.03776522689
             ],
             "passed_time": 66.08589911,
             "remaining_time": 0.176700265,
             "test": [
              0.2980306982
             ]
            },
            {
             "iteration": 1496,
             "learn": [
              0.03772362108
             ],
             "passed_time": 66.13000432,
             "remaining_time": 0.1325250588,
             "test": [
              0.2980734972
             ]
            },
            {
             "iteration": 1497,
             "learn": [
              0.03772114336
             ],
             "passed_time": 66.17093023,
             "remaining_time": 0.08834570124,
             "test": [
              0.2980744277
             ]
            },
            {
             "iteration": 1498,
             "learn": [
              0.03769029652
             ],
             "passed_time": 66.21716944,
             "remaining_time": 0.04417422911,
             "test": [
              0.2981375718
             ]
            },
            {
             "iteration": 1499,
             "learn": [
              0.03768886975
             ],
             "passed_time": 66.25807497,
             "remaining_time": 0,
             "test": [
              0.2981393706
             ]
            }
           ],
           "meta": {
            "iteration_count": 1500,
            "launch_mode": "Train",
            "learn_metrics": [
             {
              "best_value": "Min",
              "name": "MultiClass"
             }
            ],
            "learn_sets": [
             "learn"
            ],
            "name": "experiment",
            "parameters": "",
            "test_metrics": [
             {
              "best_value": "Min",
              "name": "MultiClass"
             }
            ],
            "test_sets": [
             "test"
            ]
           }
          },
          "passed_iterations": 1499,
          "total_iterations": 1500
         },
         "name": "catboost_info",
         "path": "catboost_info"
        }
       },
       "layout": "IPY_MODEL_976888dba5414d0bb4aad7f380e3b107"
      }
     },
     "976888dba5414d0bb4aad7f380e3b107": {
      "model_module": "@jupyter-widgets/base",
      "model_module_version": "1.2.0",
      "model_name": "LayoutModel",
      "state": {
       "align_self": "stretch",
       "height": "500px"
      }
     }
    },
    "version_major": 2,
    "version_minor": 0
   }
  }
 },
 "nbformat": 4,
 "nbformat_minor": 4
}
